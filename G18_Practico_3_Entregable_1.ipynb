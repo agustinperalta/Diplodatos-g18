{
  "cells": [
    {
      "cell_type": "markdown",
      "metadata": {
        "id": "pKeFhzRKXPca"
      },
      "source": [
        "\n",
        "**Diplomatura en Ciencia de Datos, Aprendizaje Automático y sus Aplicaciones**\n",
        "\n",
        "**Introducción al aprendizaje automático**\n",
        "\n",
        "*Edición 2022*\n",
        "\n",
        "---\n",
        "\n",
        "### *Grupo N°:* 18\n",
        "\n",
        "### *Integrantes:*\n",
        "#### Parada Larrosa, Francisco\n",
        "#### Peralta, Agustín\n",
        "####  Porcel, Carolina\n",
        "####  Quiros, Agustina\n",
        "\n",
        "\n",
        "## Trabajo práctico entregable - Parte 1 - Regresión en Boston\n",
        "\n",
        "---\n",
        "\n",
        "En este laboratorio deben hacer experimentos de regresión con el conjunto de datos \"Boston house prices dataset\".\n",
        "\n",
        "Estudiarán el dataset, harán visualizaciones y seleccionarán atributos relevantes a mano.\n",
        "\n",
        "Luego, entrenarán y evaluarán diferentes tipos de regresiones, buscando las configuraciones que mejores resultados den."
      ]
    },
    {
      "cell_type": "code",
      "execution_count": null,
      "metadata": {
        "id": "SvRZWZXfXPce"
      },
      "outputs": [],
      "source": [
        "import numpy as np\n",
        "import matplotlib.pyplot as plt\n",
        "import pandas as pd"
      ]
    },
    {
      "cell_type": "markdown",
      "metadata": {
        "id": "RKD2N8nWXPcf"
      },
      "source": [
        "## Carga del Conjunto de Datos\n",
        "\n",
        "Cargamos el conjunto de datos y vemos su contenido."
      ]
    },
    {
      "cell_type": "code",
      "execution_count": null,
      "metadata": {
        "colab": {
          "base_uri": "https://localhost:8080/"
        },
        "id": "jDR1ivP9XPcf",
        "outputId": "8efebf9b-4907-4622-a871-fc2d6356f597"
      },
      "outputs": [
        {
          "output_type": "stream",
          "name": "stderr",
          "text": [
            "/usr/local/lib/python3.7/dist-packages/sklearn/utils/deprecation.py:87: FutureWarning: Function load_boston is deprecated; `load_boston` is deprecated in 1.0 and will be removed in 1.2.\n",
            "\n",
            "    The Boston housing prices dataset has an ethical problem. You can refer to\n",
            "    the documentation of this function for further details.\n",
            "\n",
            "    The scikit-learn maintainers therefore strongly discourage the use of this\n",
            "    dataset unless the purpose of the code is to study and educate about\n",
            "    ethical issues in data science and machine learning.\n",
            "\n",
            "    In this special case, you can fetch the dataset from the original\n",
            "    source::\n",
            "\n",
            "        import pandas as pd\n",
            "        import numpy as np\n",
            "\n",
            "\n",
            "        data_url = \"http://lib.stat.cmu.edu/datasets/boston\"\n",
            "        raw_df = pd.read_csv(data_url, sep=\"\\s+\", skiprows=22, header=None)\n",
            "        data = np.hstack([raw_df.values[::2, :], raw_df.values[1::2, :2]])\n",
            "        target = raw_df.values[1::2, 2]\n",
            "\n",
            "    Alternative datasets include the California housing dataset (i.e.\n",
            "    :func:`~sklearn.datasets.fetch_california_housing`) and the Ames housing\n",
            "    dataset. You can load the datasets as follows::\n",
            "\n",
            "        from sklearn.datasets import fetch_california_housing\n",
            "        housing = fetch_california_housing()\n",
            "\n",
            "    for the California housing dataset and::\n",
            "\n",
            "        from sklearn.datasets import fetch_openml\n",
            "        housing = fetch_openml(name=\"house_prices\", as_frame=True)\n",
            "\n",
            "    for the Ames housing dataset.\n",
            "    \n",
            "  warnings.warn(msg, category=FutureWarning)\n"
          ]
        },
        {
          "output_type": "execute_result",
          "data": {
            "text/plain": [
              "dict_keys(['data', 'target', 'feature_names', 'DESCR', 'filename', 'data_module'])"
            ]
          },
          "metadata": {},
          "execution_count": 72
        }
      ],
      "source": [
        "from sklearn.datasets import load_boston\n",
        "boston = load_boston()\n",
        "boston.keys()"
      ]
    },
    {
      "cell_type": "code",
      "execution_count": null,
      "metadata": {
        "colab": {
          "base_uri": "https://localhost:8080/"
        },
        "id": "pKc5wNKWXPcg",
        "outputId": "2b7a2977-8097-43d3-a22e-442c90dd91df"
      },
      "outputs": [
        {
          "output_type": "execute_result",
          "data": {
            "text/plain": [
              "array(['CRIM', 'ZN', 'INDUS', 'CHAS', 'NOX', 'RM', 'AGE', 'DIS', 'RAD',\n",
              "       'TAX', 'PTRATIO', 'B', 'LSTAT'], dtype='<U7')"
            ]
          },
          "metadata": {},
          "execution_count": 73
        }
      ],
      "source": [
        "# print(boston['DESCR'])   # descripción del dataset\n",
        "# boston['data']           # matriz con los datos de entrada (atributos)\n",
        "# boston['target']         # vector de valores a predecir\n",
        "boston['feature_names']  # nombres de los atributos para cada columna de 'data'"
      ]
    },
    {
      "cell_type": "code",
      "execution_count": null,
      "metadata": {
        "colab": {
          "base_uri": "https://localhost:8080/"
        },
        "id": "XZUx39_iXPch",
        "outputId": "f7a315da-037f-4167-f592-ce8431aa3c88"
      },
      "outputs": [
        {
          "output_type": "execute_result",
          "data": {
            "text/plain": [
              "((506, 13), (506,))"
            ]
          },
          "metadata": {},
          "execution_count": 74
        }
      ],
      "source": [
        "boston['data'].shape, boston['target'].shape"
      ]
    },
    {
      "cell_type": "markdown",
      "metadata": {
        "id": "TZEZtBSyXPci"
      },
      "source": [
        "## División en Entrenamiento y Evaluación\n",
        "\n",
        "Dividimos aleatoriamente los datos en 80% para entrenamiento y 20% para evaluación:"
      ]
    },
    {
      "cell_type": "code",
      "execution_count": null,
      "metadata": {
        "colab": {
          "base_uri": "https://localhost:8080/"
        },
        "id": "jhGi0M1hXPci",
        "outputId": "d4a04968-eb7a-422f-9f75-38998910d84a"
      },
      "outputs": [
        {
          "output_type": "execute_result",
          "data": {
            "text/plain": [
              "((404, 13), (102, 13))"
            ]
          },
          "metadata": {},
          "execution_count": 75
        }
      ],
      "source": [
        "from sklearn.model_selection import train_test_split\n",
        "X, y = boston['data'], boston['target']\n",
        "X_train, X_test, y_train, y_test = train_test_split(X, y, train_size=0.8, random_state=0)\n",
        "X_train.shape, X_test.shape"
      ]
    },
    {
      "cell_type": "markdown",
      "metadata": {
        "id": "JVPR5j4kXPcj"
      },
      "source": [
        "## Ejercicio 1: Descripción de los Datos y la Tarea\n",
        "\n",
        "Responda las siguientes preguntas:\n",
        "\n",
        "1. ¿De qué se trata el conjunto de datos?\n",
        "\n",
        " Boston Dataset es parte de la librería sklearn que contiene información de   precios de viviendas en Boston.\n",
        "\n",
        "2. ¿Cuál es la variable objetivo que hay que predecir? ¿Qué significado tiene?\n",
        " \n",
        " El objetivo es predecir los precios de las viviendas en Boston, para eso contamos con una variable llamada TARGET.\n",
        "\n",
        "3. ¿Qué información (atributos) hay disponibles para hacer la predicción?\n",
        "\n",
        " Hay 13 variables númericas y 1 variable objetivo (Target) númerica.\n",
        "\n",
        " Variables en orden: \n",
        "\n",
        " **CRIM** tasa de criminalidad per cápita por ciudad\n",
        "\n",
        " **ZN** proporción de suelo residencial zonificado para lotes de más de 25,000 pies cuadrados. \n",
        "\n",
        " **INDUS** proporción de acres comerciales no minoristas por ciudad\n",
        "\n",
        " **CHAS** Variable ficticia del río Charles (= 1 si el tramo limita con el río; 0 de lo contrario) \n",
        "\n",
        " **NOX** concentración de óxidos nítricos (partes por 10 millones)\n",
        "\n",
        " **RM** número promedio de habitaciones por vivienda\n",
        "\n",
        " **AGE** proporción de unidades ocupadas por propietarios construidas antes de 1940\n",
        "\n",
        " **DIS** distancia hasta los centros principales de empleo de Boston \n",
        "\n",
        " **RAD** índice de accesibilidad a carreteras radiales\n",
        "\n",
        " **TAX** tasa de impuesto a la propiedad de valor total por $10,000\n",
        "\n",
        " **PTRATIO** proporción alumno-maestro por ciudad\n",
        "\n",
        " **B** 1000(Bk - 0.63)^2 donde Bk es la proporción de negros por ciudad\n",
        "\n",
        " **LSTAT** Proporción de gente de bajos recursos por población\n",
        "\n",
        " **MEDV** Valor medio de viviendas ocupadas por propietarios en $1000's \n",
        "4. ¿Qué atributos imagina ud. que serán los más determinantes para la predicción?\n",
        "\n",
        " Atributos que a la vista parecen ser los más indicativos,\n",
        "\n",
        " En orden de importancia:\n",
        "\n",
        " **1-RM:** Promedio de habitaciones por vivienda.\n",
        "\n",
        " **2-LSTAT:** Proporción de gente de bajos recursos por población.\n",
        "\n",
        " **3-AGE:** Proporción de unidades ocupadas por sus propietarios construidas antes de 1940\n",
        "\n",
        " **4-DIS:** Distancia hasta los centros principales de empleo de Boston\n",
        "5. ¿Qué problemas observa a priori en el conjunto de datos? ¿Observa posibles sesgos, riesgos, dilemas éticos, etc? Piense que los datos pueden ser utilizados para hacer predicciones futuras.\n",
        "\n",
        " El Dataset de precios de la vivienda de Boston tiene un problema ético. \n",
        " Destacamos variables:\n",
        "\n",
        " • B : Proporción de negros por ciudad\n",
        "\n",
        " • CRIM : Tasa de criminalidad per cápita por ciudad\n",
        "\n",
        " • LSTAT:  Proporción de gente de bajos recursos por población\n",
        "\n",
        " Resulta discriminativo y racista incluir estas columnas para entrenar modelos de aprendizaje automático para la predicción de precios de viviendas.\n"
      ]
    },
    {
      "cell_type": "code",
      "source": [
        "df = pd.DataFrame(boston['data'],columns=boston['feature_names'])"
      ],
      "metadata": {
        "id": "C5CAFmhVZ13I"
      },
      "execution_count": null,
      "outputs": []
    },
    {
      "cell_type": "code",
      "source": [
        "boston['DESCR']"
      ],
      "metadata": {
        "colab": {
          "base_uri": "https://localhost:8080/",
          "height": 140
        },
        "id": "5ixxmKiaaTCP",
        "outputId": "3cf7384b-0f50-4d9e-ed2c-8a04dfe4767c"
      },
      "execution_count": null,
      "outputs": [
        {
          "output_type": "execute_result",
          "data": {
            "text/plain": [
              "\".. _boston_dataset:\\n\\nBoston house prices dataset\\n---------------------------\\n\\n**Data Set Characteristics:**  \\n\\n    :Number of Instances: 506 \\n\\n    :Number of Attributes: 13 numeric/categorical predictive. Median Value (attribute 14) is usually the target.\\n\\n    :Attribute Information (in order):\\n        - CRIM     per capita crime rate by town\\n        - ZN       proportion of residential land zoned for lots over 25,000 sq.ft.\\n        - INDUS    proportion of non-retail business acres per town\\n        - CHAS     Charles River dummy variable (= 1 if tract bounds river; 0 otherwise)\\n        - NOX      nitric oxides concentration (parts per 10 million)\\n        - RM       average number of rooms per dwelling\\n        - AGE      proportion of owner-occupied units built prior to 1940\\n        - DIS      weighted distances to five Boston employment centres\\n        - RAD      index of accessibility to radial highways\\n        - TAX      full-value property-tax rate per $10,000\\n        - PTRATIO  pupil-teacher ratio by town\\n        - B        1000(Bk - 0.63)^2 where Bk is the proportion of black people by town\\n        - LSTAT    % lower status of the population\\n        - MEDV     Median value of owner-occupied homes in $1000's\\n\\n    :Missing Attribute Values: None\\n\\n    :Creator: Harrison, D. and Rubinfeld, D.L.\\n\\nThis is a copy of UCI ML housing dataset.\\nhttps://archive.ics.uci.edu/ml/machine-learning-databases/housing/\\n\\n\\nThis dataset was taken from the StatLib library which is maintained at Carnegie Mellon University.\\n\\nThe Boston house-price data of Harrison, D. and Rubinfeld, D.L. 'Hedonic\\nprices and the demand for clean air', J. Environ. Economics & Management,\\nvol.5, 81-102, 1978.   Used in Belsley, Kuh & Welsch, 'Regression diagnostics\\n...', Wiley, 1980.   N.B. Various transformations are used in the table on\\npages 244-261 of the latter.\\n\\nThe Boston house-price data has been used in many machine learning papers that address regression\\nproblems.   \\n     \\n.. topic:: References\\n\\n   - Belsley, Kuh & Welsch, 'Regression diagnostics: Identifying Influential Data and Sources of Collinearity', Wiley, 1980. 244-261.\\n   - Quinlan,R. (1993). Combining Instance-Based and Model-Based Learning. In Proceedings on the Tenth International Conference of Machine Learning, 236-243, University of Massachusetts, Amherst. Morgan Kaufmann.\\n\""
            ],
            "application/vnd.google.colaboratory.intrinsic+json": {
              "type": "string"
            }
          },
          "metadata": {},
          "execution_count": 77
        }
      ]
    },
    {
      "cell_type": "code",
      "source": [
        "df.describe()"
      ],
      "metadata": {
        "colab": {
          "base_uri": "https://localhost:8080/",
          "height": 300
        },
        "id": "SfBpfpSaaOyf",
        "outputId": "6806ebf1-7abd-43a2-b91b-df91845cc4c6"
      },
      "execution_count": null,
      "outputs": [
        {
          "output_type": "execute_result",
          "data": {
            "text/plain": [
              "             CRIM          ZN       INDUS        CHAS         NOX          RM  \\\n",
              "count  506.000000  506.000000  506.000000  506.000000  506.000000  506.000000   \n",
              "mean     3.613524   11.363636   11.136779    0.069170    0.554695    6.284634   \n",
              "std      8.601545   23.322453    6.860353    0.253994    0.115878    0.702617   \n",
              "min      0.006320    0.000000    0.460000    0.000000    0.385000    3.561000   \n",
              "25%      0.082045    0.000000    5.190000    0.000000    0.449000    5.885500   \n",
              "50%      0.256510    0.000000    9.690000    0.000000    0.538000    6.208500   \n",
              "75%      3.677083   12.500000   18.100000    0.000000    0.624000    6.623500   \n",
              "max     88.976200  100.000000   27.740000    1.000000    0.871000    8.780000   \n",
              "\n",
              "              AGE         DIS         RAD         TAX     PTRATIO           B  \\\n",
              "count  506.000000  506.000000  506.000000  506.000000  506.000000  506.000000   \n",
              "mean    68.574901    3.795043    9.549407  408.237154   18.455534  356.674032   \n",
              "std     28.148861    2.105710    8.707259  168.537116    2.164946   91.294864   \n",
              "min      2.900000    1.129600    1.000000  187.000000   12.600000    0.320000   \n",
              "25%     45.025000    2.100175    4.000000  279.000000   17.400000  375.377500   \n",
              "50%     77.500000    3.207450    5.000000  330.000000   19.050000  391.440000   \n",
              "75%     94.075000    5.188425   24.000000  666.000000   20.200000  396.225000   \n",
              "max    100.000000   12.126500   24.000000  711.000000   22.000000  396.900000   \n",
              "\n",
              "            LSTAT  \n",
              "count  506.000000  \n",
              "mean    12.653063  \n",
              "std      7.141062  \n",
              "min      1.730000  \n",
              "25%      6.950000  \n",
              "50%     11.360000  \n",
              "75%     16.955000  \n",
              "max     37.970000  "
            ],
            "text/html": [
              "\n",
              "  <div id=\"df-900441a5-f67b-49a6-bb7b-723be9484c9e\">\n",
              "    <div class=\"colab-df-container\">\n",
              "      <div>\n",
              "<style scoped>\n",
              "    .dataframe tbody tr th:only-of-type {\n",
              "        vertical-align: middle;\n",
              "    }\n",
              "\n",
              "    .dataframe tbody tr th {\n",
              "        vertical-align: top;\n",
              "    }\n",
              "\n",
              "    .dataframe thead th {\n",
              "        text-align: right;\n",
              "    }\n",
              "</style>\n",
              "<table border=\"1\" class=\"dataframe\">\n",
              "  <thead>\n",
              "    <tr style=\"text-align: right;\">\n",
              "      <th></th>\n",
              "      <th>CRIM</th>\n",
              "      <th>ZN</th>\n",
              "      <th>INDUS</th>\n",
              "      <th>CHAS</th>\n",
              "      <th>NOX</th>\n",
              "      <th>RM</th>\n",
              "      <th>AGE</th>\n",
              "      <th>DIS</th>\n",
              "      <th>RAD</th>\n",
              "      <th>TAX</th>\n",
              "      <th>PTRATIO</th>\n",
              "      <th>B</th>\n",
              "      <th>LSTAT</th>\n",
              "    </tr>\n",
              "  </thead>\n",
              "  <tbody>\n",
              "    <tr>\n",
              "      <th>count</th>\n",
              "      <td>506.000000</td>\n",
              "      <td>506.000000</td>\n",
              "      <td>506.000000</td>\n",
              "      <td>506.000000</td>\n",
              "      <td>506.000000</td>\n",
              "      <td>506.000000</td>\n",
              "      <td>506.000000</td>\n",
              "      <td>506.000000</td>\n",
              "      <td>506.000000</td>\n",
              "      <td>506.000000</td>\n",
              "      <td>506.000000</td>\n",
              "      <td>506.000000</td>\n",
              "      <td>506.000000</td>\n",
              "    </tr>\n",
              "    <tr>\n",
              "      <th>mean</th>\n",
              "      <td>3.613524</td>\n",
              "      <td>11.363636</td>\n",
              "      <td>11.136779</td>\n",
              "      <td>0.069170</td>\n",
              "      <td>0.554695</td>\n",
              "      <td>6.284634</td>\n",
              "      <td>68.574901</td>\n",
              "      <td>3.795043</td>\n",
              "      <td>9.549407</td>\n",
              "      <td>408.237154</td>\n",
              "      <td>18.455534</td>\n",
              "      <td>356.674032</td>\n",
              "      <td>12.653063</td>\n",
              "    </tr>\n",
              "    <tr>\n",
              "      <th>std</th>\n",
              "      <td>8.601545</td>\n",
              "      <td>23.322453</td>\n",
              "      <td>6.860353</td>\n",
              "      <td>0.253994</td>\n",
              "      <td>0.115878</td>\n",
              "      <td>0.702617</td>\n",
              "      <td>28.148861</td>\n",
              "      <td>2.105710</td>\n",
              "      <td>8.707259</td>\n",
              "      <td>168.537116</td>\n",
              "      <td>2.164946</td>\n",
              "      <td>91.294864</td>\n",
              "      <td>7.141062</td>\n",
              "    </tr>\n",
              "    <tr>\n",
              "      <th>min</th>\n",
              "      <td>0.006320</td>\n",
              "      <td>0.000000</td>\n",
              "      <td>0.460000</td>\n",
              "      <td>0.000000</td>\n",
              "      <td>0.385000</td>\n",
              "      <td>3.561000</td>\n",
              "      <td>2.900000</td>\n",
              "      <td>1.129600</td>\n",
              "      <td>1.000000</td>\n",
              "      <td>187.000000</td>\n",
              "      <td>12.600000</td>\n",
              "      <td>0.320000</td>\n",
              "      <td>1.730000</td>\n",
              "    </tr>\n",
              "    <tr>\n",
              "      <th>25%</th>\n",
              "      <td>0.082045</td>\n",
              "      <td>0.000000</td>\n",
              "      <td>5.190000</td>\n",
              "      <td>0.000000</td>\n",
              "      <td>0.449000</td>\n",
              "      <td>5.885500</td>\n",
              "      <td>45.025000</td>\n",
              "      <td>2.100175</td>\n",
              "      <td>4.000000</td>\n",
              "      <td>279.000000</td>\n",
              "      <td>17.400000</td>\n",
              "      <td>375.377500</td>\n",
              "      <td>6.950000</td>\n",
              "    </tr>\n",
              "    <tr>\n",
              "      <th>50%</th>\n",
              "      <td>0.256510</td>\n",
              "      <td>0.000000</td>\n",
              "      <td>9.690000</td>\n",
              "      <td>0.000000</td>\n",
              "      <td>0.538000</td>\n",
              "      <td>6.208500</td>\n",
              "      <td>77.500000</td>\n",
              "      <td>3.207450</td>\n",
              "      <td>5.000000</td>\n",
              "      <td>330.000000</td>\n",
              "      <td>19.050000</td>\n",
              "      <td>391.440000</td>\n",
              "      <td>11.360000</td>\n",
              "    </tr>\n",
              "    <tr>\n",
              "      <th>75%</th>\n",
              "      <td>3.677083</td>\n",
              "      <td>12.500000</td>\n",
              "      <td>18.100000</td>\n",
              "      <td>0.000000</td>\n",
              "      <td>0.624000</td>\n",
              "      <td>6.623500</td>\n",
              "      <td>94.075000</td>\n",
              "      <td>5.188425</td>\n",
              "      <td>24.000000</td>\n",
              "      <td>666.000000</td>\n",
              "      <td>20.200000</td>\n",
              "      <td>396.225000</td>\n",
              "      <td>16.955000</td>\n",
              "    </tr>\n",
              "    <tr>\n",
              "      <th>max</th>\n",
              "      <td>88.976200</td>\n",
              "      <td>100.000000</td>\n",
              "      <td>27.740000</td>\n",
              "      <td>1.000000</td>\n",
              "      <td>0.871000</td>\n",
              "      <td>8.780000</td>\n",
              "      <td>100.000000</td>\n",
              "      <td>12.126500</td>\n",
              "      <td>24.000000</td>\n",
              "      <td>711.000000</td>\n",
              "      <td>22.000000</td>\n",
              "      <td>396.900000</td>\n",
              "      <td>37.970000</td>\n",
              "    </tr>\n",
              "  </tbody>\n",
              "</table>\n",
              "</div>\n",
              "      <button class=\"colab-df-convert\" onclick=\"convertToInteractive('df-900441a5-f67b-49a6-bb7b-723be9484c9e')\"\n",
              "              title=\"Convert this dataframe to an interactive table.\"\n",
              "              style=\"display:none;\">\n",
              "        \n",
              "  <svg xmlns=\"http://www.w3.org/2000/svg\" height=\"24px\"viewBox=\"0 0 24 24\"\n",
              "       width=\"24px\">\n",
              "    <path d=\"M0 0h24v24H0V0z\" fill=\"none\"/>\n",
              "    <path d=\"M18.56 5.44l.94 2.06.94-2.06 2.06-.94-2.06-.94-.94-2.06-.94 2.06-2.06.94zm-11 1L8.5 8.5l.94-2.06 2.06-.94-2.06-.94L8.5 2.5l-.94 2.06-2.06.94zm10 10l.94 2.06.94-2.06 2.06-.94-2.06-.94-.94-2.06-.94 2.06-2.06.94z\"/><path d=\"M17.41 7.96l-1.37-1.37c-.4-.4-.92-.59-1.43-.59-.52 0-1.04.2-1.43.59L10.3 9.45l-7.72 7.72c-.78.78-.78 2.05 0 2.83L4 21.41c.39.39.9.59 1.41.59.51 0 1.02-.2 1.41-.59l7.78-7.78 2.81-2.81c.8-.78.8-2.07 0-2.86zM5.41 20L4 18.59l7.72-7.72 1.47 1.35L5.41 20z\"/>\n",
              "  </svg>\n",
              "      </button>\n",
              "      \n",
              "  <style>\n",
              "    .colab-df-container {\n",
              "      display:flex;\n",
              "      flex-wrap:wrap;\n",
              "      gap: 12px;\n",
              "    }\n",
              "\n",
              "    .colab-df-convert {\n",
              "      background-color: #E8F0FE;\n",
              "      border: none;\n",
              "      border-radius: 50%;\n",
              "      cursor: pointer;\n",
              "      display: none;\n",
              "      fill: #1967D2;\n",
              "      height: 32px;\n",
              "      padding: 0 0 0 0;\n",
              "      width: 32px;\n",
              "    }\n",
              "\n",
              "    .colab-df-convert:hover {\n",
              "      background-color: #E2EBFA;\n",
              "      box-shadow: 0px 1px 2px rgba(60, 64, 67, 0.3), 0px 1px 3px 1px rgba(60, 64, 67, 0.15);\n",
              "      fill: #174EA6;\n",
              "    }\n",
              "\n",
              "    [theme=dark] .colab-df-convert {\n",
              "      background-color: #3B4455;\n",
              "      fill: #D2E3FC;\n",
              "    }\n",
              "\n",
              "    [theme=dark] .colab-df-convert:hover {\n",
              "      background-color: #434B5C;\n",
              "      box-shadow: 0px 1px 3px 1px rgba(0, 0, 0, 0.15);\n",
              "      filter: drop-shadow(0px 1px 2px rgba(0, 0, 0, 0.3));\n",
              "      fill: #FFFFFF;\n",
              "    }\n",
              "  </style>\n",
              "\n",
              "      <script>\n",
              "        const buttonEl =\n",
              "          document.querySelector('#df-900441a5-f67b-49a6-bb7b-723be9484c9e button.colab-df-convert');\n",
              "        buttonEl.style.display =\n",
              "          google.colab.kernel.accessAllowed ? 'block' : 'none';\n",
              "\n",
              "        async function convertToInteractive(key) {\n",
              "          const element = document.querySelector('#df-900441a5-f67b-49a6-bb7b-723be9484c9e');\n",
              "          const dataTable =\n",
              "            await google.colab.kernel.invokeFunction('convertToInteractive',\n",
              "                                                     [key], {});\n",
              "          if (!dataTable) return;\n",
              "\n",
              "          const docLinkHtml = 'Like what you see? Visit the ' +\n",
              "            '<a target=\"_blank\" href=https://colab.research.google.com/notebooks/data_table.ipynb>data table notebook</a>'\n",
              "            + ' to learn more about interactive tables.';\n",
              "          element.innerHTML = '';\n",
              "          dataTable['output_type'] = 'display_data';\n",
              "          await google.colab.output.renderOutput(dataTable, element);\n",
              "          const docLink = document.createElement('div');\n",
              "          docLink.innerHTML = docLinkHtml;\n",
              "          element.appendChild(docLink);\n",
              "        }\n",
              "      </script>\n",
              "    </div>\n",
              "  </div>\n",
              "  "
            ]
          },
          "metadata": {},
          "execution_count": 78
        }
      ]
    },
    {
      "cell_type": "markdown",
      "metadata": {
        "id": "5vlEh4pyXPck"
      },
      "source": [
        "## Ejercicio 2: Visualización de los Datos\n",
        "\n",
        "1. Para cada atributo de entrada, haga una gráfica que muestre su relación con la variable objetivo.\n",
        "2. Estudie las gráficas, identificando **a ojo** los atributos que a su criterio sean los más informativos para la predicción.\n",
        "3. Para ud., ¿cuáles son esos atributos? Lístelos en orden de importancia."
      ]
    },
    {
      "cell_type": "markdown",
      "source": [
        "**1. Grafico de cada atributo de entrada con la variable objetivo**"
      ],
      "metadata": {
        "id": "hrY0cw879ljL"
      }
    },
    {
      "cell_type": "code",
      "source": [
        "selector = (boston['feature_names'] == 'ZN')\n",
        "selector"
      ],
      "metadata": {
        "colab": {
          "base_uri": "https://localhost:8080/"
        },
        "id": "_CtygOyCdj24",
        "outputId": "6a528105-d3cd-43ad-9258-fa7ecc714455"
      },
      "execution_count": null,
      "outputs": [
        {
          "output_type": "execute_result",
          "data": {
            "text/plain": [
              "array([False,  True, False, False, False, False, False, False, False,\n",
              "       False, False, False, False])"
            ]
          },
          "metadata": {},
          "execution_count": 79
        }
      ]
    },
    {
      "cell_type": "code",
      "execution_count": null,
      "metadata": {
        "colab": {
          "base_uri": "https://localhost:8080/",
          "height": 1000
        },
        "id": "RdhutSn6XPcl",
        "outputId": "b956c9f5-a9a6-4cfa-c13b-75a6ab564555"
      },
      "outputs": [
        {
          "output_type": "display_data",
          "data": {
            "text/plain": [
              "<Figure size 1152x1440 with 13 Axes>"
            ],
            "image/png": "[encoded data removed]"
          },
          "metadata": {}
        }
      ],
      "source": [
        "# 1. Resolver acá. Ayuda/ejemplo:\n",
        "plt.style.use(\"ggplot\")\n",
        "plt.figure(figsize=(16,20))\n",
        "i=0\n",
        "for col in boston['feature_names']:\n",
        "  plt.subplots_adjust(hspace=.5,wspace=.5)\n",
        "  ax=plt.subplot(5,3,i+1)\n",
        "  feature = col\n",
        "  selector = (boston['feature_names'] == feature)\n",
        "  plt.scatter(X[:, selector], y, facecolor=\"dodgerblue\", edgecolor=\"k\", label=\"datos\")\n",
        "  plt.title(feature)\n",
        "  i+=1\n",
        "plt.show()"
      ]
    },
    {
      "cell_type": "markdown",
      "source": [
        "**2. y 3. Atributos que, a la vista, parecen ser los más indicativos.**\n",
        "\n",
        "En orden de importancia:\n",
        "\n",
        "1-RM: Promedio de habitaciones por vivienda.\n",
        "\n",
        "2-LSTAT: Proporción de gente de bajos recursos por población.\n",
        "\n",
        "3-AGE: Proporción de unidades ocupadas por sus propietarios construidas antes de 1940\n",
        "\n",
        "4-DIS: Distancia hasta los centros principales de empleo de Boston"
      ],
      "metadata": {
        "id": "HLLzmtR7h3Yo"
      }
    },
    {
      "cell_type": "code",
      "source": [
        "# Calculamos la correlación para cada atributo con la variable objeto\n",
        "for col in boston['feature_names']:\n",
        "  selector = (boston['feature_names'] == col)\n",
        "  print('Correlacion para la variable',col)\n",
        "  my_rho = np.corrcoef(X[:,selector].reshape(-1,), y)\n",
        "  print(my_rho)"
      ],
      "metadata": {
        "colab": {
          "base_uri": "https://localhost:8080/"
        },
        "id": "VjZlPDP1ijQ_",
        "outputId": "b39bbeb3-8934-4bbe-b684-2ef2629676d3"
      },
      "execution_count": null,
      "outputs": [
        {
          "output_type": "stream",
          "name": "stdout",
          "text": [
            "Correlacion para la variable CRIM\n",
            "[[ 1.         -0.38830461]\n",
            " [-0.38830461  1.        ]]\n",
            "Correlacion para la variable ZN\n",
            "[[1.         0.36044534]\n",
            " [0.36044534 1.        ]]\n",
            "Correlacion para la variable INDUS\n",
            "[[ 1.         -0.48372516]\n",
            " [-0.48372516  1.        ]]\n",
            "Correlacion para la variable CHAS\n",
            "[[1.         0.17526018]\n",
            " [0.17526018 1.        ]]\n",
            "Correlacion para la variable NOX\n",
            "[[ 1.         -0.42732077]\n",
            " [-0.42732077  1.        ]]\n",
            "Correlacion para la variable RM\n",
            "[[1.         0.69535995]\n",
            " [0.69535995 1.        ]]\n",
            "Correlacion para la variable AGE\n",
            "[[ 1.         -0.37695457]\n",
            " [-0.37695457  1.        ]]\n",
            "Correlacion para la variable DIS\n",
            "[[1.         0.24992873]\n",
            " [0.24992873 1.        ]]\n",
            "Correlacion para la variable RAD\n",
            "[[ 1.         -0.38162623]\n",
            " [-0.38162623  1.        ]]\n",
            "Correlacion para la variable TAX\n",
            "[[ 1.         -0.46853593]\n",
            " [-0.46853593  1.        ]]\n",
            "Correlacion para la variable PTRATIO\n",
            "[[ 1.         -0.50778669]\n",
            " [-0.50778669  1.        ]]\n",
            "Correlacion para la variable B\n",
            "[[1.         0.33346082]\n",
            " [0.33346082 1.        ]]\n",
            "Correlacion para la variable LSTAT\n",
            "[[ 1.         -0.73766273]\n",
            " [-0.73766273  1.        ]]\n"
          ]
        }
      ]
    },
    {
      "cell_type": "markdown",
      "source": [
        "Para corroborar lo analizado en el gráfico, vemos que el atributo que más correlación tiene con la variable objeto es LSTAT y en segundo lugar RM."
      ],
      "metadata": {
        "id": "0K4Y8oGCjnUv"
      }
    },
    {
      "cell_type": "markdown",
      "source": [
        "## Ejercicio 3: Regresión Lineal\n",
        "\n",
        "1. Seleccione **un solo atributo** que considere puede ser el más apropiado.\n",
        "2. Instancie una regresión lineal de **scikit-learn**, y entrénela usando sólo el atributo seleccionado.\n",
        "3. Evalúe, calculando error cuadrático medio para los conjuntos de entrenamiento y evaluación.\n",
        "4. Grafique el modelo resultante, junto con los puntos de entrenamiento y evaluación.\n",
        "5. Interprete el resultado, haciendo algún comentario sobre las cualidades del modelo obtenido.\n",
        "\n",
        "**Observación:** Con algunos atributos se puede obtener un error en test menor a 50."
      ],
      "metadata": {
        "id": "UmKLVI3JjeAH"
      }
    },
    {
      "cell_type": "markdown",
      "source": [
        "**1. Selección del tributo más apropiado**\n",
        "\n",
        "En base a lo analizado anteriormente elegimos el atributo LSTAT: Proporción de gente de bajos recursos por población."
      ],
      "metadata": {
        "id": "XnFoRi--lUJo"
      }
    },
    {
      "cell_type": "markdown",
      "source": [
        "**2. Regresión lineal**"
      ],
      "metadata": {
        "id": "Zvhspev3ltAo"
      }
    },
    {
      "cell_type": "code",
      "execution_count": null,
      "metadata": {
        "colab": {
          "base_uri": "https://localhost:8080/"
        },
        "id": "3cR6gdLlXPcm",
        "outputId": "1c9be50e-4c55-4a12-ca6a-821c3283def1"
      },
      "outputs": [
        {
          "output_type": "execute_result",
          "data": {
            "text/plain": [
              "((404, 1), (102, 1))"
            ]
          },
          "metadata": {},
          "execution_count": 82
        }
      ],
      "source": [
        "# 1. Resolver acá. Ayuda:\n",
        "feature = 'LSTAT'  # selecciono el atributo 'CRIM'\n",
        "selector = (boston['feature_names'] == feature)\n",
        "X_train_f = X_train[:, selector]\n",
        "X_test_f = X_test[:, selector]\n",
        "X_train_f.shape, X_test_f.shape\n"
      ]
    },
    {
      "cell_type": "markdown",
      "source": [
        "**Escalamos con MaxAbsScaler**"
      ],
      "metadata": {
        "id": "R_5zybkSvNU2"
      }
    },
    {
      "cell_type": "code",
      "source": [
        "# Acá escalamos los datos\n",
        "from sklearn.preprocessing import MaxAbsScaler\n",
        "transformer = MaxAbsScaler().fit(X_train_f)\n",
        "X_train_f = transformer.transform(X_train_f)\n",
        "X_train_f"
      ],
      "metadata": {
        "colab": {
          "base_uri": "https://localhost:8080/"
        },
        "id": "AOYk0nEfEoJe",
        "outputId": "eb543b47-04a0-476b-d810-d234e371ce1d"
      },
      "execution_count": null,
      "outputs": [
        {
          "output_type": "execute_result",
          "data": {
            "text/plain": [
              "array([[0.26257436],\n",
              "       [0.26717144],\n",
              "       [0.30773391],\n",
              "       [0.33612764],\n",
              "       [0.7203894 ],\n",
              "       [0.37858302],\n",
              "       [0.24553813],\n",
              "       [0.23445105],\n",
              "       [0.12412115],\n",
              "       [0.71389941],\n",
              "       [0.51784749],\n",
              "       [0.41563007],\n",
              "       [0.80935641],\n",
              "       [0.3964305 ],\n",
              "       [0.91995673],\n",
              "       [0.30070308],\n",
              "       [0.69442942],\n",
              "       [0.0854516 ],\n",
              "       [0.12682531],\n",
              "       [0.66414278],\n",
              "       [0.43807463],\n",
              "       [0.34937804],\n",
              "       [0.26960519],\n",
              "       [0.4753921 ],\n",
              "       [0.17495944],\n",
              "       [0.49918875],\n",
              "       [0.24932396],\n",
              "       [0.16360195],\n",
              "       [0.46295295],\n",
              "       [0.697404  ],\n",
              "       [0.48864251],\n",
              "       [0.39021092],\n",
              "       [0.61492699],\n",
              "       [0.13007031],\n",
              "       [0.29421309],\n",
              "       [0.7252569 ],\n",
              "       [0.17739319],\n",
              "       [0.78555976],\n",
              "       [0.64061655],\n",
              "       [0.36749594],\n",
              "       [0.13628989],\n",
              "       [0.14277988],\n",
              "       [0.18334235],\n",
              "       [0.40048675],\n",
              "       [0.12033532],\n",
              "       [0.14413196],\n",
              "       [0.58193618],\n",
              "       [0.83315306],\n",
              "       [0.12276906],\n",
              "       [0.14088697],\n",
              "       [0.93050297],\n",
              "       [0.20903191],\n",
              "       [0.45862628],\n",
              "       [0.13439697],\n",
              "       [0.48485668],\n",
              "       [0.50621958],\n",
              "       [0.35397512],\n",
              "       [0.56841536],\n",
              "       [0.71525149],\n",
              "       [0.27744727],\n",
              "       [0.12412115],\n",
              "       [0.14196863],\n",
              "       [0.21768524],\n",
              "       [0.34586263],\n",
              "       [0.20822066],\n",
              "       [0.19524067],\n",
              "       [0.21065441],\n",
              "       [0.44213088],\n",
              "       [0.1184424 ],\n",
              "       [0.67360736],\n",
              "       [0.39616009],\n",
              "       [0.14872904],\n",
              "       [0.36073553],\n",
              "       [0.58896701],\n",
              "       [0.40832883],\n",
              "       [0.57166036],\n",
              "       [0.31530557],\n",
              "       [0.2550027 ],\n",
              "       [0.43888588],\n",
              "       [0.39264467],\n",
              "       [0.26500811],\n",
              "       [0.31476474],\n",
              "       [0.50459708],\n",
              "       [0.13737155],\n",
              "       [0.25689562],\n",
              "       [0.16197945],\n",
              "       [0.12033532],\n",
              "       [0.43861547],\n",
              "       [0.64845863],\n",
              "       [0.3042185 ],\n",
              "       [0.15413737],\n",
              "       [0.31097891],\n",
              "       [0.0854516 ],\n",
              "       [0.16792861],\n",
              "       [0.25689562],\n",
              "       [0.38209843],\n",
              "       [0.16170903],\n",
              "       [0.08139535],\n",
              "       [0.22065982],\n",
              "       [0.31611682],\n",
              "       [0.19632234],\n",
              "       [0.17901568],\n",
              "       [0.75175771],\n",
              "       [0.17387777],\n",
              "       [0.38128718],\n",
              "       [0.1595457 ],\n",
              "       [0.28610059],\n",
              "       [0.32828556],\n",
              "       [0.17658194],\n",
              "       [0.25797729],\n",
              "       [0.48810168],\n",
              "       [0.27690644],\n",
              "       [0.31692807],\n",
              "       [0.65116279],\n",
              "       [0.65332612],\n",
              "       [0.20740941],\n",
              "       [0.41022174],\n",
              "       [0.10897783],\n",
              "       [0.54299621],\n",
              "       [0.58031368],\n",
              "       [0.39670092],\n",
              "       [0.45024337],\n",
              "       [0.25013521],\n",
              "       [0.35884262],\n",
              "       [0.61114116],\n",
              "       [0.28258518],\n",
              "       [0.17198486],\n",
              "       [0.3634397 ],\n",
              "       [0.51406165],\n",
              "       [0.21362899],\n",
              "       [0.27339102],\n",
              "       [0.095457  ],\n",
              "       [0.3255814 ],\n",
              "       [0.30016225],\n",
              "       [0.52785289],\n",
              "       [0.38858843],\n",
              "       [0.21903732],\n",
              "       [0.43834505],\n",
              "       [0.1430503 ],\n",
              "       [0.17198486],\n",
              "       [0.27825852],\n",
              "       [0.45700379],\n",
              "       [0.13791239],\n",
              "       [0.14845863],\n",
              "       [0.25554354],\n",
              "       [0.73715522],\n",
              "       [0.21227691],\n",
              "       [0.55002704],\n",
              "       [0.92942131],\n",
              "       [0.57436452],\n",
              "       [0.46403461],\n",
              "       [0.06679286],\n",
              "       [0.40643591],\n",
              "       [0.49621417],\n",
              "       [0.18956193],\n",
              "       [0.2582477 ],\n",
              "       [0.39048134],\n",
              "       [0.1233099 ],\n",
              "       [0.17820443],\n",
              "       [0.25716604],\n",
              "       [0.48458626],\n",
              "       [0.203894  ],\n",
              "       [0.26176312],\n",
              "       [0.64332071],\n",
              "       [0.3239589 ],\n",
              "       [0.19253651],\n",
              "       [0.28474851],\n",
              "       [0.45808545],\n",
              "       [0.26203353],\n",
              "       [0.46727961],\n",
              "       [0.57652785],\n",
              "       [0.16955111],\n",
              "       [0.43645214],\n",
              "       [0.26338561],\n",
              "       [0.6381828 ],\n",
              "       [0.57652785],\n",
              "       [0.43347756],\n",
              "       [0.33342347],\n",
              "       [0.21768524],\n",
              "       [0.16170903],\n",
              "       [0.15062196],\n",
              "       [0.25608437],\n",
              "       [0.61871282],\n",
              "       [0.14575446],\n",
              "       [0.79908058],\n",
              "       [0.07787994],\n",
              "       [0.21768524],\n",
              "       [0.18658734],\n",
              "       [0.21903732],\n",
              "       [0.4407788 ],\n",
              "       [0.36533261],\n",
              "       [0.2055165 ],\n",
              "       [0.49594375],\n",
              "       [0.2747431 ],\n",
              "       [0.10005408],\n",
              "       [0.38128718],\n",
              "       [0.81043807],\n",
              "       [0.05354246],\n",
              "       [0.095457  ],\n",
              "       [0.38372093],\n",
              "       [0.24607896],\n",
              "       [0.49567334],\n",
              "       [0.28015143],\n",
              "       [0.22336398],\n",
              "       [0.19307734],\n",
              "       [1.        ],\n",
              "       [0.38750676],\n",
              "       [0.10600324],\n",
              "       [0.04678204],\n",
              "       [0.20308275],\n",
              "       [0.15251487],\n",
              "       [0.35451595],\n",
              "       [0.35154137],\n",
              "       [0.58004327],\n",
              "       [0.32774473],\n",
              "       [0.17793402],\n",
              "       [0.194159  ],\n",
              "       [0.42049757],\n",
              "       [0.63115197],\n",
              "       [0.49918875],\n",
              "       [0.12790698],\n",
              "       [0.25932937],\n",
              "       [0.27555435],\n",
              "       [0.43104381],\n",
              "       [0.2614927 ],\n",
              "       [0.62141698],\n",
              "       [0.25743645],\n",
              "       [0.21173607],\n",
              "       [0.46268253],\n",
              "       [0.30502975],\n",
              "       [0.26960519],\n",
              "       [0.19983775],\n",
              "       [0.36911844],\n",
              "       [0.08464035],\n",
              "       [0.41022174],\n",
              "       [0.07950243],\n",
              "       [0.1216874 ],\n",
              "       [0.40048675],\n",
              "       [0.10167658],\n",
              "       [0.34964846],\n",
              "       [0.27771769],\n",
              "       [0.37804218],\n",
              "       [0.4653867 ],\n",
              "       [0.28177393],\n",
              "       [0.0805841 ],\n",
              "       [0.2812331 ],\n",
              "       [0.44862088],\n",
              "       [0.13034072],\n",
              "       [0.45267712],\n",
              "       [0.1430503 ],\n",
              "       [0.20362358],\n",
              "       [0.21065441],\n",
              "       [0.35884262],\n",
              "       [0.3634397 ],\n",
              "       [0.34775554],\n",
              "       [0.39994592],\n",
              "       [0.30854516],\n",
              "       [0.40508383],\n",
              "       [0.18550568],\n",
              "       [0.13088156],\n",
              "       [0.35154137],\n",
              "       [0.36371011],\n",
              "       [0.62439156],\n",
              "       [0.54921579],\n",
              "       [0.54948621],\n",
              "       [0.42455381],\n",
              "       [0.68712818],\n",
              "       [0.26852353],\n",
              "       [0.18199027],\n",
              "       [0.57003786],\n",
              "       [0.34072472],\n",
              "       [0.18063818],\n",
              "       [0.53758789],\n",
              "       [0.20118983],\n",
              "       [0.44456463],\n",
              "       [0.13466739],\n",
              "       [0.20091942],\n",
              "       [0.08815576],\n",
              "       [0.32531098],\n",
              "       [0.09653867],\n",
              "       [0.15927528],\n",
              "       [0.18739859],\n",
              "       [0.32477015],\n",
              "       [0.18712818],\n",
              "       [0.10086533],\n",
              "       [0.08409951],\n",
              "       [0.28637101],\n",
              "       [0.34802596],\n",
              "       [0.17982693],\n",
              "       [0.49026501],\n",
              "       [0.30611141],\n",
              "       [0.23769605],\n",
              "       [0.24148188],\n",
              "       [0.83315306],\n",
              "       [0.14845863],\n",
              "       [0.94023797],\n",
              "       [0.53866955],\n",
              "       [0.48837209],\n",
              "       [0.13115197],\n",
              "       [0.17198486],\n",
              "       [0.76581936],\n",
              "       [0.71444024],\n",
              "       [0.1825311 ],\n",
              "       [0.20443483],\n",
              "       [0.47593294],\n",
              "       [0.33153056],\n",
              "       [0.50594916],\n",
              "       [0.17522985],\n",
              "       [0.15981612],\n",
              "       [0.16549486],\n",
              "       [0.10302866],\n",
              "       [0.26014062],\n",
              "       [0.38588426],\n",
              "       [0.48837209],\n",
              "       [0.59789075],\n",
              "       [0.4637642 ],\n",
              "       [0.4440238 ],\n",
              "       [0.82828556],\n",
              "       [0.22174148],\n",
              "       [0.18171985],\n",
              "       [0.20118983],\n",
              "       [0.36803678],\n",
              "       [0.31043807],\n",
              "       [0.09626825],\n",
              "       [0.10681449],\n",
              "       [0.6595457 ],\n",
              "       [0.1857761 ],\n",
              "       [0.13845322],\n",
              "       [0.62844781],\n",
              "       [0.46700919],\n",
              "       [0.15711195],\n",
              "       [0.44537588],\n",
              "       [0.82801514],\n",
              "       [0.44050838],\n",
              "       [0.17793402],\n",
              "       [0.47160627],\n",
              "       [0.27393186],\n",
              "       [0.56381828],\n",
              "       [0.22796106],\n",
              "       [0.40616549],\n",
              "       [0.50973499],\n",
              "       [0.4161709 ],\n",
              "       [0.09004867],\n",
              "       [0.34613304],\n",
              "       [0.15359654],\n",
              "       [0.08004327],\n",
              "       [0.08977826],\n",
              "       [0.35911303],\n",
              "       [0.33802055],\n",
              "       [0.08409951],\n",
              "       [0.35262304],\n",
              "       [0.74932396],\n",
              "       [0.46484586],\n",
              "       [0.35559762],\n",
              "       [0.50513791],\n",
              "       [0.52217415],\n",
              "       [0.2055165 ],\n",
              "       [0.62979989],\n",
              "       [0.82720389],\n",
              "       [0.3783126 ],\n",
              "       [0.79853975],\n",
              "       [0.22255273],\n",
              "       [0.802596  ],\n",
              "       [0.17009194],\n",
              "       [0.16738778],\n",
              "       [0.23012439],\n",
              "       [0.49026501],\n",
              "       [0.53244997],\n",
              "       [0.21660357],\n",
              "       [0.23282856],\n",
              "       [0.14034613],\n",
              "       [0.35749054],\n",
              "       [0.42617631],\n",
              "       [0.74040022],\n",
              "       [0.28258518],\n",
              "       [0.14926988],\n",
              "       [0.15359654],\n",
              "       [0.44645754],\n",
              "       [0.26527853],\n",
              "       [0.28555976],\n",
              "       [0.64818821],\n",
              "       [0.26068145],\n",
              "       [0.36100595],\n",
              "       [0.1168199 ],\n",
              "       [0.13601947],\n",
              "       [0.25094646],\n",
              "       [0.52379665],\n",
              "       [0.14872904],\n",
              "       [0.38831801],\n",
              "       [0.18171985],\n",
              "       [0.22823148],\n",
              "       [0.12709573],\n",
              "       [0.30340725],\n",
              "       [0.11249324],\n",
              "       [0.64845863],\n",
              "       [0.46241211],\n",
              "       [0.34261763],\n",
              "       [0.08031368],\n",
              "       [0.0970795 ],\n",
              "       [0.3174689 ],\n",
              "       [0.07760952],\n",
              "       [0.27852893],\n",
              "       [0.50838291],\n",
              "       [0.39724175]])"
            ]
          },
          "metadata": {},
          "execution_count": 83
        }
      ]
    },
    {
      "cell_type": "code",
      "source": [
        "X_test_f = transformer.transform(X_test_f)\n",
        "X_test_f"
      ],
      "metadata": {
        "colab": {
          "base_uri": "https://localhost:8080/"
        },
        "id": "CDjN3x5uEg3z",
        "outputId": "f204b155-1073-4504-8b6a-46d6457c7089"
      },
      "execution_count": null,
      "outputs": [
        {
          "output_type": "execute_result",
          "data": {
            "text/plain": [
              "array([[0.19848567],\n",
              "       [0.25770687],\n",
              "       [0.28393726],\n",
              "       [0.5346133 ],\n",
              "       [0.33369389],\n",
              "       [0.22904273],\n",
              "       [0.30962683],\n",
              "       [0.25121687],\n",
              "       [0.34180638],\n",
              "       [0.28745268],\n",
              "       [0.5575987 ],\n",
              "       [0.57382369],\n",
              "       [0.48107085],\n",
              "       [0.7647377 ],\n",
              "       [0.05191996],\n",
              "       [0.12817739],\n",
              "       [0.29042726],\n",
              "       [0.11032991],\n",
              "       [0.14413196],\n",
              "       [0.23715522],\n",
              "       [0.19469984],\n",
              "       [0.32531098],\n",
              "       [0.38101677],\n",
              "       [0.19442942],\n",
              "       [0.27609519],\n",
              "       [0.36046512],\n",
              "       [0.37398594],\n",
              "       [0.42698756],\n",
              "       [0.11384532],\n",
              "       [0.4621417 ],\n",
              "       [0.48756084],\n",
              "       [0.39751217],\n",
              "       [0.27447269],\n",
              "       [0.33531639],\n",
              "       [0.24445646],\n",
              "       [0.39588967],\n",
              "       [0.72390481],\n",
              "       [0.2401298 ],\n",
              "       [0.4770146 ],\n",
              "       [0.65170362],\n",
              "       [0.23201731],\n",
              "       [0.38263926],\n",
              "       [0.24580855],\n",
              "       [0.49053542],\n",
              "       [0.23391022],\n",
              "       [0.24716063],\n",
              "       [0.42833964],\n",
              "       [0.40886966],\n",
              "       [0.79204976],\n",
              "       [0.25473229],\n",
              "       [0.40616549],\n",
              "       [0.47593294],\n",
              "       [0.31503515],\n",
              "       [0.09572742],\n",
              "       [0.46809086],\n",
              "       [0.42482423],\n",
              "       [0.33612764],\n",
              "       [0.34261763],\n",
              "       [0.27339102],\n",
              "       [0.46700919],\n",
              "       [0.21065441],\n",
              "       [0.34424013],\n",
              "       [0.13142239],\n",
              "       [0.10167658],\n",
              "       [0.39913467],\n",
              "       [0.1233099 ],\n",
              "       [0.47944835],\n",
              "       [0.55300162],\n",
              "       [0.53488372],\n",
              "       [0.29394267],\n",
              "       [0.32368848],\n",
              "       [0.2417523 ],\n",
              "       [0.12628448],\n",
              "       [0.12466198],\n",
              "       [0.20930233],\n",
              "       [0.8650622 ],\n",
              "       [0.10681449],\n",
              "       [0.29664684],\n",
              "       [0.23823688],\n",
              "       [0.38128718],\n",
              "       [0.19929692],\n",
              "       [0.39453759],\n",
              "       [0.32801514],\n",
              "       [0.11195241],\n",
              "       [0.12520281],\n",
              "       [0.16630611],\n",
              "       [0.30665224],\n",
              "       [0.4242834 ],\n",
              "       [0.19983775],\n",
              "       [0.50730124],\n",
              "       [0.40021633],\n",
              "       [0.62925906],\n",
              "       [0.1776636 ],\n",
              "       [0.16414278],\n",
              "       [0.21308816],\n",
              "       [0.24770146],\n",
              "       [1.02677123],\n",
              "       [0.15603029],\n",
              "       [0.49026501],\n",
              "       [0.35559762],\n",
              "       [0.25365062],\n",
              "       [0.33180097]])"
            ]
          },
          "metadata": {},
          "execution_count": 84
        }
      ]
    },
    {
      "cell_type": "code",
      "source": [
        "X_train_bias = np.stack((np.ones(X_train_f.shape[0]), X_train_f.reshape(-1,)), axis=1)  # add bias\n",
        "X_train_bias"
      ],
      "metadata": {
        "colab": {
          "base_uri": "https://localhost:8080/"
        },
        "id": "5jsvAxRRm7AS",
        "outputId": "7c129353-2ef3-477a-de21-04d1a401f9fe"
      },
      "execution_count": null,
      "outputs": [
        {
          "output_type": "execute_result",
          "data": {
            "text/plain": [
              "array([[1.        , 0.26257436],\n",
              "       [1.        , 0.26717144],\n",
              "       [1.        , 0.30773391],\n",
              "       [1.        , 0.33612764],\n",
              "       [1.        , 0.7203894 ],\n",
              "       [1.        , 0.37858302],\n",
              "       [1.        , 0.24553813],\n",
              "       [1.        , 0.23445105],\n",
              "       [1.        , 0.12412115],\n",
              "       [1.        , 0.71389941],\n",
              "       [1.        , 0.51784749],\n",
              "       [1.        , 0.41563007],\n",
              "       [1.        , 0.80935641],\n",
              "       [1.        , 0.3964305 ],\n",
              "       [1.        , 0.91995673],\n",
              "       [1.        , 0.30070308],\n",
              "       [1.        , 0.69442942],\n",
              "       [1.        , 0.0854516 ],\n",
              "       [1.        , 0.12682531],\n",
              "       [1.        , 0.66414278],\n",
              "       [1.        , 0.43807463],\n",
              "       [1.        , 0.34937804],\n",
              "       [1.        , 0.26960519],\n",
              "       [1.        , 0.4753921 ],\n",
              "       [1.        , 0.17495944],\n",
              "       [1.        , 0.49918875],\n",
              "       [1.        , 0.24932396],\n",
              "       [1.        , 0.16360195],\n",
              "       [1.        , 0.46295295],\n",
              "       [1.        , 0.697404  ],\n",
              "       [1.        , 0.48864251],\n",
              "       [1.        , 0.39021092],\n",
              "       [1.        , 0.61492699],\n",
              "       [1.        , 0.13007031],\n",
              "       [1.        , 0.29421309],\n",
              "       [1.        , 0.7252569 ],\n",
              "       [1.        , 0.17739319],\n",
              "       [1.        , 0.78555976],\n",
              "       [1.        , 0.64061655],\n",
              "       [1.        , 0.36749594],\n",
              "       [1.        , 0.13628989],\n",
              "       [1.        , 0.14277988],\n",
              "       [1.        , 0.18334235],\n",
              "       [1.        , 0.40048675],\n",
              "       [1.        , 0.12033532],\n",
              "       [1.        , 0.14413196],\n",
              "       [1.        , 0.58193618],\n",
              "       [1.        , 0.83315306],\n",
              "       [1.        , 0.12276906],\n",
              "       [1.        , 0.14088697],\n",
              "       [1.        , 0.93050297],\n",
              "       [1.        , 0.20903191],\n",
              "       [1.        , 0.45862628],\n",
              "       [1.        , 0.13439697],\n",
              "       [1.        , 0.48485668],\n",
              "       [1.        , 0.50621958],\n",
              "       [1.        , 0.35397512],\n",
              "       [1.        , 0.56841536],\n",
              "       [1.        , 0.71525149],\n",
              "       [1.        , 0.27744727],\n",
              "       [1.        , 0.12412115],\n",
              "       [1.        , 0.14196863],\n",
              "       [1.        , 0.21768524],\n",
              "       [1.        , 0.34586263],\n",
              "       [1.        , 0.20822066],\n",
              "       [1.        , 0.19524067],\n",
              "       [1.        , 0.21065441],\n",
              "       [1.        , 0.44213088],\n",
              "       [1.        , 0.1184424 ],\n",
              "       [1.        , 0.67360736],\n",
              "       [1.        , 0.39616009],\n",
              "       [1.        , 0.14872904],\n",
              "       [1.        , 0.36073553],\n",
              "       [1.        , 0.58896701],\n",
              "       [1.        , 0.40832883],\n",
              "       [1.        , 0.57166036],\n",
              "       [1.        , 0.31530557],\n",
              "       [1.        , 0.2550027 ],\n",
              "       [1.        , 0.43888588],\n",
              "       [1.        , 0.39264467],\n",
              "       [1.        , 0.26500811],\n",
              "       [1.        , 0.31476474],\n",
              "       [1.        , 0.50459708],\n",
              "       [1.        , 0.13737155],\n",
              "       [1.        , 0.25689562],\n",
              "       [1.        , 0.16197945],\n",
              "       [1.        , 0.12033532],\n",
              "       [1.        , 0.43861547],\n",
              "       [1.        , 0.64845863],\n",
              "       [1.        , 0.3042185 ],\n",
              "       [1.        , 0.15413737],\n",
              "       [1.        , 0.31097891],\n",
              "       [1.        , 0.0854516 ],\n",
              "       [1.        , 0.16792861],\n",
              "       [1.        , 0.25689562],\n",
              "       [1.        , 0.38209843],\n",
              "       [1.        , 0.16170903],\n",
              "       [1.        , 0.08139535],\n",
              "       [1.        , 0.22065982],\n",
              "       [1.        , 0.31611682],\n",
              "       [1.        , 0.19632234],\n",
              "       [1.        , 0.17901568],\n",
              "       [1.        , 0.75175771],\n",
              "       [1.        , 0.17387777],\n",
              "       [1.        , 0.38128718],\n",
              "       [1.        , 0.1595457 ],\n",
              "       [1.        , 0.28610059],\n",
              "       [1.        , 0.32828556],\n",
              "       [1.        , 0.17658194],\n",
              "       [1.        , 0.25797729],\n",
              "       [1.        , 0.48810168],\n",
              "       [1.        , 0.27690644],\n",
              "       [1.        , 0.31692807],\n",
              "       [1.        , 0.65116279],\n",
              "       [1.        , 0.65332612],\n",
              "       [1.        , 0.20740941],\n",
              "       [1.        , 0.41022174],\n",
              "       [1.        , 0.10897783],\n",
              "       [1.        , 0.54299621],\n",
              "       [1.        , 0.58031368],\n",
              "       [1.        , 0.39670092],\n",
              "       [1.        , 0.45024337],\n",
              "       [1.        , 0.25013521],\n",
              "       [1.        , 0.35884262],\n",
              "       [1.        , 0.61114116],\n",
              "       [1.        , 0.28258518],\n",
              "       [1.        , 0.17198486],\n",
              "       [1.        , 0.3634397 ],\n",
              "       [1.        , 0.51406165],\n",
              "       [1.        , 0.21362899],\n",
              "       [1.        , 0.27339102],\n",
              "       [1.        , 0.095457  ],\n",
              "       [1.        , 0.3255814 ],\n",
              "       [1.        , 0.30016225],\n",
              "       [1.        , 0.52785289],\n",
              "       [1.        , 0.38858843],\n",
              "       [1.        , 0.21903732],\n",
              "       [1.        , 0.43834505],\n",
              "       [1.        , 0.1430503 ],\n",
              "       [1.        , 0.17198486],\n",
              "       [1.        , 0.27825852],\n",
              "       [1.        , 0.45700379],\n",
              "       [1.        , 0.13791239],\n",
              "       [1.        , 0.14845863],\n",
              "       [1.        , 0.25554354],\n",
              "       [1.        , 0.73715522],\n",
              "       [1.        , 0.21227691],\n",
              "       [1.        , 0.55002704],\n",
              "       [1.        , 0.92942131],\n",
              "       [1.        , 0.57436452],\n",
              "       [1.        , 0.46403461],\n",
              "       [1.        , 0.06679286],\n",
              "       [1.        , 0.40643591],\n",
              "       [1.        , 0.49621417],\n",
              "       [1.        , 0.18956193],\n",
              "       [1.        , 0.2582477 ],\n",
              "       [1.        , 0.39048134],\n",
              "       [1.        , 0.1233099 ],\n",
              "       [1.        , 0.17820443],\n",
              "       [1.        , 0.25716604],\n",
              "       [1.        , 0.48458626],\n",
              "       [1.        , 0.203894  ],\n",
              "       [1.        , 0.26176312],\n",
              "       [1.        , 0.64332071],\n",
              "       [1.        , 0.3239589 ],\n",
              "       [1.        , 0.19253651],\n",
              "       [1.        , 0.28474851],\n",
              "       [1.        , 0.45808545],\n",
              "       [1.        , 0.26203353],\n",
              "       [1.        , 0.46727961],\n",
              "       [1.        , 0.57652785],\n",
              "       [1.        , 0.16955111],\n",
              "       [1.        , 0.43645214],\n",
              "       [1.        , 0.26338561],\n",
              "       [1.        , 0.6381828 ],\n",
              "       [1.        , 0.57652785],\n",
              "       [1.        , 0.43347756],\n",
              "       [1.        , 0.33342347],\n",
              "       [1.        , 0.21768524],\n",
              "       [1.        , 0.16170903],\n",
              "       [1.        , 0.15062196],\n",
              "       [1.        , 0.25608437],\n",
              "       [1.        , 0.61871282],\n",
              "       [1.        , 0.14575446],\n",
              "       [1.        , 0.79908058],\n",
              "       [1.        , 0.07787994],\n",
              "       [1.        , 0.21768524],\n",
              "       [1.        , 0.18658734],\n",
              "       [1.        , 0.21903732],\n",
              "       [1.        , 0.4407788 ],\n",
              "       [1.        , 0.36533261],\n",
              "       [1.        , 0.2055165 ],\n",
              "       [1.        , 0.49594375],\n",
              "       [1.        , 0.2747431 ],\n",
              "       [1.        , 0.10005408],\n",
              "       [1.        , 0.38128718],\n",
              "       [1.        , 0.81043807],\n",
              "       [1.        , 0.05354246],\n",
              "       [1.        , 0.095457  ],\n",
              "       [1.        , 0.38372093],\n",
              "       [1.        , 0.24607896],\n",
              "       [1.        , 0.49567334],\n",
              "       [1.        , 0.28015143],\n",
              "       [1.        , 0.22336398],\n",
              "       [1.        , 0.19307734],\n",
              "       [1.        , 1.        ],\n",
              "       [1.        , 0.38750676],\n",
              "       [1.        , 0.10600324],\n",
              "       [1.        , 0.04678204],\n",
              "       [1.        , 0.20308275],\n",
              "       [1.        , 0.15251487],\n",
              "       [1.        , 0.35451595],\n",
              "       [1.        , 0.35154137],\n",
              "       [1.        , 0.58004327],\n",
              "       [1.        , 0.32774473],\n",
              "       [1.        , 0.17793402],\n",
              "       [1.        , 0.194159  ],\n",
              "       [1.        , 0.42049757],\n",
              "       [1.        , 0.63115197],\n",
              "       [1.        , 0.49918875],\n",
              "       [1.        , 0.12790698],\n",
              "       [1.        , 0.25932937],\n",
              "       [1.        , 0.27555435],\n",
              "       [1.        , 0.43104381],\n",
              "       [1.        , 0.2614927 ],\n",
              "       [1.        , 0.62141698],\n",
              "       [1.        , 0.25743645],\n",
              "       [1.        , 0.21173607],\n",
              "       [1.        , 0.46268253],\n",
              "       [1.        , 0.30502975],\n",
              "       [1.        , 0.26960519],\n",
              "       [1.        , 0.19983775],\n",
              "       [1.        , 0.36911844],\n",
              "       [1.        , 0.08464035],\n",
              "       [1.        , 0.41022174],\n",
              "       [1.        , 0.07950243],\n",
              "       [1.        , 0.1216874 ],\n",
              "       [1.        , 0.40048675],\n",
              "       [1.        , 0.10167658],\n",
              "       [1.        , 0.34964846],\n",
              "       [1.        , 0.27771769],\n",
              "       [1.        , 0.37804218],\n",
              "       [1.        , 0.4653867 ],\n",
              "       [1.        , 0.28177393],\n",
              "       [1.        , 0.0805841 ],\n",
              "       [1.        , 0.2812331 ],\n",
              "       [1.        , 0.44862088],\n",
              "       [1.        , 0.13034072],\n",
              "       [1.        , 0.45267712],\n",
              "       [1.        , 0.1430503 ],\n",
              "       [1.        , 0.20362358],\n",
              "       [1.        , 0.21065441],\n",
              "       [1.        , 0.35884262],\n",
              "       [1.        , 0.3634397 ],\n",
              "       [1.        , 0.34775554],\n",
              "       [1.        , 0.39994592],\n",
              "       [1.        , 0.30854516],\n",
              "       [1.        , 0.40508383],\n",
              "       [1.        , 0.18550568],\n",
              "       [1.        , 0.13088156],\n",
              "       [1.        , 0.35154137],\n",
              "       [1.        , 0.36371011],\n",
              "       [1.        , 0.62439156],\n",
              "       [1.        , 0.54921579],\n",
              "       [1.        , 0.54948621],\n",
              "       [1.        , 0.42455381],\n",
              "       [1.        , 0.68712818],\n",
              "       [1.        , 0.26852353],\n",
              "       [1.        , 0.18199027],\n",
              "       [1.        , 0.57003786],\n",
              "       [1.        , 0.34072472],\n",
              "       [1.        , 0.18063818],\n",
              "       [1.        , 0.53758789],\n",
              "       [1.        , 0.20118983],\n",
              "       [1.        , 0.44456463],\n",
              "       [1.        , 0.13466739],\n",
              "       [1.        , 0.20091942],\n",
              "       [1.        , 0.08815576],\n",
              "       [1.        , 0.32531098],\n",
              "       [1.        , 0.09653867],\n",
              "       [1.        , 0.15927528],\n",
              "       [1.        , 0.18739859],\n",
              "       [1.        , 0.32477015],\n",
              "       [1.        , 0.18712818],\n",
              "       [1.        , 0.10086533],\n",
              "       [1.        , 0.08409951],\n",
              "       [1.        , 0.28637101],\n",
              "       [1.        , 0.34802596],\n",
              "       [1.        , 0.17982693],\n",
              "       [1.        , 0.49026501],\n",
              "       [1.        , 0.30611141],\n",
              "       [1.        , 0.23769605],\n",
              "       [1.        , 0.24148188],\n",
              "       [1.        , 0.83315306],\n",
              "       [1.        , 0.14845863],\n",
              "       [1.        , 0.94023797],\n",
              "       [1.        , 0.53866955],\n",
              "       [1.        , 0.48837209],\n",
              "       [1.        , 0.13115197],\n",
              "       [1.        , 0.17198486],\n",
              "       [1.        , 0.76581936],\n",
              "       [1.        , 0.71444024],\n",
              "       [1.        , 0.1825311 ],\n",
              "       [1.        , 0.20443483],\n",
              "       [1.        , 0.47593294],\n",
              "       [1.        , 0.33153056],\n",
              "       [1.        , 0.50594916],\n",
              "       [1.        , 0.17522985],\n",
              "       [1.        , 0.15981612],\n",
              "       [1.        , 0.16549486],\n",
              "       [1.        , 0.10302866],\n",
              "       [1.        , 0.26014062],\n",
              "       [1.        , 0.38588426],\n",
              "       [1.        , 0.48837209],\n",
              "       [1.        , 0.59789075],\n",
              "       [1.        , 0.4637642 ],\n",
              "       [1.        , 0.4440238 ],\n",
              "       [1.        , 0.82828556],\n",
              "       [1.        , 0.22174148],\n",
              "       [1.        , 0.18171985],\n",
              "       [1.        , 0.20118983],\n",
              "       [1.        , 0.36803678],\n",
              "       [1.        , 0.31043807],\n",
              "       [1.        , 0.09626825],\n",
              "       [1.        , 0.10681449],\n",
              "       [1.        , 0.6595457 ],\n",
              "       [1.        , 0.1857761 ],\n",
              "       [1.        , 0.13845322],\n",
              "       [1.        , 0.62844781],\n",
              "       [1.        , 0.46700919],\n",
              "       [1.        , 0.15711195],\n",
              "       [1.        , 0.44537588],\n",
              "       [1.        , 0.82801514],\n",
              "       [1.        , 0.44050838],\n",
              "       [1.        , 0.17793402],\n",
              "       [1.        , 0.47160627],\n",
              "       [1.        , 0.27393186],\n",
              "       [1.        , 0.56381828],\n",
              "       [1.        , 0.22796106],\n",
              "       [1.        , 0.40616549],\n",
              "       [1.        , 0.50973499],\n",
              "       [1.        , 0.4161709 ],\n",
              "       [1.        , 0.09004867],\n",
              "       [1.        , 0.34613304],\n",
              "       [1.        , 0.15359654],\n",
              "       [1.        , 0.08004327],\n",
              "       [1.        , 0.08977826],\n",
              "       [1.        , 0.35911303],\n",
              "       [1.        , 0.33802055],\n",
              "       [1.        , 0.08409951],\n",
              "       [1.        , 0.35262304],\n",
              "       [1.        , 0.74932396],\n",
              "       [1.        , 0.46484586],\n",
              "       [1.        , 0.35559762],\n",
              "       [1.        , 0.50513791],\n",
              "       [1.        , 0.52217415],\n",
              "       [1.        , 0.2055165 ],\n",
              "       [1.        , 0.62979989],\n",
              "       [1.        , 0.82720389],\n",
              "       [1.        , 0.3783126 ],\n",
              "       [1.        , 0.79853975],\n",
              "       [1.        , 0.22255273],\n",
              "       [1.        , 0.802596  ],\n",
              "       [1.        , 0.17009194],\n",
              "       [1.        , 0.16738778],\n",
              "       [1.        , 0.23012439],\n",
              "       [1.        , 0.49026501],\n",
              "       [1.        , 0.53244997],\n",
              "       [1.        , 0.21660357],\n",
              "       [1.        , 0.23282856],\n",
              "       [1.        , 0.14034613],\n",
              "       [1.        , 0.35749054],\n",
              "       [1.        , 0.42617631],\n",
              "       [1.        , 0.74040022],\n",
              "       [1.        , 0.28258518],\n",
              "       [1.        , 0.14926988],\n",
              "       [1.        , 0.15359654],\n",
              "       [1.        , 0.44645754],\n",
              "       [1.        , 0.26527853],\n",
              "       [1.        , 0.28555976],\n",
              "       [1.        , 0.64818821],\n",
              "       [1.        , 0.26068145],\n",
              "       [1.        , 0.36100595],\n",
              "       [1.        , 0.1168199 ],\n",
              "       [1.        , 0.13601947],\n",
              "       [1.        , 0.25094646],\n",
              "       [1.        , 0.52379665],\n",
              "       [1.        , 0.14872904],\n",
              "       [1.        , 0.38831801],\n",
              "       [1.        , 0.18171985],\n",
              "       [1.        , 0.22823148],\n",
              "       [1.        , 0.12709573],\n",
              "       [1.        , 0.30340725],\n",
              "       [1.        , 0.11249324],\n",
              "       [1.        , 0.64845863],\n",
              "       [1.        , 0.46241211],\n",
              "       [1.        , 0.34261763],\n",
              "       [1.        , 0.08031368],\n",
              "       [1.        , 0.0970795 ],\n",
              "       [1.        , 0.3174689 ],\n",
              "       [1.        , 0.07760952],\n",
              "       [1.        , 0.27852893],\n",
              "       [1.        , 0.50838291],\n",
              "       [1.        , 0.39724175]])"
            ]
          },
          "metadata": {},
          "execution_count": 85
        }
      ]
    },
    {
      "cell_type": "code",
      "execution_count": null,
      "metadata": {
        "colab": {
          "base_uri": "https://localhost:8080/"
        },
        "id": "l2S4Qc6iXPcn",
        "outputId": "f83d42f1-523c-4163-ae20-e4e2a996c7fc"
      },
      "outputs": [
        {
          "output_type": "execute_result",
          "data": {
            "text/plain": [
              "LinearRegression(fit_intercept=False)"
            ]
          },
          "metadata": {},
          "execution_count": 86
        }
      ],
      "source": [
        "# 2. Instanciar y entrenar acá.\n",
        "from sklearn.linear_model import LinearRegression\n",
        "model = LinearRegression(fit_intercept=False)\n",
        "model.fit(X_train_bias, y_train)"
      ]
    },
    {
      "cell_type": "code",
      "source": [
        "model.coef_"
      ],
      "metadata": {
        "colab": {
          "base_uri": "https://localhost:8080/"
        },
        "id": "UpLYILAUl3Jm",
        "outputId": "b1fac21e-3813-4e0c-bb37-309abc7ce9a9"
      },
      "execution_count": null,
      "outputs": [
        {
          "output_type": "execute_result",
          "data": {
            "text/plain": [
              "array([ 34.76519272, -35.3709119 ])"
            ]
          },
          "metadata": {},
          "execution_count": 87
        }
      ]
    },
    {
      "cell_type": "code",
      "source": [
        "plt.scatter(X_train_f, y_train, color=\"blue\", label=\"train\")\n",
        "plt.plot(X_train_f, model.predict(X_train_bias), color=\"green\", label=\"Linear Regression\")\n",
        "plt.legend()\n",
        "plt.show()"
      ],
      "metadata": {
        "colab": {
          "base_uri": "https://localhost:8080/",
          "height": 265
        },
        "id": "2TG5BlwSoLAg",
        "outputId": "735fe2d4-c540-423f-f46b-b05bb39f4a5d"
      },
      "execution_count": null,
      "outputs": [
        {
          "output_type": "display_data",
          "data": {
            "text/plain": [
              "<Figure size 432x288 with 1 Axes>"
            ],
            "image/png": "[encoded data removed]"
          },
          "metadata": {}
        }
      ]
    },
    {
      "cell_type": "code",
      "source": [
        "X_test_bias = np.stack((np.ones(X_test_f.shape[0]), X_test_f.reshape(-1,)), axis=1)  # add bias\n",
        "X_test_bias"
      ],
      "metadata": {
        "colab": {
          "base_uri": "https://localhost:8080/"
        },
        "id": "il77PLj3p9Ve",
        "outputId": "a7072361-31d2-4219-adb8-fb57b8e99135"
      },
      "execution_count": null,
      "outputs": [
        {
          "output_type": "execute_result",
          "data": {
            "text/plain": [
              "array([[1.        , 0.19848567],\n",
              "       [1.        , 0.25770687],\n",
              "       [1.        , 0.28393726],\n",
              "       [1.        , 0.5346133 ],\n",
              "       [1.        , 0.33369389],\n",
              "       [1.        , 0.22904273],\n",
              "       [1.        , 0.30962683],\n",
              "       [1.        , 0.25121687],\n",
              "       [1.        , 0.34180638],\n",
              "       [1.        , 0.28745268],\n",
              "       [1.        , 0.5575987 ],\n",
              "       [1.        , 0.57382369],\n",
              "       [1.        , 0.48107085],\n",
              "       [1.        , 0.7647377 ],\n",
              "       [1.        , 0.05191996],\n",
              "       [1.        , 0.12817739],\n",
              "       [1.        , 0.29042726],\n",
              "       [1.        , 0.11032991],\n",
              "       [1.        , 0.14413196],\n",
              "       [1.        , 0.23715522],\n",
              "       [1.        , 0.19469984],\n",
              "       [1.        , 0.32531098],\n",
              "       [1.        , 0.38101677],\n",
              "       [1.        , 0.19442942],\n",
              "       [1.        , 0.27609519],\n",
              "       [1.        , 0.36046512],\n",
              "       [1.        , 0.37398594],\n",
              "       [1.        , 0.42698756],\n",
              "       [1.        , 0.11384532],\n",
              "       [1.        , 0.4621417 ],\n",
              "       [1.        , 0.48756084],\n",
              "       [1.        , 0.39751217],\n",
              "       [1.        , 0.27447269],\n",
              "       [1.        , 0.33531639],\n",
              "       [1.        , 0.24445646],\n",
              "       [1.        , 0.39588967],\n",
              "       [1.        , 0.72390481],\n",
              "       [1.        , 0.2401298 ],\n",
              "       [1.        , 0.4770146 ],\n",
              "       [1.        , 0.65170362],\n",
              "       [1.        , 0.23201731],\n",
              "       [1.        , 0.38263926],\n",
              "       [1.        , 0.24580855],\n",
              "       [1.        , 0.49053542],\n",
              "       [1.        , 0.23391022],\n",
              "       [1.        , 0.24716063],\n",
              "       [1.        , 0.42833964],\n",
              "       [1.        , 0.40886966],\n",
              "       [1.        , 0.79204976],\n",
              "       [1.        , 0.25473229],\n",
              "       [1.        , 0.40616549],\n",
              "       [1.        , 0.47593294],\n",
              "       [1.        , 0.31503515],\n",
              "       [1.        , 0.09572742],\n",
              "       [1.        , 0.46809086],\n",
              "       [1.        , 0.42482423],\n",
              "       [1.        , 0.33612764],\n",
              "       [1.        , 0.34261763],\n",
              "       [1.        , 0.27339102],\n",
              "       [1.        , 0.46700919],\n",
              "       [1.        , 0.21065441],\n",
              "       [1.        , 0.34424013],\n",
              "       [1.        , 0.13142239],\n",
              "       [1.        , 0.10167658],\n",
              "       [1.        , 0.39913467],\n",
              "       [1.        , 0.1233099 ],\n",
              "       [1.        , 0.47944835],\n",
              "       [1.        , 0.55300162],\n",
              "       [1.        , 0.53488372],\n",
              "       [1.        , 0.29394267],\n",
              "       [1.        , 0.32368848],\n",
              "       [1.        , 0.2417523 ],\n",
              "       [1.        , 0.12628448],\n",
              "       [1.        , 0.12466198],\n",
              "       [1.        , 0.20930233],\n",
              "       [1.        , 0.8650622 ],\n",
              "       [1.        , 0.10681449],\n",
              "       [1.        , 0.29664684],\n",
              "       [1.        , 0.23823688],\n",
              "       [1.        , 0.38128718],\n",
              "       [1.        , 0.19929692],\n",
              "       [1.        , 0.39453759],\n",
              "       [1.        , 0.32801514],\n",
              "       [1.        , 0.11195241],\n",
              "       [1.        , 0.12520281],\n",
              "       [1.        , 0.16630611],\n",
              "       [1.        , 0.30665224],\n",
              "       [1.        , 0.4242834 ],\n",
              "       [1.        , 0.19983775],\n",
              "       [1.        , 0.50730124],\n",
              "       [1.        , 0.40021633],\n",
              "       [1.        , 0.62925906],\n",
              "       [1.        , 0.1776636 ],\n",
              "       [1.        , 0.16414278],\n",
              "       [1.        , 0.21308816],\n",
              "       [1.        , 0.24770146],\n",
              "       [1.        , 1.02677123],\n",
              "       [1.        , 0.15603029],\n",
              "       [1.        , 0.49026501],\n",
              "       [1.        , 0.35559762],\n",
              "       [1.        , 0.25365062],\n",
              "       [1.        , 0.33180097]])"
            ]
          },
          "metadata": {},
          "execution_count": 89
        }
      ]
    },
    {
      "cell_type": "markdown",
      "source": [
        "**3. Cálculo del error cuadrático medio**"
      ],
      "metadata": {
        "id": "M6qjRVLUl-9o"
      }
    },
    {
      "cell_type": "code",
      "execution_count": null,
      "metadata": {
        "id": "xHS0xc2aXPcn"
      },
      "outputs": [],
      "source": [
        "# 3. Predecir y evaluar acá.\n",
        "y_train_pred = model.predict(X_train_bias)\n",
        "y_test_pred = model.predict(X_test_bias)"
      ]
    },
    {
      "cell_type": "code",
      "source": [
        "from sklearn.metrics import mean_squared_error"
      ],
      "metadata": {
        "id": "-JKNdyrrrVVE"
      },
      "execution_count": null,
      "outputs": []
    },
    {
      "cell_type": "code",
      "source": [
        "train_error = mean_squared_error(y_train, y_train_pred)\n",
        "test_error = mean_squared_error(y_test, y_test_pred)\n",
        "print(f'Train error: {train_error:0.2}')\n",
        "print(f'Test error: {test_error:0.2}')"
      ],
      "metadata": {
        "colab": {
          "base_uri": "https://localhost:8080/"
        },
        "id": "6TKbuvwTrM9o",
        "outputId": "fc979dfa-ab3a-4c3d-96d0-8d7aa9d7a4c9"
      },
      "execution_count": null,
      "outputs": [
        {
          "output_type": "stream",
          "name": "stdout",
          "text": [
            "Train error: 3.7e+01\n",
            "Test error: 4.6e+01\n"
          ]
        }
      ]
    },
    {
      "cell_type": "markdown",
      "source": [
        "**4. Gráfico del modelo resultante**"
      ],
      "metadata": {
        "id": "3s4p7CA6mQvb"
      }
    },
    {
      "cell_type": "code",
      "execution_count": null,
      "metadata": {
        "colab": {
          "base_uri": "https://localhost:8080/",
          "height": 282
        },
        "id": "w8fV219hXPcn",
        "outputId": "31bf686d-62b4-45bd-ee4e-0ee19d173b57"
      },
      "outputs": [
        {
          "output_type": "display_data",
          "data": {
            "text/plain": [
              "<Figure size 432x288 with 1 Axes>"
            ],
            "image/png": "[encoded data removed]"
          },
          "metadata": {}
        }
      ],
      "source": [
        "# 4. Graficar acá. Ayuda:\n",
        "x_start = min(np.min(X_train_f), np.min(X_test_f))\n",
        "x_end = max(np.max(X_train_f), np.max(X_test_f))\n",
        "x = np.linspace(x_start, x_end, 200).reshape(-1, 1)\n",
        "plt.plot(X_test_f, model.predict(X_test_bias), color=\"tomato\", label=\"modelo\")\n",
        "plt.scatter(X_train_f, y_train, facecolor=\"dodgerblue\", edgecolor=\"k\", label=\"train\")\n",
        "plt.scatter(X_test_f, y_test, facecolor=\"white\", edgecolor=\"k\", label=\"test\")\n",
        "plt.title(feature)\n",
        "plt.legend()\n",
        "plt.show()"
      ]
    },
    {
      "cell_type": "raw",
      "metadata": {
        "id": "UWfPFi5lXPco"
      },
      "source": [
        "**5. Interpretación del resultado**\n",
        "\n",
        "Tanto en el gráfico, como en el cálculo del error cuadrático medio, podemos ver que el modelo se ajusta bastante bien tanto para el conjunto de entrenamiento, como para el de test, lo cuál nos indica que el atributo seleccionado fue bastante correcto."
      ]
    },
    {
      "cell_type": "markdown",
      "metadata": {
        "id": "QvdXHa4lXPco"
      },
      "source": [
        "## Ejercicio 4: Regresión Polinomial\n",
        "\n",
        "En este ejercicio deben entrenar regresiones polinomiales de diferente complejidad, siempre usando **scikit-learn**.\n",
        "\n",
        "Deben usar **el mismo atributo** seleccionado para el ejercicio anterior.\n",
        "\n",
        "1. Para varios grados de polinomio, haga lo siguiente:\n",
        "    1. Instancie y entrene una regresión polinomial.\n",
        "    2. Prediga y calcule error en entrenamiento y evaluación. Imprima los valores.\n",
        "    3. Guarde los errores en una lista.\n",
        "2. Grafique las curvas de error en términos del grado del polinomio.\n",
        "3. Interprete la curva, identificando el punto en que comienza a haber sobreajuste, si lo hay.\n",
        "4. Seleccione el modelo que mejor funcione, y grafique el modelo conjuntamente con los puntos.\n",
        "5. Interprete el resultado, haciendo algún comentario sobre las cualidades del modelo obtenido.\n",
        "\n",
        "**Observación:** Con algunos atributos se pueden obtener errores en test menores a 40 e incluso a 35."
      ]
    },
    {
      "cell_type": "markdown",
      "source": [
        "**1. Regresión polinomial para varios grados de polinomio**"
      ],
      "metadata": {
        "id": "Cjy-xJ6urccW"
      }
    },
    {
      "cell_type": "code",
      "source": [
        "from sklearn.linear_model import LinearRegression\n",
        "from sklearn.preprocessing import PolynomialFeatures\n",
        "from sklearn.pipeline import make_pipeline\n",
        "\n",
        "degree = 1\n",
        "pf = PolynomialFeatures(degree)\n",
        "lr = LinearRegression(fit_intercept=False)  # el bias ya esta como feature\n",
        "model = make_pipeline(pf, lr)"
      ],
      "metadata": {
        "id": "UV99XBHdnNm-"
      },
      "execution_count": null,
      "outputs": []
    },
    {
      "cell_type": "code",
      "source": [
        "model.fit(X_train_f, y_train)"
      ],
      "metadata": {
        "colab": {
          "base_uri": "https://localhost:8080/"
        },
        "id": "p6OGpVcCnlee",
        "outputId": "22cdbc47-990a-44f7-d08b-32c940d544e6"
      },
      "execution_count": null,
      "outputs": [
        {
          "output_type": "execute_result",
          "data": {
            "text/plain": [
              "Pipeline(steps=[('polynomialfeatures', PolynomialFeatures(degree=1)),\n",
              "                ('linearregression', LinearRegression(fit_intercept=False))])"
            ]
          },
          "metadata": {},
          "execution_count": 95
        }
      ]
    },
    {
      "cell_type": "code",
      "source": [
        "lr.coef_"
      ],
      "metadata": {
        "colab": {
          "base_uri": "https://localhost:8080/"
        },
        "id": "SmZI_Vq4ntFh",
        "outputId": "f3b92042-1ee5-4fbe-8d68-d4f190880ccd"
      },
      "execution_count": null,
      "outputs": [
        {
          "output_type": "execute_result",
          "data": {
            "text/plain": [
              "array([ 34.76519272, -35.3709119 ])"
            ]
          },
          "metadata": {},
          "execution_count": 96
        }
      ]
    },
    {
      "cell_type": "code",
      "source": [
        "y_train_pred = model.predict(X_train_f)\n",
        "y_test_pred = model.predict(X_test_f)"
      ],
      "metadata": {
        "id": "g-Dr4shmn_7d"
      },
      "execution_count": null,
      "outputs": []
    },
    {
      "cell_type": "code",
      "source": [
        "train_error = mean_squared_error(y_train, y_train_pred)\n",
        "test_error = mean_squared_error(y_test, y_test_pred)\n",
        "print(f'Train error: {train_error:0.2}')\n",
        "print(f'Test error: {test_error:0.2}')"
      ],
      "metadata": {
        "colab": {
          "base_uri": "https://localhost:8080/"
        },
        "id": "CcAXV5LsoE1t",
        "outputId": "7335f00e-32af-4c31-f8df-5f0ab55fb305"
      },
      "execution_count": null,
      "outputs": [
        {
          "output_type": "stream",
          "name": "stdout",
          "text": [
            "Train error: 3.7e+01\n",
            "Test error: 4.6e+01\n"
          ]
        }
      ]
    },
    {
      "cell_type": "code",
      "source": [
        "train_errors = []\n",
        "test_errors = []\n",
        "degrees = [0, 1, 2, 3, 4, 5, 6, 7, 8, 9,10,11,12,13,14,15,16,17,18,19,20,21,22,23,24,25,26]\n",
        "for degree in degrees:\n",
        "    # train:\n",
        "    pf = PolynomialFeatures(degree)\n",
        "    lr = LinearRegression(fit_intercept=False)\n",
        "    model = make_pipeline(pf, lr)\n",
        "    model.fit(X_train_f, y_train)\n",
        "    \n",
        "    # predict:\n",
        "    y_train_pred = model.predict(X_train_f)\n",
        "    y_test_pred = model.predict(X_test_f)\n",
        "    \n",
        "    # evaluate:\n",
        "    train_error = mean_squared_error(y_train, y_train_pred)\n",
        "    test_error = mean_squared_error(y_test, y_test_pred)\n",
        "    print(\"Error entrenamiento grado: \",degree,train_error)\n",
        "    print(\"Error de evaluación grado: \",degree,test_error)\n",
        "    train_errors.append(train_error)\n",
        "    test_errors.append(test_error)\n",
        "    print(\"Numeros de features\",len(lr.coef_))"
      ],
      "metadata": {
        "colab": {
          "base_uri": "https://localhost:8080/"
        },
        "id": "GPJ5Sl4IoXqh",
        "outputId": "f5163f37-1473-4fe9-b9d0-deaaeb1e4c4f"
      },
      "execution_count": null,
      "outputs": [
        {
          "output_type": "stream",
          "name": "stdout",
          "text": [
            "Error entrenamiento grado:  0 85.1437202235075\n",
            "Error de evaluación grado:  0 81.58231743908232\n",
            "Numeros de features 1\n",
            "Error entrenamiento grado:  1 36.52396640695966\n",
            "Error de evaluación grado:  1 46.336305360025925\n",
            "Numeros de features 2\n",
            "Error entrenamiento grado:  2 28.18917233416823\n",
            "Error de evaluación grado:  2 38.84686866170719\n",
            "Numeros de features 3\n",
            "Error entrenamiento grado:  3 26.784846496749747\n",
            "Error de evaluación grado:  3 37.22424226843227\n",
            "Numeros de features 4\n",
            "Error entrenamiento grado:  4 25.84943285886594\n",
            "Error de evaluación grado:  4 34.70486859814383\n",
            "Numeros de features 5\n",
            "Error entrenamiento grado:  5 25.034962537749568\n",
            "Error de evaluación grado:  5 34.83470820096572\n",
            "Numeros de features 6\n",
            "Error entrenamiento grado:  6 25.014028004243414\n",
            "Error de evaluación grado:  6 34.32620681482245\n",
            "Numeros de features 7\n",
            "Error entrenamiento grado:  7 25.0135349695989\n",
            "Error de evaluación grado:  7 34.26112872456835\n",
            "Numeros de features 8\n",
            "Error entrenamiento grado:  8 24.84582297502997\n",
            "Error de evaluación grado:  8 36.41558026235459\n",
            "Numeros de features 9\n",
            "Error entrenamiento grado:  9 24.825698082600073\n",
            "Error de evaluación grado:  9 34.872928549740095\n",
            "Numeros de features 10\n",
            "Error entrenamiento grado:  10 24.43102411472592\n",
            "Error de evaluación grado:  10 64.5869993889449\n",
            "Numeros de features 11\n",
            "Error entrenamiento grado:  11 24.426417787797583\n",
            "Error de evaluación grado:  11 53.743547014612645\n",
            "Numeros de features 12\n",
            "Error entrenamiento grado:  12 24.331720779641632\n",
            "Error de evaluación grado:  12 233.6350487589909\n",
            "Numeros de features 13\n",
            "Error entrenamiento grado:  13 24.33137495932147\n",
            "Error de evaluación grado:  13 259.65406079402226\n",
            "Numeros de features 14\n",
            "Error entrenamiento grado:  14 23.989045810949698\n",
            "Error de evaluación grado:  14 822.7918703425171\n",
            "Numeros de features 15\n",
            "Error entrenamiento grado:  15 23.74117055105585\n",
            "Error de evaluación grado:  15 1695.5339512033713\n",
            "Numeros de features 16\n",
            "Error entrenamiento grado:  16 23.516644554532377\n",
            "Error de evaluación grado:  16 9339.952117276467\n",
            "Numeros de features 17\n",
            "Error entrenamiento grado:  17 23.512459031734625\n",
            "Error de evaluación grado:  17 19756.713556456027\n",
            "Numeros de features 18\n",
            "Error entrenamiento grado:  18 23.49989647512865\n",
            "Error de evaluación grado:  18 89162.13300856929\n",
            "Numeros de features 19\n",
            "Error entrenamiento grado:  19 23.499470699685496\n",
            "Error de evaluación grado:  19 62866.68576703051\n",
            "Numeros de features 20\n",
            "Error entrenamiento grado:  20 23.500853671712743\n",
            "Error de evaluación grado:  20 101691.38424039386\n",
            "Numeros de features 21\n",
            "Error entrenamiento grado:  21 23.448650504069924\n",
            "Error de evaluación grado:  21 1473013.3990280172\n",
            "Numeros de features 22\n",
            "Error entrenamiento grado:  22 23.448483071152186\n",
            "Error de evaluación grado:  22 2077984.9387438581\n",
            "Numeros de features 23\n",
            "Error entrenamiento grado:  23 23.44842922209694\n",
            "Error de evaluación grado:  23 1831182.310034079\n",
            "Numeros de features 24\n",
            "Error entrenamiento grado:  24 23.448724682437533\n",
            "Error de evaluación grado:  24 2243715.5711908774\n",
            "Numeros de features 25\n",
            "Error entrenamiento grado:  25 23.44937608030258\n",
            "Error de evaluación grado:  25 2286593.200489825\n",
            "Numeros de features 26\n",
            "Error entrenamiento grado:  26 23.45011288497872\n",
            "Error de evaluación grado:  26 2109865.4220570032\n",
            "Numeros de features 27\n"
          ]
        }
      ]
    },
    {
      "cell_type": "markdown",
      "source": [
        "**2. Gráfico de curvas de error**"
      ],
      "metadata": {
        "id": "WvTKbDhfrXi8"
      }
    },
    {
      "cell_type": "code",
      "source": [
        "plt.plot(degrees[0:9], train_errors[0:9], color=\"blue\", label=\"train\")\n",
        "plt.plot(degrees[0:9], test_errors[0:9], color=\"red\", label=\"test\")\n",
        "plt.legend()\n",
        "plt.xlabel(\"degree\")\n",
        "plt.ylabel(\"error\")\n",
        "plt.show()"
      ],
      "metadata": {
        "colab": {
          "base_uri": "https://localhost:8080/",
          "height": 282
        },
        "id": "3SlIZSvBWQlh",
        "outputId": "ba4a9eaa-3bd1-4d0d-b278-c4994c9931e5"
      },
      "execution_count": null,
      "outputs": [
        {
          "output_type": "display_data",
          "data": {
            "text/plain": [
              "<Figure size 432x288 with 1 Axes>"
            ],
            "image/png": "[encoded data removed]"
          },
          "metadata": {}
        }
      ]
    },
    {
      "cell_type": "markdown",
      "source": [
        "**3. Interpretación de la curva**\n",
        "\n",
        "Según vimos en los cálculos de errores, para grados > 7 el modelo sobreajusta"
      ],
      "metadata": {
        "id": "iOaNYgJhVc6n"
      }
    },
    {
      "cell_type": "markdown",
      "source": [
        "**4. Selección del modelo que mejor funcione**"
      ],
      "metadata": {
        "id": "rg2d8B-wt6mA"
      }
    },
    {
      "cell_type": "code",
      "execution_count": null,
      "metadata": {
        "colab": {
          "base_uri": "https://localhost:8080/"
        },
        "id": "03TGu3AWXPcp",
        "outputId": "1209418a-af1c-45a0-8e95-00c17b3b64cb"
      },
      "outputs": [
        {
          "output_type": "execute_result",
          "data": {
            "text/plain": [
              "Pipeline(steps=[('polynomialfeatures', PolynomialFeatures(degree=4)),\n",
              "                ('linearregression', LinearRegression(fit_intercept=False))])"
            ]
          },
          "metadata": {},
          "execution_count": 117
        }
      ],
      "source": [
        "from sklearn.linear_model import LinearRegression\n",
        "from sklearn.preprocessing import PolynomialFeatures\n",
        "from sklearn.pipeline import make_pipeline\n",
        "\n",
        "degree = 4\n",
        "pf = PolynomialFeatures(degree)\n",
        "lr = LinearRegression(fit_intercept=False)  # el bias ya esta como feature\n",
        "model = make_pipeline(pf, lr)\n",
        "model.fit(X_train_f, y_train)"
      ]
    },
    {
      "cell_type": "code",
      "source": [
        "y_train_pred = model.predict(X_train_f)\n",
        "y_test_pred = model.predict(X_test_f)"
      ],
      "metadata": {
        "id": "sLPY-uV7q3w5"
      },
      "execution_count": null,
      "outputs": []
    },
    {
      "cell_type": "code",
      "source": [
        "y_test_pred.shape"
      ],
      "metadata": {
        "colab": {
          "base_uri": "https://localhost:8080/"
        },
        "id": "HaTnFmhCrs73",
        "outputId": "2fcc491e-f000-474e-d105-cb116c762e56"
      },
      "execution_count": null,
      "outputs": [
        {
          "output_type": "execute_result",
          "data": {
            "text/plain": [
              "(102,)"
            ]
          },
          "metadata": {},
          "execution_count": 119
        }
      ]
    },
    {
      "cell_type": "code",
      "source": [
        "lr.coef_"
      ],
      "metadata": {
        "colab": {
          "base_uri": "https://localhost:8080/"
        },
        "id": "WMAUvgTnrODz",
        "outputId": "9511e85e-d5c7-4e43-8dad-4b6eda7611c0"
      },
      "execution_count": null,
      "outputs": [
        {
          "output_type": "execute_result",
          "data": {
            "text/plain": [
              "array([  56.38297506, -247.96161402,  633.43553704, -766.06665881,\n",
              "        339.85257371])"
            ]
          },
          "metadata": {},
          "execution_count": 120
        }
      ]
    },
    {
      "cell_type": "code",
      "source": [
        "x_start = min(np.min(X_train_f), np.min(X_test_f))\n",
        "x_end = max(np.max(X_train_f), np.max(X_test_f))\n",
        "x = np.linspace(x_start, x_end, 200).reshape(-1, 1)\n",
        "plt.scatter(X_train_f, y_train, facecolor=\"dodgerblue\", edgecolor=\"k\", label=\"train\")\n",
        "plt.scatter(X_test_f, y_test, facecolor=\"white\", edgecolor=\"k\", label=\"test\")\n",
        "plt.plot(x, model.predict(x), color=\"tomato\", label=\"modelo\")\n",
        "plt.title(feature)\n",
        "plt.legend()\n",
        "plt.show()"
      ],
      "metadata": {
        "colab": {
          "base_uri": "https://localhost:8080/",
          "height": 282
        },
        "id": "QilfqFH_qmBk",
        "outputId": "c8b33610-482e-42ed-884e-170cb758a44d"
      },
      "execution_count": null,
      "outputs": [
        {
          "output_type": "display_data",
          "data": {
            "text/plain": [
              "<Figure size 432x288 with 1 Axes>"
            ],
            "image/png": "[encoded data removed]"
          },
          "metadata": {}
        }
      ]
    },
    {
      "cell_type": "markdown",
      "source": [
        "**5. Interpretación del resultado**\n",
        "\n",
        "Pudimos observar graficando para varios grados del polinomio, que no hay mucha diferencia entre elegir el de grado 7 y el de grado 4, por lo cúal creemos que para simplificar el modelo, lo mejor era quedarnos con el de grado 4"
      ],
      "metadata": {
        "id": "PZa4UYHm2Uj1"
      }
    },
    {
      "cell_type": "markdown",
      "metadata": {
        "id": "DlgheN2hXPcp"
      },
      "source": [
        "## Ejercicio 5: Regresión con más de un Atributo\n",
        "\n",
        "En este ejercicio deben entrenar regresiones que toman más de un atributo de entrada.\n",
        "\n",
        "1. Seleccione **dos o tres atributos** entre los más relevantes encontrados en el ejercicio 2.\n",
        "2. Repita el ejercicio anterior, pero usando los atributos seleccionados. No hace falta graficar el modelo final.\n",
        "3. Interprete el resultado y compare con los ejercicios anteriores. ¿Se obtuvieron mejores modelos? ¿Porqué?"
      ]
    },
    {
      "cell_type": "markdown",
      "source": [
        "**1. Selección de atributos más relevantes**\n",
        "\n",
        "Según lo encontrado en el ejercicio 2, seleccionamos los atributos RM: Promedio de habitaciones por vivienda y LSTAT: Proporción de gente de bajos recursos por población."
      ],
      "metadata": {
        "id": "yHUK1j5Pu-gE"
      }
    },
    {
      "cell_type": "markdown",
      "source": [
        "**2. Regresión polinomial con 2 atributos**"
      ],
      "metadata": {
        "id": "0mEVkxalvagC"
      }
    },
    {
      "cell_type": "code",
      "execution_count": null,
      "metadata": {
        "colab": {
          "base_uri": "https://localhost:8080/"
        },
        "id": "mIEBiIPyXPcp",
        "outputId": "5ffc4c65-9e5e-45a8-b248-dca9544ebc22"
      },
      "outputs": [
        {
          "output_type": "execute_result",
          "data": {
            "text/plain": [
              "((404, 2), (102, 2))"
            ]
          },
          "metadata": {},
          "execution_count": 122
        }
      ],
      "source": [
        "selector = (boston['feature_names'] == 'LSTAT') | (boston['feature_names'] == 'RM')\n",
        "X_train_fs = X_train[:, selector]\n",
        "X_test_fs = X_test[:, selector]\n",
        "X_train_fs.shape, X_test_fs.shape"
      ]
    },
    {
      "cell_type": "code",
      "source": [
        "transformer = MaxAbsScaler().fit(X_train_fs)\n",
        "X_train_fs = transformer.transform(X_train_fs)\n",
        "X_train_fs"
      ],
      "metadata": {
        "colab": {
          "base_uri": "https://localhost:8080/"
        },
        "id": "TDxaLZ5iH2iM",
        "outputId": "6681bd1d-46ce-478e-8762-711626640086"
      },
      "execution_count": null,
      "outputs": [
        {
          "output_type": "execute_result",
          "data": {
            "text/plain": [
              "array([[0.79168565, 0.26257436],\n",
              "       [0.67892938, 0.26717144],\n",
              "       [0.78553531, 0.30773391],\n",
              "       [0.68473804, 0.33612764],\n",
              "       [0.60410023, 0.7203894 ],\n",
              "       [0.56526196, 0.37858302],\n",
              "       [0.69703872, 0.24553813],\n",
              "       [0.73974943, 0.23445105],\n",
              "       [0.79077449, 0.12412115],\n",
              "       [0.63974943, 0.71389941],\n",
              "       [0.70296128, 0.51784749],\n",
              "       [0.66879271, 0.41563007],\n",
              "       [0.64134396, 0.80935641],\n",
              "       [0.69066059, 0.3964305 ],\n",
              "       [0.67596811, 0.91995673],\n",
              "       [0.72574032, 0.30070308],\n",
              "       [0.57357631, 0.69442942],\n",
              "       [0.9023918 , 0.0854516 ],\n",
              "       [0.76753986, 0.12682531],\n",
              "       [0.62870159, 0.66414278],\n",
              "       [0.638041  , 0.43807463],\n",
              "       [0.68553531, 0.34937804],\n",
              "       [0.68018223, 0.26960519],\n",
              "       [0.66958998, 0.4753921 ],\n",
              "       [0.84510251, 0.17495944],\n",
              "       [0.63838269, 0.49918875],\n",
              "       [0.67505695, 0.24932396],\n",
              "       [0.82767654, 0.16360195],\n",
              "       [0.73701595, 0.46295295],\n",
              "       [0.77243736, 0.697404  ],\n",
              "       [0.68143508, 0.48864251],\n",
              "       [0.6691344 , 0.39021092],\n",
              "       [0.77722096, 0.61492699],\n",
              "       [0.82562642, 0.13007031],\n",
              "       [0.69316629, 0.29421309],\n",
              "       [0.61537585, 0.7252569 ],\n",
              "       [0.76514806, 0.17739319],\n",
              "       [0.73280182, 0.78555976],\n",
              "       [0.72665148, 0.64061655],\n",
              "       [0.67494305, 0.36749594],\n",
              "       [0.79498861, 0.13628989],\n",
              "       [0.74157175, 0.14277988],\n",
              "       [0.71446469, 0.18334235],\n",
              "       [0.66207289, 0.40048675],\n",
              "       [0.81264237, 0.12033532],\n",
              "       [0.81400911, 0.14413196],\n",
              "       [0.70535308, 0.58193618],\n",
              "       [0.60102506, 0.83315306],\n",
              "       [0.75569476, 0.12276906],\n",
              "       [0.73234624, 0.14088697],\n",
              "       [0.57164009, 0.93050297],\n",
              "       [0.74464692, 0.20903191],\n",
              "       [0.7215262 , 0.45862628],\n",
              "       [0.72266515, 0.13439697],\n",
              "       [0.67892938, 0.48485668],\n",
              "       [0.69954442, 0.50621958],\n",
              "       [0.63712984, 0.35397512],\n",
              "       [0.63439636, 0.56841536],\n",
              "       [0.70068337, 0.71525149],\n",
              "       [0.69430524, 0.27744727],\n",
              "       [0.79362187, 0.12412115],\n",
              "       [0.84419134, 0.14196863],\n",
              "       [0.80911162, 0.21768524],\n",
              "       [0.6928246 , 0.34586263],\n",
              "       [0.688041  , 0.20822066],\n",
              "       [0.75387244, 0.19524067],\n",
              "       [0.72870159, 0.21065441],\n",
              "       [0.67050114, 0.44213088],\n",
              "       [0.75216401, 0.1184424 ],\n",
              "       [0.60410023, 0.67360736],\n",
              "       [0.7261959 , 0.39616009],\n",
              "       [0.7118451 , 0.14872904],\n",
              "       [0.66867882, 0.36073553],\n",
              "       [0.70876993, 0.58896701],\n",
              "       [0.63428246, 0.40832883],\n",
              "       [0.61389522, 0.57166036],\n",
              "       [0.79498861, 0.31530557],\n",
              "       [0.69646925, 0.2550027 ],\n",
              "       [0.71765376, 0.43888588],\n",
              "       [0.70637813, 0.39264467],\n",
              "       [0.66845103, 0.26500811],\n",
              "       [0.6667426 , 0.31476474],\n",
              "       [0.66469248, 0.50459708],\n",
              "       [0.73246014, 0.13737155],\n",
              "       [0.77015945, 0.25689562],\n",
              "       [0.75569476, 0.16197945],\n",
              "       [0.89191344, 0.12033532],\n",
              "       [0.73302961, 0.43861547],\n",
              "       [0.7356492 , 0.64845863],\n",
              "       [0.83451025, 0.3042185 ],\n",
              "       [0.80626424, 0.15413737],\n",
              "       [0.64977221, 0.31097891],\n",
              "       [0.85079727, 0.0854516 ],\n",
              "       [0.70740319, 0.16792861],\n",
              "       [0.75056948, 0.25689562],\n",
              "       [0.65592255, 0.38209843],\n",
              "       [0.69726651, 0.16170903],\n",
              "       [0.87072893, 0.08139535],\n",
              "       [0.73371298, 0.22065982],\n",
              "       [0.6214123 , 0.31611682],\n",
              "       [0.85649203, 0.19632234],\n",
              "       [0.8284738 , 0.17901568],\n",
              "       [0.69817768, 0.75175771],\n",
              "       [0.69088838, 0.17387777],\n",
              "       [0.69726651, 0.38128718],\n",
              "       [0.73883827, 0.1595457 ],\n",
              "       [0.71890661, 0.28610059],\n",
              "       [0.66936219, 0.32828556],\n",
              "       [0.75512528, 0.17658194],\n",
              "       [0.75523918, 0.25797729],\n",
              "       [0.73587699, 0.48810168],\n",
              "       [0.65911162, 0.27690644],\n",
              "       [0.68599089, 0.31692807],\n",
              "       [0.72665148, 0.65116279],\n",
              "       [0.70318907, 0.65332612],\n",
              "       [0.77232346, 0.20740941],\n",
              "       [0.70535308, 0.41022174],\n",
              "       [0.81833713, 0.10897783],\n",
              "       [0.58712984, 0.54299621],\n",
              "       [0.70205011, 0.58031368],\n",
              "       [0.68223235, 0.39670092],\n",
              "       [0.64100228, 0.45024337],\n",
              "       [0.66924829, 0.25013521],\n",
              "       [0.72835991, 0.35884262],\n",
              "       [0.65068337, 0.61114116],\n",
              "       [0.71230068, 0.28258518],\n",
              "       [0.7381549 , 0.17198486],\n",
              "       [0.69897494, 0.3634397 ],\n",
              "       [0.68063781, 0.51406165],\n",
              "       [0.71366743, 0.21362899],\n",
              "       [0.6856492 , 0.27339102],\n",
              "       [0.79236902, 0.095457  ],\n",
              "       [0.70341686, 0.3255814 ],\n",
              "       [0.71970387, 0.30016225],\n",
              "       [0.72961276, 0.52785289],\n",
              "       [0.66856492, 0.38858843],\n",
              "       [0.82072893, 0.21903732],\n",
              "       [0.67346241, 0.43834505],\n",
              "       [1.        , 0.1430503 ],\n",
              "       [0.74214123, 0.17198486],\n",
              "       [0.74179954, 0.27825852],\n",
              "       [0.67676538, 0.45700379],\n",
              "       [0.79168565, 0.13791239],\n",
              "       [0.74931663, 0.14845863],\n",
              "       [0.69977221, 0.25554354],\n",
              "       [0.63929385, 0.73715522],\n",
              "       [0.80728929, 0.21227691],\n",
              "       [0.69430524, 0.55002704],\n",
              "       [0.52710706, 0.92942131],\n",
              "       [0.7738041 , 0.57436452],\n",
              "       [0.63382688, 0.46403461],\n",
              "       [0.94954442, 0.06679286],\n",
              "       [0.66309795, 0.40643591],\n",
              "       [0.64931663, 0.49621417],\n",
              "       [0.80421412, 0.18956193],\n",
              "       [0.69123007, 0.2582477 ],\n",
              "       [0.67949886, 0.39048134],\n",
              "       [0.79441913, 0.1233099 ],\n",
              "       [0.71070615, 0.17820443],\n",
              "       [0.7477221 , 0.25716604],\n",
              "       [0.67779043, 0.48458626],\n",
              "       [0.71127563, 0.203894  ],\n",
              "       [0.67574032, 0.26176312],\n",
              "       [0.6667426 , 0.64332071],\n",
              "       [0.76013667, 0.3239589 ],\n",
              "       [0.40558087, 0.19253651],\n",
              "       [0.68496583, 0.28474851],\n",
              "       [0.676082  , 0.45808545],\n",
              "       [0.75649203, 0.26203353],\n",
              "       [0.68872437, 0.46727961],\n",
              "       [0.68371298, 0.57652785],\n",
              "       [0.76059226, 0.16955111],\n",
              "       [0.60045558, 0.43645214],\n",
              "       [0.68166287, 0.26338561],\n",
              "       [0.63052392, 0.6381828 ],\n",
              "       [0.66708428, 0.57652785],\n",
              "       [0.66138952, 0.43347756],\n",
              "       [0.7023918 , 0.33342347],\n",
              "       [0.64498861, 0.21768524],\n",
              "       [0.73917995, 0.16170903],\n",
              "       [0.676082  , 0.15062196],\n",
              "       [0.70410023, 0.25608437],\n",
              "       [0.64088838, 0.61871282],\n",
              "       [0.81833713, 0.14575446],\n",
              "       [0.61640091, 0.79908058],\n",
              "       [0.91503417, 0.07787994],\n",
              "       [0.76605923, 0.21768524],\n",
              "       [0.77927107, 0.18658734],\n",
              "       [0.66947608, 0.21903732],\n",
              "       [0.67471526, 0.4407788 ],\n",
              "       [0.67061503, 0.36533261],\n",
              "       [0.75375854, 0.2055165 ],\n",
              "       [0.64202733, 0.49594375],\n",
              "       [0.76480638, 0.2747431 ],\n",
              "       [0.90307517, 0.10005408],\n",
              "       [0.64328018, 0.38128718],\n",
              "       [0.66651481, 0.81043807],\n",
              "       [0.8       , 0.05354246],\n",
              "       [0.76970387, 0.095457  ],\n",
              "       [0.711959  , 0.38372093],\n",
              "       [0.6690205 , 0.24607896],\n",
              "       [0.67357631, 0.49567334],\n",
              "       [0.72687927, 0.28015143],\n",
              "       [0.67756264, 0.22336398],\n",
              "       [0.7071754 , 0.19307734],\n",
              "       [0.51469248, 1.        ],\n",
              "       [0.68644647, 0.38750676],\n",
              "       [0.87539863, 0.10600324],\n",
              "       [0.85296128, 0.04678204],\n",
              "       [0.7023918 , 0.20308275],\n",
              "       [0.79453303, 0.15251487],\n",
              "       [0.7094533 , 0.35451595],\n",
              "       [0.70558087, 0.35154137],\n",
              "       [0.63747153, 0.58004327],\n",
              "       [0.57084282, 0.32774473],\n",
              "       [0.67596811, 0.17793402],\n",
              "       [0.76264237, 0.194159  ],\n",
              "       [0.7094533 , 0.42049757],\n",
              "       [0.47129841, 0.63115197],\n",
              "       [0.70056948, 0.49918875],\n",
              "       [0.838041  , 0.12790698],\n",
              "       [0.82038724, 0.25932937],\n",
              "       [0.61070615, 0.27555435],\n",
              "       [0.65854214, 0.43104381],\n",
              "       [0.75091116, 0.2614927 ],\n",
              "       [0.64726651, 0.62141698],\n",
              "       [0.73268793, 0.25743645],\n",
              "       [0.68690205, 0.21173607],\n",
              "       [0.65068337, 0.46268253],\n",
              "       [0.6522779 , 0.30502975],\n",
              "       [0.66833713, 0.26960519],\n",
              "       [0.74589977, 0.19983775],\n",
              "       [0.67425968, 0.36911844],\n",
              "       [0.91571754, 0.08464035],\n",
              "       [0.7070615 , 0.41022174],\n",
              "       [0.79703872, 0.07950243],\n",
              "       [0.76628702, 0.1216874 ],\n",
              "       [0.68177677, 0.40048675],\n",
              "       [0.89066059, 0.10167658],\n",
              "       [0.7095672 , 0.34964846],\n",
              "       [0.69931663, 0.27771769],\n",
              "       [0.63826879, 0.37804218],\n",
              "       [0.79362187, 0.4653867 ],\n",
              "       [0.65626424, 0.28177393],\n",
              "       [0.78063781, 0.0805841 ],\n",
              "       [0.68439636, 0.2812331 ],\n",
              "       [0.70831435, 0.44862088],\n",
              "       [0.81492027, 0.13034072],\n",
              "       [0.84202733, 0.45267712],\n",
              "       [0.76617312, 0.1430503 ],\n",
              "       [0.78006834, 0.20362358],\n",
              "       [0.83519362, 0.21065441],\n",
              "       [0.68439636, 0.35884262],\n",
              "       [0.83291572, 0.3634397 ],\n",
              "       [0.68507973, 0.34775554],\n",
              "       [0.79886105, 0.39994592],\n",
              "       [0.66526196, 0.30854516],\n",
              "       [0.69635535, 0.40508383],\n",
              "       [0.6998861 , 0.18550568],\n",
              "       [0.77107062, 0.13088156],\n",
              "       [0.66697039, 0.35154137],\n",
              "       [0.67915718, 0.36371011],\n",
              "       [0.60865604, 0.62439156],\n",
              "       [0.72938497, 0.54921579],\n",
              "       [0.72243736, 0.54948621],\n",
              "       [0.68405467, 0.42455381],\n",
              "       [0.66697039, 0.68712818],\n",
              "       [0.78348519, 0.26852353],\n",
              "       [0.73530752, 0.18199027],\n",
              "       [0.74544419, 0.57003786],\n",
              "       [0.73553531, 0.34072472],\n",
              "       [0.77243736, 0.18063818],\n",
              "       [0.66207289, 0.53758789],\n",
              "       [0.70740319, 0.20118983],\n",
              "       [0.711959  , 0.44456463],\n",
              "       [0.74886105, 0.13466739],\n",
              "       [0.70182232, 0.20091942],\n",
              "       [0.56605923, 0.08815576],\n",
              "       [0.73177677, 0.32531098],\n",
              "       [0.89066059, 0.09653867],\n",
              "       [0.79031891, 0.15927528],\n",
              "       [0.82414579, 0.18739859],\n",
              "       [0.65      , 0.32477015],\n",
              "       [0.78132118, 0.18712818],\n",
              "       [0.76116173, 0.10086533],\n",
              "       [0.84897494, 0.08409951],\n",
              "       [0.71173121, 0.28637101],\n",
              "       [0.7094533 , 0.34802596],\n",
              "       [0.75455581, 0.17982693],\n",
              "       [0.67494305, 0.49026501],\n",
              "       [0.72915718, 0.30611141],\n",
              "       [0.67027335, 0.23769605],\n",
              "       [0.75353075, 0.24148188],\n",
              "       [0.61492027, 0.83315306],\n",
              "       [0.82471526, 0.14845863],\n",
              "       [0.55876993, 0.94023797],\n",
              "       [0.65455581, 0.53866955],\n",
              "       [0.65865604, 0.48837209],\n",
              "       [0.77585421, 0.13115197],\n",
              "       [0.81583144, 0.17198486],\n",
              "       [0.59066059, 0.76581936],\n",
              "       [0.62277904, 0.71444024],\n",
              "       [0.71867882, 0.1825311 ],\n",
              "       [0.88439636, 0.20443483],\n",
              "       [0.70751708, 0.47593294],\n",
              "       [0.72050114, 0.33153056],\n",
              "       [0.76628702, 0.50594916],\n",
              "       [0.7738041 , 0.17522985],\n",
              "       [0.95649203, 0.15981612],\n",
              "       [0.73063781, 0.16549486],\n",
              "       [0.89441913, 0.10302866],\n",
              "       [0.72767654, 0.26014062],\n",
              "       [0.68382688, 0.38588426],\n",
              "       [0.62118451, 0.48837209],\n",
              "       [0.66264237, 0.59789075],\n",
              "       [0.67790433, 0.4637642 ],\n",
              "       [0.76321185, 0.4440238 ],\n",
              "       [0.49749431, 0.82828556],\n",
              "       [0.72949886, 0.22174148],\n",
              "       [0.71776765, 0.18171985],\n",
              "       [0.94498861, 0.20118983],\n",
              "       [0.65273349, 0.36803678],\n",
              "       [0.69783599, 0.31043807],\n",
              "       [0.81412301, 0.09626825],\n",
              "       [0.77630979, 0.10681449],\n",
              "       [0.6715262 , 0.6595457 ],\n",
              "       [0.7261959 , 0.1857761 ],\n",
              "       [0.99134396, 0.13845322],\n",
              "       [0.75728929, 0.62844781],\n",
              "       [0.71719818, 0.46700919],\n",
              "       [0.70261959, 0.15711195],\n",
              "       [0.66640091, 0.44537588],\n",
              "       [0.55580866, 0.82801514],\n",
              "       [0.7023918 , 0.44050838],\n",
              "       [0.87596811, 0.17793402],\n",
              "       [0.76867882, 0.47160627],\n",
              "       [0.67949886, 0.27393186],\n",
              "       [0.61389522, 0.56381828],\n",
              "       [0.68314351, 0.22796106],\n",
              "       [0.73018223, 0.40616549],\n",
              "       [0.73861048, 0.50973499],\n",
              "       [0.73246014, 0.4161709 ],\n",
              "       [0.78143508, 0.09004867],\n",
              "       [0.73974943, 0.34613304],\n",
              "       [0.74749431, 0.15359654],\n",
              "       [0.79908884, 0.08004327],\n",
              "       [0.95387244, 0.08977826],\n",
              "       [0.61548975, 0.35911303],\n",
              "       [0.63701595, 0.33802055],\n",
              "       [0.8667426 , 0.08409951],\n",
              "       [0.69157175, 0.35262304],\n",
              "       [0.67767654, 0.74932396],\n",
              "       [0.64840547, 0.46484586],\n",
              "       [0.70079727, 0.35559762],\n",
              "       [0.73849658, 0.50513791],\n",
              "       [0.7308656 , 0.52217415],\n",
              "       [0.71924829, 0.2055165 ],\n",
              "       [0.69510251, 0.62979989],\n",
              "       [0.62107062, 0.82720389],\n",
              "       [0.71947608, 0.3783126 ],\n",
              "       [0.56104784, 0.79853975],\n",
              "       [0.73496583, 0.22255273],\n",
              "       [0.58006834, 0.802596  ],\n",
              "       [0.71924829, 0.17009194],\n",
              "       [0.84464692, 0.16738778],\n",
              "       [0.69009112, 0.23012439],\n",
              "       [0.70444191, 0.49026501],\n",
              "       [0.77824601, 0.53244997],\n",
              "       [0.68758542, 0.21660357],\n",
              "       [0.8094533 , 0.23282856],\n",
              "       [0.72813212, 0.14034613],\n",
              "       [0.7071754 , 0.35749054],\n",
              "       [0.67517084, 0.42617631],\n",
              "       [0.62995444, 0.74040022],\n",
              "       [0.6332574 , 0.28258518],\n",
              "       [0.69077449, 0.14926988],\n",
              "       [0.71936219, 0.15359654],\n",
              "       [0.63769932, 0.44645754],\n",
              "       [0.69487472, 0.26527853],\n",
              "       [0.6714123 , 0.28555976],\n",
              "       [0.6166287 , 0.64818821],\n",
              "       [0.66731207, 0.26068145],\n",
              "       [0.68143508, 0.36100595],\n",
              "       [0.75113895, 0.1168199 ],\n",
              "       [0.77448747, 0.13601947],\n",
              "       [0.74794989, 0.25094646],\n",
              "       [0.72949886, 0.52379665],\n",
              "       [0.79806378, 0.14872904],\n",
              "       [0.73314351, 0.38831801],\n",
              "       [0.7308656 , 0.18171985],\n",
              "       [0.69715262, 0.22823148],\n",
              "       [0.75512528, 0.12709573],\n",
              "       [0.72414579, 0.30340725],\n",
              "       [0.77744875, 0.11249324],\n",
              "       [0.61548975, 0.64845863],\n",
              "       [0.68382688, 0.46241211],\n",
              "       [0.69612756, 0.34261763],\n",
              "       [0.89692483, 0.08031368],\n",
              "       [0.7332574 , 0.0970795 ],\n",
              "       [0.6501139 , 0.3174689 ],\n",
              "       [0.81753986, 0.07760952],\n",
              "       [0.6857631 , 0.27852893],\n",
              "       [0.68678815, 0.50838291],\n",
              "       [0.63462415, 0.39724175]])"
            ]
          },
          "metadata": {},
          "execution_count": 123
        }
      ]
    },
    {
      "cell_type": "code",
      "source": [
        "X_test_fs = transformer.transform(X_test_fs)\n",
        "X_test_fs"
      ],
      "metadata": {
        "colab": {
          "base_uri": "https://localhost:8080/"
        },
        "id": "n0uWzQp4Hzhx",
        "outputId": "ce6dd4b0-6a27-46cf-f136-469bab2f7f92"
      },
      "execution_count": null,
      "outputs": [
        {
          "output_type": "execute_result",
          "data": {
            "text/plain": [
              "array([[0.72129841, 0.19848567],\n",
              "       [0.70797267, 0.25770687],\n",
              "       [0.72585421, 0.28393726],\n",
              "       [0.60922551, 0.5346133 ],\n",
              "       [0.70979499, 0.33369389],\n",
              "       [0.66446469, 0.22904273],\n",
              "       [0.67255125, 0.30962683],\n",
              "       [0.67972665, 0.25121687],\n",
              "       [0.56640091, 0.34180638],\n",
              "       [0.72949886, 0.28745268],\n",
              "       [0.6784738 , 0.5575987 ],\n",
              "       [0.75820046, 0.57382369],\n",
              "       [0.72220957, 0.48107085],\n",
              "       [0.52984055, 0.7647377 ],\n",
              "       [0.88861048, 0.05191996],\n",
              "       [0.80193622, 0.12817739],\n",
              "       [0.71093394, 0.29042726],\n",
              "       [0.82995444, 0.11032991],\n",
              "       [0.74555809, 0.14413196],\n",
              "       [0.66628702, 0.23715522],\n",
              "       [0.73189066, 0.19469984],\n",
              "       [0.66970387, 0.32531098],\n",
              "       [0.69783599, 0.38101677],\n",
              "       [0.73826879, 0.19442942],\n",
              "       [0.64715262, 0.27609519],\n",
              "       [0.43997722, 0.36046512],\n",
              "       [0.67938497, 0.37398594],\n",
              "       [0.65022779, 0.42698756],\n",
              "       [0.9190205 , 0.11384532],\n",
              "       [0.69384966, 0.4621417 ],\n",
              "       [0.70444191, 0.48756084],\n",
              "       [0.69259681, 0.39751217],\n",
              "       [0.70911162, 0.27447269],\n",
              "       [0.69419134, 0.33531639],\n",
              "       [0.73075171, 0.24445646],\n",
              "       [0.66093394, 0.39588967],\n",
              "       [0.68189066, 0.72390481],\n",
              "       [0.6691344 , 0.2401298 ],\n",
              "       [0.72300683, 0.4770146 ],\n",
              "       [0.70182232, 0.65170362],\n",
              "       [0.69783599, 0.23201731],\n",
              "       [0.65899772, 0.38263926],\n",
              "       [0.69977221, 0.24580855],\n",
              "       [0.61810934, 0.49053542],\n",
              "       [0.74487472, 0.23391022],\n",
              "       [0.73132118, 0.24716063],\n",
              "       [0.6594533 , 0.42833964],\n",
              "       [0.69806378, 0.40886966],\n",
              "       [0.55842825, 0.79204976],\n",
              "       [0.76617312, 0.25473229],\n",
              "       [0.70068337, 0.40616549],\n",
              "       [0.64578588, 0.47593294],\n",
              "       [0.68120729, 0.31503515],\n",
              "       [0.94066059, 0.09572742],\n",
              "       [0.65569476, 0.46809086],\n",
              "       [0.67072893, 0.42482423],\n",
              "       [0.6498861 , 0.33612764],\n",
              "       [0.67175399, 0.34261763],\n",
              "       [0.65569476, 0.27339102],\n",
              "       [0.67881549, 0.46700919],\n",
              "       [0.67015945, 0.21065441],\n",
              "       [0.69624146, 0.34424013],\n",
              "       [0.7952164 , 0.13142239],\n",
              "       [0.74624146, 0.10167658],\n",
              "       [0.65068337, 0.39913467],\n",
              "       [0.74669704, 0.1233099 ],\n",
              "       [0.75797267, 0.47944835],\n",
              "       [0.72630979, 0.55300162],\n",
              "       [0.78041002, 0.53488372],\n",
              "       [0.67095672, 0.29394267],\n",
              "       [0.71514806, 0.32368848],\n",
              "       [0.71594533, 0.2417523 ],\n",
              "       [0.71640091, 0.12628448],\n",
              "       [0.78291572, 0.12466198],\n",
              "       [0.76879271, 0.20930233],\n",
              "       [0.56947608, 0.8650622 ],\n",
              "       [0.93929385, 0.10681449],\n",
              "       [0.72050114, 0.29664684],\n",
              "       [0.7308656 , 0.23823688],\n",
              "       [0.65990888, 0.38128718],\n",
              "       [0.7523918 , 0.19929692],\n",
              "       [0.73507973, 0.39453759],\n",
              "       [0.63872437, 0.32801514],\n",
              "       [0.94145786, 0.11195241],\n",
              "       [0.99373576, 0.12520281],\n",
              "       [0.71890661, 0.16630611],\n",
              "       [0.70193622, 0.30665224],\n",
              "       [0.66480638, 0.4242834 ],\n",
              "       [0.74145786, 0.19983775],\n",
              "       [0.68917995, 0.50730124],\n",
              "       [0.67061503, 0.40021633],\n",
              "       [0.75501139, 0.62925906],\n",
              "       [0.69567198, 0.1776636 ],\n",
              "       [0.78257403, 0.16414278],\n",
              "       [0.68678815, 0.21308816],\n",
              "       [0.69567198, 0.24770146],\n",
              "       [0.47129841, 1.02677123],\n",
              "       [0.72699317, 0.15603029],\n",
              "       [0.74316629, 0.49026501],\n",
              "       [0.65387244, 0.35559762],\n",
              "       [0.726082  , 0.25365062],\n",
              "       [0.73735763, 0.33180097]])"
            ]
          },
          "metadata": {},
          "execution_count": 124
        }
      ]
    },
    {
      "cell_type": "code",
      "source": [
        "y_train"
      ],
      "metadata": {
        "colab": {
          "base_uri": "https://localhost:8080/"
        },
        "id": "f6rDJ8Om5qZZ",
        "outputId": "72e91ce6-6afc-4984-f4de-6542ba78bcc9"
      },
      "execution_count": null,
      "outputs": [
        {
          "output_type": "execute_result",
          "data": {
            "text/plain": [
              "array([26.7, 21.7, 22. , 22.9, 10.4, 21.9, 20.6, 26.4, 41.3, 17.2, 27.1,\n",
              "       20.4, 16.5, 24.4,  8.4, 23. ,  9.7, 50. , 30.5, 12.3, 19.4, 21.2,\n",
              "       20.3, 18.8, 33.4, 18.5, 19.6, 33.2, 13.1,  7.5, 13.6, 17.4,  8.4,\n",
              "       35.4, 24. , 13.4, 26.2,  7.2, 13.1, 24.5, 37.2, 25. , 24.1, 16.6,\n",
              "       32.9, 36.2, 11. ,  7.2, 22.8, 28.7, 14.4, 24.4, 18.1, 22.5, 20.5,\n",
              "       15.2, 17.4, 13.6,  8.7, 18.2, 35.4, 31.7, 33. , 22.2, 20.4, 23.9,\n",
              "       25. , 12.7, 29.1, 12. , 17.7, 27. , 20.6, 10.2, 17.5, 19.7, 29.8,\n",
              "       20.5, 14.9, 10.9, 19.5, 22.7, 19.5, 24.6, 25. , 24.5, 50. , 14.3,\n",
              "       11.8, 31. , 28.7, 16.2, 43.5, 25. , 22. , 19.9, 22.1, 46. , 22.9,\n",
              "       20.2, 43.1, 34.6, 13.8, 24.3, 21.5, 24.4, 21.2, 23.8, 26.6, 25.1,\n",
              "        9.6, 19.4, 19.4,  9.5, 14. , 26.5, 13.8, 34.7, 16.3, 21.7, 17.5,\n",
              "       15.6, 20.9, 21.7, 12.7, 18.5, 23.7, 19.3, 12.7, 21.6, 23.2, 29.6,\n",
              "       21.2, 23.8, 17.1, 22. , 36.5, 18.8, 21.9, 23.1, 20.2, 17.4, 37. ,\n",
              "       24.1, 36.2, 15.7, 32.2, 13.5, 17.9, 13.3, 11.7, 41.7, 18.4, 13.1,\n",
              "       25. , 21.2, 16. , 34.9, 25.2, 24.8, 21.5, 23.4, 18.9, 10.8, 21. ,\n",
              "       27.5, 17.5, 13.5, 28.7, 14.8, 19.1, 28.6, 13.1, 19. , 11.3, 13.3,\n",
              "       22.4, 20.1, 18.2, 22.9, 20.6, 25. , 12.8, 34.9, 23.7, 50. , 29. ,\n",
              "       30.1, 22. , 15.6, 23.3, 30.1, 14.3, 22.8, 50. , 20.8,  6.3, 34.9,\n",
              "       32.4, 19.9, 20.3, 17.8, 23.1, 20.4, 23.2,  7. , 16.8, 46.7, 50. ,\n",
              "       22.9, 23.9, 21.4, 21.7, 15.4, 15.3, 23.1, 23.9, 19.4, 11.9, 17.8,\n",
              "       31.5, 33.8, 20.8, 19.8, 22.4,  5. , 24.5, 19.4, 15.1, 18.2, 19.3,\n",
              "       27.1, 20.7, 37.6, 11.7, 33.4, 30.1, 21.4, 45.4, 20.1, 20.8, 26.4,\n",
              "       10.4, 21.8, 32. , 21.7, 18.4, 37.9, 17.8, 28. , 28.2, 36. , 18.9,\n",
              "       15. , 22.5, 30.7, 20. , 19.1, 23.3, 26.6, 21.1, 19.7, 20. , 12.1,\n",
              "        7.2, 14.2, 17.3, 27.5, 22.2, 10.9, 19.2, 32. , 14.5, 24.7, 12.6,\n",
              "       24. , 24.1, 50. , 16.1, 43.8, 26.6, 36.1, 21.8, 29.9, 50. , 44. ,\n",
              "       20.6, 19.6, 28.4, 19.1, 22.3, 20.9, 28.4, 14.4, 32.7, 13.8,  8.5,\n",
              "       22.5, 35.1, 31.6, 17.8, 15.6, 20.7, 39.8, 17.8, 19.6, 14.9, 22. ,\n",
              "       48.8, 25. , 48.5, 23.9, 20.3, 15.2, 10.5, 19. , 16.4,  8.8, 22. ,\n",
              "       24.8, 50. , 19.3, 22.7, 37.3, 31.6,  8.3, 23.1, 50. , 13.9, 16.1,\n",
              "       25.3, 19.5, 10.2, 19.9, 35.2, 13.4, 24.7, 11.5, 23.4, 16.7, 15.4,\n",
              "       18. , 28.5, 18.4, 32.5, 50. , 50. , 19.6, 17.6, 42.3, 14.5, 13.2,\n",
              "       16.2, 29.6, 16.7, 13. , 22.3, 13.4,  5. , 19.5, 14.6, 22. ,  8.1,\n",
              "       24.6, 33.2, 20.6, 14.1, 14.1, 21.1, 30.3, 23.7, 21.4, 18.3,  8.5,\n",
              "       22.8, 22.8, 22.2, 13.9, 25. , 18.5,  7. , 22.6, 20.1, 30.8, 31.1,\n",
              "       23.8, 12.5, 23.6, 23.2, 24.2, 22.2, 27.9, 22.2, 33.1, 19.3, 18.9,\n",
              "       22.6, 50. , 24.8, 18.5, 36.4, 19.2, 16.6, 23.1])"
            ]
          },
          "metadata": {},
          "execution_count": 125
        }
      ]
    },
    {
      "cell_type": "code",
      "execution_count": null,
      "metadata": {
        "colab": {
          "base_uri": "https://localhost:8080/"
        },
        "id": "Pmfltql1XPcp",
        "outputId": "70b14990-39ee-49b4-dea4-b7a38819f7a1"
      },
      "outputs": [
        {
          "output_type": "stream",
          "name": "stdout",
          "text": [
            "Error entrenamiento grado:  1 28.79027648205344\n",
            "Error de evaluación grado:  1 37.383105638779945\n",
            "Numeros de features 3\n",
            "Error entrenamiento grado:  2 18.659453833139377\n",
            "Error de evaluación grado:  2 28.14497186312376\n",
            "Numeros de features 6\n",
            "Error entrenamiento grado:  3 17.07775402237082\n",
            "Error de evaluación grado:  3 28.567166435306397\n",
            "Numeros de features 10\n",
            "Error entrenamiento grado:  4 14.188503706315291\n",
            "Error de evaluación grado:  4 33.999233377181255\n",
            "Numeros de features 15\n",
            "Error entrenamiento grado:  5 12.905613730164282\n",
            "Error de evaluación grado:  5 34.201408214894684\n",
            "Numeros de features 21\n",
            "Error entrenamiento grado:  6 12.352154607275335\n",
            "Error de evaluación grado:  6 34.92256440318865\n",
            "Numeros de features 28\n",
            "Error entrenamiento grado:  7 12.120405616492532\n",
            "Error de evaluación grado:  7 41.246207793661235\n",
            "Numeros de features 36\n",
            "Error entrenamiento grado:  8 11.747882495800898\n",
            "Error de evaluación grado:  8 2096.790215142545\n",
            "Numeros de features 45\n",
            "Error entrenamiento grado:  9 11.031267903949878\n",
            "Error de evaluación grado:  9 5346.8174737915115\n",
            "Numeros de features 55\n",
            "Error entrenamiento grado:  10 10.097482977117936\n",
            "Error de evaluación grado:  10 11814427.755353376\n",
            "Numeros de features 66\n"
          ]
        }
      ],
      "source": [
        "# 2. Resolver acá.\n",
        "train_errors = []\n",
        "test_errors = []\n",
        "degrees = [ 1, 2, 3, 4, 5, 6, 7, 8, 9,10]\n",
        "for degree in degrees:\n",
        "    # train:\n",
        "    pf = PolynomialFeatures(degree)\n",
        "    lr = LinearRegression(fit_intercept=False)\n",
        "    model = make_pipeline(pf, lr)\n",
        "    model.fit(X_train_fs, y_train)\n",
        "    \n",
        "    # predict:\n",
        "    y_train_pred = model.predict(X_train_fs)\n",
        "    y_test_pred = model.predict(X_test_fs)\n",
        "    \n",
        "    # evaluate:\n",
        "    train_error = mean_squared_error(y_train, y_train_pred)\n",
        "    test_error = mean_squared_error(y_test, y_test_pred)\n",
        "    print(\"Error entrenamiento grado: \",degree,train_error)\n",
        "    print(\"Error de evaluación grado: \",degree,test_error)\n",
        "    train_errors.append(train_error)\n",
        "    test_errors.append(test_error)\n",
        "    print(\"Numeros de features\",len(lr.coef_))"
      ]
    },
    {
      "cell_type": "code",
      "source": [
        "plt.plot(degrees, train_errors, color=\"blue\", label=\"train\")\n",
        "plt.plot(degrees, test_errors, color=\"red\", label=\"test\")\n",
        "plt.legend()\n",
        "plt.xlabel(\"degree\")\n",
        "plt.ylabel(\"error\")\n",
        "plt.show()"
      ],
      "metadata": {
        "colab": {
          "base_uri": "https://localhost:8080/",
          "height": 293
        },
        "id": "-QqOnN7KHBze",
        "outputId": "e45aaed2-fdbb-453f-bb99-e15b2dfb72fa"
      },
      "execution_count": null,
      "outputs": [
        {
          "output_type": "display_data",
          "data": {
            "text/plain": [
              "<Figure size 432x288 with 1 Axes>"
            ],
            "image/png": "[encoded data removed]"
          },
          "metadata": {}
        }
      ]
    },
    {
      "cell_type": "code",
      "source": [
        "plt.plot(degrees[0:4], train_errors[0:4], color=\"blue\", label=\"train\")\n",
        "plt.plot(degrees[0:4], test_errors[0:4], color=\"red\", label=\"test\")\n",
        "plt.legend()\n",
        "plt.xlabel(\"degree\")\n",
        "plt.ylabel(\"error\")\n",
        "plt.show()"
      ],
      "metadata": {
        "colab": {
          "base_uri": "https://localhost:8080/",
          "height": 282
        },
        "id": "FxwBADEiYzXG",
        "outputId": "21c0d006-110b-4f38-cbac-1ac6aa84da97"
      },
      "execution_count": null,
      "outputs": [
        {
          "output_type": "display_data",
          "data": {
            "text/plain": [
              "<Figure size 432x288 with 1 Axes>"
            ],
            "image/png": "[encoded data removed]"
          },
          "metadata": {}
        }
      ]
    },
    {
      "cell_type": "markdown",
      "source": [
        "**3. Interpretación del resultado**\n",
        "\n",
        "Según podemos ver el error es mucho más chico tanto para test como para train. Con esto concluimos que usar las variables que vimos eran más relevantes, ayudan a performar mejor el modelo"
      ],
      "metadata": {
        "id": "Amc3HD6ZYbUP"
      }
    },
    {
      "cell_type": "markdown",
      "metadata": {
        "id": "R7NeUpLpXPcq"
      },
      "source": [
        "## Más ejercicios (opcionales)\n",
        "\n",
        "### Ejercicio 6: A Todo Feature\n",
        "\n",
        "Entrene y evalúe regresiones pero utilizando todos los atributos de entrada (va a andar mucho más lento). Estudie los resultados.\n",
        "\n",
        "### Ejercicio 7: Regularización\n",
        "\n",
        "Entrene y evalúe regresiones con regularización \"ridge\". Deberá probar distintos valores de \"alpha\" (fuerza de la regularización). ¿Mejoran los resultados?\n"
      ]
    }
  ],
  "metadata": {
    "kernelspec": {
      "display_name": "Python 3",
      "language": "python",
      "name": "python3"
    },
    "language_info": {
      "codemirror_mode": {
        "name": "ipython",
        "version": 3
      },
      "file_extension": ".py",
      "mimetype": "text/x-python",
      "name": "python",
      "nbconvert_exporter": "python",
      "pygments_lexer": "ipython3",
      "version": "3.8.10"
    },
    "colab": {
      "provenance": [],
      "collapsed_sections": [
        "R7NeUpLpXPcq"
      ]
    }
  },
  "nbformat": 4,
  "nbformat_minor": 0
}