{
  "nbformat": 4,
  "nbformat_minor": 0,
  "metadata": {
    "colab": {
      "name": "Grupo 18 - Entregable - Parte 2.ipynb",
      "provenance": [],
      "collapsed_sections": [],
      "include_colab_link": true
    },
    "kernelspec": {
      "name": "python3",
      "display_name": "Python 3"
    }
  },
  "cells": [
    {
      "cell_type": "markdown",
      "metadata": {
        "id": "view-in-github",
        "colab_type": "text"
      },
      "source": [
        "<a href=\"https://colab.research.google.com/github/agustinperalta/Diplodatos-g18/blob/main/Grupo_18_Entregable_Parte_2.ipynb\" target=\"_parent\"><img src=\"https://colab.research.google.com/assets/colab-badge.svg\" alt=\"Open In Colab\"/></a>"
      ]
    },
    {
      "cell_type": "markdown",
      "metadata": {
        "id": "LYvAOR2VzHmW"
      },
      "source": [
        "\n",
        "**Diplomatura en Ciencia de Datos, Aprendizaje Automático y sus Aplicaciones**\n",
        "\n",
        "**Edición 2022**\n",
        "\n",
        "---\n",
        "\n",
        "### *Grupo N°:* 18\n",
        "\n",
        "### *Integrantes:*\n",
        "#### Parada Larrosa, Francisco\n",
        "#### Peralta, Agustín\n",
        "####  Porcel, Carolina\n",
        "####  Quiros, Agustina\n",
        "\n",
        "\n",
        "## Trabajo práctico entregable - Parte 2"
      ]
    },
    {
      "cell_type": "markdown",
      "source": [
        "Fuente test welch: https://stats.stackexchange.com/questions/475289/confidence-interval-for-2-sample-t-test-with-scipy"
      ],
      "metadata": {
        "id": "NRjHAbHLcuIY"
      }
    },
    {
      "cell_type": "code",
      "metadata": {
        "id": "Xwdfo7z20TUK"
      },
      "source": [
        "import io\n",
        "import matplotlib\n",
        "import matplotlib.pyplot as plt\n",
        "import numpy\n",
        "import pandas as pd\n",
        "import seaborn as sns\n",
        "from scipy import stats \n",
        "import statsmodels.stats.api as sms\n",
        "\n",
        "sns.set_context('talk')"
      ],
      "execution_count": null,
      "outputs": []
    },
    {
      "cell_type": "markdown",
      "metadata": {
        "id": "XY2Hl-Ma07Nn"
      },
      "source": [
        "## Lectura del dataset"
      ]
    },
    {
      "cell_type": "code",
      "metadata": {
        "id": "Vviv_sqXdR5W"
      },
      "source": [
        "url = 'https://cs.famaf.unc.edu.ar/~mteruel/datasets/diplodatos/sysarmy_survey_2020_processed.csv'\n",
        "df = pd.read_csv(url)"
      ],
      "execution_count": null,
      "outputs": []
    },
    {
      "cell_type": "code",
      "metadata": {
        "id": "gckNHXXLktJ4",
        "colab": {
          "base_uri": "https://localhost:8080/",
          "height": 324
        },
        "outputId": "fe87e55e-eece-4b1b-f5b0-7f547feec893"
      },
      "source": [
        "df[:3]"
      ],
      "execution_count": null,
      "outputs": [
        {
          "output_type": "execute_result",
          "data": {
            "text/plain": [
              "  profile_gender  profile_age work_country                    work_province  \\\n",
              "0          Mujer           26    Argentina  Ciudad Autónoma de Buenos Aires   \n",
              "1         Hombre           29    Argentina                       Corrientes   \n",
              "2          Mujer           22    Argentina  Ciudad Autónoma de Buenos Aires   \n",
              "\n",
              "   profile_years_experience  work_years_in_company  \\\n",
              "0                       3.0                    3.0   \n",
              "1                       5.0                    2.0   \n",
              "2                       2.0                    0.0   \n",
              "\n",
              "   work_years_in_current_position  work_people_in_charge_of  \\\n",
              "0                             3.0                         0   \n",
              "1                             2.0                         4   \n",
              "2                             0.0                         0   \n",
              "\n",
              "  profile_studies_level profile_studies_level_state  ...  \\\n",
              "0         Universitario                    En curso  ...   \n",
              "1         Universitario                    En curso  ...   \n",
              "2            Secundario                  Completado  ...   \n",
              "\n",
              "  work_has_violence_situations profile_sexual_orientation  \\\n",
              "0         En mi trabajo actual                 Homosexual   \n",
              "1                        Jamás               Heterosexual   \n",
              "2       En un trabajo anterior           Bisexual o queer   \n",
              "\n",
              "  profile_has_disabilities profile_has_disabilities_hiring_difficulties  \\\n",
              "0                      NaN                                          NaN   \n",
              "1                   Visual                                           No   \n",
              "2                      NaN                                           No   \n",
              "\n",
              "  company_employee_number                          company_main_activity  \\\n",
              "0                501-1000  Servicios / Consultoría de Software / Digital   \n",
              "1                 201-500                               Otras industrias   \n",
              "2               2001-5000                               Otras industrias   \n",
              "\n",
              "  company_recommended company_diversity_policies  \\\n",
              "0                   7                          2   \n",
              "1                   8                          9   \n",
              "2                   6                          9   \n",
              "\n",
              "                              company_extra_benefits  \\\n",
              "0  Capacitaciones y/o cursos, Comidas pagas / sub...   \n",
              "1  Horarios flexibles, Stock options / RSUs, Viát...   \n",
              "2  Clases de gimnasia online, Comidas pagas / sub...   \n",
              "\n",
              "  company_best_companies_city  \n",
              "0                         NaN  \n",
              "1                         NaN  \n",
              "2                         NaN  \n",
              "\n",
              "[3 rows x 48 columns]"
            ],
            "text/html": [
              "\n",
              "  <div id=\"df-d5f2ff09-575d-4b77-8560-d23e52106a69\">\n",
              "    <div class=\"colab-df-container\">\n",
              "      <div>\n",
              "<style scoped>\n",
              "    .dataframe tbody tr th:only-of-type {\n",
              "        vertical-align: middle;\n",
              "    }\n",
              "\n",
              "    .dataframe tbody tr th {\n",
              "        vertical-align: top;\n",
              "    }\n",
              "\n",
              "    .dataframe thead th {\n",
              "        text-align: right;\n",
              "    }\n",
              "</style>\n",
              "<table border=\"1\" class=\"dataframe\">\n",
              "  <thead>\n",
              "    <tr style=\"text-align: right;\">\n",
              "      <th></th>\n",
              "      <th>profile_gender</th>\n",
              "      <th>profile_age</th>\n",
              "      <th>work_country</th>\n",
              "      <th>work_province</th>\n",
              "      <th>profile_years_experience</th>\n",
              "      <th>work_years_in_company</th>\n",
              "      <th>work_years_in_current_position</th>\n",
              "      <th>work_people_in_charge_of</th>\n",
              "      <th>profile_studies_level</th>\n",
              "      <th>profile_studies_level_state</th>\n",
              "      <th>...</th>\n",
              "      <th>work_has_violence_situations</th>\n",
              "      <th>profile_sexual_orientation</th>\n",
              "      <th>profile_has_disabilities</th>\n",
              "      <th>profile_has_disabilities_hiring_difficulties</th>\n",
              "      <th>company_employee_number</th>\n",
              "      <th>company_main_activity</th>\n",
              "      <th>company_recommended</th>\n",
              "      <th>company_diversity_policies</th>\n",
              "      <th>company_extra_benefits</th>\n",
              "      <th>company_best_companies_city</th>\n",
              "    </tr>\n",
              "  </thead>\n",
              "  <tbody>\n",
              "    <tr>\n",
              "      <th>0</th>\n",
              "      <td>Mujer</td>\n",
              "      <td>26</td>\n",
              "      <td>Argentina</td>\n",
              "      <td>Ciudad Autónoma de Buenos Aires</td>\n",
              "      <td>3.0</td>\n",
              "      <td>3.0</td>\n",
              "      <td>3.0</td>\n",
              "      <td>0</td>\n",
              "      <td>Universitario</td>\n",
              "      <td>En curso</td>\n",
              "      <td>...</td>\n",
              "      <td>En mi trabajo actual</td>\n",
              "      <td>Homosexual</td>\n",
              "      <td>NaN</td>\n",
              "      <td>NaN</td>\n",
              "      <td>501-1000</td>\n",
              "      <td>Servicios / Consultoría de Software / Digital</td>\n",
              "      <td>7</td>\n",
              "      <td>2</td>\n",
              "      <td>Capacitaciones y/o cursos, Comidas pagas / sub...</td>\n",
              "      <td>NaN</td>\n",
              "    </tr>\n",
              "    <tr>\n",
              "      <th>1</th>\n",
              "      <td>Hombre</td>\n",
              "      <td>29</td>\n",
              "      <td>Argentina</td>\n",
              "      <td>Corrientes</td>\n",
              "      <td>5.0</td>\n",
              "      <td>2.0</td>\n",
              "      <td>2.0</td>\n",
              "      <td>4</td>\n",
              "      <td>Universitario</td>\n",
              "      <td>En curso</td>\n",
              "      <td>...</td>\n",
              "      <td>Jamás</td>\n",
              "      <td>Heterosexual</td>\n",
              "      <td>Visual</td>\n",
              "      <td>No</td>\n",
              "      <td>201-500</td>\n",
              "      <td>Otras industrias</td>\n",
              "      <td>8</td>\n",
              "      <td>9</td>\n",
              "      <td>Horarios flexibles, Stock options / RSUs, Viát...</td>\n",
              "      <td>NaN</td>\n",
              "    </tr>\n",
              "    <tr>\n",
              "      <th>2</th>\n",
              "      <td>Mujer</td>\n",
              "      <td>22</td>\n",
              "      <td>Argentina</td>\n",
              "      <td>Ciudad Autónoma de Buenos Aires</td>\n",
              "      <td>2.0</td>\n",
              "      <td>0.0</td>\n",
              "      <td>0.0</td>\n",
              "      <td>0</td>\n",
              "      <td>Secundario</td>\n",
              "      <td>Completado</td>\n",
              "      <td>...</td>\n",
              "      <td>En un trabajo anterior</td>\n",
              "      <td>Bisexual o queer</td>\n",
              "      <td>NaN</td>\n",
              "      <td>No</td>\n",
              "      <td>2001-5000</td>\n",
              "      <td>Otras industrias</td>\n",
              "      <td>6</td>\n",
              "      <td>9</td>\n",
              "      <td>Clases de gimnasia online, Comidas pagas / sub...</td>\n",
              "      <td>NaN</td>\n",
              "    </tr>\n",
              "  </tbody>\n",
              "</table>\n",
              "<p>3 rows × 48 columns</p>\n",
              "</div>\n",
              "      <button class=\"colab-df-convert\" onclick=\"convertToInteractive('df-d5f2ff09-575d-4b77-8560-d23e52106a69')\"\n",
              "              title=\"Convert this dataframe to an interactive table.\"\n",
              "              style=\"display:none;\">\n",
              "        \n",
              "  <svg xmlns=\"http://www.w3.org/2000/svg\" height=\"24px\"viewBox=\"0 0 24 24\"\n",
              "       width=\"24px\">\n",
              "    <path d=\"M0 0h24v24H0V0z\" fill=\"none\"/>\n",
              "    <path d=\"M18.56 5.44l.94 2.06.94-2.06 2.06-.94-2.06-.94-.94-2.06-.94 2.06-2.06.94zm-11 1L8.5 8.5l.94-2.06 2.06-.94-2.06-.94L8.5 2.5l-.94 2.06-2.06.94zm10 10l.94 2.06.94-2.06 2.06-.94-2.06-.94-.94-2.06-.94 2.06-2.06.94z\"/><path d=\"M17.41 7.96l-1.37-1.37c-.4-.4-.92-.59-1.43-.59-.52 0-1.04.2-1.43.59L10.3 9.45l-7.72 7.72c-.78.78-.78 2.05 0 2.83L4 21.41c.39.39.9.59 1.41.59.51 0 1.02-.2 1.41-.59l7.78-7.78 2.81-2.81c.8-.78.8-2.07 0-2.86zM5.41 20L4 18.59l7.72-7.72 1.47 1.35L5.41 20z\"/>\n",
              "  </svg>\n",
              "      </button>\n",
              "      \n",
              "  <style>\n",
              "    .colab-df-container {\n",
              "      display:flex;\n",
              "      flex-wrap:wrap;\n",
              "      gap: 12px;\n",
              "    }\n",
              "\n",
              "    .colab-df-convert {\n",
              "      background-color: #E8F0FE;\n",
              "      border: none;\n",
              "      border-radius: 50%;\n",
              "      cursor: pointer;\n",
              "      display: none;\n",
              "      fill: #1967D2;\n",
              "      height: 32px;\n",
              "      padding: 0 0 0 0;\n",
              "      width: 32px;\n",
              "    }\n",
              "\n",
              "    .colab-df-convert:hover {\n",
              "      background-color: #E2EBFA;\n",
              "      box-shadow: 0px 1px 2px rgba(60, 64, 67, 0.3), 0px 1px 3px 1px rgba(60, 64, 67, 0.15);\n",
              "      fill: #174EA6;\n",
              "    }\n",
              "\n",
              "    [theme=dark] .colab-df-convert {\n",
              "      background-color: #3B4455;\n",
              "      fill: #D2E3FC;\n",
              "    }\n",
              "\n",
              "    [theme=dark] .colab-df-convert:hover {\n",
              "      background-color: #434B5C;\n",
              "      box-shadow: 0px 1px 3px 1px rgba(0, 0, 0, 0.15);\n",
              "      filter: drop-shadow(0px 1px 2px rgba(0, 0, 0, 0.3));\n",
              "      fill: #FFFFFF;\n",
              "    }\n",
              "  </style>\n",
              "\n",
              "      <script>\n",
              "        const buttonEl =\n",
              "          document.querySelector('#df-d5f2ff09-575d-4b77-8560-d23e52106a69 button.colab-df-convert');\n",
              "        buttonEl.style.display =\n",
              "          google.colab.kernel.accessAllowed ? 'block' : 'none';\n",
              "\n",
              "        async function convertToInteractive(key) {\n",
              "          const element = document.querySelector('#df-d5f2ff09-575d-4b77-8560-d23e52106a69');\n",
              "          const dataTable =\n",
              "            await google.colab.kernel.invokeFunction('convertToInteractive',\n",
              "                                                     [key], {});\n",
              "          if (!dataTable) return;\n",
              "\n",
              "          const docLinkHtml = 'Like what you see? Visit the ' +\n",
              "            '<a target=\"_blank\" href=https://colab.research.google.com/notebooks/data_table.ipynb>data table notebook</a>'\n",
              "            + ' to learn more about interactive tables.';\n",
              "          element.innerHTML = '';\n",
              "          dataTable['output_type'] = 'display_data';\n",
              "          await google.colab.output.renderOutput(dataTable, element);\n",
              "          const docLink = document.createElement('div');\n",
              "          docLink.innerHTML = docLinkHtml;\n",
              "          element.appendChild(docLink);\n",
              "        }\n",
              "      </script>\n",
              "    </div>\n",
              "  </div>\n",
              "  "
            ]
          },
          "metadata": {},
          "execution_count": 57
        }
      ]
    },
    {
      "cell_type": "code",
      "metadata": {
        "id": "2lzmzK1NuPNT",
        "colab": {
          "base_uri": "https://localhost:8080/",
          "height": 206
        },
        "outputId": "83bbc193-5b99-43ed-b8d5-cfaaf11df5e5"
      },
      "source": [
        "df[['profile_gender', 'salary_monthly_NETO']].groupby('profile_gender').describe()"
      ],
      "execution_count": null,
      "outputs": [
        {
          "output_type": "execute_result",
          "data": {
            "text/plain": [
              "               salary_monthly_NETO                                     \\\n",
              "                             count          mean            std   min   \n",
              "profile_gender                                                          \n",
              "Hombre                      4944.0  98836.063558  102159.664237   1.0   \n",
              "Mujer                        908.0  73501.414465   56256.880181   2.0   \n",
              "Otros                         31.0  95441.354839   88635.674358  40.0   \n",
              "\n",
              "                                                       \n",
              "                    25%      50%       75%        max  \n",
              "profile_gender                                         \n",
              "Hombre          53285.0  80000.0  110000.0  2080000.0  \n",
              "Mujer           43818.0  65000.0   92000.0   800000.0  \n",
              "Otros           39500.0  74000.0  117500.0   380000.0  "
            ],
            "text/html": [
              "\n",
              "  <div id=\"df-f2e1743c-5779-4ffb-9516-adaf208c71a3\">\n",
              "    <div class=\"colab-df-container\">\n",
              "      <div>\n",
              "<style scoped>\n",
              "    .dataframe tbody tr th:only-of-type {\n",
              "        vertical-align: middle;\n",
              "    }\n",
              "\n",
              "    .dataframe tbody tr th {\n",
              "        vertical-align: top;\n",
              "    }\n",
              "\n",
              "    .dataframe thead tr th {\n",
              "        text-align: left;\n",
              "    }\n",
              "\n",
              "    .dataframe thead tr:last-of-type th {\n",
              "        text-align: right;\n",
              "    }\n",
              "</style>\n",
              "<table border=\"1\" class=\"dataframe\">\n",
              "  <thead>\n",
              "    <tr>\n",
              "      <th></th>\n",
              "      <th colspan=\"8\" halign=\"left\">salary_monthly_NETO</th>\n",
              "    </tr>\n",
              "    <tr>\n",
              "      <th></th>\n",
              "      <th>count</th>\n",
              "      <th>mean</th>\n",
              "      <th>std</th>\n",
              "      <th>min</th>\n",
              "      <th>25%</th>\n",
              "      <th>50%</th>\n",
              "      <th>75%</th>\n",
              "      <th>max</th>\n",
              "    </tr>\n",
              "    <tr>\n",
              "      <th>profile_gender</th>\n",
              "      <th></th>\n",
              "      <th></th>\n",
              "      <th></th>\n",
              "      <th></th>\n",
              "      <th></th>\n",
              "      <th></th>\n",
              "      <th></th>\n",
              "      <th></th>\n",
              "    </tr>\n",
              "  </thead>\n",
              "  <tbody>\n",
              "    <tr>\n",
              "      <th>Hombre</th>\n",
              "      <td>4944.0</td>\n",
              "      <td>98836.063558</td>\n",
              "      <td>102159.664237</td>\n",
              "      <td>1.0</td>\n",
              "      <td>53285.0</td>\n",
              "      <td>80000.0</td>\n",
              "      <td>110000.0</td>\n",
              "      <td>2080000.0</td>\n",
              "    </tr>\n",
              "    <tr>\n",
              "      <th>Mujer</th>\n",
              "      <td>908.0</td>\n",
              "      <td>73501.414465</td>\n",
              "      <td>56256.880181</td>\n",
              "      <td>2.0</td>\n",
              "      <td>43818.0</td>\n",
              "      <td>65000.0</td>\n",
              "      <td>92000.0</td>\n",
              "      <td>800000.0</td>\n",
              "    </tr>\n",
              "    <tr>\n",
              "      <th>Otros</th>\n",
              "      <td>31.0</td>\n",
              "      <td>95441.354839</td>\n",
              "      <td>88635.674358</td>\n",
              "      <td>40.0</td>\n",
              "      <td>39500.0</td>\n",
              "      <td>74000.0</td>\n",
              "      <td>117500.0</td>\n",
              "      <td>380000.0</td>\n",
              "    </tr>\n",
              "  </tbody>\n",
              "</table>\n",
              "</div>\n",
              "      <button class=\"colab-df-convert\" onclick=\"convertToInteractive('df-f2e1743c-5779-4ffb-9516-adaf208c71a3')\"\n",
              "              title=\"Convert this dataframe to an interactive table.\"\n",
              "              style=\"display:none;\">\n",
              "        \n",
              "  <svg xmlns=\"http://www.w3.org/2000/svg\" height=\"24px\"viewBox=\"0 0 24 24\"\n",
              "       width=\"24px\">\n",
              "    <path d=\"M0 0h24v24H0V0z\" fill=\"none\"/>\n",
              "    <path d=\"M18.56 5.44l.94 2.06.94-2.06 2.06-.94-2.06-.94-.94-2.06-.94 2.06-2.06.94zm-11 1L8.5 8.5l.94-2.06 2.06-.94-2.06-.94L8.5 2.5l-.94 2.06-2.06.94zm10 10l.94 2.06.94-2.06 2.06-.94-2.06-.94-.94-2.06-.94 2.06-2.06.94z\"/><path d=\"M17.41 7.96l-1.37-1.37c-.4-.4-.92-.59-1.43-.59-.52 0-1.04.2-1.43.59L10.3 9.45l-7.72 7.72c-.78.78-.78 2.05 0 2.83L4 21.41c.39.39.9.59 1.41.59.51 0 1.02-.2 1.41-.59l7.78-7.78 2.81-2.81c.8-.78.8-2.07 0-2.86zM5.41 20L4 18.59l7.72-7.72 1.47 1.35L5.41 20z\"/>\n",
              "  </svg>\n",
              "      </button>\n",
              "      \n",
              "  <style>\n",
              "    .colab-df-container {\n",
              "      display:flex;\n",
              "      flex-wrap:wrap;\n",
              "      gap: 12px;\n",
              "    }\n",
              "\n",
              "    .colab-df-convert {\n",
              "      background-color: #E8F0FE;\n",
              "      border: none;\n",
              "      border-radius: 50%;\n",
              "      cursor: pointer;\n",
              "      display: none;\n",
              "      fill: #1967D2;\n",
              "      height: 32px;\n",
              "      padding: 0 0 0 0;\n",
              "      width: 32px;\n",
              "    }\n",
              "\n",
              "    .colab-df-convert:hover {\n",
              "      background-color: #E2EBFA;\n",
              "      box-shadow: 0px 1px 2px rgba(60, 64, 67, 0.3), 0px 1px 3px 1px rgba(60, 64, 67, 0.15);\n",
              "      fill: #174EA6;\n",
              "    }\n",
              "\n",
              "    [theme=dark] .colab-df-convert {\n",
              "      background-color: #3B4455;\n",
              "      fill: #D2E3FC;\n",
              "    }\n",
              "\n",
              "    [theme=dark] .colab-df-convert:hover {\n",
              "      background-color: #434B5C;\n",
              "      box-shadow: 0px 1px 3px 1px rgba(0, 0, 0, 0.15);\n",
              "      filter: drop-shadow(0px 1px 2px rgba(0, 0, 0, 0.3));\n",
              "      fill: #FFFFFF;\n",
              "    }\n",
              "  </style>\n",
              "\n",
              "      <script>\n",
              "        const buttonEl =\n",
              "          document.querySelector('#df-f2e1743c-5779-4ffb-9516-adaf208c71a3 button.colab-df-convert');\n",
              "        buttonEl.style.display =\n",
              "          google.colab.kernel.accessAllowed ? 'block' : 'none';\n",
              "\n",
              "        async function convertToInteractive(key) {\n",
              "          const element = document.querySelector('#df-f2e1743c-5779-4ffb-9516-adaf208c71a3');\n",
              "          const dataTable =\n",
              "            await google.colab.kernel.invokeFunction('convertToInteractive',\n",
              "                                                     [key], {});\n",
              "          if (!dataTable) return;\n",
              "\n",
              "          const docLinkHtml = 'Like what you see? Visit the ' +\n",
              "            '<a target=\"_blank\" href=https://colab.research.google.com/notebooks/data_table.ipynb>data table notebook</a>'\n",
              "            + ' to learn more about interactive tables.';\n",
              "          element.innerHTML = '';\n",
              "          dataTable['output_type'] = 'display_data';\n",
              "          await google.colab.output.renderOutput(dataTable, element);\n",
              "          const docLink = document.createElement('div');\n",
              "          docLink.innerHTML = docLinkHtml;\n",
              "          element.appendChild(docLink);\n",
              "        }\n",
              "      </script>\n",
              "    </div>\n",
              "  </div>\n",
              "  "
            ]
          },
          "metadata": {},
          "execution_count": 58
        }
      ]
    },
    {
      "cell_type": "code",
      "metadata": {
        "colab": {
          "base_uri": "https://localhost:8080/",
          "height": 206
        },
        "id": "pycKJ5jWkShW",
        "outputId": "e078fa42-cf26-4e39-c376-7217f8390c96"
      },
      "source": [
        "df[df.salary_monthly_NETO > 1000]\\\n",
        "  [['profile_gender', 'salary_monthly_NETO']].groupby('profile_gender').describe()"
      ],
      "execution_count": null,
      "outputs": [
        {
          "output_type": "execute_result",
          "data": {
            "text/plain": [
              "               salary_monthly_NETO                                         \\\n",
              "                             count           mean            std      min   \n",
              "profile_gender                                                              \n",
              "Hombre                      4815.0  101481.624343  102215.304684   1100.0   \n",
              "Mujer                        863.0   77328.913778   55082.760570   2000.0   \n",
              "Otros                         28.0  105660.714286   87235.710235  34000.0   \n",
              "\n",
              "                                                       \n",
              "                    25%      50%       75%        max  \n",
              "profile_gender                                         \n",
              "Hombre          55000.0  80000.0  110000.0  2080000.0  \n",
              "Mujer           47850.0  67200.0   93000.0   800000.0  \n",
              "Otros           43750.0  78900.0  122750.0   380000.0  "
            ],
            "text/html": [
              "\n",
              "  <div id=\"df-5444b79c-1817-497a-b2dc-f0d212834fc0\">\n",
              "    <div class=\"colab-df-container\">\n",
              "      <div>\n",
              "<style scoped>\n",
              "    .dataframe tbody tr th:only-of-type {\n",
              "        vertical-align: middle;\n",
              "    }\n",
              "\n",
              "    .dataframe tbody tr th {\n",
              "        vertical-align: top;\n",
              "    }\n",
              "\n",
              "    .dataframe thead tr th {\n",
              "        text-align: left;\n",
              "    }\n",
              "\n",
              "    .dataframe thead tr:last-of-type th {\n",
              "        text-align: right;\n",
              "    }\n",
              "</style>\n",
              "<table border=\"1\" class=\"dataframe\">\n",
              "  <thead>\n",
              "    <tr>\n",
              "      <th></th>\n",
              "      <th colspan=\"8\" halign=\"left\">salary_monthly_NETO</th>\n",
              "    </tr>\n",
              "    <tr>\n",
              "      <th></th>\n",
              "      <th>count</th>\n",
              "      <th>mean</th>\n",
              "      <th>std</th>\n",
              "      <th>min</th>\n",
              "      <th>25%</th>\n",
              "      <th>50%</th>\n",
              "      <th>75%</th>\n",
              "      <th>max</th>\n",
              "    </tr>\n",
              "    <tr>\n",
              "      <th>profile_gender</th>\n",
              "      <th></th>\n",
              "      <th></th>\n",
              "      <th></th>\n",
              "      <th></th>\n",
              "      <th></th>\n",
              "      <th></th>\n",
              "      <th></th>\n",
              "      <th></th>\n",
              "    </tr>\n",
              "  </thead>\n",
              "  <tbody>\n",
              "    <tr>\n",
              "      <th>Hombre</th>\n",
              "      <td>4815.0</td>\n",
              "      <td>101481.624343</td>\n",
              "      <td>102215.304684</td>\n",
              "      <td>1100.0</td>\n",
              "      <td>55000.0</td>\n",
              "      <td>80000.0</td>\n",
              "      <td>110000.0</td>\n",
              "      <td>2080000.0</td>\n",
              "    </tr>\n",
              "    <tr>\n",
              "      <th>Mujer</th>\n",
              "      <td>863.0</td>\n",
              "      <td>77328.913778</td>\n",
              "      <td>55082.760570</td>\n",
              "      <td>2000.0</td>\n",
              "      <td>47850.0</td>\n",
              "      <td>67200.0</td>\n",
              "      <td>93000.0</td>\n",
              "      <td>800000.0</td>\n",
              "    </tr>\n",
              "    <tr>\n",
              "      <th>Otros</th>\n",
              "      <td>28.0</td>\n",
              "      <td>105660.714286</td>\n",
              "      <td>87235.710235</td>\n",
              "      <td>34000.0</td>\n",
              "      <td>43750.0</td>\n",
              "      <td>78900.0</td>\n",
              "      <td>122750.0</td>\n",
              "      <td>380000.0</td>\n",
              "    </tr>\n",
              "  </tbody>\n",
              "</table>\n",
              "</div>\n",
              "      <button class=\"colab-df-convert\" onclick=\"convertToInteractive('df-5444b79c-1817-497a-b2dc-f0d212834fc0')\"\n",
              "              title=\"Convert this dataframe to an interactive table.\"\n",
              "              style=\"display:none;\">\n",
              "        \n",
              "  <svg xmlns=\"http://www.w3.org/2000/svg\" height=\"24px\"viewBox=\"0 0 24 24\"\n",
              "       width=\"24px\">\n",
              "    <path d=\"M0 0h24v24H0V0z\" fill=\"none\"/>\n",
              "    <path d=\"M18.56 5.44l.94 2.06.94-2.06 2.06-.94-2.06-.94-.94-2.06-.94 2.06-2.06.94zm-11 1L8.5 8.5l.94-2.06 2.06-.94-2.06-.94L8.5 2.5l-.94 2.06-2.06.94zm10 10l.94 2.06.94-2.06 2.06-.94-2.06-.94-.94-2.06-.94 2.06-2.06.94z\"/><path d=\"M17.41 7.96l-1.37-1.37c-.4-.4-.92-.59-1.43-.59-.52 0-1.04.2-1.43.59L10.3 9.45l-7.72 7.72c-.78.78-.78 2.05 0 2.83L4 21.41c.39.39.9.59 1.41.59.51 0 1.02-.2 1.41-.59l7.78-7.78 2.81-2.81c.8-.78.8-2.07 0-2.86zM5.41 20L4 18.59l7.72-7.72 1.47 1.35L5.41 20z\"/>\n",
              "  </svg>\n",
              "      </button>\n",
              "      \n",
              "  <style>\n",
              "    .colab-df-container {\n",
              "      display:flex;\n",
              "      flex-wrap:wrap;\n",
              "      gap: 12px;\n",
              "    }\n",
              "\n",
              "    .colab-df-convert {\n",
              "      background-color: #E8F0FE;\n",
              "      border: none;\n",
              "      border-radius: 50%;\n",
              "      cursor: pointer;\n",
              "      display: none;\n",
              "      fill: #1967D2;\n",
              "      height: 32px;\n",
              "      padding: 0 0 0 0;\n",
              "      width: 32px;\n",
              "    }\n",
              "\n",
              "    .colab-df-convert:hover {\n",
              "      background-color: #E2EBFA;\n",
              "      box-shadow: 0px 1px 2px rgba(60, 64, 67, 0.3), 0px 1px 3px 1px rgba(60, 64, 67, 0.15);\n",
              "      fill: #174EA6;\n",
              "    }\n",
              "\n",
              "    [theme=dark] .colab-df-convert {\n",
              "      background-color: #3B4455;\n",
              "      fill: #D2E3FC;\n",
              "    }\n",
              "\n",
              "    [theme=dark] .colab-df-convert:hover {\n",
              "      background-color: #434B5C;\n",
              "      box-shadow: 0px 1px 3px 1px rgba(0, 0, 0, 0.15);\n",
              "      filter: drop-shadow(0px 1px 2px rgba(0, 0, 0, 0.3));\n",
              "      fill: #FFFFFF;\n",
              "    }\n",
              "  </style>\n",
              "\n",
              "      <script>\n",
              "        const buttonEl =\n",
              "          document.querySelector('#df-5444b79c-1817-497a-b2dc-f0d212834fc0 button.colab-df-convert');\n",
              "        buttonEl.style.display =\n",
              "          google.colab.kernel.accessAllowed ? 'block' : 'none';\n",
              "\n",
              "        async function convertToInteractive(key) {\n",
              "          const element = document.querySelector('#df-5444b79c-1817-497a-b2dc-f0d212834fc0');\n",
              "          const dataTable =\n",
              "            await google.colab.kernel.invokeFunction('convertToInteractive',\n",
              "                                                     [key], {});\n",
              "          if (!dataTable) return;\n",
              "\n",
              "          const docLinkHtml = 'Like what you see? Visit the ' +\n",
              "            '<a target=\"_blank\" href=https://colab.research.google.com/notebooks/data_table.ipynb>data table notebook</a>'\n",
              "            + ' to learn more about interactive tables.';\n",
              "          element.innerHTML = '';\n",
              "          dataTable['output_type'] = 'display_data';\n",
              "          await google.colab.output.renderOutput(dataTable, element);\n",
              "          const docLink = document.createElement('div');\n",
              "          docLink.innerHTML = docLinkHtml;\n",
              "          element.appendChild(docLink);\n",
              "        }\n",
              "      </script>\n",
              "    </div>\n",
              "  </div>\n",
              "  "
            ]
          },
          "metadata": {},
          "execution_count": 59
        }
      ]
    },
    {
      "cell_type": "code",
      "source": [
        "# Distribución poblacional del grupo A\n",
        "# Las líneas de KDE son líneas suaves que muestran cómo se distribuyen los datos y pueden ser un buen complemento para los histogramas.\n",
        "plt.figure(figsize=(10, 6))\n",
        "sns.set(style=\"darkgrid\")\n",
        "sns.histplot(df[(df.salary_monthly_NETO > 1000) & (df.profile_gender == 'Hombre')]['salary_monthly_NETO'], bins=50, alpha=0.5, kde=True).set_title(\"Distribución poblacional de Salario NETO de Hombres\")"
      ],
      "metadata": {
        "colab": {
          "base_uri": "https://localhost:8080/",
          "height": 427
        },
        "id": "kS1qm1J1g_yc",
        "outputId": "c6ebf540-7a44-495c-a78a-706edebcf1a7"
      },
      "execution_count": null,
      "outputs": [
        {
          "output_type": "execute_result",
          "data": {
            "text/plain": [
              "Text(0.5, 1.0, 'Distribución poblacional de Salario NETO de Hombres')"
            ]
          },
          "metadata": {},
          "execution_count": 60
        },
        {
          "output_type": "display_data",
          "data": {
            "text/plain": [
              "<Figure size 720x432 with 1 Axes>"
            ],
            "image/png": "[encoded data removed]"
          },
          "metadata": {}
        }
      ]
    },
    {
      "cell_type": "code",
      "source": [
        "plt.figure(figsize=(10, 6))\n",
        "sns.histplot(df[(df.salary_monthly_NETO > 1000) & (df.profile_gender == 'Mujer')]['salary_monthly_NETO'], bins=50, alpha=0.5, kde=True).set_title(\"Distribución poblacional de Salario NETO de Mujeres\")"
      ],
      "metadata": {
        "colab": {
          "base_uri": "https://localhost:8080/",
          "height": 427
        },
        "id": "XOwf8YsVhv3o",
        "outputId": "4d5a3077-de58-4a2f-9ff9-7299ff4b2f29"
      },
      "execution_count": null,
      "outputs": [
        {
          "output_type": "execute_result",
          "data": {
            "text/plain": [
              "Text(0.5, 1.0, 'Distribución poblacional de Salario NETO de Mujeres')"
            ]
          },
          "metadata": {},
          "execution_count": 61
        },
        {
          "output_type": "display_data",
          "data": {
            "text/plain": [
              "<Figure size 720x432 with 1 Axes>"
            ],
            "image/png": "[encoded data removed]"
          },
          "metadata": {}
        }
      ]
    },
    {
      "cell_type": "markdown",
      "source": [
        "Como podemos observar, ambas poblaciones parecen tener una distribución asimétrica de los datos. Es por eso que consideramos necesario en primer lugar, limpiar el dataframe de aquellos valores extremos que afectan a la distribución de la variable del salario neto."
      ],
      "metadata": {
        "id": "g5SB7_oIWxKe"
      }
    },
    {
      "cell_type": "code",
      "metadata": {
        "id": "uZ1GxkLylHx0"
      },
      "source": [
        "alpha = 0.05"
      ],
      "execution_count": null,
      "outputs": []
    },
    {
      "cell_type": "markdown",
      "source": [
        "**Limpieza de datos**\n",
        "\n",
        "Realizamos es una limpieza de los valores extremos por el método de los percentiles.\n",
        "\n",
        "Para continuar con el mismo criterio del entregable 1, elegimos los percentiles k = 0,05 y k = 0,98 que representan los valores dentro de los cuales trabajamos con anterioridad."
      ],
      "metadata": {
        "id": "NUqlhzfWwh76"
      }
    },
    {
      "cell_type": "code",
      "source": [
        "#Percentiles más altos para filtrar valores extremos derechos\n",
        "df['salary_monthly_NETO'].quantile([.95, .98, .99, .995, .998])"
      ],
      "metadata": {
        "colab": {
          "base_uri": "https://localhost:8080/"
        },
        "id": "XFK4QmTuVJXc",
        "outputId": "8c4f11d9-45da-49cc-c07f-28387934d896"
      },
      "execution_count": null,
      "outputs": [
        {
          "output_type": "execute_result",
          "data": {
            "text/plain": [
              "0.950    210000.00\n",
              "0.980    370000.00\n",
              "0.990    491800.00\n",
              "0.995    650000.00\n",
              "0.998    955289.52\n",
              "Name: salary_monthly_NETO, dtype: float64"
            ]
          },
          "metadata": {},
          "execution_count": 63
        }
      ]
    },
    {
      "cell_type": "code",
      "source": [
        "#Percentiles más bajos para filtrar valores extremos izquierdos\n",
        "df['salary_monthly_NETO'].quantile([.02, .05, .1, .15])"
      ],
      "metadata": {
        "colab": {
          "base_uri": "https://localhost:8080/"
        },
        "id": "VkYg4hYCUv2F",
        "outputId": "fa260ab8-5e4a-4283-f092-b3c3943a27bd"
      },
      "execution_count": null,
      "outputs": [
        {
          "output_type": "execute_result",
          "data": {
            "text/plain": [
              "0.02       90.0\n",
              "0.05    22500.0\n",
              "0.10    35000.0\n",
              "0.15    40000.0\n",
              "Name: salary_monthly_NETO, dtype: float64"
            ]
          },
          "metadata": {},
          "execution_count": 64
        }
      ]
    },
    {
      "cell_type": "code",
      "source": [
        "# Procedimiento de limpieza\n",
        "def clean_outliers_p05_p98(dataset, column_name):\n",
        "    interesting_col = dataset[column_name]\n",
        "    return dataset[(interesting_col <= (interesting_col.quantile(.98)))  & (interesting_col >= (interesting_col.quantile(0.05)))]"
      ],
      "metadata": {
        "id": "-RQ7JLY0S-hG"
      },
      "execution_count": null,
      "outputs": []
    },
    {
      "cell_type": "code",
      "source": [
        "df = clean_outliers_p05_p98(df, 'salary_monthly_NETO')"
      ],
      "metadata": {
        "id": "A9dAcCSfT9bX"
      },
      "execution_count": null,
      "outputs": []
    },
    {
      "cell_type": "code",
      "source": [
        "# Nuevo dataframe\n",
        "df[['profile_gender', 'salary_monthly_NETO']].groupby('profile_gender').describe()"
      ],
      "metadata": {
        "colab": {
          "base_uri": "https://localhost:8080/",
          "height": 206
        },
        "id": "A5fyaVSOUS4p",
        "outputId": "8937b1b2-aa5e-4028-f92d-4ff869542660"
      },
      "execution_count": null,
      "outputs": [
        {
          "output_type": "execute_result",
          "data": {
            "text/plain": [
              "               salary_monthly_NETO                                       \\\n",
              "                             count          mean           std      min   \n",
              "profile_gender                                                            \n",
              "Hombre                      4608.0  91413.667109  52941.435239  22500.0   \n",
              "Mujer                        839.0  76356.883897  39715.466819  23000.0   \n",
              "Otros                         27.0  95500.000000  70006.137094  34000.0   \n",
              "\n",
              "                                                      \n",
              "                    25%      50%       75%       max  \n",
              "profile_gender                                        \n",
              "Hombre          56487.5  80000.0  108805.0  370000.0  \n",
              "Mujer           49750.0  68000.0   93885.0  340000.0  \n",
              "Otros           42500.0  76800.0  117500.0  312000.0  "
            ],
            "text/html": [
              "\n",
              "  <div id=\"df-7957321b-5228-456f-a1d9-f87f2e8d33f2\">\n",
              "    <div class=\"colab-df-container\">\n",
              "      <div>\n",
              "<style scoped>\n",
              "    .dataframe tbody tr th:only-of-type {\n",
              "        vertical-align: middle;\n",
              "    }\n",
              "\n",
              "    .dataframe tbody tr th {\n",
              "        vertical-align: top;\n",
              "    }\n",
              "\n",
              "    .dataframe thead tr th {\n",
              "        text-align: left;\n",
              "    }\n",
              "\n",
              "    .dataframe thead tr:last-of-type th {\n",
              "        text-align: right;\n",
              "    }\n",
              "</style>\n",
              "<table border=\"1\" class=\"dataframe\">\n",
              "  <thead>\n",
              "    <tr>\n",
              "      <th></th>\n",
              "      <th colspan=\"8\" halign=\"left\">salary_monthly_NETO</th>\n",
              "    </tr>\n",
              "    <tr>\n",
              "      <th></th>\n",
              "      <th>count</th>\n",
              "      <th>mean</th>\n",
              "      <th>std</th>\n",
              "      <th>min</th>\n",
              "      <th>25%</th>\n",
              "      <th>50%</th>\n",
              "      <th>75%</th>\n",
              "      <th>max</th>\n",
              "    </tr>\n",
              "    <tr>\n",
              "      <th>profile_gender</th>\n",
              "      <th></th>\n",
              "      <th></th>\n",
              "      <th></th>\n",
              "      <th></th>\n",
              "      <th></th>\n",
              "      <th></th>\n",
              "      <th></th>\n",
              "      <th></th>\n",
              "    </tr>\n",
              "  </thead>\n",
              "  <tbody>\n",
              "    <tr>\n",
              "      <th>Hombre</th>\n",
              "      <td>4608.0</td>\n",
              "      <td>91413.667109</td>\n",
              "      <td>52941.435239</td>\n",
              "      <td>22500.0</td>\n",
              "      <td>56487.5</td>\n",
              "      <td>80000.0</td>\n",
              "      <td>108805.0</td>\n",
              "      <td>370000.0</td>\n",
              "    </tr>\n",
              "    <tr>\n",
              "      <th>Mujer</th>\n",
              "      <td>839.0</td>\n",
              "      <td>76356.883897</td>\n",
              "      <td>39715.466819</td>\n",
              "      <td>23000.0</td>\n",
              "      <td>49750.0</td>\n",
              "      <td>68000.0</td>\n",
              "      <td>93885.0</td>\n",
              "      <td>340000.0</td>\n",
              "    </tr>\n",
              "    <tr>\n",
              "      <th>Otros</th>\n",
              "      <td>27.0</td>\n",
              "      <td>95500.000000</td>\n",
              "      <td>70006.137094</td>\n",
              "      <td>34000.0</td>\n",
              "      <td>42500.0</td>\n",
              "      <td>76800.0</td>\n",
              "      <td>117500.0</td>\n",
              "      <td>312000.0</td>\n",
              "    </tr>\n",
              "  </tbody>\n",
              "</table>\n",
              "</div>\n",
              "      <button class=\"colab-df-convert\" onclick=\"convertToInteractive('df-7957321b-5228-456f-a1d9-f87f2e8d33f2')\"\n",
              "              title=\"Convert this dataframe to an interactive table.\"\n",
              "              style=\"display:none;\">\n",
              "        \n",
              "  <svg xmlns=\"http://www.w3.org/2000/svg\" height=\"24px\"viewBox=\"0 0 24 24\"\n",
              "       width=\"24px\">\n",
              "    <path d=\"M0 0h24v24H0V0z\" fill=\"none\"/>\n",
              "    <path d=\"M18.56 5.44l.94 2.06.94-2.06 2.06-.94-2.06-.94-.94-2.06-.94 2.06-2.06.94zm-11 1L8.5 8.5l.94-2.06 2.06-.94-2.06-.94L8.5 2.5l-.94 2.06-2.06.94zm10 10l.94 2.06.94-2.06 2.06-.94-2.06-.94-.94-2.06-.94 2.06-2.06.94z\"/><path d=\"M17.41 7.96l-1.37-1.37c-.4-.4-.92-.59-1.43-.59-.52 0-1.04.2-1.43.59L10.3 9.45l-7.72 7.72c-.78.78-.78 2.05 0 2.83L4 21.41c.39.39.9.59 1.41.59.51 0 1.02-.2 1.41-.59l7.78-7.78 2.81-2.81c.8-.78.8-2.07 0-2.86zM5.41 20L4 18.59l7.72-7.72 1.47 1.35L5.41 20z\"/>\n",
              "  </svg>\n",
              "      </button>\n",
              "      \n",
              "  <style>\n",
              "    .colab-df-container {\n",
              "      display:flex;\n",
              "      flex-wrap:wrap;\n",
              "      gap: 12px;\n",
              "    }\n",
              "\n",
              "    .colab-df-convert {\n",
              "      background-color: #E8F0FE;\n",
              "      border: none;\n",
              "      border-radius: 50%;\n",
              "      cursor: pointer;\n",
              "      display: none;\n",
              "      fill: #1967D2;\n",
              "      height: 32px;\n",
              "      padding: 0 0 0 0;\n",
              "      width: 32px;\n",
              "    }\n",
              "\n",
              "    .colab-df-convert:hover {\n",
              "      background-color: #E2EBFA;\n",
              "      box-shadow: 0px 1px 2px rgba(60, 64, 67, 0.3), 0px 1px 3px 1px rgba(60, 64, 67, 0.15);\n",
              "      fill: #174EA6;\n",
              "    }\n",
              "\n",
              "    [theme=dark] .colab-df-convert {\n",
              "      background-color: #3B4455;\n",
              "      fill: #D2E3FC;\n",
              "    }\n",
              "\n",
              "    [theme=dark] .colab-df-convert:hover {\n",
              "      background-color: #434B5C;\n",
              "      box-shadow: 0px 1px 3px 1px rgba(0, 0, 0, 0.15);\n",
              "      filter: drop-shadow(0px 1px 2px rgba(0, 0, 0, 0.3));\n",
              "      fill: #FFFFFF;\n",
              "    }\n",
              "  </style>\n",
              "\n",
              "      <script>\n",
              "        const buttonEl =\n",
              "          document.querySelector('#df-7957321b-5228-456f-a1d9-f87f2e8d33f2 button.colab-df-convert');\n",
              "        buttonEl.style.display =\n",
              "          google.colab.kernel.accessAllowed ? 'block' : 'none';\n",
              "\n",
              "        async function convertToInteractive(key) {\n",
              "          const element = document.querySelector('#df-7957321b-5228-456f-a1d9-f87f2e8d33f2');\n",
              "          const dataTable =\n",
              "            await google.colab.kernel.invokeFunction('convertToInteractive',\n",
              "                                                     [key], {});\n",
              "          if (!dataTable) return;\n",
              "\n",
              "          const docLinkHtml = 'Like what you see? Visit the ' +\n",
              "            '<a target=\"_blank\" href=https://colab.research.google.com/notebooks/data_table.ipynb>data table notebook</a>'\n",
              "            + ' to learn more about interactive tables.';\n",
              "          element.innerHTML = '';\n",
              "          dataTable['output_type'] = 'display_data';\n",
              "          await google.colab.output.renderOutput(dataTable, element);\n",
              "          const docLink = document.createElement('div');\n",
              "          docLink.innerHTML = docLinkHtml;\n",
              "          element.appendChild(docLink);\n",
              "        }\n",
              "      </script>\n",
              "    </div>\n",
              "  </div>\n",
              "  "
            ]
          },
          "metadata": {},
          "execution_count": 67
        }
      ]
    },
    {
      "cell_type": "code",
      "metadata": {
        "id": "OfzFpDO-lYxk"
      },
      "source": [
        "# Separamos los grupos\n",
        "\n",
        "is_man = df.profile_gender == 'Hombre'\n",
        "is_woman = df.profile_gender == 'Mujer'\n",
        "\n",
        "\n",
        "#groupA = df[(df.salary_monthly_NETO > 1000) & is_man].salary_monthly_NETO\n",
        "#groupB = df[(df.salary_monthly_NETO > 1000) & ~is_man].salary_monthly_NETO\n",
        "groupA = df[is_man].salary_monthly_NETO\n",
        "groupB = df[~is_man].salary_monthly_NETO"
      ],
      "execution_count": null,
      "outputs": []
    },
    {
      "cell_type": "markdown",
      "source": [
        "Visualizamos distribuciones luego de Procedimiento de limpieza"
      ],
      "metadata": {
        "id": "0jyenG6AyTkB"
      }
    },
    {
      "cell_type": "code",
      "source": [
        "# Nueva distribución poblacional grupo A\n",
        "#seaborn.histplot(groupA, bins=100)\n",
        "plt.figure(figsize=(16, 9))\n",
        "sns.histplot(groupA, bins=100, alpha=0.5, kde=True).set_title(\"Distribución poblacional de Salario NETO de Hombres\")"
      ],
      "metadata": {
        "colab": {
          "base_uri": "https://localhost:8080/",
          "height": 590
        },
        "id": "pW0HbTfbfLDb",
        "outputId": "947c3ea5-0bf1-49a2-8bba-d6ace51e7721"
      },
      "execution_count": null,
      "outputs": [
        {
          "output_type": "execute_result",
          "data": {
            "text/plain": [
              "Text(0.5, 1.0, 'Distribución poblacional de Salario NETO de Hombres')"
            ]
          },
          "metadata": {},
          "execution_count": 69
        },
        {
          "output_type": "display_data",
          "data": {
            "text/plain": [
              "<Figure size 1152x648 with 1 Axes>"
            ],
            "image/png": "[encoded data removed]"
          },
          "metadata": {}
        }
      ]
    },
    {
      "cell_type": "code",
      "source": [
        "# Nueva distribución poblacional grupo B\n",
        "plt.figure(figsize=(16, 9))\n",
        "sns.histplot(groupB, bins=100, alpha=0.5, kde=True).set_title(\"Distribución poblacional de Salario NETO de Otros\")"
      ],
      "metadata": {
        "colab": {
          "base_uri": "https://localhost:8080/",
          "height": 590
        },
        "id": "OC-pUgDoWkT8",
        "outputId": "52b2da64-0642-4b6a-c8c9-ddc3be27f6ac"
      },
      "execution_count": null,
      "outputs": [
        {
          "output_type": "execute_result",
          "data": {
            "text/plain": [
              "Text(0.5, 1.0, 'Distribución poblacional de Salario NETO de Otros')"
            ]
          },
          "metadata": {},
          "execution_count": 70
        },
        {
          "output_type": "display_data",
          "data": {
            "text/plain": [
              "<Figure size 1152x648 with 1 Axes>"
            ],
            "image/png": "[encoded data removed]"
          },
          "metadata": {}
        }
      ]
    },
    {
      "cell_type": "markdown",
      "source": [
        "Vemos que al haber eliminado los valores extremos, ahora la distribución poblacional tiende a ser más 'normal', aún quedan algunos valores altos en la derecha pero no creemos conveniente seguir eliminando registros."
      ],
      "metadata": {
        "id": "7G79W7RKVepq"
      }
    },
    {
      "cell_type": "code",
      "source": [
        "# Media poblacional grupo A\n",
        "media_a = groupA.mean()\n",
        "media_a"
      ],
      "metadata": {
        "colab": {
          "base_uri": "https://localhost:8080/"
        },
        "id": "t2BYcPcNG6hX",
        "outputId": "6aadac64-3c79-4fd4-c7cb-7688f8643dd0"
      },
      "execution_count": null,
      "outputs": [
        {
          "output_type": "execute_result",
          "data": {
            "text/plain": [
              "91413.66710937502"
            ]
          },
          "metadata": {},
          "execution_count": 71
        }
      ]
    },
    {
      "cell_type": "code",
      "source": [
        "# Media poblacional grupo A\n",
        "media_b = groupB.mean()\n",
        "media_b"
      ],
      "metadata": {
        "colab": {
          "base_uri": "https://localhost:8080/"
        },
        "id": "APCrOX6NG9dW",
        "outputId": "2a290369-4e7c-40df-9ea1-a6533c385688"
      },
      "execution_count": null,
      "outputs": [
        {
          "output_type": "execute_result",
          "data": {
            "text/plain": [
              "76953.72469976905"
            ]
          },
          "metadata": {},
          "execution_count": 72
        }
      ]
    },
    {
      "cell_type": "code",
      "source": [
        "# Varianza poblacional grupo A\n",
        "groupA.var() # hombres"
      ],
      "metadata": {
        "colab": {
          "base_uri": "https://localhost:8080/"
        },
        "id": "vGFeWGzLNO_w",
        "outputId": "310858fa-23b7-450d-cadd-a694479bb149"
      },
      "execution_count": null,
      "outputs": [
        {
          "output_type": "execute_result",
          "data": {
            "text/plain": [
              "2802795565.180625"
            ]
          },
          "metadata": {},
          "execution_count": 73
        }
      ]
    },
    {
      "cell_type": "code",
      "source": [
        "# Varianza poblacional grupo B\n",
        "groupB.var() # otros"
      ],
      "metadata": {
        "colab": {
          "base_uri": "https://localhost:8080/"
        },
        "id": "tka_ewwrNSwe",
        "outputId": "eb7c5dc9-dcf7-45a5-90dd-3fb0639a6d11"
      },
      "execution_count": null,
      "outputs": [
        {
          "output_type": "execute_result",
          "data": {
            "text/plain": [
              "1686475125.8318346"
            ]
          },
          "metadata": {},
          "execution_count": 74
        }
      ]
    },
    {
      "cell_type": "markdown",
      "metadata": {
        "id": "co_0M_ojtmUh"
      },
      "source": [
        "## Ejercicio 1: Estimación\n",
        "\n",
        "**Consigna:**  Calcular una estimación puntual y un intervalo de confianza de nivel (1-alpha) para la resta entre la media del salario Neto para Hombres menos la media del salario Neto para otros géneros(diferencia de las medias entre el grupoA y grupoB). \n",
        "¿Cómo se relaciona este intervalo de confianza con el test de hipótesis?"
      ]
    },
    {
      "cell_type": "markdown",
      "source": [
        "Estimacion Puntual"
      ],
      "metadata": {
        "id": "ZhAFCc-G-UW-"
      }
    },
    {
      "cell_type": "code",
      "source": [
        "len(groupA)"
      ],
      "metadata": {
        "colab": {
          "base_uri": "https://localhost:8080/"
        },
        "id": "84Cz9g5W_KEq",
        "outputId": "0b478699-961b-43ea-dedc-6b9967121d09"
      },
      "execution_count": null,
      "outputs": [
        {
          "output_type": "execute_result",
          "data": {
            "text/plain": [
              "4608"
            ]
          },
          "metadata": {},
          "execution_count": 75
        }
      ]
    },
    {
      "cell_type": "code",
      "source": [
        "len(groupB)"
      ],
      "metadata": {
        "colab": {
          "base_uri": "https://localhost:8080/"
        },
        "id": "J9JXpCyG_OWS",
        "outputId": "6e58e779-ddea-4752-aa2c-418fd4db3817"
      },
      "execution_count": null,
      "outputs": [
        {
          "output_type": "execute_result",
          "data": {
            "text/plain": [
              "866"
            ]
          },
          "metadata": {},
          "execution_count": 76
        }
      ]
    },
    {
      "cell_type": "markdown",
      "source": [
        "### *Muestra*"
      ],
      "metadata": {
        "id": "KeiTeykmju_g"
      }
    },
    {
      "cell_type": "code",
      "metadata": {
        "id": "0fA1RQ0upe6N"
      },
      "source": [
        "# Tamaño de la muestra por grupo.\n",
        "n_A = 4608\n",
        "n_B = 866\n"
      ],
      "execution_count": null,
      "outputs": []
    },
    {
      "cell_type": "markdown",
      "source": [
        "**Estimadores puntuales**"
      ],
      "metadata": {
        "id": "j810SZARkn9X"
      }
    },
    {
      "cell_type": "code",
      "source": [
        "media_muestra_a = groupA.sample(n_A, replace=False).mean()\n",
        "media_muestra_a"
      ],
      "metadata": {
        "colab": {
          "base_uri": "https://localhost:8080/"
        },
        "id": "Lt3TqMIwEThI",
        "outputId": "03c10ff2-2c7b-4f9f-97f7-a059f94d364f"
      },
      "execution_count": null,
      "outputs": [
        {
          "output_type": "execute_result",
          "data": {
            "text/plain": [
              "91413.66710937499"
            ]
          },
          "metadata": {},
          "execution_count": 78
        }
      ]
    },
    {
      "cell_type": "code",
      "source": [
        "media_muestra_b = groupB.sample(n_B, replace=False).mean()\n",
        "media_muestra_b"
      ],
      "metadata": {
        "colab": {
          "base_uri": "https://localhost:8080/"
        },
        "id": "vMFo0B5U3_-d",
        "outputId": "3a3597cf-4b38-482e-b069-808306ddbecf"
      },
      "execution_count": null,
      "outputs": [
        {
          "output_type": "execute_result",
          "data": {
            "text/plain": [
              "76953.72469976905"
            ]
          },
          "metadata": {},
          "execution_count": 79
        }
      ]
    },
    {
      "cell_type": "code",
      "source": [
        "dif_medias = media_muestra_a - media_muestra_b\n",
        "dif_medias"
      ],
      "metadata": {
        "colab": {
          "base_uri": "https://localhost:8080/"
        },
        "id": "IQoE6Sn-4BVO",
        "outputId": "4e891377-f9f4-4fb9-9ed0-339d20f37b2e"
      },
      "execution_count": null,
      "outputs": [
        {
          "output_type": "execute_result",
          "data": {
            "text/plain": [
              "14459.942409605937"
            ]
          },
          "metadata": {},
          "execution_count": 80
        }
      ]
    },
    {
      "cell_type": "code",
      "source": [
        "groupA.sample(n_A, replace=False)"
      ],
      "metadata": {
        "colab": {
          "base_uri": "https://localhost:8080/"
        },
        "id": "FkQWuE3BVkKT",
        "outputId": "52638c84-4d62-4c30-a345-37b4b2f1c2c8"
      },
      "execution_count": null,
      "outputs": [
        {
          "output_type": "execute_result",
          "data": {
            "text/plain": [
              "2795     55000.0\n",
              "806      85000.0\n",
              "5717    140000.0\n",
              "5335     75000.0\n",
              "5139     99600.0\n",
              "          ...   \n",
              "4644     76000.0\n",
              "2313     37000.0\n",
              "5242     85000.0\n",
              "1029     29100.0\n",
              "1993    175000.0\n",
              "Name: salary_monthly_NETO, Length: 4608, dtype: float64"
            ]
          },
          "metadata": {},
          "execution_count": 81
        }
      ]
    },
    {
      "cell_type": "code",
      "source": [
        "groupB.sample(n_B, replace=False)"
      ],
      "metadata": {
        "colab": {
          "base_uri": "https://localhost:8080/"
        },
        "id": "Bd8Kpbi3V8Mp",
        "outputId": "b9dd6b2d-737b-4867-daf6-e7b5e35ac287"
      },
      "execution_count": null,
      "outputs": [
        {
          "output_type": "execute_result",
          "data": {
            "text/plain": [
              "4318     60000.0\n",
              "2679     38700.0\n",
              "1883     59000.0\n",
              "1508     53784.0\n",
              "81       74989.0\n",
              "          ...   \n",
              "3997    150000.0\n",
              "5961    130000.0\n",
              "4958     65000.0\n",
              "3818     72000.0\n",
              "2954     92000.0\n",
              "Name: salary_monthly_NETO, Length: 866, dtype: float64"
            ]
          },
          "metadata": {},
          "execution_count": 82
        }
      ]
    },
    {
      "cell_type": "code",
      "source": [
        "# Muestra grupo A\n",
        "array_h = groupA.sample(n_A, replace=False).to_numpy()\n",
        "array_h"
      ],
      "metadata": {
        "colab": {
          "base_uri": "https://localhost:8080/"
        },
        "id": "TdP0mzLGWJjR",
        "outputId": "f76dee55-da7b-4525-a88f-6c4e97db77c6"
      },
      "execution_count": null,
      "outputs": [
        {
          "output_type": "execute_result",
          "data": {
            "text/plain": [
              "array([ 42000.,  55000.,  92000., ..., 140000.,  40591.,  65400.])"
            ]
          },
          "metadata": {},
          "execution_count": 83
        }
      ]
    },
    {
      "cell_type": "code",
      "source": [
        "# Muestra grupo B\n",
        "array_o = groupB.sample(n_B, replace=False).to_numpy()\n",
        "array_o"
      ],
      "metadata": {
        "colab": {
          "base_uri": "https://localhost:8080/"
        },
        "id": "BlpEqnJJWQgc",
        "outputId": "f570733e-4f21-443f-8005-21ffb4a67250"
      },
      "execution_count": null,
      "outputs": [
        {
          "output_type": "execute_result",
          "data": {
            "text/plain": [
              "array([ 68000.  ,  72300.  ,  32500.  ,  75000.  ,  80000.  ,  40700.  ,\n",
              "       100909.  ,  94000.  ,  32515.67, 100000.  ,  48000.  ,  73035.  ,\n",
              "        68000.  ,  90000.  ,  86000.  ,  90000.  ,  55000.  ,  31290.  ,\n",
              "        32000.  ,  31900.  ,  43000.  ,  80000.  ,  25400.  , 140000.  ,\n",
              "        73000.  , 110000.  , 120000.  ,  32000.  ,  67000.  ,  75700.  ,\n",
              "       122000.  ,  85000.  ,  92500.  , 100000.  ,  40000.  ,  50694.  ,\n",
              "        38834.  ,  53000.  ,  72000.  ,  39000.  ,  33000.  ,  89000.  ,\n",
              "        43824.  ,  74000.  ,  50000.  ,  26000.  ,  60000.  ,  90784.  ,\n",
              "        28271.  ,  40500.  ,  67310.  ,  57000.  ,  62000.  ,  75000.  ,\n",
              "        45000.  ,  37797.  ,  50000.  ,  80000.  , 160000.  ,  67000.  ,\n",
              "        56403.  , 120000.  , 105000.  ,  75000.  , 105000.  , 120000.  ,\n",
              "        81000.  ,  57000.  ,  69000.  , 190000.  ,  43800.  , 101000.  ,\n",
              "        30000.  , 150000.  ,  75000.  , 117000.  ,  66400.  ,  41000.  ,\n",
              "        92500.  ,  52000.  ,  65000.  ,  70100.  ,  35000.  ,  95000.  ,\n",
              "        54000.  ,  29880.  ,  80000.  , 115000.  ,  80000.  , 100000.  ,\n",
              "       200000.  ,  70000.  , 130000.  , 110971.  ,  54000.  ,  61000.  ,\n",
              "        75000.  , 100000.  ,  36000.  ,  34500.  , 120000.  , 125484.46,\n",
              "       140000.  ,  41500.  ,  51000.  ,  95000.  ,  67000.  , 102000.  ,\n",
              "        58000.  ,  55800.  ,  55300.  ,  49000.  , 122000.  ,  94000.  ,\n",
              "       105000.  ,  54000.  , 140000.  , 110000.  , 130401.  ,  39000.  ,\n",
              "        38000.  ,  54000.  , 130000.  , 130000.  ,  54000.  , 115000.  ,\n",
              "       114000.  ,  55000.  ,  50625.  ,  89000.  ,  95000.  ,  54000.  ,\n",
              "       110000.  ,  41000.  ,  38000.  ,  52000.  ,  94500.  ,  65400.  ,\n",
              "        84000.  ,  90000.  ,  38000.  ,  54000.  ,  97034.  ,  38488.  ,\n",
              "        25000.  ,  51000.  ,  32900.  ,  30000.  ,  54310.  ,  97027.  ,\n",
              "        98000.  ,  36422.  ,  30000.  , 149000.  ,  59000.  ,  74000.  ,\n",
              "        38400.  ,  84000.  , 112000.  ,  70988.  ,  54000.  , 170000.  ,\n",
              "        86000.  ,  91000.  ,  31180.  ,  44300.  ,  89000.  ,  75000.  ,\n",
              "       120000.  ,  81000.  , 100000.  , 131000.  , 135953.  ,  27500.  ,\n",
              "        23000.  , 110000.  , 107500.  ,  74000.  , 102000.  ,  75000.  ,\n",
              "        41000.  , 112000.  , 199000.  , 115000.  ,  70000.  ,  58000.  ,\n",
              "       200000.  ,  25000.  ,  80000.  ,  92000.  ,  38700.  ,  50000.  ,\n",
              "        80000.  ,  87399.  ,  35000.  ,  96188.63, 281250.  ,  70800.  ,\n",
              "        71033.  ,  46000.  ,  56000.  ,  71000.  ,  97000.  , 200000.  ,\n",
              "        54000.  ,  34885.  ,  68000.  ,  91360.  ,  41000.  , 110000.  ,\n",
              "       160000.  ,  76000.  ,  42911.  ,  43114.14,  56900.  , 135000.  ,\n",
              "        35000.  ,  67000.  ,  45000.  ,  30000.  ,  80000.  , 312000.  ,\n",
              "        56440.  , 105000.  ,  57670.  ,  41097.  ,  62000.  ,  38500.  ,\n",
              "        91000.  ,  68900.  ,  47000.  ,  70000.  ,  23003.  ,  45000.  ,\n",
              "        55680.  ,  75105.  ,  64000.  ,  62000.  ,  92000.  ,  89000.  ,\n",
              "        40000.  ,  73400.  , 145000.  , 168750.  , 150000.  ,  80000.  ,\n",
              "       102000.  ,  69500.  ,  78000.  ,  23000.  ,  96000.  ,  50000.  ,\n",
              "        50000.  ,  54000.  ,  66000.  , 250000.  , 270000.  ,  90000.  ,\n",
              "       115000.  ,  70000.  ,  57000.  ,  59000.  , 131840.  , 121000.  ,\n",
              "        43590.87,  51700.  ,  52290.  , 146000.  ,  35900.  ,  61979.  ,\n",
              "        35000.  ,  55424.  ,  32000.  ,  55870.  ,  62000.  , 120000.  ,\n",
              "        92914.  ,  39063.  ,  42000.  ,  39000.  ,  62400.  ,  43450.  ,\n",
              "        87000.  ,  54000.  ,  41500.  ,  70559.  ,  92914.  ,  47700.  ,\n",
              "        45500.  ,  88000.  ,  60000.  ,  50000.  ,  53000.  ,  58000.  ,\n",
              "        36500.  ,  51000.  ,  85000.  , 150000.  , 178951.  , 175000.  ,\n",
              "       140000.  ,  60000.  ,  45000.  , 110000.  ,  37000.  ,  47000.  ,\n",
              "        44521.7 ,  80000.  ,  45000.  ,  48700.  ,  90000.  ,  95000.  ,\n",
              "       203000.  ,  60000.  ,  69100.  ,  90000.  ,  90000.  ,  34528.  ,\n",
              "        63000.  ,  50000.  ,  23000.  ,  82000.  ,  43000.  ,  90000.  ,\n",
              "        70000.  ,  89000.  ,  52000.  ,  45710.  ,  70000.  , 107024.  ,\n",
              "       125000.  ,  69000.  ,  68000.  ,  53044.  ,  83000.  ,  78000.  ,\n",
              "        57000.  ,  74000.  ,  75000.  , 106000.  , 122500.  ,  68000.  ,\n",
              "        47000.  , 110000.  ,  49000.  ,  38000.  ,  56400.  ,  77100.  ,\n",
              "       110000.  , 260000.  ,  61000.  , 160000.  ,  76725.  ,  83000.  ,\n",
              "        60000.  ,  40300.  ,  54000.  , 118000.  ,  58000.  ,  38000.  ,\n",
              "        95000.  ,  63000.  ,  62156.  ,  45000.  ,  64700.  ,  93000.  ,\n",
              "       101000.  ,  40000.  ,  49971.  ,  82000.  ,  35000.  ,  43800.  ,\n",
              "       127300.  ,  42000.  ,  74989.  , 133000.  ,  39677.  ,  43000.  ,\n",
              "        87000.  , 169000.  ,  85000.  ,  80000.  , 104000.  ,  67275.  ,\n",
              "        55000.  ,  37353.  , 130000.  ,  69000.  ,  75000.  ,  82480.08,\n",
              "        48140.  ,  85000.  ,  82000.  , 200000.  , 190000.  ,  80564.  ,\n",
              "        79000.  ,  62000.  ,  93000.  ,  61311.  , 164000.  ,  50000.  ,\n",
              "        31992.  ,  43300.  ,  31000.  ,  33000.  ,  64000.  , 270000.  ,\n",
              "       118000.  ,  83000.  ,  89000.  ,  70000.  ,  49800.  ,  32000.  ,\n",
              "        40000.  ,  42700.  ,  45000.  ,  45000.  ,  83727.  , 128690.  ,\n",
              "        39000.  ,  43000.  ,  62000.  ,  61005.  ,  97000.  , 130000.  ,\n",
              "       140000.  ,  67000.  ,  50500.  ,  98000.  ,  40000.  ,  59000.  ,\n",
              "       150000.  ,  87000.  , 125000.  ,  67992.  ,  49000.  ,  37000.  ,\n",
              "        69000.  ,  70000.  , 127000.  ,  38303.  ,  76000.  ,  35000.  ,\n",
              "        64552.  ,  37000.  ,  88900.  ,  86168.  , 150000.  , 120000.  ,\n",
              "        91000.  , 168000.  ,  53500.  ,  60000.  ,  62000.  ,  79000.  ,\n",
              "        63910.  ,  69602.  ,  50000.  ,  65000.  ,  95000.  ,  62933.86,\n",
              "        67700.  ,  46000.  ,  50000.  ,  43000.  ,  92000.  ,  65000.  ,\n",
              "        49000.  ,  37000.  ,  71000.  ,  35000.  , 110000.  ,  52800.  ,\n",
              "        89571.  ,  52000.  ,  61000.  ,  78000.  ,  48473.  ,  98000.  ,\n",
              "       102866.  ,  34000.  ,  98700.  ,  98000.  ,  92000.  ,  45600.  ,\n",
              "        67200.  ,  80000.  ,  51686.  , 120000.  ,  68928.  ,  32071.  ,\n",
              "        57000.  , 136500.  ,  95000.  ,  74000.  ,  66000.  ,  62000.  ,\n",
              "        45000.  ,  67000.  , 138000.  , 265000.  ,  42330.  ,  90000.  ,\n",
              "       150000.  ,  96678.  ,  81000.  ,  68000.  , 104000.  ,  36900.  ,\n",
              "        35000.  ,  83000.  ,  54722.  ,  38345.  ,  36000.  ,  89000.  ,\n",
              "        56440.  ,  85000.  ,  40000.  ,  98000.  ,  65000.  ,  70000.  ,\n",
              "        83000.  ,  60000.  ,  31250.  ,  56000.  , 131000.  ,  82000.  ,\n",
              "        42000.  ,  94000.  ,  74000.  ,  58300.  ,  83000.  ,  85300.  ,\n",
              "        85000.  ,  55500.  , 120000.  , 110000.  ,  63490.  ,  80000.  ,\n",
              "        54000.  ,  95000.  ,  53250.  ,  80000.  ,  49800.  , 135000.  ,\n",
              "        60000.  ,  63900.  , 145000.  ,  37000.  ,  34000.  ,  90000.  ,\n",
              "        44000.  ,  74000.  ,  53000.  ,  43000.  ,  38000.  , 105000.  ,\n",
              "        80000.  ,  33423.  ,  73000.  ,  66000.  ,  64000.  ,  66000.  ,\n",
              "        40000.  ,  37350.  ,  74000.  ,  97000.  ,  98500.  ,  77197.  ,\n",
              "        62000.  ,  48316.  ,  50400.  ,  40000.  ,  50032.  ,  53784.  ,\n",
              "        85000.  ,  58000.  ,  51000.  ,  75000.  ,  43928.  ,  56000.  ,\n",
              "        98000.  , 108000.  ,  65000.  ,  64000.  ,  35000.  ,  42000.  ,\n",
              "       150000.  ,  72000.  ,  95000.  ,  77000.  ,  60000.  ,  41000.  ,\n",
              "        36500.  ,  70000.  ,  33400.  ,  82000.  ,  57074.28,  37420.  ,\n",
              "        30000.  ,  63000.  , 230000.  ,  64000.  ,  43505.  , 109000.  ,\n",
              "        63000.  ,  80000.  ,  90000.  ,  56000.  , 110000.  , 104022.05,\n",
              "       123000.  ,  32125.  ,  32700.  ,  62000.  ,  53000.  , 100000.  ,\n",
              "        37500.  ,  95000.  , 177707.  ,  37000.  , 120000.  ,  62000.  ,\n",
              "        49500.  , 167000.  ,  50000.  ,  94920.  , 121000.  ,  54000.  ,\n",
              "        31955.  ,  62500.  ,  74000.  ,  54800.  ,  89200.  ,  78000.  ,\n",
              "        45000.  ,  37000.  ,  77000.  ,  96000.  ,  38000.  ,  83000.  ,\n",
              "        75000.  ,  60230.  ,  35000.  ,  54000.  ,  93000.  , 101000.  ,\n",
              "       125000.  ,  48815.07,  95000.  ,  48000.  , 116000.  ,  73500.  ,\n",
              "        70000.  ,  56000.  ,  47000.  , 100000.  ,  55000.  ,  47500.  ,\n",
              "        68000.  ,  39000.  ,  57000.  ,  91943.  , 141000.  , 135000.  ,\n",
              "        80000.  ,  99825.  ,  72000.  ,  98000.  , 100000.  ,  98000.  ,\n",
              "        42413.  , 130000.  ,  75000.  ,  57686.  ,  81000.  ,  58000.  ,\n",
              "       106800.  , 112000.  ,  37000.  ,  23000.  ,  59000.  ,  44820.  ,\n",
              "        40000.  ,  61000.  ,  97495.  , 300000.  ,  62000.  , 100000.  ,\n",
              "        56000.  , 123000.  ,  32500.  ,  36000.  ,  58000.  ,  54588.  ,\n",
              "        35000.  ,  35000.  ,  85000.  ,  86000.  ,  90072.  ,  84000.  ,\n",
              "        53819.09, 340000.  ,  82000.  ,  91185.  ,  79600.  ,  52290.  ,\n",
              "        65490.  , 101000.  ,  83475.  ,  78000.  ,  57500.  ,  34500.  ,\n",
              "        45000.  , 120000.  ,  54350.  ,  51000.  ,  33000.  , 102000.  ,\n",
              "        43000.  ,  78174.  ,  92000.  , 168000.  ,  35000.  ,  80000.  ,\n",
              "        58000.  ,  37000.  , 127000.  ,  85000.  ,  44000.  , 100000.  ,\n",
              "        43000.  , 170282.  ,  89788.  ,  39000.  ,  72000.  ,  71480.  ,\n",
              "        55600.  , 100000.  , 104000.  , 110000.  ,  98831.  ,  36000.  ,\n",
              "        65000.  ,  65000.  ,  34000.  , 128000.  ,  83000.  ,  93770.  ,\n",
              "        50000.  ,  45000.  , 113000.  ,  54500.  ,  85000.  ,  58600.  ,\n",
              "        33200.  ,  49800.  , 100000.  , 155800.  , 315000.  ,  42000.  ,\n",
              "        31180.  ,  81000.  ,  56000.  ,  36644.5 , 100000.  ,  62000.  ,\n",
              "        36000.  ,  40000.  ,  92500.  ,  63000.  , 136000.  ,  66400.  ,\n",
              "       108000.  , 150000.  , 150000.  , 115000.  ,  50890.  ,  43000.  ,\n",
              "        42000.  ,  64983.19,  80000.  ,  78000.  ,  52009.  ,  82000.  ,\n",
              "        72000.  ,  60000.  ,  30200.  ,  56573.  , 110000.  , 117000.  ,\n",
              "        45000.  , 140000.  ,  62000.  ,  62000.  ,  33400.  ,  50000.  ,\n",
              "       120000.  ,  32000.  ,  75000.  ,  74655.  ,  67000.  ,  83000.  ,\n",
              "        51500.  ,  70681.  ,  80000.  ,  80000.  , 109765.  ,  80000.  ,\n",
              "       200000.  ,  39840.  , 130000.  ,  44000.  ,  31000.  , 130000.  ,\n",
              "        33000.  ,  68000.  ,  77000.  ,  45000.  , 168300.  ,  92000.  ,\n",
              "        48900.  ,  95000.  ,  93000.  ,  79500.  , 121000.  ,  67025.  ,\n",
              "        40000.  ,  64000.  ,  31000.  ,  44619.  ,  65163.  ,  65000.  ,\n",
              "        80000.  ,  81000.  ,  60000.  , 110000.  , 115000.  , 100000.  ,\n",
              "        41475.  ,  40000.  ,  67000.  ,  62000.  ,  77800.  ,  49700.  ,\n",
              "       100000.  ,  99800.  ,  63000.  ,  41000.  , 110000.  ,  51000.  ,\n",
              "        75000.  ,  43800.  ,  88000.  ,  74000.  ,  50138.  ,  80000.  ,\n",
              "        70300.  ,  39913.  ,  63000.  ,  50000.  ,  65000.  ,  46288.  ,\n",
              "       105000.  ,  76800.  ])"
            ]
          },
          "metadata": {},
          "execution_count": 84
        }
      ]
    },
    {
      "cell_type": "markdown",
      "source": [
        "**Cálculo del intervalo de confianza**\n",
        "\n",
        "Para diferencias de medias con varianzas distintas aplicamos método de Welch."
      ],
      "metadata": {
        "id": "-Sb5nd-4kvJI"
      }
    },
    {
      "cell_type": "markdown",
      "source": [
        "Cálculo de varianzas poblacionales\n"
      ],
      "metadata": {
        "id": "U1p0ZFOr4gB_"
      }
    },
    {
      "cell_type": "code",
      "source": [
        "groupA.var()"
      ],
      "metadata": {
        "colab": {
          "base_uri": "https://localhost:8080/"
        },
        "id": "tNJ-4S734anc",
        "outputId": "7ca4d734-4f4e-4444-d1f8-37ff028fbfd9"
      },
      "execution_count": null,
      "outputs": [
        {
          "output_type": "execute_result",
          "data": {
            "text/plain": [
              "2802795565.180625"
            ]
          },
          "metadata": {},
          "execution_count": 85
        }
      ]
    },
    {
      "cell_type": "code",
      "source": [
        "groupB.var()"
      ],
      "metadata": {
        "colab": {
          "base_uri": "https://localhost:8080/"
        },
        "id": "RQGqAGTL4cYl",
        "outputId": "8eafbec4-58cf-46c1-ffe1-9e61dcf7a6d8"
      },
      "execution_count": null,
      "outputs": [
        {
          "output_type": "execute_result",
          "data": {
            "text/plain": [
              "1686475125.8318346"
            ]
          },
          "metadata": {},
          "execution_count": 86
        }
      ]
    },
    {
      "cell_type": "code",
      "source": [
        "# Funcion para calcular Welch\n",
        "import numpy as np\n",
        "from scipy.stats import ttest_ind\n",
        "from scipy.stats import t\n",
        "import pandas as pd\n",
        "\n",
        "def welch_ttest(x1, x2):\n",
        "    \n",
        "    n1 = x1.size\n",
        "    n2 = x2.size\n",
        "    m1 = np.mean(x1)  # Media muestral 1\n",
        "    m2 = np.mean(x2)  # Media muestral 2\n",
        "    \n",
        "    v1 = np.var(x1, ddof=1)\n",
        "    v2 = np.var(x2, ddof=1)\n",
        "    \n",
        "    pooled_se = np.sqrt(v1 / n1 + v2 / n2)\n",
        "    delta = m1-m2\n",
        "    \n",
        "    tstat = delta /  pooled_se\n",
        "    df = (v1 / n1 + v2 / n2)**2 / (v1**2 / (n1**2 * (n1 - 1)) + v2**2 / (n2**2 * (n2 - 1)))\n",
        "    \n",
        "    # two side t-test\n",
        "    p = 2 * t.cdf(-abs(tstat), df)\n",
        "    \n",
        "    # upper and lower bounds\n",
        "    lb = delta - t.ppf(0.975,df)*pooled_se \n",
        "    ub = delta + t.ppf(0.975,df)*pooled_se\n",
        "  \n",
        "    return pd.DataFrame(np.array([tstat,df,p,delta,lb,ub]).reshape(1,-1),\n",
        "                         columns=['T statistic','df','pvalue 2 sided','Difference in mean','lb','ub'])"
      ],
      "metadata": {
        "id": "t8TySqMoYEE0"
      },
      "execution_count": null,
      "outputs": []
    },
    {
      "cell_type": "code",
      "source": [
        "welch_ttest(array_h, array_o)"
      ],
      "metadata": {
        "colab": {
          "base_uri": "https://localhost:8080/",
          "height": 81
        },
        "id": "kAKxRp16biPZ",
        "outputId": "8b702ca4-f01f-4f20-a2cf-7c357f25bad4"
      },
      "execution_count": null,
      "outputs": [
        {
          "output_type": "execute_result",
          "data": {
            "text/plain": [
              "   T statistic           df  pvalue 2 sided  Difference in mean            lb  \\\n",
              "0     9.045105  1462.921959    4.628559e-19         14459.94241  11324.054819   \n",
              "\n",
              "         ub  \n",
              "0  17595.83  "
            ],
            "text/html": [
              "\n",
              "  <div id=\"df-2eadaff1-7bcd-4ccd-abc3-ed5105550cdf\">\n",
              "    <div class=\"colab-df-container\">\n",
              "      <div>\n",
              "<style scoped>\n",
              "    .dataframe tbody tr th:only-of-type {\n",
              "        vertical-align: middle;\n",
              "    }\n",
              "\n",
              "    .dataframe tbody tr th {\n",
              "        vertical-align: top;\n",
              "    }\n",
              "\n",
              "    .dataframe thead th {\n",
              "        text-align: right;\n",
              "    }\n",
              "</style>\n",
              "<table border=\"1\" class=\"dataframe\">\n",
              "  <thead>\n",
              "    <tr style=\"text-align: right;\">\n",
              "      <th></th>\n",
              "      <th>T statistic</th>\n",
              "      <th>df</th>\n",
              "      <th>pvalue 2 sided</th>\n",
              "      <th>Difference in mean</th>\n",
              "      <th>lb</th>\n",
              "      <th>ub</th>\n",
              "    </tr>\n",
              "  </thead>\n",
              "  <tbody>\n",
              "    <tr>\n",
              "      <th>0</th>\n",
              "      <td>9.045105</td>\n",
              "      <td>1462.921959</td>\n",
              "      <td>4.628559e-19</td>\n",
              "      <td>14459.94241</td>\n",
              "      <td>11324.054819</td>\n",
              "      <td>17595.83</td>\n",
              "    </tr>\n",
              "  </tbody>\n",
              "</table>\n",
              "</div>\n",
              "      <button class=\"colab-df-convert\" onclick=\"convertToInteractive('df-2eadaff1-7bcd-4ccd-abc3-ed5105550cdf')\"\n",
              "              title=\"Convert this dataframe to an interactive table.\"\n",
              "              style=\"display:none;\">\n",
              "        \n",
              "  <svg xmlns=\"http://www.w3.org/2000/svg\" height=\"24px\"viewBox=\"0 0 24 24\"\n",
              "       width=\"24px\">\n",
              "    <path d=\"M0 0h24v24H0V0z\" fill=\"none\"/>\n",
              "    <path d=\"M18.56 5.44l.94 2.06.94-2.06 2.06-.94-2.06-.94-.94-2.06-.94 2.06-2.06.94zm-11 1L8.5 8.5l.94-2.06 2.06-.94-2.06-.94L8.5 2.5l-.94 2.06-2.06.94zm10 10l.94 2.06.94-2.06 2.06-.94-2.06-.94-.94-2.06-.94 2.06-2.06.94z\"/><path d=\"M17.41 7.96l-1.37-1.37c-.4-.4-.92-.59-1.43-.59-.52 0-1.04.2-1.43.59L10.3 9.45l-7.72 7.72c-.78.78-.78 2.05 0 2.83L4 21.41c.39.39.9.59 1.41.59.51 0 1.02-.2 1.41-.59l7.78-7.78 2.81-2.81c.8-.78.8-2.07 0-2.86zM5.41 20L4 18.59l7.72-7.72 1.47 1.35L5.41 20z\"/>\n",
              "  </svg>\n",
              "      </button>\n",
              "      \n",
              "  <style>\n",
              "    .colab-df-container {\n",
              "      display:flex;\n",
              "      flex-wrap:wrap;\n",
              "      gap: 12px;\n",
              "    }\n",
              "\n",
              "    .colab-df-convert {\n",
              "      background-color: #E8F0FE;\n",
              "      border: none;\n",
              "      border-radius: 50%;\n",
              "      cursor: pointer;\n",
              "      display: none;\n",
              "      fill: #1967D2;\n",
              "      height: 32px;\n",
              "      padding: 0 0 0 0;\n",
              "      width: 32px;\n",
              "    }\n",
              "\n",
              "    .colab-df-convert:hover {\n",
              "      background-color: #E2EBFA;\n",
              "      box-shadow: 0px 1px 2px rgba(60, 64, 67, 0.3), 0px 1px 3px 1px rgba(60, 64, 67, 0.15);\n",
              "      fill: #174EA6;\n",
              "    }\n",
              "\n",
              "    [theme=dark] .colab-df-convert {\n",
              "      background-color: #3B4455;\n",
              "      fill: #D2E3FC;\n",
              "    }\n",
              "\n",
              "    [theme=dark] .colab-df-convert:hover {\n",
              "      background-color: #434B5C;\n",
              "      box-shadow: 0px 1px 3px 1px rgba(0, 0, 0, 0.15);\n",
              "      filter: drop-shadow(0px 1px 2px rgba(0, 0, 0, 0.3));\n",
              "      fill: #FFFFFF;\n",
              "    }\n",
              "  </style>\n",
              "\n",
              "      <script>\n",
              "        const buttonEl =\n",
              "          document.querySelector('#df-2eadaff1-7bcd-4ccd-abc3-ed5105550cdf button.colab-df-convert');\n",
              "        buttonEl.style.display =\n",
              "          google.colab.kernel.accessAllowed ? 'block' : 'none';\n",
              "\n",
              "        async function convertToInteractive(key) {\n",
              "          const element = document.querySelector('#df-2eadaff1-7bcd-4ccd-abc3-ed5105550cdf');\n",
              "          const dataTable =\n",
              "            await google.colab.kernel.invokeFunction('convertToInteractive',\n",
              "                                                     [key], {});\n",
              "          if (!dataTable) return;\n",
              "\n",
              "          const docLinkHtml = 'Like what you see? Visit the ' +\n",
              "            '<a target=\"_blank\" href=https://colab.research.google.com/notebooks/data_table.ipynb>data table notebook</a>'\n",
              "            + ' to learn more about interactive tables.';\n",
              "          element.innerHTML = '';\n",
              "          dataTable['output_type'] = 'display_data';\n",
              "          await google.colab.output.renderOutput(dataTable, element);\n",
              "          const docLink = document.createElement('div');\n",
              "          docLink.innerHTML = docLinkHtml;\n",
              "          element.appendChild(docLink);\n",
              "        }\n",
              "      </script>\n",
              "    </div>\n",
              "  </div>\n",
              "  "
            ]
          },
          "metadata": {},
          "execution_count": 88
        }
      ]
    },
    {
      "cell_type": "code",
      "source": [
        "# Corroboramos el resultado con la siguiente libreria\n",
        "stats.ttest_ind(array_h, array_o, equal_var=False)"
      ],
      "metadata": {
        "colab": {
          "base_uri": "https://localhost:8080/"
        },
        "id": "GiTRpLEmWhIe",
        "outputId": "f2001f1b-b4cc-485e-d9d0-01a3c8bada19"
      },
      "execution_count": null,
      "outputs": [
        {
          "output_type": "execute_result",
          "data": {
            "text/plain": [
              "Ttest_indResult(statistic=9.045105354221, pvalue=4.628559359012017e-19)"
            ]
          },
          "metadata": {},
          "execution_count": 89
        }
      ]
    },
    {
      "cell_type": "code",
      "source": [
        "cm = sms.CompareMeans(sms.DescrStatsW(array_h), sms.DescrStatsW(array_o))\n",
        "print (cm.tconfint_diff(usevar='unequal'))\n",
        "\n",
        "#sms es statsmodels.stats.api"
      ],
      "metadata": {
        "colab": {
          "base_uri": "https://localhost:8080/"
        },
        "id": "6qzCjXt2XQ-9",
        "outputId": "8de5c062-fe18-4f7e-e5b7-ce4fd42b611e"
      },
      "execution_count": null,
      "outputs": [
        {
          "output_type": "stream",
          "name": "stdout",
          "text": [
            "(11324.054818973698, 17595.830000238177)\n"
          ]
        }
      ]
    },
    {
      "cell_type": "code",
      "source": [
        "groupA.to_numpy()"
      ],
      "metadata": {
        "colab": {
          "base_uri": "https://localhost:8080/"
        },
        "id": "gdFN7fX1egEw",
        "outputId": "221ac8b4-1364-4f07-e6d2-4f55b7fcf069"
      },
      "execution_count": null,
      "outputs": [
        {
          "output_type": "execute_result",
          "data": {
            "text/plain": [
              "array([ 63000., 102000., 106000., ...,  97000.,  71000.,  65000.])"
            ]
          },
          "metadata": {},
          "execution_count": 91
        }
      ]
    },
    {
      "cell_type": "markdown",
      "source": [
        "Distribución de las muestras"
      ],
      "metadata": {
        "id": "YeFzrENTn65y"
      }
    },
    {
      "cell_type": "code",
      "source": [
        "# Grupo A \n",
        "plt.figure(figsize=(10,5))\n",
        "sns.histplot(groupA.sample(n_A, replace=False), bins=50, kde=True).set_title(\"Distribución Muestral de Salario NETO de Hombres\")"
      ],
      "metadata": {
        "colab": {
          "base_uri": "https://localhost:8080/",
          "height": 372
        },
        "id": "wXXgB2csRsFO",
        "outputId": "29eea019-a832-47ae-8d2e-0711ece39abf"
      },
      "execution_count": null,
      "outputs": [
        {
          "output_type": "execute_result",
          "data": {
            "text/plain": [
              "Text(0.5, 1.0, 'Distribución Muestral de Salario NETO de Hombres')"
            ]
          },
          "metadata": {},
          "execution_count": 92
        },
        {
          "output_type": "display_data",
          "data": {
            "text/plain": [
              "<Figure size 720x360 with 1 Axes>"
            ],
            "image/png": "[encoded data removed]"
          },
          "metadata": {}
        }
      ]
    },
    {
      "cell_type": "code",
      "source": [
        "#Grupo B\n",
        "#seaborn.histplot(groupB.sample(n_B, replace=False), bins=20)\n",
        "plt.figure(figsize=(10,5))\n",
        "sns.histplot(groupB.sample(n_B, replace=False), bins=50, kde=True)#.set_title(\"Distribución Muestral de Salario NETO de Mujeres\")"
      ],
      "metadata": {
        "colab": {
          "base_uri": "https://localhost:8080/",
          "height": 356
        },
        "id": "X5QLYvrVSOf4",
        "outputId": "5edcc2e2-5e05-4596-a5cc-b5a780d367bf"
      },
      "execution_count": null,
      "outputs": [
        {
          "output_type": "execute_result",
          "data": {
            "text/plain": [
              "<matplotlib.axes._subplots.AxesSubplot at 0x7fc71bcb8390>"
            ]
          },
          "metadata": {},
          "execution_count": 93
        },
        {
          "output_type": "display_data",
          "data": {
            "text/plain": [
              "<Figure size 720x360 with 1 Axes>"
            ],
            "image/png": "[encoded data removed]"
          },
          "metadata": {}
        }
      ]
    },
    {
      "cell_type": "markdown",
      "metadata": {
        "id": "IFi2T7Y6nM92"
      },
      "source": [
        "## Ejercicio 2: Test de hipótesis\n"
      ]
    },
    {
      "cell_type": "markdown",
      "metadata": {
        "id": "Rzxe8UYU6EfJ"
      },
      "source": [
        "\n",
        "### 2.1 Formalización\n",
        "\n",
        "Describir formalmente los distintos componentes de un test de hipótesis para comprobar si la distribución de los salarios es distinta entre los grupos A y B.\n",
        "\n",
        "**Hipótesis Nula**\n",
        "\n",
        "$H_0$ = No hay diferencia entre los salarios netos de ambos grupos\n",
        "\n",
        "**Hipótesis Alternativa**\n",
        "\n",
        "\n",
        "$H_1$ = Hay diferencia entre los salarios netos de ambos grupos \n",
        "\n",
        "**Estadístico (Pivote)**\n",
        "  * Identificar el estadístico: Diferencia de medias muestrales\n",
        "  * Escribir qué distribución tiene bajo $H_0$: Distribución Normal\n"
      ]
    },
    {
      "cell_type": "markdown",
      "metadata": {
        "id": "3Ip_5YdenC8u"
      },
      "source": [
        "### 2.2 P-valor\n",
        "\n",
        "1. Calcule el p-valor y decida si rechazar o no la hipótesis nula.\n",
        "2. Interprete el resultado.\n",
        "\n",
        "Links útiles:\n",
        "* [Test de hipótesis usando scipy](https://docs.scipy.org/doc/scipy/reference/generated/scipy.stats.ttest_ind.html)\n",
        "* [Test de Welch](http://daniellakens.blogspot.com/2015/01/always-use-welchs-t-test-instead-of.html)"
      ]
    },
    {
      "cell_type": "code",
      "source": [
        "stats.ttest_ind(array_h, array_o, equal_var=False)"
      ],
      "metadata": {
        "colab": {
          "base_uri": "https://localhost:8080/"
        },
        "id": "fq9HXDRqXgyF",
        "outputId": "c649fe47-b98d-4156-e22a-2272eb0fe805"
      },
      "execution_count": null,
      "outputs": [
        {
          "output_type": "execute_result",
          "data": {
            "text/plain": [
              "Ttest_indResult(statistic=9.045105354221, pvalue=4.628559359012017e-19)"
            ]
          },
          "metadata": {},
          "execution_count": 94
        }
      ]
    },
    {
      "cell_type": "markdown",
      "source": [
        "Según pudimos observar en los datos obtenidos en el ejercicio anterior vimos que el intervalo de confianza no contiene al valor 0 y, además, el p-valor **NO** es mayor a alpha; por lo tanto podemos decir que rechazamos con confianza la hipótesis nula, es decir, que existen diferencias entre los salarios netos de ambos grupos."
      ],
      "metadata": {
        "id": "HNrUlAtpZyVg"
      }
    },
    {
      "cell_type": "markdown",
      "metadata": {
        "id": "8VxiQr5YrQYR"
      },
      "source": [
        "### [Opcional] 2.3 Potencia del test\n",
        "\n",
        "Nuestra muestra, ¿era lo suficientemente grande para detectar si existe o no una diferencia entre los grupos?\n",
        "\n",
        "1. Utilice la función `tt_ind_solve_power` para calcular el tamaño necesario de la muestra para un poder estadístico de 0.8, 0.9 y 0.95, asumiendo una significancia estadística de 0.05.\n",
        "2. ¿Cómo intepretan el poder estadístico de un test? Dado su conocimiento de dominio sobre los datos, ¿les parece que esta muestra es lo suficientemente grande para ser representativo de la tendencia general? ¿y para utilizarlo en un juicio penal contra una empresa XX por una causa de discriminación?\n",
        "\n",
        "[Documentación](https://www.statsmodels.org/stable/generated/statsmodels.stats.power.tt_ind_solve_power.html)\n",
        "\n",
        "NOTA: este análisis debería hacerse ANTES de recolectar los datos."
      ]
    },
    {
      "cell_type": "markdown",
      "source": [
        "**1. Tamaño de muestra necesaria**"
      ],
      "metadata": {
        "id": "xOkqfzq6oV_G"
      }
    },
    {
      "cell_type": "code",
      "metadata": {
        "id": "_IiqGfo4t6Db"
      },
      "source": [
        "from statsmodels.stats.power import tt_ind_solve_power"
      ],
      "execution_count": null,
      "outputs": []
    },
    {
      "cell_type": "code",
      "metadata": {
        "id": "LUQ7MA2Apj9x"
      },
      "source": [
        "effect_size = (groupA.mean() - groupB.mean()) / groupB.std()\n",
        "# nobs1=None  - What we want to know\n",
        "alpha = 0.05\n",
        "ratio = len(groupB) / len(groupA)"
      ],
      "execution_count": null,
      "outputs": []
    },
    {
      "cell_type": "code",
      "source": [
        "effect_size"
      ],
      "metadata": {
        "colab": {
          "base_uri": "https://localhost:8080/"
        },
        "id": "1hE7kPI6dcU-",
        "outputId": "77870a52-3b9d-4f13-a6fc-a623455cb7e7"
      },
      "execution_count": null,
      "outputs": [
        {
          "output_type": "execute_result",
          "data": {
            "text/plain": [
              "0.35210856814196556"
            ]
          },
          "metadata": {},
          "execution_count": 97
        }
      ]
    },
    {
      "cell_type": "code",
      "source": [
        "for i in [0.8, 0.9,0.95,1]:\n",
        "  result = tt_ind_solve_power(nobs1=None,effect_size = effect_size, alpha=alpha, power=i, ratio=ratio)\n",
        "  print(\"Tamaño de muestra necesario para un poder estadistico \",i,\"es \",result)"
      ],
      "metadata": {
        "colab": {
          "base_uri": "https://localhost:8080/"
        },
        "id": "xRZtK4kWfiXq",
        "outputId": "dbace0f9-5a46-4909-e521-399cba3bfe8c"
      },
      "execution_count": null,
      "outputs": [
        {
          "output_type": "stream",
          "name": "stdout",
          "text": [
            "Tamaño de muestra necesario para un poder estadistico  0.8 es  401.78940402479583\n",
            "Tamaño de muestra necesario para un poder estadistico  0.9 es  537.3320672681641\n",
            "Tamaño de muestra necesario para un poder estadistico  0.95 es  664.14325393866\n",
            "Tamaño de muestra necesario para un poder estadistico  1 es  5000.0\n"
          ]
        }
      ]
    },
    {
      "cell_type": "markdown",
      "source": [
        "**2. Poder estadístico según el tamaño de nuestra muestra**"
      ],
      "metadata": {
        "id": "nOjYAb9woz_Z"
      }
    },
    {
      "cell_type": "code",
      "source": [
        "array_h.size"
      ],
      "metadata": {
        "colab": {
          "base_uri": "https://localhost:8080/"
        },
        "id": "XG00SXtnkP95",
        "outputId": "cba38b3d-c31a-4714-df0e-b7f9dd01bce7"
      },
      "execution_count": null,
      "outputs": [
        {
          "output_type": "execute_result",
          "data": {
            "text/plain": [
              "4608"
            ]
          },
          "metadata": {},
          "execution_count": 116
        }
      ]
    },
    {
      "cell_type": "code",
      "metadata": {
        "id": "cvHcpY-3ty8Q",
        "colab": {
          "base_uri": "https://localhost:8080/"
        },
        "outputId": "40da9ace-dd2f-4b28-e97b-e802f87edafb"
      },
      "source": [
        "tt_ind_solve_power(nobs1=array_h.size,effect_size = effect_size, alpha=alpha, power=None, ratio=ratio)"
      ],
      "execution_count": null,
      "outputs": [
        {
          "output_type": "execute_result",
          "data": {
            "text/plain": [
              "1.0"
            ]
          },
          "metadata": {},
          "execution_count": 99
        }
      ]
    },
    {
      "cell_type": "markdown",
      "source": [
        "Si bien el poder estadístico del test da 1, consideramos que al no conocer el tamaño de la población real no podemos inferir en que sea representativo de la tendencia general y mucho menos para ser utilizado en un juicio penal como establece la consigna."
      ],
      "metadata": {
        "id": "xkPmPdZWgWJc"
      }
    },
    {
      "cell_type": "code",
      "source": [
        ""
      ],
      "metadata": {
        "id": "B-bBsdHGSQsT"
      },
      "execution_count": null,
      "outputs": []
    },
    {
      "cell_type": "markdown",
      "metadata": {
        "id": "useKMdPyMod5"
      },
      "source": [
        "## Ejercicio 3: Comunicación y visualización\n",
        "\n",
        "**Consigna:** Seleccionen un resultado que les parezca relevante a partir de alguno de los ejercicios del entregable. Diseñe e implemente una comunicación en base a este mensaje, en un archivo PDF.\n",
        "\n",
        "Elija las palabras y visualización más adecuada para que la comunicación sea entendible, efectiva y se dapte a UNA de las siguientes situaciones:\n",
        "\n",
        "1. Una sección en un artículo de difusión a presentar como parte de una organización sin fines de lucro.\n",
        "No más de 1 página A4 (o dos si los gráficos son muy grandes).\n",
        "  1. Ejemplo: Alguna de las secciones [Los ecosistemas de emprendimiento de América Latina y el Caribe frente al COVID-19: Impactos, necesidades y recomendaciones](https://publications.iadb.org/es/los-ecosistemas-de-emprendimiento-de-america-latina-y-el-caribe-frente-al-covid-19-impactos-necesidades-y-recomendaciones), por ejemplo la sección *2.2. Reacciones de los emprendedores*.\n",
        "  2. Ejemplo: Alguna de las secciones de [The state of gender pay gap in 2021](https://www.payscale.com/data/gender-pay-gap?tk=carousel-ps-rc-job)\n",
        "  3. Puntos clave: \n",
        "    1. Simpleza de los gráficos.\n",
        "    2. Comunicación en lenguaje simple a personas que no son necesariamente expertos de dominio.\n",
        "    2. Selección de UNA oración sobre la que se hace énfasis.\n",
        "    3. No es necesario que mencionen objetivos ni descripciones del conjunto de datos, se supone que eso ya estaría explicado en otras secciones del informe.\n",
        "\n",
        "2. Una publicación científica o reporte técnico interno. No más de una página A4:\n",
        "  2. Ejemplo: La sección de resultados de [IZA DP No. 12914: The Impact of a Minimum Wage Change on the Distribution of Wages and Household Income](https://www.iza.org/publications/dp/12914/the-impact-of-a-minimum-wage-change-on-the-distribution-of-wages-and-household-income).\n",
        "  2. Ejemplo: Alguna de las secciones de [Temporary reduction in daily global CO2 emissions during the COVID-19 forced confinement](https://www.nature.com/articles/s41558-020-0797-x)\n",
        "  3. Puntos clave:\n",
        "    3. Nivel de detalle técnico requerido. Es necesario justificar la validez del análisis.\n",
        "    4. La idea presentada puede ser más compleja. Pueden asumir que la audiencia tiene conocimiento técnico y va a analizar las visualizaciones en detalle. \n",
        "    5. Pueden presentar más en detalle las limitaciones del análisis (significancia estadística, etc.)\n",
        "    2. No es necesario que mencionen objetivos ni descripciones del conjunto de datos, se supone que eso ya estaría explicado en otras secciones del informe.\n",
        "\n",
        "3. Un tweet (o post de LinkedIn) para la cuenta de su empresa consultora que hace análisis de datos. El objetivo es promocionar un análisis de datos abiertos que van a incluir en su portfolio:\n",
        "  1. Ejemplo: [Comparación vacunas covid](https://twitter.com/infobeautiful/status/1381577746527236098?s=20)\n",
        "  2. Ejemplo: [Tweet del BID](https://twitter.com/el_BID/status/1388508583944507396?s=20). Lo valioso de este tweet es que usaron un único número para transmitir un mensaje. Puede ser algo así, o con un gráfico muy simple.\n",
        "  3. Ejemplo: [Cambio climático](https://twitter.com/UNFCCC/status/1387732156190011394?s=20) Es un muy buen ejemplo, excepto que el gráfico no se lee nada y hay que entrar a la publicación original.\n",
        "  3. Ejemplo: [¿Cuánto están los programadores en las empresas?](https://www.linkedin.com/posts/denis-rothman-0b034043_tech-career-work-activity-6793861923269054464-gS6y) (No verificamos la veracidad o seriedad de la fuente).\n",
        "  4. Puntos clave:\n",
        "    1. Su audiencia no va a mirar la visualización por más de unos segundos, y no tiene conocimiento técnico.\n",
        "  3. Tienen que incluir además una *breve* descripción de cómo obtuvieron los datos que están presentando, que no entraría en el tweet.\n"
      ]
    },
    {
      "cell_type": "markdown",
      "source": [
        "**Elegimos mostrar la diferencia entre los salarios netos entre hombres y mujeres según su nivel de estudios.**"
      ],
      "metadata": {
        "id": "gHTHzMswpGKX"
      }
    },
    {
      "cell_type": "code",
      "source": [
        "is_uni = df.profile_studies_level == 'Universitario'\n",
        "is_ter = df.profile_studies_level == 'Terciario'\n",
        "is_pos = df.profile_studies_level == 'Posgrado'"
      ],
      "metadata": {
        "id": "QNKNToPvmiHk"
      },
      "execution_count": null,
      "outputs": []
    },
    {
      "cell_type": "markdown",
      "source": [
        "Universitario"
      ],
      "metadata": {
        "id": "aFhGbWXor2Vp"
      }
    },
    {
      "cell_type": "code",
      "metadata": {
        "id": "twwYHUztt45L",
        "colab": {
          "base_uri": "https://localhost:8080/"
        },
        "outputId": "dff8acf0-4bf7-44b3-890d-83305d515d96"
      },
      "source": [
        "#Hombres\n",
        "df[is_man & is_uni]['salary_monthly_NETO'].mean()"
      ],
      "execution_count": null,
      "outputs": [
        {
          "output_type": "execute_result",
          "data": {
            "text/plain": [
              "93721.38289354838"
            ]
          },
          "metadata": {},
          "execution_count": 101
        }
      ]
    },
    {
      "cell_type": "code",
      "source": [
        "# Redondeo y guardo en variable ##mismo para el resto \n",
        "uni_h = round(df[is_man & is_uni]['salary_monthly_NETO'].mean())\n",
        "uni_h"
      ],
      "metadata": {
        "colab": {
          "base_uri": "https://localhost:8080/"
        },
        "id": "Nqzo5F1acpRy",
        "outputId": "7c6a4078-f875-4a90-f1eb-8e5703aca000"
      },
      "execution_count": null,
      "outputs": [
        {
          "output_type": "execute_result",
          "data": {
            "text/plain": [
              "93721"
            ]
          },
          "metadata": {},
          "execution_count": 102
        }
      ]
    },
    {
      "cell_type": "code",
      "source": [
        "#Mujeres\n",
        "df[is_woman & is_uni]['salary_monthly_NETO'].mean()"
      ],
      "metadata": {
        "id": "kExATwz8mZu_",
        "colab": {
          "base_uri": "https://localhost:8080/"
        },
        "outputId": "19f29620-c5f5-4000-b4a1-a1878f95699d"
      },
      "execution_count": null,
      "outputs": [
        {
          "output_type": "execute_result",
          "data": {
            "text/plain": [
              "76289.9170637584"
            ]
          },
          "metadata": {},
          "execution_count": 103
        }
      ]
    },
    {
      "cell_type": "code",
      "source": [
        "uni_m = round(df[is_woman & is_uni]['salary_monthly_NETO'].mean())\n",
        "uni_m"
      ],
      "metadata": {
        "colab": {
          "base_uri": "https://localhost:8080/"
        },
        "id": "Jvh_6i9Nc74t",
        "outputId": "3b871159-8e9a-4777-ae06-13af43fd505b"
      },
      "execution_count": null,
      "outputs": [
        {
          "output_type": "execute_result",
          "data": {
            "text/plain": [
              "76290"
            ]
          },
          "metadata": {},
          "execution_count": 104
        }
      ]
    },
    {
      "cell_type": "markdown",
      "source": [
        "Terciario"
      ],
      "metadata": {
        "id": "ftctugENr6-x"
      }
    },
    {
      "cell_type": "code",
      "source": [
        "#Hombres\n",
        "df[is_man & is_ter]['salary_monthly_NETO'].mean()"
      ],
      "metadata": {
        "id": "ixVFopMHmx2o",
        "colab": {
          "base_uri": "https://localhost:8080/"
        },
        "outputId": "bfd3db3b-bc8d-4e99-f4c2-09fc2149f0dd"
      },
      "execution_count": null,
      "outputs": [
        {
          "output_type": "execute_result",
          "data": {
            "text/plain": [
              "79911.03655756208"
            ]
          },
          "metadata": {},
          "execution_count": 105
        }
      ]
    },
    {
      "cell_type": "code",
      "source": [
        "ter_h = round(df[is_man & is_ter]['salary_monthly_NETO'].mean())\n",
        "ter_h"
      ],
      "metadata": {
        "colab": {
          "base_uri": "https://localhost:8080/"
        },
        "id": "1XLIz9dpdEff",
        "outputId": "732a6bce-bf86-4aaa-906b-eec2accde287"
      },
      "execution_count": null,
      "outputs": [
        {
          "output_type": "execute_result",
          "data": {
            "text/plain": [
              "79911"
            ]
          },
          "metadata": {},
          "execution_count": 106
        }
      ]
    },
    {
      "cell_type": "code",
      "source": [
        "#Mujeres\n",
        "df[is_woman & is_ter]['salary_monthly_NETO'].mean()"
      ],
      "metadata": {
        "id": "JXg-AOeUqsBo",
        "colab": {
          "base_uri": "https://localhost:8080/"
        },
        "outputId": "31e22fd0-a6b1-4b70-b2fd-886d7b97498f"
      },
      "execution_count": null,
      "outputs": [
        {
          "output_type": "execute_result",
          "data": {
            "text/plain": [
              "68888.22944055943"
            ]
          },
          "metadata": {},
          "execution_count": 107
        }
      ]
    },
    {
      "cell_type": "code",
      "source": [
        "ter_m = round(df[is_woman & is_ter]['salary_monthly_NETO'].mean())\n",
        "ter_m"
      ],
      "metadata": {
        "colab": {
          "base_uri": "https://localhost:8080/"
        },
        "id": "7yMsSTfKdLuV",
        "outputId": "dabc4d0c-4b92-4e07-c638-d67d6fb1001b"
      },
      "execution_count": null,
      "outputs": [
        {
          "output_type": "execute_result",
          "data": {
            "text/plain": [
              "68888"
            ]
          },
          "metadata": {},
          "execution_count": 108
        }
      ]
    },
    {
      "cell_type": "markdown",
      "source": [
        "Posgrado"
      ],
      "metadata": {
        "id": "MqdbRMBGsC4R"
      }
    },
    {
      "cell_type": "code",
      "source": [
        "#Hombres\n",
        "df[is_man & is_pos]['salary_monthly_NETO'].mean()"
      ],
      "metadata": {
        "id": "wMrFAusvsEVL",
        "colab": {
          "base_uri": "https://localhost:8080/"
        },
        "outputId": "1ab29bb8-dbdf-4bca-9ced-65c34ddaf1f9"
      },
      "execution_count": null,
      "outputs": [
        {
          "output_type": "execute_result",
          "data": {
            "text/plain": [
              "122197.31140350878"
            ]
          },
          "metadata": {},
          "execution_count": 109
        }
      ]
    },
    {
      "cell_type": "code",
      "source": [
        "pos_h = round(df[is_man & is_pos]['salary_monthly_NETO'].mean())\n",
        "pos_h"
      ],
      "metadata": {
        "colab": {
          "base_uri": "https://localhost:8080/"
        },
        "id": "nhYN6MIedU00",
        "outputId": "ca7e1aae-ac31-4368-f393-1b06e02d1da8"
      },
      "execution_count": null,
      "outputs": [
        {
          "output_type": "execute_result",
          "data": {
            "text/plain": [
              "122197"
            ]
          },
          "metadata": {},
          "execution_count": 110
        }
      ]
    },
    {
      "cell_type": "code",
      "source": [
        "#Mujeres\n",
        "df[is_woman & is_pos]['salary_monthly_NETO'].mean()"
      ],
      "metadata": {
        "id": "OBbkkqCFsJpa",
        "colab": {
          "base_uri": "https://localhost:8080/"
        },
        "outputId": "56544002-8f85-408c-f04a-fe5f26de020f"
      },
      "execution_count": null,
      "outputs": [
        {
          "output_type": "execute_result",
          "data": {
            "text/plain": [
              "94241.64085714286"
            ]
          },
          "metadata": {},
          "execution_count": 111
        }
      ]
    },
    {
      "cell_type": "code",
      "source": [
        "pos_m = round(df[is_woman & is_pos]['salary_monthly_NETO'].mean())\n",
        "pos_m"
      ],
      "metadata": {
        "colab": {
          "base_uri": "https://localhost:8080/"
        },
        "id": "KWET30yudaN1",
        "outputId": "ff6887a0-cd99-41e2-afeb-da2902ab45b7"
      },
      "execution_count": null,
      "outputs": [
        {
          "output_type": "execute_result",
          "data": {
            "text/plain": [
              "94242"
            ]
          },
          "metadata": {},
          "execution_count": 112
        }
      ]
    },
    {
      "cell_type": "markdown",
      "source": [
        "**Tabla de Medias de salario NETO según nivel de estudio entre hombres y mujeres**\n"
      ],
      "metadata": {
        "id": "HRQCMV0idiZB"
      }
    },
    {
      "cell_type": "code",
      "source": [
        "# Números redondeados para el gráfico \n",
        "gender = ['Hombre', 'Mujer']\n",
        "d = {'Terciario' : pd.Series([ter_h, ter_m], index = gender),\n",
        "    'Universitario' : pd.Series([uni_h, uni_m], index = gender),  \n",
        "   'Posgrado' : pd.Series([pos_h, pos_m], index = gender)}  \n",
        "\n",
        "dframe = pd.DataFrame(d)\n",
        "dframe  "
      ],
      "metadata": {
        "colab": {
          "base_uri": "https://localhost:8080/",
          "height": 112
        },
        "id": "mUIj48kIdjq5",
        "outputId": "cfa8bbf7-e893-4625-9297-9ab73451f53c"
      },
      "execution_count": null,
      "outputs": [
        {
          "output_type": "execute_result",
          "data": {
            "text/plain": [
              "        Terciario  Universitario  Posgrado\n",
              "Hombre      79911          93721    122197\n",
              "Mujer       68888          76290     94242"
            ],
            "text/html": [
              "\n",
              "  <div id=\"df-5ed7ee77-2a52-4eb3-ade3-baced6a371ce\">\n",
              "    <div class=\"colab-df-container\">\n",
              "      <div>\n",
              "<style scoped>\n",
              "    .dataframe tbody tr th:only-of-type {\n",
              "        vertical-align: middle;\n",
              "    }\n",
              "\n",
              "    .dataframe tbody tr th {\n",
              "        vertical-align: top;\n",
              "    }\n",
              "\n",
              "    .dataframe thead th {\n",
              "        text-align: right;\n",
              "    }\n",
              "</style>\n",
              "<table border=\"1\" class=\"dataframe\">\n",
              "  <thead>\n",
              "    <tr style=\"text-align: right;\">\n",
              "      <th></th>\n",
              "      <th>Terciario</th>\n",
              "      <th>Universitario</th>\n",
              "      <th>Posgrado</th>\n",
              "    </tr>\n",
              "  </thead>\n",
              "  <tbody>\n",
              "    <tr>\n",
              "      <th>Hombre</th>\n",
              "      <td>79911</td>\n",
              "      <td>93721</td>\n",
              "      <td>122197</td>\n",
              "    </tr>\n",
              "    <tr>\n",
              "      <th>Mujer</th>\n",
              "      <td>68888</td>\n",
              "      <td>76290</td>\n",
              "      <td>94242</td>\n",
              "    </tr>\n",
              "  </tbody>\n",
              "</table>\n",
              "</div>\n",
              "      <button class=\"colab-df-convert\" onclick=\"convertToInteractive('df-5ed7ee77-2a52-4eb3-ade3-baced6a371ce')\"\n",
              "              title=\"Convert this dataframe to an interactive table.\"\n",
              "              style=\"display:none;\">\n",
              "        \n",
              "  <svg xmlns=\"http://www.w3.org/2000/svg\" height=\"24px\"viewBox=\"0 0 24 24\"\n",
              "       width=\"24px\">\n",
              "    <path d=\"M0 0h24v24H0V0z\" fill=\"none\"/>\n",
              "    <path d=\"M18.56 5.44l.94 2.06.94-2.06 2.06-.94-2.06-.94-.94-2.06-.94 2.06-2.06.94zm-11 1L8.5 8.5l.94-2.06 2.06-.94-2.06-.94L8.5 2.5l-.94 2.06-2.06.94zm10 10l.94 2.06.94-2.06 2.06-.94-2.06-.94-.94-2.06-.94 2.06-2.06.94z\"/><path d=\"M17.41 7.96l-1.37-1.37c-.4-.4-.92-.59-1.43-.59-.52 0-1.04.2-1.43.59L10.3 9.45l-7.72 7.72c-.78.78-.78 2.05 0 2.83L4 21.41c.39.39.9.59 1.41.59.51 0 1.02-.2 1.41-.59l7.78-7.78 2.81-2.81c.8-.78.8-2.07 0-2.86zM5.41 20L4 18.59l7.72-7.72 1.47 1.35L5.41 20z\"/>\n",
              "  </svg>\n",
              "      </button>\n",
              "      \n",
              "  <style>\n",
              "    .colab-df-container {\n",
              "      display:flex;\n",
              "      flex-wrap:wrap;\n",
              "      gap: 12px;\n",
              "    }\n",
              "\n",
              "    .colab-df-convert {\n",
              "      background-color: #E8F0FE;\n",
              "      border: none;\n",
              "      border-radius: 50%;\n",
              "      cursor: pointer;\n",
              "      display: none;\n",
              "      fill: #1967D2;\n",
              "      height: 32px;\n",
              "      padding: 0 0 0 0;\n",
              "      width: 32px;\n",
              "    }\n",
              "\n",
              "    .colab-df-convert:hover {\n",
              "      background-color: #E2EBFA;\n",
              "      box-shadow: 0px 1px 2px rgba(60, 64, 67, 0.3), 0px 1px 3px 1px rgba(60, 64, 67, 0.15);\n",
              "      fill: #174EA6;\n",
              "    }\n",
              "\n",
              "    [theme=dark] .colab-df-convert {\n",
              "      background-color: #3B4455;\n",
              "      fill: #D2E3FC;\n",
              "    }\n",
              "\n",
              "    [theme=dark] .colab-df-convert:hover {\n",
              "      background-color: #434B5C;\n",
              "      box-shadow: 0px 1px 3px 1px rgba(0, 0, 0, 0.15);\n",
              "      filter: drop-shadow(0px 1px 2px rgba(0, 0, 0, 0.3));\n",
              "      fill: #FFFFFF;\n",
              "    }\n",
              "  </style>\n",
              "\n",
              "      <script>\n",
              "        const buttonEl =\n",
              "          document.querySelector('#df-5ed7ee77-2a52-4eb3-ade3-baced6a371ce button.colab-df-convert');\n",
              "        buttonEl.style.display =\n",
              "          google.colab.kernel.accessAllowed ? 'block' : 'none';\n",
              "\n",
              "        async function convertToInteractive(key) {\n",
              "          const element = document.querySelector('#df-5ed7ee77-2a52-4eb3-ade3-baced6a371ce');\n",
              "          const dataTable =\n",
              "            await google.colab.kernel.invokeFunction('convertToInteractive',\n",
              "                                                     [key], {});\n",
              "          if (!dataTable) return;\n",
              "\n",
              "          const docLinkHtml = 'Like what you see? Visit the ' +\n",
              "            '<a target=\"_blank\" href=https://colab.research.google.com/notebooks/data_table.ipynb>data table notebook</a>'\n",
              "            + ' to learn more about interactive tables.';\n",
              "          element.innerHTML = '';\n",
              "          dataTable['output_type'] = 'display_data';\n",
              "          await google.colab.output.renderOutput(dataTable, element);\n",
              "          const docLink = document.createElement('div');\n",
              "          docLink.innerHTML = docLinkHtml;\n",
              "          element.appendChild(docLink);\n",
              "        }\n",
              "      </script>\n",
              "    </div>\n",
              "  </div>\n",
              "  "
            ]
          },
          "metadata": {},
          "execution_count": 113
        }
      ]
    },
    {
      "cell_type": "code",
      "source": [
        "# Transpuesta\n",
        "dframe = dframe.transpose()\n",
        "dframe"
      ],
      "metadata": {
        "colab": {
          "base_uri": "https://localhost:8080/",
          "height": 143
        },
        "id": "rvWE_nq0dr7v",
        "outputId": "bf755e84-d54f-49aa-ba93-d47f34c6b2d4"
      },
      "execution_count": null,
      "outputs": [
        {
          "output_type": "execute_result",
          "data": {
            "text/plain": [
              "               Hombre  Mujer\n",
              "Terciario       79911  68888\n",
              "Universitario   93721  76290\n",
              "Posgrado       122197  94242"
            ],
            "text/html": [
              "\n",
              "  <div id=\"df-8113f89a-3251-433a-a13e-228ab6889642\">\n",
              "    <div class=\"colab-df-container\">\n",
              "      <div>\n",
              "<style scoped>\n",
              "    .dataframe tbody tr th:only-of-type {\n",
              "        vertical-align: middle;\n",
              "    }\n",
              "\n",
              "    .dataframe tbody tr th {\n",
              "        vertical-align: top;\n",
              "    }\n",
              "\n",
              "    .dataframe thead th {\n",
              "        text-align: right;\n",
              "    }\n",
              "</style>\n",
              "<table border=\"1\" class=\"dataframe\">\n",
              "  <thead>\n",
              "    <tr style=\"text-align: right;\">\n",
              "      <th></th>\n",
              "      <th>Hombre</th>\n",
              "      <th>Mujer</th>\n",
              "    </tr>\n",
              "  </thead>\n",
              "  <tbody>\n",
              "    <tr>\n",
              "      <th>Terciario</th>\n",
              "      <td>79911</td>\n",
              "      <td>68888</td>\n",
              "    </tr>\n",
              "    <tr>\n",
              "      <th>Universitario</th>\n",
              "      <td>93721</td>\n",
              "      <td>76290</td>\n",
              "    </tr>\n",
              "    <tr>\n",
              "      <th>Posgrado</th>\n",
              "      <td>122197</td>\n",
              "      <td>94242</td>\n",
              "    </tr>\n",
              "  </tbody>\n",
              "</table>\n",
              "</div>\n",
              "      <button class=\"colab-df-convert\" onclick=\"convertToInteractive('df-8113f89a-3251-433a-a13e-228ab6889642')\"\n",
              "              title=\"Convert this dataframe to an interactive table.\"\n",
              "              style=\"display:none;\">\n",
              "        \n",
              "  <svg xmlns=\"http://www.w3.org/2000/svg\" height=\"24px\"viewBox=\"0 0 24 24\"\n",
              "       width=\"24px\">\n",
              "    <path d=\"M0 0h24v24H0V0z\" fill=\"none\"/>\n",
              "    <path d=\"M18.56 5.44l.94 2.06.94-2.06 2.06-.94-2.06-.94-.94-2.06-.94 2.06-2.06.94zm-11 1L8.5 8.5l.94-2.06 2.06-.94-2.06-.94L8.5 2.5l-.94 2.06-2.06.94zm10 10l.94 2.06.94-2.06 2.06-.94-2.06-.94-.94-2.06-.94 2.06-2.06.94z\"/><path d=\"M17.41 7.96l-1.37-1.37c-.4-.4-.92-.59-1.43-.59-.52 0-1.04.2-1.43.59L10.3 9.45l-7.72 7.72c-.78.78-.78 2.05 0 2.83L4 21.41c.39.39.9.59 1.41.59.51 0 1.02-.2 1.41-.59l7.78-7.78 2.81-2.81c.8-.78.8-2.07 0-2.86zM5.41 20L4 18.59l7.72-7.72 1.47 1.35L5.41 20z\"/>\n",
              "  </svg>\n",
              "      </button>\n",
              "      \n",
              "  <style>\n",
              "    .colab-df-container {\n",
              "      display:flex;\n",
              "      flex-wrap:wrap;\n",
              "      gap: 12px;\n",
              "    }\n",
              "\n",
              "    .colab-df-convert {\n",
              "      background-color: #E8F0FE;\n",
              "      border: none;\n",
              "      border-radius: 50%;\n",
              "      cursor: pointer;\n",
              "      display: none;\n",
              "      fill: #1967D2;\n",
              "      height: 32px;\n",
              "      padding: 0 0 0 0;\n",
              "      width: 32px;\n",
              "    }\n",
              "\n",
              "    .colab-df-convert:hover {\n",
              "      background-color: #E2EBFA;\n",
              "      box-shadow: 0px 1px 2px rgba(60, 64, 67, 0.3), 0px 1px 3px 1px rgba(60, 64, 67, 0.15);\n",
              "      fill: #174EA6;\n",
              "    }\n",
              "\n",
              "    [theme=dark] .colab-df-convert {\n",
              "      background-color: #3B4455;\n",
              "      fill: #D2E3FC;\n",
              "    }\n",
              "\n",
              "    [theme=dark] .colab-df-convert:hover {\n",
              "      background-color: #434B5C;\n",
              "      box-shadow: 0px 1px 3px 1px rgba(0, 0, 0, 0.15);\n",
              "      filter: drop-shadow(0px 1px 2px rgba(0, 0, 0, 0.3));\n",
              "      fill: #FFFFFF;\n",
              "    }\n",
              "  </style>\n",
              "\n",
              "      <script>\n",
              "        const buttonEl =\n",
              "          document.querySelector('#df-8113f89a-3251-433a-a13e-228ab6889642 button.colab-df-convert');\n",
              "        buttonEl.style.display =\n",
              "          google.colab.kernel.accessAllowed ? 'block' : 'none';\n",
              "\n",
              "        async function convertToInteractive(key) {\n",
              "          const element = document.querySelector('#df-8113f89a-3251-433a-a13e-228ab6889642');\n",
              "          const dataTable =\n",
              "            await google.colab.kernel.invokeFunction('convertToInteractive',\n",
              "                                                     [key], {});\n",
              "          if (!dataTable) return;\n",
              "\n",
              "          const docLinkHtml = 'Like what you see? Visit the ' +\n",
              "            '<a target=\"_blank\" href=https://colab.research.google.com/notebooks/data_table.ipynb>data table notebook</a>'\n",
              "            + ' to learn more about interactive tables.';\n",
              "          element.innerHTML = '';\n",
              "          dataTable['output_type'] = 'display_data';\n",
              "          await google.colab.output.renderOutput(dataTable, element);\n",
              "          const docLink = document.createElement('div');\n",
              "          docLink.innerHTML = docLinkHtml;\n",
              "          element.appendChild(docLink);\n",
              "        }\n",
              "      </script>\n",
              "    </div>\n",
              "  </div>\n",
              "  "
            ]
          },
          "metadata": {},
          "execution_count": 114
        }
      ]
    },
    {
      "cell_type": "code",
      "source": [
        "ax = dframe.plot(kind='bar',alpha=0.75, rot=0, figsize=(16,10))\n",
        "plt.title(\"Salario medio según nivel de estudios entre hombres y mujeres\",fontsize= 16)\n",
        "\n",
        "for p in ax.patches:\n",
        "    width = p.get_width()\n",
        "    height = p.get_height()\n",
        "    x, y = p.get_xy() \n",
        "    ax.annotate(f'${height}', (x + width/2, y + height*1.02), ha='center')"
      ],
      "metadata": {
        "colab": {
          "base_uri": "https://localhost:8080/",
          "height": 613
        },
        "id": "SoZ1dY6GeFBL",
        "outputId": "246998b1-8cb1-4ab2-9880-8c61fe331686"
      },
      "execution_count": null,
      "outputs": [
        {
          "output_type": "display_data",
          "data": {
            "text/plain": [
              "<Figure size 1152x720 with 1 Axes>"
            ],
            "image/png": "[encoded data removed]"
          },
          "metadata": {}
        }
      ]
    }
  ]
}