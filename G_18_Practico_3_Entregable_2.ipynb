{
  "nbformat": 4,
  "nbformat_minor": 0,
  "metadata": {
    "colab": {
      "provenance": [],
      "collapsed_sections": [],
      "include_colab_link": true
    },
    "kernelspec": {
      "name": "python3",
      "display_name": "Python 3"
    },
    "language_info": {
      "name": "python"
    }
  },
  "cells": [
    {
      "cell_type": "markdown",
      "metadata": {
        "id": "view-in-github",
        "colab_type": "text"
      },
      "source": [
        "<a href=\"https://colab.research.google.com/github/agustinperalta/Diplodatos-g18/blob/main/G_18_Practico_3_Entregable_2.ipynb\" target=\"_parent\"><img src=\"https://colab.research.google.com/assets/colab-badge.svg\" alt=\"Open In Colab\"/></a>"
      ]
    },
    {
      "cell_type": "markdown",
      "source": [
        "**Diplomatura en Ciencia de Datos, Aprendizaje Automático y sus Aplicaciones**\n",
        "\n",
        "**Introducción al aprendizaje automático**\n",
        "\n",
        "*Edición 2022*\n",
        "\n",
        "---\n",
        "\n",
        "### *Grupo N°:* 18\n",
        "\n",
        "### *Integrantes:*\n",
        "#### Parada Larrosa, Francisco\n",
        "#### Peralta, Agustín\n",
        "####  Porcel, Carolina\n",
        "####  Quiros, Agustina\n",
        "\n",
        "# Laboratorio 2: Armado de un esquema de aprendizaje automático\n",
        "\n",
        "En el laboratorio final se espera que puedan poner en práctica los conocimientos adquiridos en el curso, trabajando con un conjunto de datos de clasificación.\n",
        "\n",
        "El objetivo es que se introduzcan en el desarrollo de un esquema para hacer tareas de aprendizaje automático: selección de un modelo, ajuste de hiperparámetros y evaluación.\n",
        "\n",
        "El conjunto de datos a utilizar está en `./data/loan_data.csv`. Si abren el archivo verán que al principio (las líneas que empiezan con `#`) describen el conjunto de datos y sus atributos (incluyendo el atributo de etiqueta o clase).\n",
        "\n",
        "Se espera que hagan uso de las herramientas vistas en el curso. Se espera que hagan uso especialmente de las herramientas brindadas por `scikit-learn`."
      ],
      "metadata": {
        "id": "m3f1OYs2yi69"
      }
    },
    {
      "cell_type": "code",
      "execution_count": 1,
      "metadata": {
        "id": "OwQLO3NIrp6-"
      },
      "outputs": [],
      "source": [
        "import numpy as np\n",
        "import pandas as pd\n",
        "\n",
        "# TODO: Agregar las librerías que hagan falta\n",
        "from sklearn.model_selection import train_test_split\n",
        "from sklearn.metrics import confusion_matrix\n",
        "from sklearn.metrics import accuracy_score\n",
        "from sklearn.metrics import precision_score\n",
        "from sklearn.metrics import accuracy_score\n",
        "from sklearn.metrics import recall_score\n",
        "from sklearn.metrics import f1_score\n",
        "from sklearn.preprocessing import MinMaxScaler\n",
        "from sklearn.metrics import ConfusionMatrixDisplay\n",
        "import matplotlib.pyplot as plt"
      ]
    },
    {
      "cell_type": "markdown",
      "source": [
        "## Ejercicio 1: Descripción de los Datos y la Tarea\n",
        "\n",
        "Responder las siguientes preguntas:\n",
        "\n",
        "1. ¿De qué se trata el conjunto de datos?\n",
        "2. ¿Cuál es la variable objetivo que hay que predecir? ¿Qué significado tiene?\n",
        "3. ¿Qué información (atributos) hay disponible para hacer la predicción?\n",
        "4. ¿Qué atributos imagina ud. que son los más determinantes para la predicción?\n",
        "\n",
        "**No hace falta escribir código para responder estas preguntas.**"
      ],
      "metadata": {
        "id": "7J4SwKFIy6SP"
      }
    },
    {
      "cell_type": "code",
      "source": [
        "dataset = pd.read_csv(\"https://raw.githubusercontent.com/DiploDatos/IntroduccionAprendizajeAutomatico/master/data/loan_data.csv\", comment=\"#\")"
      ],
      "metadata": {
        "id": "xh9maBNgr2IU"
      },
      "execution_count": 2,
      "outputs": []
    },
    {
      "cell_type": "code",
      "source": [
        "dataset"
      ],
      "metadata": {
        "id": "wis2jhxBz5BS"
      },
      "execution_count": null,
      "outputs": []
    },
    {
      "cell_type": "markdown",
      "source": [
        "**1**. El conjunto de datos es una muestra de un dataset de Kaggle que contiene información sobre una base de clientes de un banco que solicitan un crédito.\n",
        "\n",
        "**2**. La variable que hay que predecir es la variable target que indica si la persona es apta para recibir o no un crédito hipotecario\n",
        "\n",
        "**3.**\n",
        " TARGET:  Label: 1 = El cliente no cumplió la devolución del préstamo \n",
        "                0 = El préstamo fue reembolsado\n",
        "\n",
        " LOAN: Importe de la solicitud de préstamo\n",
        "\n",
        " MORTDUE: Cantidad adeudada en la hipoteca existente\n",
        "\n",
        " VALUE: Valor actual de la propiedad\n",
        "\n",
        " YOJ: Años de antigüedad en el trabajo actual\n",
        "\n",
        " DEROG: Números de informes negativos\n",
        "\n",
        " DELINQ: Número de líneas crediticias morosas\n",
        "\n",
        " CLAGE: Cantidad en meses de la línea comercial más antigua\n",
        "\n",
        " NINQ: Número de líneas de créditos recientes\n",
        "\n",
        " CLNO: Número de líneas de crédito\n",
        " \n",
        " DEBTINC: Relación deuda-ingresos\n",
        "\n",
        "**4.** Creemos que los más determinantes para la predicción serán:\n",
        "       DELINQ, DEBTINC, LOAN, DEROG"
      ],
      "metadata": {
        "id": "if4TgW4Sy-r0"
      }
    },
    {
      "cell_type": "markdown",
      "metadata": {
        "id": "rr3-5wYWpMs1"
      },
      "source": [
        "## Ejercicio 2: Predicción con Modelos Lineales\n",
        "\n",
        "En este ejercicio se entrenarán modelos lineales de clasificación para predecir la variable objetivo.\n",
        "\n",
        "Para ello, deberán utilizar la clase SGDClassifier de scikit-learn.\n",
        "\n",
        "Documentación:\n",
        "- https://scikit-learn.org/stable/modules/sgd.html\n",
        "- https://scikit-learn.org/stable/modules/generated/sklearn.linear_model.SGDClassifier.html\n"
      ]
    },
    {
      "cell_type": "markdown",
      "source": [
        "**Carga de datos y división en entrenamiento y evaluación**\n",
        "\n",
        "La celda siguiente se encarga de la carga de datos (haciendo uso de pandas). Estos serán los que se trabajarán en el resto del laboratorio."
      ],
      "metadata": {
        "id": "ZfgZ9Y1ry1Sk"
      }
    },
    {
      "cell_type": "code",
      "source": [
        "X, y = dataset.iloc[:, 1:], dataset.TARGET"
      ],
      "metadata": {
        "id": "vs0_Cui6r4_D"
      },
      "execution_count": 3,
      "outputs": []
    },
    {
      "cell_type": "markdown",
      "source": [
        "Division"
      ],
      "metadata": {
        "id": "Zz4xxXOrzk5r"
      }
    },
    {
      "cell_type": "code",
      "source": [
        "X_train,X_test,y_train,y_test = train_test_split(X,y,train_size=0.8, random_state=0)"
      ],
      "metadata": {
        "id": "-KVKu48Or6uv"
      },
      "execution_count": 4,
      "outputs": []
    },
    {
      "cell_type": "markdown",
      "source": [
        "Escalado con MinMaxScaler"
      ],
      "metadata": {
        "id": "8EjDNLPoyw0L"
      }
    },
    {
      "cell_type": "code",
      "source": [
        "transformer = MinMaxScaler().fit(X_train)\n",
        "X_train = transformer.transform(X_train)\n",
        "X_train"
      ],
      "metadata": {
        "colab": {
          "base_uri": "https://localhost:8080/"
        },
        "id": "6m6mSsyosQrx",
        "outputId": "31d7dba9-5329-4ab7-fc5a-03e10ee6babe"
      },
      "execution_count": 5,
      "outputs": [
        {
          "output_type": "execute_result",
          "data": {
            "text/plain": [
              "array([[0.08740068, 0.22020392, 0.21221918, ..., 0.09090909, 0.33846154,\n",
              "        0.24772681],\n",
              "       [0.14869467, 0.09740341, 0.08073554, ..., 0.09090909, 0.13846154,\n",
              "        0.18325638],\n",
              "       [0.20885358, 0.13738207, 0.11970963, ..., 0.18181818, 0.43076923,\n",
              "        0.25119346],\n",
              "       ...,\n",
              "       [0.12599319, 0.1232246 , 0.12753456, ..., 0.        , 0.24615385,\n",
              "        0.15792933],\n",
              "       [0.22247446, 0.14636413, 0.14859635, ..., 0.09090909, 0.33846154,\n",
              "        0.24214136],\n",
              "       [0.0692395 , 0.16261412, 0.12075946, ..., 0.        , 0.21538462,\n",
              "        0.29277269]])"
            ]
          },
          "metadata": {},
          "execution_count": 5
        }
      ]
    },
    {
      "cell_type": "code",
      "source": [
        "X_test = transformer.transform(X_test)\n",
        "X_test"
      ],
      "metadata": {
        "colab": {
          "base_uri": "https://localhost:8080/"
        },
        "id": "0TXUgkadxKot",
        "outputId": "0bb2b0e6-a8e2-431f-d0ba-c93dde8267f0"
      },
      "execution_count": 6,
      "outputs": [
        {
          "output_type": "execute_result",
          "data": {
            "text/plain": [
              "array([[0.02837684, 0.11323184, 0.07608656, ..., 0.        , 0.29230769,\n",
              "        0.1351224 ],\n",
              "       [0.19977299, 0.11409018, 0.11189284, ..., 0.27272727, 0.41538462,\n",
              "        0.24547311],\n",
              "       [0.12826334, 0.18573333, 0.17356044, ..., 0.        , 0.4       ,\n",
              "        0.1676507 ],\n",
              "       ...,\n",
              "       [0.28603859, 0.17070483, 0.16396951, ..., 0.        , 0.32307692,\n",
              "        0.24785972],\n",
              "       [0.12826334, 0.19035768, 0.18091336, ..., 0.09090909, 0.2       ,\n",
              "        0.23126416],\n",
              "       [0.14074915, 0.11852915, 0.08635703, ..., 0.36363636, 0.12307692,\n",
              "        0.23686435]])"
            ]
          },
          "metadata": {},
          "execution_count": 6
        }
      ]
    },
    {
      "cell_type": "markdown",
      "source": [
        "## Ejercicio 2.1: SGDClassifier con hiperparámetros por defecto\n",
        "\n",
        "Entrenar y evaluar el clasificador SGDClassifier usando los valores por omisión de scikit-learn para todos los parámetros. Únicamente **fijar la semilla aleatoria** para hacer repetible el experimento.\n",
        "\n",
        "Evaluar sobre el conjunto de **entrenamiento** y sobre el conjunto de **evaluación**, reportando:\n",
        "- Accuracy\n",
        "- Precision\n",
        "- Recall\n",
        "- F1\n",
        "- matriz de confusión"
      ],
      "metadata": {
        "id": "89t22iNiQf6C"
      }
    },
    {
      "cell_type": "code",
      "source": [
        "from sklearn.linear_model import SGDClassifier"
      ],
      "metadata": {
        "id": "U4JphX8fr9hr"
      },
      "execution_count": 7,
      "outputs": []
    },
    {
      "cell_type": "code",
      "source": [
        "# Utilizamos class_weight para ponderar los pesos de las clases dado que se encontraban muy desbalanceadas\n",
        "cl = SGDClassifier(random_state=123)"
      ],
      "metadata": {
        "id": "w80MbC_YsH3W"
      },
      "execution_count": 8,
      "outputs": []
    },
    {
      "cell_type": "code",
      "source": [
        "cl.fit(X_train,y_train)"
      ],
      "metadata": {
        "colab": {
          "base_uri": "https://localhost:8080/"
        },
        "id": "lfYHz2sesM0M",
        "outputId": "5fbfc9d5-f485-4c5d-a37d-5019d7cb2494"
      },
      "execution_count": 9,
      "outputs": [
        {
          "output_type": "execute_result",
          "data": {
            "text/plain": [
              "SGDClassifier(random_state=123)"
            ]
          },
          "metadata": {},
          "execution_count": 9
        }
      ]
    },
    {
      "cell_type": "code",
      "source": [
        "cl.coef_"
      ],
      "metadata": {
        "colab": {
          "base_uri": "https://localhost:8080/"
        },
        "id": "NoIAgQawskBd",
        "outputId": "3c2fefb1-1591-44e7-f179-3d157fe6832c"
      },
      "execution_count": 10,
      "outputs": [
        {
          "output_type": "execute_result",
          "data": {
            "text/plain": [
              "array([[-1.15299415, -1.34162404,  1.49652733, -0.38255258,  4.43710659,\n",
              "         4.25136725, -2.74877415, -0.16885395, -0.45402951,  7.92681144]])"
            ]
          },
          "metadata": {},
          "execution_count": 10
        }
      ]
    },
    {
      "cell_type": "code",
      "source": [
        "y_pred_train = cl.predict(X_train)"
      ],
      "metadata": {
        "id": "NRHdAv6vsmaj"
      },
      "execution_count": 11,
      "outputs": []
    },
    {
      "cell_type": "code",
      "source": [
        "print(\"Matriz de Confusión para train\\n\")\n",
        "confusion_matrix(y_train, y_pred_train)"
      ],
      "metadata": {
        "colab": {
          "base_uri": "https://localhost:8080/"
        },
        "id": "JFHOeNpBsocc",
        "outputId": "afd26cc8-1f11-4b69-cb76-cc1fd5b6c588"
      },
      "execution_count": 12,
      "outputs": [
        {
          "output_type": "stream",
          "name": "stdout",
          "text": [
            "Matriz de Confusión para test y pred\n",
            "\n"
          ]
        },
        {
          "output_type": "execute_result",
          "data": {
            "text/plain": [
              "array([[1227,    5],\n",
              "       [ 198,   53]])"
            ]
          },
          "metadata": {},
          "execution_count": 12
        }
      ]
    },
    {
      "cell_type": "code",
      "source": [
        "ConfusionMatrixDisplay.from_predictions(y_train, y_pred_train)\n",
        "plt.show()"
      ],
      "metadata": {
        "colab": {
          "base_uri": "https://localhost:8080/",
          "height": 279
        },
        "id": "XY52aDzVsrTz",
        "outputId": "a80843eb-5ae2-41b0-f904-97f1a39668ea"
      },
      "execution_count": 13,
      "outputs": [
        {
          "output_type": "display_data",
          "data": {
            "text/plain": [
              "<Figure size 432x288 with 2 Axes>"
            ],
            "image/png": "[encoded data removed]"
          },
          "metadata": {
            "needs_background": "light"
          }
        }
      ]
    },
    {
      "cell_type": "markdown",
      "source": [
        "\n",
        "\n",
        "> **Métricas para conjunto de entrenamiento con parámetros por defecto**\n",
        "\n"
      ],
      "metadata": {
        "id": "7NcDUNiGnS5C"
      }
    },
    {
      "cell_type": "code",
      "source": [
        "print(\"MÉTRICAS PARA CONJUNTO DE ENTRENAMIENTO\\n\")\n",
        "print(\"Accuracy:\",round(accuracy_score(y_train, y_pred_train),2))\n",
        "print(\"Precision:\",round(precision_score(y_train,y_pred_train),2))\n",
        "print(\"Recall:\",round(recall_score(y_train, y_pred_train),2))\n",
        "print(\"F1:\",round(f1_score(y_train, y_pred_train),2))"
      ],
      "metadata": {
        "colab": {
          "base_uri": "https://localhost:8080/"
        },
        "id": "QRWGZTB94ozJ",
        "outputId": "0bda3a21-de38-4449-84b0-243ec6dc2563"
      },
      "execution_count": 14,
      "outputs": [
        {
          "output_type": "stream",
          "name": "stdout",
          "text": [
            "MÉTRICAS PARA CONJUNTO DE ENTRENAMIENTO\n",
            "\n",
            "Accuracy: 0.86\n",
            "Precision: 0.91\n",
            "Recall: 0.21\n",
            "F1: 0.34\n"
          ]
        }
      ]
    },
    {
      "cell_type": "code",
      "source": [
        "y_pred_test = cl.predict(X_test)"
      ],
      "metadata": {
        "id": "xNIq2pVqsjrr"
      },
      "execution_count": 15,
      "outputs": []
    },
    {
      "cell_type": "code",
      "source": [
        "print(\"MÉTRICAS PARA CONJUNTO DE Test\\n\")\n",
        "print(\"Accuracy:\",round(accuracy_score(y_test, y_pred_test),2))\n",
        "print(\"Precision:\",round(precision_score(y_test,y_pred_test),2))\n",
        "print(\"Recall:\",round(recall_score(y_test, y_pred_test),2))\n",
        "print(\"F1:\",round(f1_score(y_test, y_pred_test),2))"
      ],
      "metadata": {
        "colab": {
          "base_uri": "https://localhost:8080/"
        },
        "id": "IiWiZ199sdzB",
        "outputId": "a097e29f-bad3-4f31-bb6f-ba6f84d29cb4"
      },
      "execution_count": 16,
      "outputs": [
        {
          "output_type": "stream",
          "name": "stdout",
          "text": [
            "MÉTRICAS PARA CONJUNTO DE ENTRENAMIENTO\n",
            "\n",
            "Accuracy: 0.88\n",
            "Precision: 1.0\n",
            "Recall: 0.21\n",
            "F1: 0.34\n"
          ]
        }
      ]
    },
    {
      "cell_type": "code",
      "source": [
        "print(\"Matriz de Confusión para test\\n\")\n",
        "confusion_matrix(y_test, y_pred_test)"
      ],
      "metadata": {
        "colab": {
          "base_uri": "https://localhost:8080/"
        },
        "id": "dDVbhiL2sxME",
        "outputId": "4d04bb14-239c-4ad6-8739-fad0c5b2a0c4"
      },
      "execution_count": 17,
      "outputs": [
        {
          "output_type": "stream",
          "name": "stdout",
          "text": [
            "Matriz de Confusión para test\n",
            "\n"
          ]
        },
        {
          "output_type": "execute_result",
          "data": {
            "text/plain": [
              "array([[313,   0],\n",
              "       [ 46,  12]])"
            ]
          },
          "metadata": {},
          "execution_count": 17
        }
      ]
    },
    {
      "cell_type": "markdown",
      "source": [
        "## Ejercicio 2.2: Ajuste de Hiperparámetros\n",
        "\n",
        "Seleccionar valores para los hiperparámetros principales del SGDClassifier. Como mínimo, probar diferentes funciones de loss, tasas de entrenamiento y tasas de regularización.\n",
        "\n",
        "Para ello, usar grid-search y 5-fold cross-validation sobre el conjunto de entrenamiento para explorar muchas combinaciones posibles de valores.\n",
        "\n",
        "Reportar accuracy promedio y varianza para todas las configuraciones.\n",
        "\n",
        "Para la mejor configuración encontrada, evaluar sobre el conjunto de **entrenamiento** y sobre el conjunto de **evaluación**, reportando:\n",
        "- Accuracy\n",
        "- Precision\n",
        "- Recall\n",
        "- F1\n",
        "- matriz de confusión\n",
        "\n",
        "Documentación:\n",
        "- https://scikit-learn.org/stable/modules/grid_search.html\n",
        "- https://scikit-learn.org/stable/modules/generated/sklearn.model_selection.GridSearchCV.html"
      ],
      "metadata": {
        "id": "ksm0OSMUs7gO"
      }
    },
    {
      "cell_type": "code",
      "source": [
        "from sklearn.utils.fixes import loguniform\n",
        "param_grid = {\n",
        "    'loss': ['hinge','log_loss'],\n",
        "    'alpha': loguniform.rvs(1e-4, 1e0, size=10),\n",
        "    'learning_rate':['optimal','adaptive'],\n",
        "    'max_iter':[10,100,1000],\n",
        "    'class_weight':['balanced'],\n",
        "    'eta0':[0.001,0.01,0.0001,0.005]\n",
        "}"
      ],
      "metadata": {
        "id": "4utjBHkcs94M"
      },
      "execution_count": 18,
      "outputs": []
    },
    {
      "cell_type": "code",
      "source": [
        "from sklearn.model_selection import ParameterGrid\n",
        "\n",
        "for params in ParameterGrid(param_grid):\n",
        "    print(params)\n",
        "    model = SGDClassifier(**params, random_state=123)"
      ],
      "metadata": {
        "colab": {
          "base_uri": "https://localhost:8080/"
        },
        "id": "ZjtAPr_AtAij",
        "outputId": "4a92dab3-babf-4cab-bb8e-d6a667054a03"
      },
      "execution_count": 19,
      "outputs": [
        {
          "output_type": "stream",
          "name": "stdout",
          "text": [
            "{'alpha': 0.0046432737688443665, 'class_weight': 'balanced', 'eta0': 0.001, 'learning_rate': 'optimal', 'loss': 'hinge', 'max_iter': 10}\n",
            "{'alpha': 0.0046432737688443665, 'class_weight': 'balanced', 'eta0': 0.001, 'learning_rate': 'optimal', 'loss': 'hinge', 'max_iter': 100}\n",
            "{'alpha': 0.0046432737688443665, 'class_weight': 'balanced', 'eta0': 0.001, 'learning_rate': 'optimal', 'loss': 'hinge', 'max_iter': 1000}\n",
            "{'alpha': 0.0046432737688443665, 'class_weight': 'balanced', 'eta0': 0.001, 'learning_rate': 'optimal', 'loss': 'log_loss', 'max_iter': 10}\n",
            "{'alpha': 0.0046432737688443665, 'class_weight': 'balanced', 'eta0': 0.001, 'learning_rate': 'optimal', 'loss': 'log_loss', 'max_iter': 100}\n",
            "{'alpha': 0.0046432737688443665, 'class_weight': 'balanced', 'eta0': 0.001, 'learning_rate': 'optimal', 'loss': 'log_loss', 'max_iter': 1000}\n",
            "{'alpha': 0.0046432737688443665, 'class_weight': 'balanced', 'eta0': 0.001, 'learning_rate': 'adaptive', 'loss': 'hinge', 'max_iter': 10}\n",
            "{'alpha': 0.0046432737688443665, 'class_weight': 'balanced', 'eta0': 0.001, 'learning_rate': 'adaptive', 'loss': 'hinge', 'max_iter': 100}\n",
            "{'alpha': 0.0046432737688443665, 'class_weight': 'balanced', 'eta0': 0.001, 'learning_rate': 'adaptive', 'loss': 'hinge', 'max_iter': 1000}\n",
            "{'alpha': 0.0046432737688443665, 'class_weight': 'balanced', 'eta0': 0.001, 'learning_rate': 'adaptive', 'loss': 'log_loss', 'max_iter': 10}\n",
            "{'alpha': 0.0046432737688443665, 'class_weight': 'balanced', 'eta0': 0.001, 'learning_rate': 'adaptive', 'loss': 'log_loss', 'max_iter': 100}\n",
            "{'alpha': 0.0046432737688443665, 'class_weight': 'balanced', 'eta0': 0.001, 'learning_rate': 'adaptive', 'loss': 'log_loss', 'max_iter': 1000}\n",
            "{'alpha': 0.0046432737688443665, 'class_weight': 'balanced', 'eta0': 0.01, 'learning_rate': 'optimal', 'loss': 'hinge', 'max_iter': 10}\n",
            "{'alpha': 0.0046432737688443665, 'class_weight': 'balanced', 'eta0': 0.01, 'learning_rate': 'optimal', 'loss': 'hinge', 'max_iter': 100}\n",
            "{'alpha': 0.0046432737688443665, 'class_weight': 'balanced', 'eta0': 0.01, 'learning_rate': 'optimal', 'loss': 'hinge', 'max_iter': 1000}\n",
            "{'alpha': 0.0046432737688443665, 'class_weight': 'balanced', 'eta0': 0.01, 'learning_rate': 'optimal', 'loss': 'log_loss', 'max_iter': 10}\n",
            "{'alpha': 0.0046432737688443665, 'class_weight': 'balanced', 'eta0': 0.01, 'learning_rate': 'optimal', 'loss': 'log_loss', 'max_iter': 100}\n",
            "{'alpha': 0.0046432737688443665, 'class_weight': 'balanced', 'eta0': 0.01, 'learning_rate': 'optimal', 'loss': 'log_loss', 'max_iter': 1000}\n",
            "{'alpha': 0.0046432737688443665, 'class_weight': 'balanced', 'eta0': 0.01, 'learning_rate': 'adaptive', 'loss': 'hinge', 'max_iter': 10}\n",
            "{'alpha': 0.0046432737688443665, 'class_weight': 'balanced', 'eta0': 0.01, 'learning_rate': 'adaptive', 'loss': 'hinge', 'max_iter': 100}\n",
            "{'alpha': 0.0046432737688443665, 'class_weight': 'balanced', 'eta0': 0.01, 'learning_rate': 'adaptive', 'loss': 'hinge', 'max_iter': 1000}\n",
            "{'alpha': 0.0046432737688443665, 'class_weight': 'balanced', 'eta0': 0.01, 'learning_rate': 'adaptive', 'loss': 'log_loss', 'max_iter': 10}\n",
            "{'alpha': 0.0046432737688443665, 'class_weight': 'balanced', 'eta0': 0.01, 'learning_rate': 'adaptive', 'loss': 'log_loss', 'max_iter': 100}\n",
            "{'alpha': 0.0046432737688443665, 'class_weight': 'balanced', 'eta0': 0.01, 'learning_rate': 'adaptive', 'loss': 'log_loss', 'max_iter': 1000}\n",
            "{'alpha': 0.0046432737688443665, 'class_weight': 'balanced', 'eta0': 0.0001, 'learning_rate': 'optimal', 'loss': 'hinge', 'max_iter': 10}\n",
            "{'alpha': 0.0046432737688443665, 'class_weight': 'balanced', 'eta0': 0.0001, 'learning_rate': 'optimal', 'loss': 'hinge', 'max_iter': 100}\n",
            "{'alpha': 0.0046432737688443665, 'class_weight': 'balanced', 'eta0': 0.0001, 'learning_rate': 'optimal', 'loss': 'hinge', 'max_iter': 1000}\n",
            "{'alpha': 0.0046432737688443665, 'class_weight': 'balanced', 'eta0': 0.0001, 'learning_rate': 'optimal', 'loss': 'log_loss', 'max_iter': 10}\n",
            "{'alpha': 0.0046432737688443665, 'class_weight': 'balanced', 'eta0': 0.0001, 'learning_rate': 'optimal', 'loss': 'log_loss', 'max_iter': 100}\n",
            "{'alpha': 0.0046432737688443665, 'class_weight': 'balanced', 'eta0': 0.0001, 'learning_rate': 'optimal', 'loss': 'log_loss', 'max_iter': 1000}\n",
            "{'alpha': 0.0046432737688443665, 'class_weight': 'balanced', 'eta0': 0.0001, 'learning_rate': 'adaptive', 'loss': 'hinge', 'max_iter': 10}\n",
            "{'alpha': 0.0046432737688443665, 'class_weight': 'balanced', 'eta0': 0.0001, 'learning_rate': 'adaptive', 'loss': 'hinge', 'max_iter': 100}\n",
            "{'alpha': 0.0046432737688443665, 'class_weight': 'balanced', 'eta0': 0.0001, 'learning_rate': 'adaptive', 'loss': 'hinge', 'max_iter': 1000}\n",
            "{'alpha': 0.0046432737688443665, 'class_weight': 'balanced', 'eta0': 0.0001, 'learning_rate': 'adaptive', 'loss': 'log_loss', 'max_iter': 10}\n",
            "{'alpha': 0.0046432737688443665, 'class_weight': 'balanced', 'eta0': 0.0001, 'learning_rate': 'adaptive', 'loss': 'log_loss', 'max_iter': 100}\n",
            "{'alpha': 0.0046432737688443665, 'class_weight': 'balanced', 'eta0': 0.0001, 'learning_rate': 'adaptive', 'loss': 'log_loss', 'max_iter': 1000}\n",
            "{'alpha': 0.0046432737688443665, 'class_weight': 'balanced', 'eta0': 0.005, 'learning_rate': 'optimal', 'loss': 'hinge', 'max_iter': 10}\n",
            "{'alpha': 0.0046432737688443665, 'class_weight': 'balanced', 'eta0': 0.005, 'learning_rate': 'optimal', 'loss': 'hinge', 'max_iter': 100}\n",
            "{'alpha': 0.0046432737688443665, 'class_weight': 'balanced', 'eta0': 0.005, 'learning_rate': 'optimal', 'loss': 'hinge', 'max_iter': 1000}\n",
            "{'alpha': 0.0046432737688443665, 'class_weight': 'balanced', 'eta0': 0.005, 'learning_rate': 'optimal', 'loss': 'log_loss', 'max_iter': 10}\n",
            "{'alpha': 0.0046432737688443665, 'class_weight': 'balanced', 'eta0': 0.005, 'learning_rate': 'optimal', 'loss': 'log_loss', 'max_iter': 100}\n",
            "{'alpha': 0.0046432737688443665, 'class_weight': 'balanced', 'eta0': 0.005, 'learning_rate': 'optimal', 'loss': 'log_loss', 'max_iter': 1000}\n",
            "{'alpha': 0.0046432737688443665, 'class_weight': 'balanced', 'eta0': 0.005, 'learning_rate': 'adaptive', 'loss': 'hinge', 'max_iter': 10}\n",
            "{'alpha': 0.0046432737688443665, 'class_weight': 'balanced', 'eta0': 0.005, 'learning_rate': 'adaptive', 'loss': 'hinge', 'max_iter': 100}\n",
            "{'alpha': 0.0046432737688443665, 'class_weight': 'balanced', 'eta0': 0.005, 'learning_rate': 'adaptive', 'loss': 'hinge', 'max_iter': 1000}\n",
            "{'alpha': 0.0046432737688443665, 'class_weight': 'balanced', 'eta0': 0.005, 'learning_rate': 'adaptive', 'loss': 'log_loss', 'max_iter': 10}\n",
            "{'alpha': 0.0046432737688443665, 'class_weight': 'balanced', 'eta0': 0.005, 'learning_rate': 'adaptive', 'loss': 'log_loss', 'max_iter': 100}\n",
            "{'alpha': 0.0046432737688443665, 'class_weight': 'balanced', 'eta0': 0.005, 'learning_rate': 'adaptive', 'loss': 'log_loss', 'max_iter': 1000}\n",
            "{'alpha': 0.0011269426377849955, 'class_weight': 'balanced', 'eta0': 0.001, 'learning_rate': 'optimal', 'loss': 'hinge', 'max_iter': 10}\n",
            "{'alpha': 0.0011269426377849955, 'class_weight': 'balanced', 'eta0': 0.001, 'learning_rate': 'optimal', 'loss': 'hinge', 'max_iter': 100}\n",
            "{'alpha': 0.0011269426377849955, 'class_weight': 'balanced', 'eta0': 0.001, 'learning_rate': 'optimal', 'loss': 'hinge', 'max_iter': 1000}\n",
            "{'alpha': 0.0011269426377849955, 'class_weight': 'balanced', 'eta0': 0.001, 'learning_rate': 'optimal', 'loss': 'log_loss', 'max_iter': 10}\n",
            "{'alpha': 0.0011269426377849955, 'class_weight': 'balanced', 'eta0': 0.001, 'learning_rate': 'optimal', 'loss': 'log_loss', 'max_iter': 100}\n",
            "{'alpha': 0.0011269426377849955, 'class_weight': 'balanced', 'eta0': 0.001, 'learning_rate': 'optimal', 'loss': 'log_loss', 'max_iter': 1000}\n",
            "{'alpha': 0.0011269426377849955, 'class_weight': 'balanced', 'eta0': 0.001, 'learning_rate': 'adaptive', 'loss': 'hinge', 'max_iter': 10}\n",
            "{'alpha': 0.0011269426377849955, 'class_weight': 'balanced', 'eta0': 0.001, 'learning_rate': 'adaptive', 'loss': 'hinge', 'max_iter': 100}\n",
            "{'alpha': 0.0011269426377849955, 'class_weight': 'balanced', 'eta0': 0.001, 'learning_rate': 'adaptive', 'loss': 'hinge', 'max_iter': 1000}\n",
            "{'alpha': 0.0011269426377849955, 'class_weight': 'balanced', 'eta0': 0.001, 'learning_rate': 'adaptive', 'loss': 'log_loss', 'max_iter': 10}\n",
            "{'alpha': 0.0011269426377849955, 'class_weight': 'balanced', 'eta0': 0.001, 'learning_rate': 'adaptive', 'loss': 'log_loss', 'max_iter': 100}\n",
            "{'alpha': 0.0011269426377849955, 'class_weight': 'balanced', 'eta0': 0.001, 'learning_rate': 'adaptive', 'loss': 'log_loss', 'max_iter': 1000}\n",
            "{'alpha': 0.0011269426377849955, 'class_weight': 'balanced', 'eta0': 0.01, 'learning_rate': 'optimal', 'loss': 'hinge', 'max_iter': 10}\n",
            "{'alpha': 0.0011269426377849955, 'class_weight': 'balanced', 'eta0': 0.01, 'learning_rate': 'optimal', 'loss': 'hinge', 'max_iter': 100}\n",
            "{'alpha': 0.0011269426377849955, 'class_weight': 'balanced', 'eta0': 0.01, 'learning_rate': 'optimal', 'loss': 'hinge', 'max_iter': 1000}\n",
            "{'alpha': 0.0011269426377849955, 'class_weight': 'balanced', 'eta0': 0.01, 'learning_rate': 'optimal', 'loss': 'log_loss', 'max_iter': 10}\n",
            "{'alpha': 0.0011269426377849955, 'class_weight': 'balanced', 'eta0': 0.01, 'learning_rate': 'optimal', 'loss': 'log_loss', 'max_iter': 100}\n",
            "{'alpha': 0.0011269426377849955, 'class_weight': 'balanced', 'eta0': 0.01, 'learning_rate': 'optimal', 'loss': 'log_loss', 'max_iter': 1000}\n",
            "{'alpha': 0.0011269426377849955, 'class_weight': 'balanced', 'eta0': 0.01, 'learning_rate': 'adaptive', 'loss': 'hinge', 'max_iter': 10}\n",
            "{'alpha': 0.0011269426377849955, 'class_weight': 'balanced', 'eta0': 0.01, 'learning_rate': 'adaptive', 'loss': 'hinge', 'max_iter': 100}\n",
            "{'alpha': 0.0011269426377849955, 'class_weight': 'balanced', 'eta0': 0.01, 'learning_rate': 'adaptive', 'loss': 'hinge', 'max_iter': 1000}\n",
            "{'alpha': 0.0011269426377849955, 'class_weight': 'balanced', 'eta0': 0.01, 'learning_rate': 'adaptive', 'loss': 'log_loss', 'max_iter': 10}\n",
            "{'alpha': 0.0011269426377849955, 'class_weight': 'balanced', 'eta0': 0.01, 'learning_rate': 'adaptive', 'loss': 'log_loss', 'max_iter': 100}\n",
            "{'alpha': 0.0011269426377849955, 'class_weight': 'balanced', 'eta0': 0.01, 'learning_rate': 'adaptive', 'loss': 'log_loss', 'max_iter': 1000}\n",
            "{'alpha': 0.0011269426377849955, 'class_weight': 'balanced', 'eta0': 0.0001, 'learning_rate': 'optimal', 'loss': 'hinge', 'max_iter': 10}\n",
            "{'alpha': 0.0011269426377849955, 'class_weight': 'balanced', 'eta0': 0.0001, 'learning_rate': 'optimal', 'loss': 'hinge', 'max_iter': 100}\n",
            "{'alpha': 0.0011269426377849955, 'class_weight': 'balanced', 'eta0': 0.0001, 'learning_rate': 'optimal', 'loss': 'hinge', 'max_iter': 1000}\n",
            "{'alpha': 0.0011269426377849955, 'class_weight': 'balanced', 'eta0': 0.0001, 'learning_rate': 'optimal', 'loss': 'log_loss', 'max_iter': 10}\n",
            "{'alpha': 0.0011269426377849955, 'class_weight': 'balanced', 'eta0': 0.0001, 'learning_rate': 'optimal', 'loss': 'log_loss', 'max_iter': 100}\n",
            "{'alpha': 0.0011269426377849955, 'class_weight': 'balanced', 'eta0': 0.0001, 'learning_rate': 'optimal', 'loss': 'log_loss', 'max_iter': 1000}\n",
            "{'alpha': 0.0011269426377849955, 'class_weight': 'balanced', 'eta0': 0.0001, 'learning_rate': 'adaptive', 'loss': 'hinge', 'max_iter': 10}\n",
            "{'alpha': 0.0011269426377849955, 'class_weight': 'balanced', 'eta0': 0.0001, 'learning_rate': 'adaptive', 'loss': 'hinge', 'max_iter': 100}\n",
            "{'alpha': 0.0011269426377849955, 'class_weight': 'balanced', 'eta0': 0.0001, 'learning_rate': 'adaptive', 'loss': 'hinge', 'max_iter': 1000}\n",
            "{'alpha': 0.0011269426377849955, 'class_weight': 'balanced', 'eta0': 0.0001, 'learning_rate': 'adaptive', 'loss': 'log_loss', 'max_iter': 10}\n",
            "{'alpha': 0.0011269426377849955, 'class_weight': 'balanced', 'eta0': 0.0001, 'learning_rate': 'adaptive', 'loss': 'log_loss', 'max_iter': 100}\n",
            "{'alpha': 0.0011269426377849955, 'class_weight': 'balanced', 'eta0': 0.0001, 'learning_rate': 'adaptive', 'loss': 'log_loss', 'max_iter': 1000}\n",
            "{'alpha': 0.0011269426377849955, 'class_weight': 'balanced', 'eta0': 0.005, 'learning_rate': 'optimal', 'loss': 'hinge', 'max_iter': 10}\n",
            "{'alpha': 0.0011269426377849955, 'class_weight': 'balanced', 'eta0': 0.005, 'learning_rate': 'optimal', 'loss': 'hinge', 'max_iter': 100}\n",
            "{'alpha': 0.0011269426377849955, 'class_weight': 'balanced', 'eta0': 0.005, 'learning_rate': 'optimal', 'loss': 'hinge', 'max_iter': 1000}\n",
            "{'alpha': 0.0011269426377849955, 'class_weight': 'balanced', 'eta0': 0.005, 'learning_rate': 'optimal', 'loss': 'log_loss', 'max_iter': 10}\n",
            "{'alpha': 0.0011269426377849955, 'class_weight': 'balanced', 'eta0': 0.005, 'learning_rate': 'optimal', 'loss': 'log_loss', 'max_iter': 100}\n",
            "{'alpha': 0.0011269426377849955, 'class_weight': 'balanced', 'eta0': 0.005, 'learning_rate': 'optimal', 'loss': 'log_loss', 'max_iter': 1000}\n",
            "{'alpha': 0.0011269426377849955, 'class_weight': 'balanced', 'eta0': 0.005, 'learning_rate': 'adaptive', 'loss': 'hinge', 'max_iter': 10}\n",
            "{'alpha': 0.0011269426377849955, 'class_weight': 'balanced', 'eta0': 0.005, 'learning_rate': 'adaptive', 'loss': 'hinge', 'max_iter': 100}\n",
            "{'alpha': 0.0011269426377849955, 'class_weight': 'balanced', 'eta0': 0.005, 'learning_rate': 'adaptive', 'loss': 'hinge', 'max_iter': 1000}\n",
            "{'alpha': 0.0011269426377849955, 'class_weight': 'balanced', 'eta0': 0.005, 'learning_rate': 'adaptive', 'loss': 'log_loss', 'max_iter': 10}\n",
            "{'alpha': 0.0011269426377849955, 'class_weight': 'balanced', 'eta0': 0.005, 'learning_rate': 'adaptive', 'loss': 'log_loss', 'max_iter': 100}\n",
            "{'alpha': 0.0011269426377849955, 'class_weight': 'balanced', 'eta0': 0.005, 'learning_rate': 'adaptive', 'loss': 'log_loss', 'max_iter': 1000}\n",
            "{'alpha': 0.0011447657687442092, 'class_weight': 'balanced', 'eta0': 0.001, 'learning_rate': 'optimal', 'loss': 'hinge', 'max_iter': 10}\n",
            "{'alpha': 0.0011447657687442092, 'class_weight': 'balanced', 'eta0': 0.001, 'learning_rate': 'optimal', 'loss': 'hinge', 'max_iter': 100}\n",
            "{'alpha': 0.0011447657687442092, 'class_weight': 'balanced', 'eta0': 0.001, 'learning_rate': 'optimal', 'loss': 'hinge', 'max_iter': 1000}\n",
            "{'alpha': 0.0011447657687442092, 'class_weight': 'balanced', 'eta0': 0.001, 'learning_rate': 'optimal', 'loss': 'log_loss', 'max_iter': 10}\n",
            "{'alpha': 0.0011447657687442092, 'class_weight': 'balanced', 'eta0': 0.001, 'learning_rate': 'optimal', 'loss': 'log_loss', 'max_iter': 100}\n",
            "{'alpha': 0.0011447657687442092, 'class_weight': 'balanced', 'eta0': 0.001, 'learning_rate': 'optimal', 'loss': 'log_loss', 'max_iter': 1000}\n",
            "{'alpha': 0.0011447657687442092, 'class_weight': 'balanced', 'eta0': 0.001, 'learning_rate': 'adaptive', 'loss': 'hinge', 'max_iter': 10}\n",
            "{'alpha': 0.0011447657687442092, 'class_weight': 'balanced', 'eta0': 0.001, 'learning_rate': 'adaptive', 'loss': 'hinge', 'max_iter': 100}\n",
            "{'alpha': 0.0011447657687442092, 'class_weight': 'balanced', 'eta0': 0.001, 'learning_rate': 'adaptive', 'loss': 'hinge', 'max_iter': 1000}\n",
            "{'alpha': 0.0011447657687442092, 'class_weight': 'balanced', 'eta0': 0.001, 'learning_rate': 'adaptive', 'loss': 'log_loss', 'max_iter': 10}\n",
            "{'alpha': 0.0011447657687442092, 'class_weight': 'balanced', 'eta0': 0.001, 'learning_rate': 'adaptive', 'loss': 'log_loss', 'max_iter': 100}\n",
            "{'alpha': 0.0011447657687442092, 'class_weight': 'balanced', 'eta0': 0.001, 'learning_rate': 'adaptive', 'loss': 'log_loss', 'max_iter': 1000}\n",
            "{'alpha': 0.0011447657687442092, 'class_weight': 'balanced', 'eta0': 0.01, 'learning_rate': 'optimal', 'loss': 'hinge', 'max_iter': 10}\n",
            "{'alpha': 0.0011447657687442092, 'class_weight': 'balanced', 'eta0': 0.01, 'learning_rate': 'optimal', 'loss': 'hinge', 'max_iter': 100}\n",
            "{'alpha': 0.0011447657687442092, 'class_weight': 'balanced', 'eta0': 0.01, 'learning_rate': 'optimal', 'loss': 'hinge', 'max_iter': 1000}\n",
            "{'alpha': 0.0011447657687442092, 'class_weight': 'balanced', 'eta0': 0.01, 'learning_rate': 'optimal', 'loss': 'log_loss', 'max_iter': 10}\n",
            "{'alpha': 0.0011447657687442092, 'class_weight': 'balanced', 'eta0': 0.01, 'learning_rate': 'optimal', 'loss': 'log_loss', 'max_iter': 100}\n",
            "{'alpha': 0.0011447657687442092, 'class_weight': 'balanced', 'eta0': 0.01, 'learning_rate': 'optimal', 'loss': 'log_loss', 'max_iter': 1000}\n",
            "{'alpha': 0.0011447657687442092, 'class_weight': 'balanced', 'eta0': 0.01, 'learning_rate': 'adaptive', 'loss': 'hinge', 'max_iter': 10}\n",
            "{'alpha': 0.0011447657687442092, 'class_weight': 'balanced', 'eta0': 0.01, 'learning_rate': 'adaptive', 'loss': 'hinge', 'max_iter': 100}\n",
            "{'alpha': 0.0011447657687442092, 'class_weight': 'balanced', 'eta0': 0.01, 'learning_rate': 'adaptive', 'loss': 'hinge', 'max_iter': 1000}\n",
            "{'alpha': 0.0011447657687442092, 'class_weight': 'balanced', 'eta0': 0.01, 'learning_rate': 'adaptive', 'loss': 'log_loss', 'max_iter': 10}\n",
            "{'alpha': 0.0011447657687442092, 'class_weight': 'balanced', 'eta0': 0.01, 'learning_rate': 'adaptive', 'loss': 'log_loss', 'max_iter': 100}\n",
            "{'alpha': 0.0011447657687442092, 'class_weight': 'balanced', 'eta0': 0.01, 'learning_rate': 'adaptive', 'loss': 'log_loss', 'max_iter': 1000}\n",
            "{'alpha': 0.0011447657687442092, 'class_weight': 'balanced', 'eta0': 0.0001, 'learning_rate': 'optimal', 'loss': 'hinge', 'max_iter': 10}\n",
            "{'alpha': 0.0011447657687442092, 'class_weight': 'balanced', 'eta0': 0.0001, 'learning_rate': 'optimal', 'loss': 'hinge', 'max_iter': 100}\n",
            "{'alpha': 0.0011447657687442092, 'class_weight': 'balanced', 'eta0': 0.0001, 'learning_rate': 'optimal', 'loss': 'hinge', 'max_iter': 1000}\n",
            "{'alpha': 0.0011447657687442092, 'class_weight': 'balanced', 'eta0': 0.0001, 'learning_rate': 'optimal', 'loss': 'log_loss', 'max_iter': 10}\n",
            "{'alpha': 0.0011447657687442092, 'class_weight': 'balanced', 'eta0': 0.0001, 'learning_rate': 'optimal', 'loss': 'log_loss', 'max_iter': 100}\n",
            "{'alpha': 0.0011447657687442092, 'class_weight': 'balanced', 'eta0': 0.0001, 'learning_rate': 'optimal', 'loss': 'log_loss', 'max_iter': 1000}\n",
            "{'alpha': 0.0011447657687442092, 'class_weight': 'balanced', 'eta0': 0.0001, 'learning_rate': 'adaptive', 'loss': 'hinge', 'max_iter': 10}\n",
            "{'alpha': 0.0011447657687442092, 'class_weight': 'balanced', 'eta0': 0.0001, 'learning_rate': 'adaptive', 'loss': 'hinge', 'max_iter': 100}\n",
            "{'alpha': 0.0011447657687442092, 'class_weight': 'balanced', 'eta0': 0.0001, 'learning_rate': 'adaptive', 'loss': 'hinge', 'max_iter': 1000}\n",
            "{'alpha': 0.0011447657687442092, 'class_weight': 'balanced', 'eta0': 0.0001, 'learning_rate': 'adaptive', 'loss': 'log_loss', 'max_iter': 10}\n",
            "{'alpha': 0.0011447657687442092, 'class_weight': 'balanced', 'eta0': 0.0001, 'learning_rate': 'adaptive', 'loss': 'log_loss', 'max_iter': 100}\n",
            "{'alpha': 0.0011447657687442092, 'class_weight': 'balanced', 'eta0': 0.0001, 'learning_rate': 'adaptive', 'loss': 'log_loss', 'max_iter': 1000}\n",
            "{'alpha': 0.0011447657687442092, 'class_weight': 'balanced', 'eta0': 0.005, 'learning_rate': 'optimal', 'loss': 'hinge', 'max_iter': 10}\n",
            "{'alpha': 0.0011447657687442092, 'class_weight': 'balanced', 'eta0': 0.005, 'learning_rate': 'optimal', 'loss': 'hinge', 'max_iter': 100}\n",
            "{'alpha': 0.0011447657687442092, 'class_weight': 'balanced', 'eta0': 0.005, 'learning_rate': 'optimal', 'loss': 'hinge', 'max_iter': 1000}\n",
            "{'alpha': 0.0011447657687442092, 'class_weight': 'balanced', 'eta0': 0.005, 'learning_rate': 'optimal', 'loss': 'log_loss', 'max_iter': 10}\n",
            "{'alpha': 0.0011447657687442092, 'class_weight': 'balanced', 'eta0': 0.005, 'learning_rate': 'optimal', 'loss': 'log_loss', 'max_iter': 100}\n",
            "{'alpha': 0.0011447657687442092, 'class_weight': 'balanced', 'eta0': 0.005, 'learning_rate': 'optimal', 'loss': 'log_loss', 'max_iter': 1000}\n",
            "{'alpha': 0.0011447657687442092, 'class_weight': 'balanced', 'eta0': 0.005, 'learning_rate': 'adaptive', 'loss': 'hinge', 'max_iter': 10}\n",
            "{'alpha': 0.0011447657687442092, 'class_weight': 'balanced', 'eta0': 0.005, 'learning_rate': 'adaptive', 'loss': 'hinge', 'max_iter': 100}\n",
            "{'alpha': 0.0011447657687442092, 'class_weight': 'balanced', 'eta0': 0.005, 'learning_rate': 'adaptive', 'loss': 'hinge', 'max_iter': 1000}\n",
            "{'alpha': 0.0011447657687442092, 'class_weight': 'balanced', 'eta0': 0.005, 'learning_rate': 'adaptive', 'loss': 'log_loss', 'max_iter': 10}\n",
            "{'alpha': 0.0011447657687442092, 'class_weight': 'balanced', 'eta0': 0.005, 'learning_rate': 'adaptive', 'loss': 'log_loss', 'max_iter': 100}\n",
            "{'alpha': 0.0011447657687442092, 'class_weight': 'balanced', 'eta0': 0.005, 'learning_rate': 'adaptive', 'loss': 'log_loss', 'max_iter': 1000}\n",
            "{'alpha': 0.007673698706254956, 'class_weight': 'balanced', 'eta0': 0.001, 'learning_rate': 'optimal', 'loss': 'hinge', 'max_iter': 10}\n",
            "{'alpha': 0.007673698706254956, 'class_weight': 'balanced', 'eta0': 0.001, 'learning_rate': 'optimal', 'loss': 'hinge', 'max_iter': 100}\n",
            "{'alpha': 0.007673698706254956, 'class_weight': 'balanced', 'eta0': 0.001, 'learning_rate': 'optimal', 'loss': 'hinge', 'max_iter': 1000}\n",
            "{'alpha': 0.007673698706254956, 'class_weight': 'balanced', 'eta0': 0.001, 'learning_rate': 'optimal', 'loss': 'log_loss', 'max_iter': 10}\n",
            "{'alpha': 0.007673698706254956, 'class_weight': 'balanced', 'eta0': 0.001, 'learning_rate': 'optimal', 'loss': 'log_loss', 'max_iter': 100}\n",
            "{'alpha': 0.007673698706254956, 'class_weight': 'balanced', 'eta0': 0.001, 'learning_rate': 'optimal', 'loss': 'log_loss', 'max_iter': 1000}\n",
            "{'alpha': 0.007673698706254956, 'class_weight': 'balanced', 'eta0': 0.001, 'learning_rate': 'adaptive', 'loss': 'hinge', 'max_iter': 10}\n",
            "{'alpha': 0.007673698706254956, 'class_weight': 'balanced', 'eta0': 0.001, 'learning_rate': 'adaptive', 'loss': 'hinge', 'max_iter': 100}\n",
            "{'alpha': 0.007673698706254956, 'class_weight': 'balanced', 'eta0': 0.001, 'learning_rate': 'adaptive', 'loss': 'hinge', 'max_iter': 1000}\n",
            "{'alpha': 0.007673698706254956, 'class_weight': 'balanced', 'eta0': 0.001, 'learning_rate': 'adaptive', 'loss': 'log_loss', 'max_iter': 10}\n",
            "{'alpha': 0.007673698706254956, 'class_weight': 'balanced', 'eta0': 0.001, 'learning_rate': 'adaptive', 'loss': 'log_loss', 'max_iter': 100}\n",
            "{'alpha': 0.007673698706254956, 'class_weight': 'balanced', 'eta0': 0.001, 'learning_rate': 'adaptive', 'loss': 'log_loss', 'max_iter': 1000}\n",
            "{'alpha': 0.007673698706254956, 'class_weight': 'balanced', 'eta0': 0.01, 'learning_rate': 'optimal', 'loss': 'hinge', 'max_iter': 10}\n",
            "{'alpha': 0.007673698706254956, 'class_weight': 'balanced', 'eta0': 0.01, 'learning_rate': 'optimal', 'loss': 'hinge', 'max_iter': 100}\n",
            "{'alpha': 0.007673698706254956, 'class_weight': 'balanced', 'eta0': 0.01, 'learning_rate': 'optimal', 'loss': 'hinge', 'max_iter': 1000}\n",
            "{'alpha': 0.007673698706254956, 'class_weight': 'balanced', 'eta0': 0.01, 'learning_rate': 'optimal', 'loss': 'log_loss', 'max_iter': 10}\n",
            "{'alpha': 0.007673698706254956, 'class_weight': 'balanced', 'eta0': 0.01, 'learning_rate': 'optimal', 'loss': 'log_loss', 'max_iter': 100}\n",
            "{'alpha': 0.007673698706254956, 'class_weight': 'balanced', 'eta0': 0.01, 'learning_rate': 'optimal', 'loss': 'log_loss', 'max_iter': 1000}\n",
            "{'alpha': 0.007673698706254956, 'class_weight': 'balanced', 'eta0': 0.01, 'learning_rate': 'adaptive', 'loss': 'hinge', 'max_iter': 10}\n",
            "{'alpha': 0.007673698706254956, 'class_weight': 'balanced', 'eta0': 0.01, 'learning_rate': 'adaptive', 'loss': 'hinge', 'max_iter': 100}\n",
            "{'alpha': 0.007673698706254956, 'class_weight': 'balanced', 'eta0': 0.01, 'learning_rate': 'adaptive', 'loss': 'hinge', 'max_iter': 1000}\n",
            "{'alpha': 0.007673698706254956, 'class_weight': 'balanced', 'eta0': 0.01, 'learning_rate': 'adaptive', 'loss': 'log_loss', 'max_iter': 10}\n",
            "{'alpha': 0.007673698706254956, 'class_weight': 'balanced', 'eta0': 0.01, 'learning_rate': 'adaptive', 'loss': 'log_loss', 'max_iter': 100}\n",
            "{'alpha': 0.007673698706254956, 'class_weight': 'balanced', 'eta0': 0.01, 'learning_rate': 'adaptive', 'loss': 'log_loss', 'max_iter': 1000}\n",
            "{'alpha': 0.007673698706254956, 'class_weight': 'balanced', 'eta0': 0.0001, 'learning_rate': 'optimal', 'loss': 'hinge', 'max_iter': 10}\n",
            "{'alpha': 0.007673698706254956, 'class_weight': 'balanced', 'eta0': 0.0001, 'learning_rate': 'optimal', 'loss': 'hinge', 'max_iter': 100}\n",
            "{'alpha': 0.007673698706254956, 'class_weight': 'balanced', 'eta0': 0.0001, 'learning_rate': 'optimal', 'loss': 'hinge', 'max_iter': 1000}\n",
            "{'alpha': 0.007673698706254956, 'class_weight': 'balanced', 'eta0': 0.0001, 'learning_rate': 'optimal', 'loss': 'log_loss', 'max_iter': 10}\n",
            "{'alpha': 0.007673698706254956, 'class_weight': 'balanced', 'eta0': 0.0001, 'learning_rate': 'optimal', 'loss': 'log_loss', 'max_iter': 100}\n",
            "{'alpha': 0.007673698706254956, 'class_weight': 'balanced', 'eta0': 0.0001, 'learning_rate': 'optimal', 'loss': 'log_loss', 'max_iter': 1000}\n",
            "{'alpha': 0.007673698706254956, 'class_weight': 'balanced', 'eta0': 0.0001, 'learning_rate': 'adaptive', 'loss': 'hinge', 'max_iter': 10}\n",
            "{'alpha': 0.007673698706254956, 'class_weight': 'balanced', 'eta0': 0.0001, 'learning_rate': 'adaptive', 'loss': 'hinge', 'max_iter': 100}\n",
            "{'alpha': 0.007673698706254956, 'class_weight': 'balanced', 'eta0': 0.0001, 'learning_rate': 'adaptive', 'loss': 'hinge', 'max_iter': 1000}\n",
            "{'alpha': 0.007673698706254956, 'class_weight': 'balanced', 'eta0': 0.0001, 'learning_rate': 'adaptive', 'loss': 'log_loss', 'max_iter': 10}\n",
            "{'alpha': 0.007673698706254956, 'class_weight': 'balanced', 'eta0': 0.0001, 'learning_rate': 'adaptive', 'loss': 'log_loss', 'max_iter': 100}\n",
            "{'alpha': 0.007673698706254956, 'class_weight': 'balanced', 'eta0': 0.0001, 'learning_rate': 'adaptive', 'loss': 'log_loss', 'max_iter': 1000}\n",
            "{'alpha': 0.007673698706254956, 'class_weight': 'balanced', 'eta0': 0.005, 'learning_rate': 'optimal', 'loss': 'hinge', 'max_iter': 10}\n",
            "{'alpha': 0.007673698706254956, 'class_weight': 'balanced', 'eta0': 0.005, 'learning_rate': 'optimal', 'loss': 'hinge', 'max_iter': 100}\n",
            "{'alpha': 0.007673698706254956, 'class_weight': 'balanced', 'eta0': 0.005, 'learning_rate': 'optimal', 'loss': 'hinge', 'max_iter': 1000}\n",
            "{'alpha': 0.007673698706254956, 'class_weight': 'balanced', 'eta0': 0.005, 'learning_rate': 'optimal', 'loss': 'log_loss', 'max_iter': 10}\n",
            "{'alpha': 0.007673698706254956, 'class_weight': 'balanced', 'eta0': 0.005, 'learning_rate': 'optimal', 'loss': 'log_loss', 'max_iter': 100}\n",
            "{'alpha': 0.007673698706254956, 'class_weight': 'balanced', 'eta0': 0.005, 'learning_rate': 'optimal', 'loss': 'log_loss', 'max_iter': 1000}\n",
            "{'alpha': 0.007673698706254956, 'class_weight': 'balanced', 'eta0': 0.005, 'learning_rate': 'adaptive', 'loss': 'hinge', 'max_iter': 10}\n",
            "{'alpha': 0.007673698706254956, 'class_weight': 'balanced', 'eta0': 0.005, 'learning_rate': 'adaptive', 'loss': 'hinge', 'max_iter': 100}\n",
            "{'alpha': 0.007673698706254956, 'class_weight': 'balanced', 'eta0': 0.005, 'learning_rate': 'adaptive', 'loss': 'hinge', 'max_iter': 1000}\n",
            "{'alpha': 0.007673698706254956, 'class_weight': 'balanced', 'eta0': 0.005, 'learning_rate': 'adaptive', 'loss': 'log_loss', 'max_iter': 10}\n",
            "{'alpha': 0.007673698706254956, 'class_weight': 'balanced', 'eta0': 0.005, 'learning_rate': 'adaptive', 'loss': 'log_loss', 'max_iter': 100}\n",
            "{'alpha': 0.007673698706254956, 'class_weight': 'balanced', 'eta0': 0.005, 'learning_rate': 'adaptive', 'loss': 'log_loss', 'max_iter': 1000}\n",
            "{'alpha': 0.3864785186730101, 'class_weight': 'balanced', 'eta0': 0.001, 'learning_rate': 'optimal', 'loss': 'hinge', 'max_iter': 10}\n",
            "{'alpha': 0.3864785186730101, 'class_weight': 'balanced', 'eta0': 0.001, 'learning_rate': 'optimal', 'loss': 'hinge', 'max_iter': 100}\n",
            "{'alpha': 0.3864785186730101, 'class_weight': 'balanced', 'eta0': 0.001, 'learning_rate': 'optimal', 'loss': 'hinge', 'max_iter': 1000}\n",
            "{'alpha': 0.3864785186730101, 'class_weight': 'balanced', 'eta0': 0.001, 'learning_rate': 'optimal', 'loss': 'log_loss', 'max_iter': 10}\n",
            "{'alpha': 0.3864785186730101, 'class_weight': 'balanced', 'eta0': 0.001, 'learning_rate': 'optimal', 'loss': 'log_loss', 'max_iter': 100}\n",
            "{'alpha': 0.3864785186730101, 'class_weight': 'balanced', 'eta0': 0.001, 'learning_rate': 'optimal', 'loss': 'log_loss', 'max_iter': 1000}\n",
            "{'alpha': 0.3864785186730101, 'class_weight': 'balanced', 'eta0': 0.001, 'learning_rate': 'adaptive', 'loss': 'hinge', 'max_iter': 10}\n",
            "{'alpha': 0.3864785186730101, 'class_weight': 'balanced', 'eta0': 0.001, 'learning_rate': 'adaptive', 'loss': 'hinge', 'max_iter': 100}\n",
            "{'alpha': 0.3864785186730101, 'class_weight': 'balanced', 'eta0': 0.001, 'learning_rate': 'adaptive', 'loss': 'hinge', 'max_iter': 1000}\n",
            "{'alpha': 0.3864785186730101, 'class_weight': 'balanced', 'eta0': 0.001, 'learning_rate': 'adaptive', 'loss': 'log_loss', 'max_iter': 10}\n",
            "{'alpha': 0.3864785186730101, 'class_weight': 'balanced', 'eta0': 0.001, 'learning_rate': 'adaptive', 'loss': 'log_loss', 'max_iter': 100}\n",
            "{'alpha': 0.3864785186730101, 'class_weight': 'balanced', 'eta0': 0.001, 'learning_rate': 'adaptive', 'loss': 'log_loss', 'max_iter': 1000}\n",
            "{'alpha': 0.3864785186730101, 'class_weight': 'balanced', 'eta0': 0.01, 'learning_rate': 'optimal', 'loss': 'hinge', 'max_iter': 10}\n",
            "{'alpha': 0.3864785186730101, 'class_weight': 'balanced', 'eta0': 0.01, 'learning_rate': 'optimal', 'loss': 'hinge', 'max_iter': 100}\n",
            "{'alpha': 0.3864785186730101, 'class_weight': 'balanced', 'eta0': 0.01, 'learning_rate': 'optimal', 'loss': 'hinge', 'max_iter': 1000}\n",
            "{'alpha': 0.3864785186730101, 'class_weight': 'balanced', 'eta0': 0.01, 'learning_rate': 'optimal', 'loss': 'log_loss', 'max_iter': 10}\n",
            "{'alpha': 0.3864785186730101, 'class_weight': 'balanced', 'eta0': 0.01, 'learning_rate': 'optimal', 'loss': 'log_loss', 'max_iter': 100}\n",
            "{'alpha': 0.3864785186730101, 'class_weight': 'balanced', 'eta0': 0.01, 'learning_rate': 'optimal', 'loss': 'log_loss', 'max_iter': 1000}\n",
            "{'alpha': 0.3864785186730101, 'class_weight': 'balanced', 'eta0': 0.01, 'learning_rate': 'adaptive', 'loss': 'hinge', 'max_iter': 10}\n",
            "{'alpha': 0.3864785186730101, 'class_weight': 'balanced', 'eta0': 0.01, 'learning_rate': 'adaptive', 'loss': 'hinge', 'max_iter': 100}\n",
            "{'alpha': 0.3864785186730101, 'class_weight': 'balanced', 'eta0': 0.01, 'learning_rate': 'adaptive', 'loss': 'hinge', 'max_iter': 1000}\n",
            "{'alpha': 0.3864785186730101, 'class_weight': 'balanced', 'eta0': 0.01, 'learning_rate': 'adaptive', 'loss': 'log_loss', 'max_iter': 10}\n",
            "{'alpha': 0.3864785186730101, 'class_weight': 'balanced', 'eta0': 0.01, 'learning_rate': 'adaptive', 'loss': 'log_loss', 'max_iter': 100}\n",
            "{'alpha': 0.3864785186730101, 'class_weight': 'balanced', 'eta0': 0.01, 'learning_rate': 'adaptive', 'loss': 'log_loss', 'max_iter': 1000}\n",
            "{'alpha': 0.3864785186730101, 'class_weight': 'balanced', 'eta0': 0.0001, 'learning_rate': 'optimal', 'loss': 'hinge', 'max_iter': 10}\n",
            "{'alpha': 0.3864785186730101, 'class_weight': 'balanced', 'eta0': 0.0001, 'learning_rate': 'optimal', 'loss': 'hinge', 'max_iter': 100}\n",
            "{'alpha': 0.3864785186730101, 'class_weight': 'balanced', 'eta0': 0.0001, 'learning_rate': 'optimal', 'loss': 'hinge', 'max_iter': 1000}\n",
            "{'alpha': 0.3864785186730101, 'class_weight': 'balanced', 'eta0': 0.0001, 'learning_rate': 'optimal', 'loss': 'log_loss', 'max_iter': 10}\n",
            "{'alpha': 0.3864785186730101, 'class_weight': 'balanced', 'eta0': 0.0001, 'learning_rate': 'optimal', 'loss': 'log_loss', 'max_iter': 100}\n",
            "{'alpha': 0.3864785186730101, 'class_weight': 'balanced', 'eta0': 0.0001, 'learning_rate': 'optimal', 'loss': 'log_loss', 'max_iter': 1000}\n",
            "{'alpha': 0.3864785186730101, 'class_weight': 'balanced', 'eta0': 0.0001, 'learning_rate': 'adaptive', 'loss': 'hinge', 'max_iter': 10}\n",
            "{'alpha': 0.3864785186730101, 'class_weight': 'balanced', 'eta0': 0.0001, 'learning_rate': 'adaptive', 'loss': 'hinge', 'max_iter': 100}\n",
            "{'alpha': 0.3864785186730101, 'class_weight': 'balanced', 'eta0': 0.0001, 'learning_rate': 'adaptive', 'loss': 'hinge', 'max_iter': 1000}\n",
            "{'alpha': 0.3864785186730101, 'class_weight': 'balanced', 'eta0': 0.0001, 'learning_rate': 'adaptive', 'loss': 'log_loss', 'max_iter': 10}\n",
            "{'alpha': 0.3864785186730101, 'class_weight': 'balanced', 'eta0': 0.0001, 'learning_rate': 'adaptive', 'loss': 'log_loss', 'max_iter': 100}\n",
            "{'alpha': 0.3864785186730101, 'class_weight': 'balanced', 'eta0': 0.0001, 'learning_rate': 'adaptive', 'loss': 'log_loss', 'max_iter': 1000}\n",
            "{'alpha': 0.3864785186730101, 'class_weight': 'balanced', 'eta0': 0.005, 'learning_rate': 'optimal', 'loss': 'hinge', 'max_iter': 10}\n",
            "{'alpha': 0.3864785186730101, 'class_weight': 'balanced', 'eta0': 0.005, 'learning_rate': 'optimal', 'loss': 'hinge', 'max_iter': 100}\n",
            "{'alpha': 0.3864785186730101, 'class_weight': 'balanced', 'eta0': 0.005, 'learning_rate': 'optimal', 'loss': 'hinge', 'max_iter': 1000}\n",
            "{'alpha': 0.3864785186730101, 'class_weight': 'balanced', 'eta0': 0.005, 'learning_rate': 'optimal', 'loss': 'log_loss', 'max_iter': 10}\n",
            "{'alpha': 0.3864785186730101, 'class_weight': 'balanced', 'eta0': 0.005, 'learning_rate': 'optimal', 'loss': 'log_loss', 'max_iter': 100}\n",
            "{'alpha': 0.3864785186730101, 'class_weight': 'balanced', 'eta0': 0.005, 'learning_rate': 'optimal', 'loss': 'log_loss', 'max_iter': 1000}\n",
            "{'alpha': 0.3864785186730101, 'class_weight': 'balanced', 'eta0': 0.005, 'learning_rate': 'adaptive', 'loss': 'hinge', 'max_iter': 10}\n",
            "{'alpha': 0.3864785186730101, 'class_weight': 'balanced', 'eta0': 0.005, 'learning_rate': 'adaptive', 'loss': 'hinge', 'max_iter': 100}\n",
            "{'alpha': 0.3864785186730101, 'class_weight': 'balanced', 'eta0': 0.005, 'learning_rate': 'adaptive', 'loss': 'hinge', 'max_iter': 1000}\n",
            "{'alpha': 0.3864785186730101, 'class_weight': 'balanced', 'eta0': 0.005, 'learning_rate': 'adaptive', 'loss': 'log_loss', 'max_iter': 10}\n",
            "{'alpha': 0.3864785186730101, 'class_weight': 'balanced', 'eta0': 0.005, 'learning_rate': 'adaptive', 'loss': 'log_loss', 'max_iter': 100}\n",
            "{'alpha': 0.3864785186730101, 'class_weight': 'balanced', 'eta0': 0.005, 'learning_rate': 'adaptive', 'loss': 'log_loss', 'max_iter': 1000}\n",
            "{'alpha': 0.3512927078211911, 'class_weight': 'balanced', 'eta0': 0.001, 'learning_rate': 'optimal', 'loss': 'hinge', 'max_iter': 10}\n",
            "{'alpha': 0.3512927078211911, 'class_weight': 'balanced', 'eta0': 0.001, 'learning_rate': 'optimal', 'loss': 'hinge', 'max_iter': 100}\n",
            "{'alpha': 0.3512927078211911, 'class_weight': 'balanced', 'eta0': 0.001, 'learning_rate': 'optimal', 'loss': 'hinge', 'max_iter': 1000}\n",
            "{'alpha': 0.3512927078211911, 'class_weight': 'balanced', 'eta0': 0.001, 'learning_rate': 'optimal', 'loss': 'log_loss', 'max_iter': 10}\n",
            "{'alpha': 0.3512927078211911, 'class_weight': 'balanced', 'eta0': 0.001, 'learning_rate': 'optimal', 'loss': 'log_loss', 'max_iter': 100}\n",
            "{'alpha': 0.3512927078211911, 'class_weight': 'balanced', 'eta0': 0.001, 'learning_rate': 'optimal', 'loss': 'log_loss', 'max_iter': 1000}\n",
            "{'alpha': 0.3512927078211911, 'class_weight': 'balanced', 'eta0': 0.001, 'learning_rate': 'adaptive', 'loss': 'hinge', 'max_iter': 10}\n",
            "{'alpha': 0.3512927078211911, 'class_weight': 'balanced', 'eta0': 0.001, 'learning_rate': 'adaptive', 'loss': 'hinge', 'max_iter': 100}\n",
            "{'alpha': 0.3512927078211911, 'class_weight': 'balanced', 'eta0': 0.001, 'learning_rate': 'adaptive', 'loss': 'hinge', 'max_iter': 1000}\n",
            "{'alpha': 0.3512927078211911, 'class_weight': 'balanced', 'eta0': 0.001, 'learning_rate': 'adaptive', 'loss': 'log_loss', 'max_iter': 10}\n",
            "{'alpha': 0.3512927078211911, 'class_weight': 'balanced', 'eta0': 0.001, 'learning_rate': 'adaptive', 'loss': 'log_loss', 'max_iter': 100}\n",
            "{'alpha': 0.3512927078211911, 'class_weight': 'balanced', 'eta0': 0.001, 'learning_rate': 'adaptive', 'loss': 'log_loss', 'max_iter': 1000}\n",
            "{'alpha': 0.3512927078211911, 'class_weight': 'balanced', 'eta0': 0.01, 'learning_rate': 'optimal', 'loss': 'hinge', 'max_iter': 10}\n",
            "{'alpha': 0.3512927078211911, 'class_weight': 'balanced', 'eta0': 0.01, 'learning_rate': 'optimal', 'loss': 'hinge', 'max_iter': 100}\n",
            "{'alpha': 0.3512927078211911, 'class_weight': 'balanced', 'eta0': 0.01, 'learning_rate': 'optimal', 'loss': 'hinge', 'max_iter': 1000}\n",
            "{'alpha': 0.3512927078211911, 'class_weight': 'balanced', 'eta0': 0.01, 'learning_rate': 'optimal', 'loss': 'log_loss', 'max_iter': 10}\n",
            "{'alpha': 0.3512927078211911, 'class_weight': 'balanced', 'eta0': 0.01, 'learning_rate': 'optimal', 'loss': 'log_loss', 'max_iter': 100}\n",
            "{'alpha': 0.3512927078211911, 'class_weight': 'balanced', 'eta0': 0.01, 'learning_rate': 'optimal', 'loss': 'log_loss', 'max_iter': 1000}\n",
            "{'alpha': 0.3512927078211911, 'class_weight': 'balanced', 'eta0': 0.01, 'learning_rate': 'adaptive', 'loss': 'hinge', 'max_iter': 10}\n",
            "{'alpha': 0.3512927078211911, 'class_weight': 'balanced', 'eta0': 0.01, 'learning_rate': 'adaptive', 'loss': 'hinge', 'max_iter': 100}\n",
            "{'alpha': 0.3512927078211911, 'class_weight': 'balanced', 'eta0': 0.01, 'learning_rate': 'adaptive', 'loss': 'hinge', 'max_iter': 1000}\n",
            "{'alpha': 0.3512927078211911, 'class_weight': 'balanced', 'eta0': 0.01, 'learning_rate': 'adaptive', 'loss': 'log_loss', 'max_iter': 10}\n",
            "{'alpha': 0.3512927078211911, 'class_weight': 'balanced', 'eta0': 0.01, 'learning_rate': 'adaptive', 'loss': 'log_loss', 'max_iter': 100}\n",
            "{'alpha': 0.3512927078211911, 'class_weight': 'balanced', 'eta0': 0.01, 'learning_rate': 'adaptive', 'loss': 'log_loss', 'max_iter': 1000}\n",
            "{'alpha': 0.3512927078211911, 'class_weight': 'balanced', 'eta0': 0.0001, 'learning_rate': 'optimal', 'loss': 'hinge', 'max_iter': 10}\n",
            "{'alpha': 0.3512927078211911, 'class_weight': 'balanced', 'eta0': 0.0001, 'learning_rate': 'optimal', 'loss': 'hinge', 'max_iter': 100}\n",
            "{'alpha': 0.3512927078211911, 'class_weight': 'balanced', 'eta0': 0.0001, 'learning_rate': 'optimal', 'loss': 'hinge', 'max_iter': 1000}\n",
            "{'alpha': 0.3512927078211911, 'class_weight': 'balanced', 'eta0': 0.0001, 'learning_rate': 'optimal', 'loss': 'log_loss', 'max_iter': 10}\n",
            "{'alpha': 0.3512927078211911, 'class_weight': 'balanced', 'eta0': 0.0001, 'learning_rate': 'optimal', 'loss': 'log_loss', 'max_iter': 100}\n",
            "{'alpha': 0.3512927078211911, 'class_weight': 'balanced', 'eta0': 0.0001, 'learning_rate': 'optimal', 'loss': 'log_loss', 'max_iter': 1000}\n",
            "{'alpha': 0.3512927078211911, 'class_weight': 'balanced', 'eta0': 0.0001, 'learning_rate': 'adaptive', 'loss': 'hinge', 'max_iter': 10}\n",
            "{'alpha': 0.3512927078211911, 'class_weight': 'balanced', 'eta0': 0.0001, 'learning_rate': 'adaptive', 'loss': 'hinge', 'max_iter': 100}\n",
            "{'alpha': 0.3512927078211911, 'class_weight': 'balanced', 'eta0': 0.0001, 'learning_rate': 'adaptive', 'loss': 'hinge', 'max_iter': 1000}\n",
            "{'alpha': 0.3512927078211911, 'class_weight': 'balanced', 'eta0': 0.0001, 'learning_rate': 'adaptive', 'loss': 'log_loss', 'max_iter': 10}\n",
            "{'alpha': 0.3512927078211911, 'class_weight': 'balanced', 'eta0': 0.0001, 'learning_rate': 'adaptive', 'loss': 'log_loss', 'max_iter': 100}\n",
            "{'alpha': 0.3512927078211911, 'class_weight': 'balanced', 'eta0': 0.0001, 'learning_rate': 'adaptive', 'loss': 'log_loss', 'max_iter': 1000}\n",
            "{'alpha': 0.3512927078211911, 'class_weight': 'balanced', 'eta0': 0.005, 'learning_rate': 'optimal', 'loss': 'hinge', 'max_iter': 10}\n",
            "{'alpha': 0.3512927078211911, 'class_weight': 'balanced', 'eta0': 0.005, 'learning_rate': 'optimal', 'loss': 'hinge', 'max_iter': 100}\n",
            "{'alpha': 0.3512927078211911, 'class_weight': 'balanced', 'eta0': 0.005, 'learning_rate': 'optimal', 'loss': 'hinge', 'max_iter': 1000}\n",
            "{'alpha': 0.3512927078211911, 'class_weight': 'balanced', 'eta0': 0.005, 'learning_rate': 'optimal', 'loss': 'log_loss', 'max_iter': 10}\n",
            "{'alpha': 0.3512927078211911, 'class_weight': 'balanced', 'eta0': 0.005, 'learning_rate': 'optimal', 'loss': 'log_loss', 'max_iter': 100}\n",
            "{'alpha': 0.3512927078211911, 'class_weight': 'balanced', 'eta0': 0.005, 'learning_rate': 'optimal', 'loss': 'log_loss', 'max_iter': 1000}\n",
            "{'alpha': 0.3512927078211911, 'class_weight': 'balanced', 'eta0': 0.005, 'learning_rate': 'adaptive', 'loss': 'hinge', 'max_iter': 10}\n",
            "{'alpha': 0.3512927078211911, 'class_weight': 'balanced', 'eta0': 0.005, 'learning_rate': 'adaptive', 'loss': 'hinge', 'max_iter': 100}\n",
            "{'alpha': 0.3512927078211911, 'class_weight': 'balanced', 'eta0': 0.005, 'learning_rate': 'adaptive', 'loss': 'hinge', 'max_iter': 1000}\n",
            "{'alpha': 0.3512927078211911, 'class_weight': 'balanced', 'eta0': 0.005, 'learning_rate': 'adaptive', 'loss': 'log_loss', 'max_iter': 10}\n",
            "{'alpha': 0.3512927078211911, 'class_weight': 'balanced', 'eta0': 0.005, 'learning_rate': 'adaptive', 'loss': 'log_loss', 'max_iter': 100}\n",
            "{'alpha': 0.3512927078211911, 'class_weight': 'balanced', 'eta0': 0.005, 'learning_rate': 'adaptive', 'loss': 'log_loss', 'max_iter': 1000}\n",
            "{'alpha': 0.45337066890814215, 'class_weight': 'balanced', 'eta0': 0.001, 'learning_rate': 'optimal', 'loss': 'hinge', 'max_iter': 10}\n",
            "{'alpha': 0.45337066890814215, 'class_weight': 'balanced', 'eta0': 0.001, 'learning_rate': 'optimal', 'loss': 'hinge', 'max_iter': 100}\n",
            "{'alpha': 0.45337066890814215, 'class_weight': 'balanced', 'eta0': 0.001, 'learning_rate': 'optimal', 'loss': 'hinge', 'max_iter': 1000}\n",
            "{'alpha': 0.45337066890814215, 'class_weight': 'balanced', 'eta0': 0.001, 'learning_rate': 'optimal', 'loss': 'log_loss', 'max_iter': 10}\n",
            "{'alpha': 0.45337066890814215, 'class_weight': 'balanced', 'eta0': 0.001, 'learning_rate': 'optimal', 'loss': 'log_loss', 'max_iter': 100}\n",
            "{'alpha': 0.45337066890814215, 'class_weight': 'balanced', 'eta0': 0.001, 'learning_rate': 'optimal', 'loss': 'log_loss', 'max_iter': 1000}\n",
            "{'alpha': 0.45337066890814215, 'class_weight': 'balanced', 'eta0': 0.001, 'learning_rate': 'adaptive', 'loss': 'hinge', 'max_iter': 10}\n",
            "{'alpha': 0.45337066890814215, 'class_weight': 'balanced', 'eta0': 0.001, 'learning_rate': 'adaptive', 'loss': 'hinge', 'max_iter': 100}\n",
            "{'alpha': 0.45337066890814215, 'class_weight': 'balanced', 'eta0': 0.001, 'learning_rate': 'adaptive', 'loss': 'hinge', 'max_iter': 1000}\n",
            "{'alpha': 0.45337066890814215, 'class_weight': 'balanced', 'eta0': 0.001, 'learning_rate': 'adaptive', 'loss': 'log_loss', 'max_iter': 10}\n",
            "{'alpha': 0.45337066890814215, 'class_weight': 'balanced', 'eta0': 0.001, 'learning_rate': 'adaptive', 'loss': 'log_loss', 'max_iter': 100}\n",
            "{'alpha': 0.45337066890814215, 'class_weight': 'balanced', 'eta0': 0.001, 'learning_rate': 'adaptive', 'loss': 'log_loss', 'max_iter': 1000}\n",
            "{'alpha': 0.45337066890814215, 'class_weight': 'balanced', 'eta0': 0.01, 'learning_rate': 'optimal', 'loss': 'hinge', 'max_iter': 10}\n",
            "{'alpha': 0.45337066890814215, 'class_weight': 'balanced', 'eta0': 0.01, 'learning_rate': 'optimal', 'loss': 'hinge', 'max_iter': 100}\n",
            "{'alpha': 0.45337066890814215, 'class_weight': 'balanced', 'eta0': 0.01, 'learning_rate': 'optimal', 'loss': 'hinge', 'max_iter': 1000}\n",
            "{'alpha': 0.45337066890814215, 'class_weight': 'balanced', 'eta0': 0.01, 'learning_rate': 'optimal', 'loss': 'log_loss', 'max_iter': 10}\n",
            "{'alpha': 0.45337066890814215, 'class_weight': 'balanced', 'eta0': 0.01, 'learning_rate': 'optimal', 'loss': 'log_loss', 'max_iter': 100}\n",
            "{'alpha': 0.45337066890814215, 'class_weight': 'balanced', 'eta0': 0.01, 'learning_rate': 'optimal', 'loss': 'log_loss', 'max_iter': 1000}\n",
            "{'alpha': 0.45337066890814215, 'class_weight': 'balanced', 'eta0': 0.01, 'learning_rate': 'adaptive', 'loss': 'hinge', 'max_iter': 10}\n",
            "{'alpha': 0.45337066890814215, 'class_weight': 'balanced', 'eta0': 0.01, 'learning_rate': 'adaptive', 'loss': 'hinge', 'max_iter': 100}\n",
            "{'alpha': 0.45337066890814215, 'class_weight': 'balanced', 'eta0': 0.01, 'learning_rate': 'adaptive', 'loss': 'hinge', 'max_iter': 1000}\n",
            "{'alpha': 0.45337066890814215, 'class_weight': 'balanced', 'eta0': 0.01, 'learning_rate': 'adaptive', 'loss': 'log_loss', 'max_iter': 10}\n",
            "{'alpha': 0.45337066890814215, 'class_weight': 'balanced', 'eta0': 0.01, 'learning_rate': 'adaptive', 'loss': 'log_loss', 'max_iter': 100}\n",
            "{'alpha': 0.45337066890814215, 'class_weight': 'balanced', 'eta0': 0.01, 'learning_rate': 'adaptive', 'loss': 'log_loss', 'max_iter': 1000}\n",
            "{'alpha': 0.45337066890814215, 'class_weight': 'balanced', 'eta0': 0.0001, 'learning_rate': 'optimal', 'loss': 'hinge', 'max_iter': 10}\n",
            "{'alpha': 0.45337066890814215, 'class_weight': 'balanced', 'eta0': 0.0001, 'learning_rate': 'optimal', 'loss': 'hinge', 'max_iter': 100}\n",
            "{'alpha': 0.45337066890814215, 'class_weight': 'balanced', 'eta0': 0.0001, 'learning_rate': 'optimal', 'loss': 'hinge', 'max_iter': 1000}\n",
            "{'alpha': 0.45337066890814215, 'class_weight': 'balanced', 'eta0': 0.0001, 'learning_rate': 'optimal', 'loss': 'log_loss', 'max_iter': 10}\n",
            "{'alpha': 0.45337066890814215, 'class_weight': 'balanced', 'eta0': 0.0001, 'learning_rate': 'optimal', 'loss': 'log_loss', 'max_iter': 100}\n",
            "{'alpha': 0.45337066890814215, 'class_weight': 'balanced', 'eta0': 0.0001, 'learning_rate': 'optimal', 'loss': 'log_loss', 'max_iter': 1000}\n",
            "{'alpha': 0.45337066890814215, 'class_weight': 'balanced', 'eta0': 0.0001, 'learning_rate': 'adaptive', 'loss': 'hinge', 'max_iter': 10}\n",
            "{'alpha': 0.45337066890814215, 'class_weight': 'balanced', 'eta0': 0.0001, 'learning_rate': 'adaptive', 'loss': 'hinge', 'max_iter': 100}\n",
            "{'alpha': 0.45337066890814215, 'class_weight': 'balanced', 'eta0': 0.0001, 'learning_rate': 'adaptive', 'loss': 'hinge', 'max_iter': 1000}\n",
            "{'alpha': 0.45337066890814215, 'class_weight': 'balanced', 'eta0': 0.0001, 'learning_rate': 'adaptive', 'loss': 'log_loss', 'max_iter': 10}\n",
            "{'alpha': 0.45337066890814215, 'class_weight': 'balanced', 'eta0': 0.0001, 'learning_rate': 'adaptive', 'loss': 'log_loss', 'max_iter': 100}\n",
            "{'alpha': 0.45337066890814215, 'class_weight': 'balanced', 'eta0': 0.0001, 'learning_rate': 'adaptive', 'loss': 'log_loss', 'max_iter': 1000}\n",
            "{'alpha': 0.45337066890814215, 'class_weight': 'balanced', 'eta0': 0.005, 'learning_rate': 'optimal', 'loss': 'hinge', 'max_iter': 10}\n",
            "{'alpha': 0.45337066890814215, 'class_weight': 'balanced', 'eta0': 0.005, 'learning_rate': 'optimal', 'loss': 'hinge', 'max_iter': 100}\n",
            "{'alpha': 0.45337066890814215, 'class_weight': 'balanced', 'eta0': 0.005, 'learning_rate': 'optimal', 'loss': 'hinge', 'max_iter': 1000}\n",
            "{'alpha': 0.45337066890814215, 'class_weight': 'balanced', 'eta0': 0.005, 'learning_rate': 'optimal', 'loss': 'log_loss', 'max_iter': 10}\n",
            "{'alpha': 0.45337066890814215, 'class_weight': 'balanced', 'eta0': 0.005, 'learning_rate': 'optimal', 'loss': 'log_loss', 'max_iter': 100}\n",
            "{'alpha': 0.45337066890814215, 'class_weight': 'balanced', 'eta0': 0.005, 'learning_rate': 'optimal', 'loss': 'log_loss', 'max_iter': 1000}\n",
            "{'alpha': 0.45337066890814215, 'class_weight': 'balanced', 'eta0': 0.005, 'learning_rate': 'adaptive', 'loss': 'hinge', 'max_iter': 10}\n",
            "{'alpha': 0.45337066890814215, 'class_weight': 'balanced', 'eta0': 0.005, 'learning_rate': 'adaptive', 'loss': 'hinge', 'max_iter': 100}\n",
            "{'alpha': 0.45337066890814215, 'class_weight': 'balanced', 'eta0': 0.005, 'learning_rate': 'adaptive', 'loss': 'hinge', 'max_iter': 1000}\n",
            "{'alpha': 0.45337066890814215, 'class_weight': 'balanced', 'eta0': 0.005, 'learning_rate': 'adaptive', 'loss': 'log_loss', 'max_iter': 10}\n",
            "{'alpha': 0.45337066890814215, 'class_weight': 'balanced', 'eta0': 0.005, 'learning_rate': 'adaptive', 'loss': 'log_loss', 'max_iter': 100}\n",
            "{'alpha': 0.45337066890814215, 'class_weight': 'balanced', 'eta0': 0.005, 'learning_rate': 'adaptive', 'loss': 'log_loss', 'max_iter': 1000}\n",
            "{'alpha': 0.001270003186425294, 'class_weight': 'balanced', 'eta0': 0.001, 'learning_rate': 'optimal', 'loss': 'hinge', 'max_iter': 10}\n",
            "{'alpha': 0.001270003186425294, 'class_weight': 'balanced', 'eta0': 0.001, 'learning_rate': 'optimal', 'loss': 'hinge', 'max_iter': 100}\n",
            "{'alpha': 0.001270003186425294, 'class_weight': 'balanced', 'eta0': 0.001, 'learning_rate': 'optimal', 'loss': 'hinge', 'max_iter': 1000}\n",
            "{'alpha': 0.001270003186425294, 'class_weight': 'balanced', 'eta0': 0.001, 'learning_rate': 'optimal', 'loss': 'log_loss', 'max_iter': 10}\n",
            "{'alpha': 0.001270003186425294, 'class_weight': 'balanced', 'eta0': 0.001, 'learning_rate': 'optimal', 'loss': 'log_loss', 'max_iter': 100}\n",
            "{'alpha': 0.001270003186425294, 'class_weight': 'balanced', 'eta0': 0.001, 'learning_rate': 'optimal', 'loss': 'log_loss', 'max_iter': 1000}\n",
            "{'alpha': 0.001270003186425294, 'class_weight': 'balanced', 'eta0': 0.001, 'learning_rate': 'adaptive', 'loss': 'hinge', 'max_iter': 10}\n",
            "{'alpha': 0.001270003186425294, 'class_weight': 'balanced', 'eta0': 0.001, 'learning_rate': 'adaptive', 'loss': 'hinge', 'max_iter': 100}\n",
            "{'alpha': 0.001270003186425294, 'class_weight': 'balanced', 'eta0': 0.001, 'learning_rate': 'adaptive', 'loss': 'hinge', 'max_iter': 1000}\n",
            "{'alpha': 0.001270003186425294, 'class_weight': 'balanced', 'eta0': 0.001, 'learning_rate': 'adaptive', 'loss': 'log_loss', 'max_iter': 10}\n",
            "{'alpha': 0.001270003186425294, 'class_weight': 'balanced', 'eta0': 0.001, 'learning_rate': 'adaptive', 'loss': 'log_loss', 'max_iter': 100}\n",
            "{'alpha': 0.001270003186425294, 'class_weight': 'balanced', 'eta0': 0.001, 'learning_rate': 'adaptive', 'loss': 'log_loss', 'max_iter': 1000}\n",
            "{'alpha': 0.001270003186425294, 'class_weight': 'balanced', 'eta0': 0.01, 'learning_rate': 'optimal', 'loss': 'hinge', 'max_iter': 10}\n",
            "{'alpha': 0.001270003186425294, 'class_weight': 'balanced', 'eta0': 0.01, 'learning_rate': 'optimal', 'loss': 'hinge', 'max_iter': 100}\n",
            "{'alpha': 0.001270003186425294, 'class_weight': 'balanced', 'eta0': 0.01, 'learning_rate': 'optimal', 'loss': 'hinge', 'max_iter': 1000}\n",
            "{'alpha': 0.001270003186425294, 'class_weight': 'balanced', 'eta0': 0.01, 'learning_rate': 'optimal', 'loss': 'log_loss', 'max_iter': 10}\n",
            "{'alpha': 0.001270003186425294, 'class_weight': 'balanced', 'eta0': 0.01, 'learning_rate': 'optimal', 'loss': 'log_loss', 'max_iter': 100}\n",
            "{'alpha': 0.001270003186425294, 'class_weight': 'balanced', 'eta0': 0.01, 'learning_rate': 'optimal', 'loss': 'log_loss', 'max_iter': 1000}\n",
            "{'alpha': 0.001270003186425294, 'class_weight': 'balanced', 'eta0': 0.01, 'learning_rate': 'adaptive', 'loss': 'hinge', 'max_iter': 10}\n",
            "{'alpha': 0.001270003186425294, 'class_weight': 'balanced', 'eta0': 0.01, 'learning_rate': 'adaptive', 'loss': 'hinge', 'max_iter': 100}\n",
            "{'alpha': 0.001270003186425294, 'class_weight': 'balanced', 'eta0': 0.01, 'learning_rate': 'adaptive', 'loss': 'hinge', 'max_iter': 1000}\n",
            "{'alpha': 0.001270003186425294, 'class_weight': 'balanced', 'eta0': 0.01, 'learning_rate': 'adaptive', 'loss': 'log_loss', 'max_iter': 10}\n",
            "{'alpha': 0.001270003186425294, 'class_weight': 'balanced', 'eta0': 0.01, 'learning_rate': 'adaptive', 'loss': 'log_loss', 'max_iter': 100}\n",
            "{'alpha': 0.001270003186425294, 'class_weight': 'balanced', 'eta0': 0.01, 'learning_rate': 'adaptive', 'loss': 'log_loss', 'max_iter': 1000}\n",
            "{'alpha': 0.001270003186425294, 'class_weight': 'balanced', 'eta0': 0.0001, 'learning_rate': 'optimal', 'loss': 'hinge', 'max_iter': 10}\n",
            "{'alpha': 0.001270003186425294, 'class_weight': 'balanced', 'eta0': 0.0001, 'learning_rate': 'optimal', 'loss': 'hinge', 'max_iter': 100}\n",
            "{'alpha': 0.001270003186425294, 'class_weight': 'balanced', 'eta0': 0.0001, 'learning_rate': 'optimal', 'loss': 'hinge', 'max_iter': 1000}\n",
            "{'alpha': 0.001270003186425294, 'class_weight': 'balanced', 'eta0': 0.0001, 'learning_rate': 'optimal', 'loss': 'log_loss', 'max_iter': 10}\n",
            "{'alpha': 0.001270003186425294, 'class_weight': 'balanced', 'eta0': 0.0001, 'learning_rate': 'optimal', 'loss': 'log_loss', 'max_iter': 100}\n",
            "{'alpha': 0.001270003186425294, 'class_weight': 'balanced', 'eta0': 0.0001, 'learning_rate': 'optimal', 'loss': 'log_loss', 'max_iter': 1000}\n",
            "{'alpha': 0.001270003186425294, 'class_weight': 'balanced', 'eta0': 0.0001, 'learning_rate': 'adaptive', 'loss': 'hinge', 'max_iter': 10}\n",
            "{'alpha': 0.001270003186425294, 'class_weight': 'balanced', 'eta0': 0.0001, 'learning_rate': 'adaptive', 'loss': 'hinge', 'max_iter': 100}\n",
            "{'alpha': 0.001270003186425294, 'class_weight': 'balanced', 'eta0': 0.0001, 'learning_rate': 'adaptive', 'loss': 'hinge', 'max_iter': 1000}\n",
            "{'alpha': 0.001270003186425294, 'class_weight': 'balanced', 'eta0': 0.0001, 'learning_rate': 'adaptive', 'loss': 'log_loss', 'max_iter': 10}\n",
            "{'alpha': 0.001270003186425294, 'class_weight': 'balanced', 'eta0': 0.0001, 'learning_rate': 'adaptive', 'loss': 'log_loss', 'max_iter': 100}\n",
            "{'alpha': 0.001270003186425294, 'class_weight': 'balanced', 'eta0': 0.0001, 'learning_rate': 'adaptive', 'loss': 'log_loss', 'max_iter': 1000}\n",
            "{'alpha': 0.001270003186425294, 'class_weight': 'balanced', 'eta0': 0.005, 'learning_rate': 'optimal', 'loss': 'hinge', 'max_iter': 10}\n",
            "{'alpha': 0.001270003186425294, 'class_weight': 'balanced', 'eta0': 0.005, 'learning_rate': 'optimal', 'loss': 'hinge', 'max_iter': 100}\n",
            "{'alpha': 0.001270003186425294, 'class_weight': 'balanced', 'eta0': 0.005, 'learning_rate': 'optimal', 'loss': 'hinge', 'max_iter': 1000}\n",
            "{'alpha': 0.001270003186425294, 'class_weight': 'balanced', 'eta0': 0.005, 'learning_rate': 'optimal', 'loss': 'log_loss', 'max_iter': 10}\n",
            "{'alpha': 0.001270003186425294, 'class_weight': 'balanced', 'eta0': 0.005, 'learning_rate': 'optimal', 'loss': 'log_loss', 'max_iter': 100}\n",
            "{'alpha': 0.001270003186425294, 'class_weight': 'balanced', 'eta0': 0.005, 'learning_rate': 'optimal', 'loss': 'log_loss', 'max_iter': 1000}\n",
            "{'alpha': 0.001270003186425294, 'class_weight': 'balanced', 'eta0': 0.005, 'learning_rate': 'adaptive', 'loss': 'hinge', 'max_iter': 10}\n",
            "{'alpha': 0.001270003186425294, 'class_weight': 'balanced', 'eta0': 0.005, 'learning_rate': 'adaptive', 'loss': 'hinge', 'max_iter': 100}\n",
            "{'alpha': 0.001270003186425294, 'class_weight': 'balanced', 'eta0': 0.005, 'learning_rate': 'adaptive', 'loss': 'hinge', 'max_iter': 1000}\n",
            "{'alpha': 0.001270003186425294, 'class_weight': 'balanced', 'eta0': 0.005, 'learning_rate': 'adaptive', 'loss': 'log_loss', 'max_iter': 10}\n",
            "{'alpha': 0.001270003186425294, 'class_weight': 'balanced', 'eta0': 0.005, 'learning_rate': 'adaptive', 'loss': 'log_loss', 'max_iter': 100}\n",
            "{'alpha': 0.001270003186425294, 'class_weight': 'balanced', 'eta0': 0.005, 'learning_rate': 'adaptive', 'loss': 'log_loss', 'max_iter': 1000}\n",
            "{'alpha': 0.00016260330735745125, 'class_weight': 'balanced', 'eta0': 0.001, 'learning_rate': 'optimal', 'loss': 'hinge', 'max_iter': 10}\n",
            "{'alpha': 0.00016260330735745125, 'class_weight': 'balanced', 'eta0': 0.001, 'learning_rate': 'optimal', 'loss': 'hinge', 'max_iter': 100}\n",
            "{'alpha': 0.00016260330735745125, 'class_weight': 'balanced', 'eta0': 0.001, 'learning_rate': 'optimal', 'loss': 'hinge', 'max_iter': 1000}\n",
            "{'alpha': 0.00016260330735745125, 'class_weight': 'balanced', 'eta0': 0.001, 'learning_rate': 'optimal', 'loss': 'log_loss', 'max_iter': 10}\n",
            "{'alpha': 0.00016260330735745125, 'class_weight': 'balanced', 'eta0': 0.001, 'learning_rate': 'optimal', 'loss': 'log_loss', 'max_iter': 100}\n",
            "{'alpha': 0.00016260330735745125, 'class_weight': 'balanced', 'eta0': 0.001, 'learning_rate': 'optimal', 'loss': 'log_loss', 'max_iter': 1000}\n",
            "{'alpha': 0.00016260330735745125, 'class_weight': 'balanced', 'eta0': 0.001, 'learning_rate': 'adaptive', 'loss': 'hinge', 'max_iter': 10}\n",
            "{'alpha': 0.00016260330735745125, 'class_weight': 'balanced', 'eta0': 0.001, 'learning_rate': 'adaptive', 'loss': 'hinge', 'max_iter': 100}\n",
            "{'alpha': 0.00016260330735745125, 'class_weight': 'balanced', 'eta0': 0.001, 'learning_rate': 'adaptive', 'loss': 'hinge', 'max_iter': 1000}\n",
            "{'alpha': 0.00016260330735745125, 'class_weight': 'balanced', 'eta0': 0.001, 'learning_rate': 'adaptive', 'loss': 'log_loss', 'max_iter': 10}\n",
            "{'alpha': 0.00016260330735745125, 'class_weight': 'balanced', 'eta0': 0.001, 'learning_rate': 'adaptive', 'loss': 'log_loss', 'max_iter': 100}\n",
            "{'alpha': 0.00016260330735745125, 'class_weight': 'balanced', 'eta0': 0.001, 'learning_rate': 'adaptive', 'loss': 'log_loss', 'max_iter': 1000}\n",
            "{'alpha': 0.00016260330735745125, 'class_weight': 'balanced', 'eta0': 0.01, 'learning_rate': 'optimal', 'loss': 'hinge', 'max_iter': 10}\n",
            "{'alpha': 0.00016260330735745125, 'class_weight': 'balanced', 'eta0': 0.01, 'learning_rate': 'optimal', 'loss': 'hinge', 'max_iter': 100}\n",
            "{'alpha': 0.00016260330735745125, 'class_weight': 'balanced', 'eta0': 0.01, 'learning_rate': 'optimal', 'loss': 'hinge', 'max_iter': 1000}\n",
            "{'alpha': 0.00016260330735745125, 'class_weight': 'balanced', 'eta0': 0.01, 'learning_rate': 'optimal', 'loss': 'log_loss', 'max_iter': 10}\n",
            "{'alpha': 0.00016260330735745125, 'class_weight': 'balanced', 'eta0': 0.01, 'learning_rate': 'optimal', 'loss': 'log_loss', 'max_iter': 100}\n",
            "{'alpha': 0.00016260330735745125, 'class_weight': 'balanced', 'eta0': 0.01, 'learning_rate': 'optimal', 'loss': 'log_loss', 'max_iter': 1000}\n",
            "{'alpha': 0.00016260330735745125, 'class_weight': 'balanced', 'eta0': 0.01, 'learning_rate': 'adaptive', 'loss': 'hinge', 'max_iter': 10}\n",
            "{'alpha': 0.00016260330735745125, 'class_weight': 'balanced', 'eta0': 0.01, 'learning_rate': 'adaptive', 'loss': 'hinge', 'max_iter': 100}\n",
            "{'alpha': 0.00016260330735745125, 'class_weight': 'balanced', 'eta0': 0.01, 'learning_rate': 'adaptive', 'loss': 'hinge', 'max_iter': 1000}\n",
            "{'alpha': 0.00016260330735745125, 'class_weight': 'balanced', 'eta0': 0.01, 'learning_rate': 'adaptive', 'loss': 'log_loss', 'max_iter': 10}\n",
            "{'alpha': 0.00016260330735745125, 'class_weight': 'balanced', 'eta0': 0.01, 'learning_rate': 'adaptive', 'loss': 'log_loss', 'max_iter': 100}\n",
            "{'alpha': 0.00016260330735745125, 'class_weight': 'balanced', 'eta0': 0.01, 'learning_rate': 'adaptive', 'loss': 'log_loss', 'max_iter': 1000}\n",
            "{'alpha': 0.00016260330735745125, 'class_weight': 'balanced', 'eta0': 0.0001, 'learning_rate': 'optimal', 'loss': 'hinge', 'max_iter': 10}\n",
            "{'alpha': 0.00016260330735745125, 'class_weight': 'balanced', 'eta0': 0.0001, 'learning_rate': 'optimal', 'loss': 'hinge', 'max_iter': 100}\n",
            "{'alpha': 0.00016260330735745125, 'class_weight': 'balanced', 'eta0': 0.0001, 'learning_rate': 'optimal', 'loss': 'hinge', 'max_iter': 1000}\n",
            "{'alpha': 0.00016260330735745125, 'class_weight': 'balanced', 'eta0': 0.0001, 'learning_rate': 'optimal', 'loss': 'log_loss', 'max_iter': 10}\n",
            "{'alpha': 0.00016260330735745125, 'class_weight': 'balanced', 'eta0': 0.0001, 'learning_rate': 'optimal', 'loss': 'log_loss', 'max_iter': 100}\n",
            "{'alpha': 0.00016260330735745125, 'class_weight': 'balanced', 'eta0': 0.0001, 'learning_rate': 'optimal', 'loss': 'log_loss', 'max_iter': 1000}\n",
            "{'alpha': 0.00016260330735745125, 'class_weight': 'balanced', 'eta0': 0.0001, 'learning_rate': 'adaptive', 'loss': 'hinge', 'max_iter': 10}\n",
            "{'alpha': 0.00016260330735745125, 'class_weight': 'balanced', 'eta0': 0.0001, 'learning_rate': 'adaptive', 'loss': 'hinge', 'max_iter': 100}\n",
            "{'alpha': 0.00016260330735745125, 'class_weight': 'balanced', 'eta0': 0.0001, 'learning_rate': 'adaptive', 'loss': 'hinge', 'max_iter': 1000}\n",
            "{'alpha': 0.00016260330735745125, 'class_weight': 'balanced', 'eta0': 0.0001, 'learning_rate': 'adaptive', 'loss': 'log_loss', 'max_iter': 10}\n",
            "{'alpha': 0.00016260330735745125, 'class_weight': 'balanced', 'eta0': 0.0001, 'learning_rate': 'adaptive', 'loss': 'log_loss', 'max_iter': 100}\n",
            "{'alpha': 0.00016260330735745125, 'class_weight': 'balanced', 'eta0': 0.0001, 'learning_rate': 'adaptive', 'loss': 'log_loss', 'max_iter': 1000}\n",
            "{'alpha': 0.00016260330735745125, 'class_weight': 'balanced', 'eta0': 0.005, 'learning_rate': 'optimal', 'loss': 'hinge', 'max_iter': 10}\n",
            "{'alpha': 0.00016260330735745125, 'class_weight': 'balanced', 'eta0': 0.005, 'learning_rate': 'optimal', 'loss': 'hinge', 'max_iter': 100}\n",
            "{'alpha': 0.00016260330735745125, 'class_weight': 'balanced', 'eta0': 0.005, 'learning_rate': 'optimal', 'loss': 'hinge', 'max_iter': 1000}\n",
            "{'alpha': 0.00016260330735745125, 'class_weight': 'balanced', 'eta0': 0.005, 'learning_rate': 'optimal', 'loss': 'log_loss', 'max_iter': 10}\n",
            "{'alpha': 0.00016260330735745125, 'class_weight': 'balanced', 'eta0': 0.005, 'learning_rate': 'optimal', 'loss': 'log_loss', 'max_iter': 100}\n",
            "{'alpha': 0.00016260330735745125, 'class_weight': 'balanced', 'eta0': 0.005, 'learning_rate': 'optimal', 'loss': 'log_loss', 'max_iter': 1000}\n",
            "{'alpha': 0.00016260330735745125, 'class_weight': 'balanced', 'eta0': 0.005, 'learning_rate': 'adaptive', 'loss': 'hinge', 'max_iter': 10}\n",
            "{'alpha': 0.00016260330735745125, 'class_weight': 'balanced', 'eta0': 0.005, 'learning_rate': 'adaptive', 'loss': 'hinge', 'max_iter': 100}\n",
            "{'alpha': 0.00016260330735745125, 'class_weight': 'balanced', 'eta0': 0.005, 'learning_rate': 'adaptive', 'loss': 'hinge', 'max_iter': 1000}\n",
            "{'alpha': 0.00016260330735745125, 'class_weight': 'balanced', 'eta0': 0.005, 'learning_rate': 'adaptive', 'loss': 'log_loss', 'max_iter': 10}\n",
            "{'alpha': 0.00016260330735745125, 'class_weight': 'balanced', 'eta0': 0.005, 'learning_rate': 'adaptive', 'loss': 'log_loss', 'max_iter': 100}\n",
            "{'alpha': 0.00016260330735745125, 'class_weight': 'balanced', 'eta0': 0.005, 'learning_rate': 'adaptive', 'loss': 'log_loss', 'max_iter': 1000}\n",
            "{'alpha': 0.009640440167376635, 'class_weight': 'balanced', 'eta0': 0.001, 'learning_rate': 'optimal', 'loss': 'hinge', 'max_iter': 10}\n",
            "{'alpha': 0.009640440167376635, 'class_weight': 'balanced', 'eta0': 0.001, 'learning_rate': 'optimal', 'loss': 'hinge', 'max_iter': 100}\n",
            "{'alpha': 0.009640440167376635, 'class_weight': 'balanced', 'eta0': 0.001, 'learning_rate': 'optimal', 'loss': 'hinge', 'max_iter': 1000}\n",
            "{'alpha': 0.009640440167376635, 'class_weight': 'balanced', 'eta0': 0.001, 'learning_rate': 'optimal', 'loss': 'log_loss', 'max_iter': 10}\n",
            "{'alpha': 0.009640440167376635, 'class_weight': 'balanced', 'eta0': 0.001, 'learning_rate': 'optimal', 'loss': 'log_loss', 'max_iter': 100}\n",
            "{'alpha': 0.009640440167376635, 'class_weight': 'balanced', 'eta0': 0.001, 'learning_rate': 'optimal', 'loss': 'log_loss', 'max_iter': 1000}\n",
            "{'alpha': 0.009640440167376635, 'class_weight': 'balanced', 'eta0': 0.001, 'learning_rate': 'adaptive', 'loss': 'hinge', 'max_iter': 10}\n",
            "{'alpha': 0.009640440167376635, 'class_weight': 'balanced', 'eta0': 0.001, 'learning_rate': 'adaptive', 'loss': 'hinge', 'max_iter': 100}\n",
            "{'alpha': 0.009640440167376635, 'class_weight': 'balanced', 'eta0': 0.001, 'learning_rate': 'adaptive', 'loss': 'hinge', 'max_iter': 1000}\n",
            "{'alpha': 0.009640440167376635, 'class_weight': 'balanced', 'eta0': 0.001, 'learning_rate': 'adaptive', 'loss': 'log_loss', 'max_iter': 10}\n",
            "{'alpha': 0.009640440167376635, 'class_weight': 'balanced', 'eta0': 0.001, 'learning_rate': 'adaptive', 'loss': 'log_loss', 'max_iter': 100}\n",
            "{'alpha': 0.009640440167376635, 'class_weight': 'balanced', 'eta0': 0.001, 'learning_rate': 'adaptive', 'loss': 'log_loss', 'max_iter': 1000}\n",
            "{'alpha': 0.009640440167376635, 'class_weight': 'balanced', 'eta0': 0.01, 'learning_rate': 'optimal', 'loss': 'hinge', 'max_iter': 10}\n",
            "{'alpha': 0.009640440167376635, 'class_weight': 'balanced', 'eta0': 0.01, 'learning_rate': 'optimal', 'loss': 'hinge', 'max_iter': 100}\n",
            "{'alpha': 0.009640440167376635, 'class_weight': 'balanced', 'eta0': 0.01, 'learning_rate': 'optimal', 'loss': 'hinge', 'max_iter': 1000}\n",
            "{'alpha': 0.009640440167376635, 'class_weight': 'balanced', 'eta0': 0.01, 'learning_rate': 'optimal', 'loss': 'log_loss', 'max_iter': 10}\n",
            "{'alpha': 0.009640440167376635, 'class_weight': 'balanced', 'eta0': 0.01, 'learning_rate': 'optimal', 'loss': 'log_loss', 'max_iter': 100}\n",
            "{'alpha': 0.009640440167376635, 'class_weight': 'balanced', 'eta0': 0.01, 'learning_rate': 'optimal', 'loss': 'log_loss', 'max_iter': 1000}\n",
            "{'alpha': 0.009640440167376635, 'class_weight': 'balanced', 'eta0': 0.01, 'learning_rate': 'adaptive', 'loss': 'hinge', 'max_iter': 10}\n",
            "{'alpha': 0.009640440167376635, 'class_weight': 'balanced', 'eta0': 0.01, 'learning_rate': 'adaptive', 'loss': 'hinge', 'max_iter': 100}\n",
            "{'alpha': 0.009640440167376635, 'class_weight': 'balanced', 'eta0': 0.01, 'learning_rate': 'adaptive', 'loss': 'hinge', 'max_iter': 1000}\n",
            "{'alpha': 0.009640440167376635, 'class_weight': 'balanced', 'eta0': 0.01, 'learning_rate': 'adaptive', 'loss': 'log_loss', 'max_iter': 10}\n",
            "{'alpha': 0.009640440167376635, 'class_weight': 'balanced', 'eta0': 0.01, 'learning_rate': 'adaptive', 'loss': 'log_loss', 'max_iter': 100}\n",
            "{'alpha': 0.009640440167376635, 'class_weight': 'balanced', 'eta0': 0.01, 'learning_rate': 'adaptive', 'loss': 'log_loss', 'max_iter': 1000}\n",
            "{'alpha': 0.009640440167376635, 'class_weight': 'balanced', 'eta0': 0.0001, 'learning_rate': 'optimal', 'loss': 'hinge', 'max_iter': 10}\n",
            "{'alpha': 0.009640440167376635, 'class_weight': 'balanced', 'eta0': 0.0001, 'learning_rate': 'optimal', 'loss': 'hinge', 'max_iter': 100}\n",
            "{'alpha': 0.009640440167376635, 'class_weight': 'balanced', 'eta0': 0.0001, 'learning_rate': 'optimal', 'loss': 'hinge', 'max_iter': 1000}\n",
            "{'alpha': 0.009640440167376635, 'class_weight': 'balanced', 'eta0': 0.0001, 'learning_rate': 'optimal', 'loss': 'log_loss', 'max_iter': 10}\n",
            "{'alpha': 0.009640440167376635, 'class_weight': 'balanced', 'eta0': 0.0001, 'learning_rate': 'optimal', 'loss': 'log_loss', 'max_iter': 100}\n",
            "{'alpha': 0.009640440167376635, 'class_weight': 'balanced', 'eta0': 0.0001, 'learning_rate': 'optimal', 'loss': 'log_loss', 'max_iter': 1000}\n",
            "{'alpha': 0.009640440167376635, 'class_weight': 'balanced', 'eta0': 0.0001, 'learning_rate': 'adaptive', 'loss': 'hinge', 'max_iter': 10}\n",
            "{'alpha': 0.009640440167376635, 'class_weight': 'balanced', 'eta0': 0.0001, 'learning_rate': 'adaptive', 'loss': 'hinge', 'max_iter': 100}\n",
            "{'alpha': 0.009640440167376635, 'class_weight': 'balanced', 'eta0': 0.0001, 'learning_rate': 'adaptive', 'loss': 'hinge', 'max_iter': 1000}\n",
            "{'alpha': 0.009640440167376635, 'class_weight': 'balanced', 'eta0': 0.0001, 'learning_rate': 'adaptive', 'loss': 'log_loss', 'max_iter': 10}\n",
            "{'alpha': 0.009640440167376635, 'class_weight': 'balanced', 'eta0': 0.0001, 'learning_rate': 'adaptive', 'loss': 'log_loss', 'max_iter': 100}\n",
            "{'alpha': 0.009640440167376635, 'class_weight': 'balanced', 'eta0': 0.0001, 'learning_rate': 'adaptive', 'loss': 'log_loss', 'max_iter': 1000}\n",
            "{'alpha': 0.009640440167376635, 'class_weight': 'balanced', 'eta0': 0.005, 'learning_rate': 'optimal', 'loss': 'hinge', 'max_iter': 10}\n",
            "{'alpha': 0.009640440167376635, 'class_weight': 'balanced', 'eta0': 0.005, 'learning_rate': 'optimal', 'loss': 'hinge', 'max_iter': 100}\n",
            "{'alpha': 0.009640440167376635, 'class_weight': 'balanced', 'eta0': 0.005, 'learning_rate': 'optimal', 'loss': 'hinge', 'max_iter': 1000}\n",
            "{'alpha': 0.009640440167376635, 'class_weight': 'balanced', 'eta0': 0.005, 'learning_rate': 'optimal', 'loss': 'log_loss', 'max_iter': 10}\n",
            "{'alpha': 0.009640440167376635, 'class_weight': 'balanced', 'eta0': 0.005, 'learning_rate': 'optimal', 'loss': 'log_loss', 'max_iter': 100}\n",
            "{'alpha': 0.009640440167376635, 'class_weight': 'balanced', 'eta0': 0.005, 'learning_rate': 'optimal', 'loss': 'log_loss', 'max_iter': 1000}\n",
            "{'alpha': 0.009640440167376635, 'class_weight': 'balanced', 'eta0': 0.005, 'learning_rate': 'adaptive', 'loss': 'hinge', 'max_iter': 10}\n",
            "{'alpha': 0.009640440167376635, 'class_weight': 'balanced', 'eta0': 0.005, 'learning_rate': 'adaptive', 'loss': 'hinge', 'max_iter': 100}\n",
            "{'alpha': 0.009640440167376635, 'class_weight': 'balanced', 'eta0': 0.005, 'learning_rate': 'adaptive', 'loss': 'hinge', 'max_iter': 1000}\n",
            "{'alpha': 0.009640440167376635, 'class_weight': 'balanced', 'eta0': 0.005, 'learning_rate': 'adaptive', 'loss': 'log_loss', 'max_iter': 10}\n",
            "{'alpha': 0.009640440167376635, 'class_weight': 'balanced', 'eta0': 0.005, 'learning_rate': 'adaptive', 'loss': 'log_loss', 'max_iter': 100}\n",
            "{'alpha': 0.009640440167376635, 'class_weight': 'balanced', 'eta0': 0.005, 'learning_rate': 'adaptive', 'loss': 'log_loss', 'max_iter': 1000}\n"
          ]
        }
      ]
    },
    {
      "cell_type": "code",
      "source": [
        "from sklearn.model_selection import GridSearchCV\n",
        "\n",
        "model = SGDClassifier(random_state=123)\n",
        "\n",
        "cv = GridSearchCV(model, param_grid,scoring='f1') # f1\n",
        "cv.fit(X_train, y_train);"
      ],
      "metadata": {
        "colab": {
          "base_uri": "https://localhost:8080/"
        },
        "id": "nGQZoCBotPMR",
        "outputId": "30db3d34-493d-4860-a352-6e983cdea08b"
      },
      "execution_count": 20,
      "outputs": [
        {
          "output_type": "stream",
          "name": "stderr",
          "text": [
            "/usr/local/lib/python3.7/dist-packages/sklearn/linear_model/_stochastic_gradient.py:700: ConvergenceWarning: Maximum number of iteration reached before convergence. Consider increasing max_iter to improve the fit.\n",
            "  ConvergenceWarning,\n",
            "/usr/local/lib/python3.7/dist-packages/sklearn/linear_model/_stochastic_gradient.py:700: ConvergenceWarning: Maximum number of iteration reached before convergence. Consider increasing max_iter to improve the fit.\n",
            "  ConvergenceWarning,\n",
            "/usr/local/lib/python3.7/dist-packages/sklearn/linear_model/_stochastic_gradient.py:700: ConvergenceWarning: Maximum number of iteration reached before convergence. Consider increasing max_iter to improve the fit.\n",
            "  ConvergenceWarning,\n",
            "/usr/local/lib/python3.7/dist-packages/sklearn/linear_model/_stochastic_gradient.py:700: ConvergenceWarning: Maximum number of iteration reached before convergence. Consider increasing max_iter to improve the fit.\n",
            "  ConvergenceWarning,\n",
            "/usr/local/lib/python3.7/dist-packages/sklearn/linear_model/_stochastic_gradient.py:700: ConvergenceWarning: Maximum number of iteration reached before convergence. Consider increasing max_iter to improve the fit.\n",
            "  ConvergenceWarning,\n",
            "/usr/local/lib/python3.7/dist-packages/sklearn/linear_model/_stochastic_gradient.py:700: ConvergenceWarning: Maximum number of iteration reached before convergence. Consider increasing max_iter to improve the fit.\n",
            "  ConvergenceWarning,\n",
            "/usr/local/lib/python3.7/dist-packages/sklearn/linear_model/_stochastic_gradient.py:700: ConvergenceWarning: Maximum number of iteration reached before convergence. Consider increasing max_iter to improve the fit.\n",
            "  ConvergenceWarning,\n",
            "/usr/local/lib/python3.7/dist-packages/sklearn/linear_model/_stochastic_gradient.py:700: ConvergenceWarning: Maximum number of iteration reached before convergence. Consider increasing max_iter to improve the fit.\n",
            "  ConvergenceWarning,\n",
            "/usr/local/lib/python3.7/dist-packages/sklearn/linear_model/_stochastic_gradient.py:700: ConvergenceWarning: Maximum number of iteration reached before convergence. Consider increasing max_iter to improve the fit.\n",
            "  ConvergenceWarning,\n",
            "/usr/local/lib/python3.7/dist-packages/sklearn/linear_model/_stochastic_gradient.py:700: ConvergenceWarning: Maximum number of iteration reached before convergence. Consider increasing max_iter to improve the fit.\n",
            "  ConvergenceWarning,\n",
            "/usr/local/lib/python3.7/dist-packages/sklearn/linear_model/_stochastic_gradient.py:700: ConvergenceWarning: Maximum number of iteration reached before convergence. Consider increasing max_iter to improve the fit.\n",
            "  ConvergenceWarning,\n",
            "/usr/local/lib/python3.7/dist-packages/sklearn/linear_model/_stochastic_gradient.py:700: ConvergenceWarning: Maximum number of iteration reached before convergence. Consider increasing max_iter to improve the fit.\n",
            "  ConvergenceWarning,\n",
            "/usr/local/lib/python3.7/dist-packages/sklearn/linear_model/_stochastic_gradient.py:700: ConvergenceWarning: Maximum number of iteration reached before convergence. Consider increasing max_iter to improve the fit.\n",
            "  ConvergenceWarning,\n",
            "/usr/local/lib/python3.7/dist-packages/sklearn/linear_model/_stochastic_gradient.py:700: ConvergenceWarning: Maximum number of iteration reached before convergence. Consider increasing max_iter to improve the fit.\n",
            "  ConvergenceWarning,\n",
            "/usr/local/lib/python3.7/dist-packages/sklearn/linear_model/_stochastic_gradient.py:700: ConvergenceWarning: Maximum number of iteration reached before convergence. Consider increasing max_iter to improve the fit.\n",
            "  ConvergenceWarning,\n",
            "/usr/local/lib/python3.7/dist-packages/sklearn/linear_model/_stochastic_gradient.py:700: ConvergenceWarning: Maximum number of iteration reached before convergence. Consider increasing max_iter to improve the fit.\n",
            "  ConvergenceWarning,\n",
            "/usr/local/lib/python3.7/dist-packages/sklearn/linear_model/_stochastic_gradient.py:700: ConvergenceWarning: Maximum number of iteration reached before convergence. Consider increasing max_iter to improve the fit.\n",
            "  ConvergenceWarning,\n",
            "/usr/local/lib/python3.7/dist-packages/sklearn/linear_model/_stochastic_gradient.py:700: ConvergenceWarning: Maximum number of iteration reached before convergence. Consider increasing max_iter to improve the fit.\n",
            "  ConvergenceWarning,\n",
            "/usr/local/lib/python3.7/dist-packages/sklearn/linear_model/_stochastic_gradient.py:700: ConvergenceWarning: Maximum number of iteration reached before convergence. Consider increasing max_iter to improve the fit.\n",
            "  ConvergenceWarning,\n",
            "/usr/local/lib/python3.7/dist-packages/sklearn/linear_model/_stochastic_gradient.py:700: ConvergenceWarning: Maximum number of iteration reached before convergence. Consider increasing max_iter to improve the fit.\n",
            "  ConvergenceWarning,\n",
            "/usr/local/lib/python3.7/dist-packages/sklearn/linear_model/_stochastic_gradient.py:700: ConvergenceWarning: Maximum number of iteration reached before convergence. Consider increasing max_iter to improve the fit.\n",
            "  ConvergenceWarning,\n",
            "/usr/local/lib/python3.7/dist-packages/sklearn/linear_model/_stochastic_gradient.py:700: ConvergenceWarning: Maximum number of iteration reached before convergence. Consider increasing max_iter to improve the fit.\n",
            "  ConvergenceWarning,\n",
            "/usr/local/lib/python3.7/dist-packages/sklearn/linear_model/_stochastic_gradient.py:700: ConvergenceWarning: Maximum number of iteration reached before convergence. Consider increasing max_iter to improve the fit.\n",
            "  ConvergenceWarning,\n",
            "/usr/local/lib/python3.7/dist-packages/sklearn/linear_model/_stochastic_gradient.py:700: ConvergenceWarning: Maximum number of iteration reached before convergence. Consider increasing max_iter to improve the fit.\n",
            "  ConvergenceWarning,\n",
            "/usr/local/lib/python3.7/dist-packages/sklearn/linear_model/_stochastic_gradient.py:700: ConvergenceWarning: Maximum number of iteration reached before convergence. Consider increasing max_iter to improve the fit.\n",
            "  ConvergenceWarning,\n",
            "/usr/local/lib/python3.7/dist-packages/sklearn/linear_model/_stochastic_gradient.py:700: ConvergenceWarning: Maximum number of iteration reached before convergence. Consider increasing max_iter to improve the fit.\n",
            "  ConvergenceWarning,\n",
            "/usr/local/lib/python3.7/dist-packages/sklearn/linear_model/_stochastic_gradient.py:700: ConvergenceWarning: Maximum number of iteration reached before convergence. Consider increasing max_iter to improve the fit.\n",
            "  ConvergenceWarning,\n",
            "/usr/local/lib/python3.7/dist-packages/sklearn/linear_model/_stochastic_gradient.py:700: ConvergenceWarning: Maximum number of iteration reached before convergence. Consider increasing max_iter to improve the fit.\n",
            "  ConvergenceWarning,\n",
            "/usr/local/lib/python3.7/dist-packages/sklearn/linear_model/_stochastic_gradient.py:700: ConvergenceWarning: Maximum number of iteration reached before convergence. Consider increasing max_iter to improve the fit.\n",
            "  ConvergenceWarning,\n",
            "/usr/local/lib/python3.7/dist-packages/sklearn/linear_model/_stochastic_gradient.py:700: ConvergenceWarning: Maximum number of iteration reached before convergence. Consider increasing max_iter to improve the fit.\n",
            "  ConvergenceWarning,\n",
            "/usr/local/lib/python3.7/dist-packages/sklearn/linear_model/_stochastic_gradient.py:700: ConvergenceWarning: Maximum number of iteration reached before convergence. Consider increasing max_iter to improve the fit.\n",
            "  ConvergenceWarning,\n",
            "/usr/local/lib/python3.7/dist-packages/sklearn/linear_model/_stochastic_gradient.py:700: ConvergenceWarning: Maximum number of iteration reached before convergence. Consider increasing max_iter to improve the fit.\n",
            "  ConvergenceWarning,\n",
            "/usr/local/lib/python3.7/dist-packages/sklearn/linear_model/_stochastic_gradient.py:700: ConvergenceWarning: Maximum number of iteration reached before convergence. Consider increasing max_iter to improve the fit.\n",
            "  ConvergenceWarning,\n",
            "/usr/local/lib/python3.7/dist-packages/sklearn/linear_model/_stochastic_gradient.py:700: ConvergenceWarning: Maximum number of iteration reached before convergence. Consider increasing max_iter to improve the fit.\n",
            "  ConvergenceWarning,\n",
            "/usr/local/lib/python3.7/dist-packages/sklearn/linear_model/_stochastic_gradient.py:700: ConvergenceWarning: Maximum number of iteration reached before convergence. Consider increasing max_iter to improve the fit.\n",
            "  ConvergenceWarning,\n",
            "/usr/local/lib/python3.7/dist-packages/sklearn/linear_model/_stochastic_gradient.py:700: ConvergenceWarning: Maximum number of iteration reached before convergence. Consider increasing max_iter to improve the fit.\n",
            "  ConvergenceWarning,\n",
            "/usr/local/lib/python3.7/dist-packages/sklearn/linear_model/_stochastic_gradient.py:700: ConvergenceWarning: Maximum number of iteration reached before convergence. Consider increasing max_iter to improve the fit.\n",
            "  ConvergenceWarning,\n",
            "/usr/local/lib/python3.7/dist-packages/sklearn/linear_model/_stochastic_gradient.py:700: ConvergenceWarning: Maximum number of iteration reached before convergence. Consider increasing max_iter to improve the fit.\n",
            "  ConvergenceWarning,\n",
            "/usr/local/lib/python3.7/dist-packages/sklearn/linear_model/_stochastic_gradient.py:700: ConvergenceWarning: Maximum number of iteration reached before convergence. Consider increasing max_iter to improve the fit.\n",
            "  ConvergenceWarning,\n",
            "/usr/local/lib/python3.7/dist-packages/sklearn/linear_model/_stochastic_gradient.py:700: ConvergenceWarning: Maximum number of iteration reached before convergence. Consider increasing max_iter to improve the fit.\n",
            "  ConvergenceWarning,\n",
            "/usr/local/lib/python3.7/dist-packages/sklearn/linear_model/_stochastic_gradient.py:700: ConvergenceWarning: Maximum number of iteration reached before convergence. Consider increasing max_iter to improve the fit.\n",
            "  ConvergenceWarning,\n",
            "/usr/local/lib/python3.7/dist-packages/sklearn/linear_model/_stochastic_gradient.py:700: ConvergenceWarning: Maximum number of iteration reached before convergence. Consider increasing max_iter to improve the fit.\n",
            "  ConvergenceWarning,\n",
            "/usr/local/lib/python3.7/dist-packages/sklearn/linear_model/_stochastic_gradient.py:700: ConvergenceWarning: Maximum number of iteration reached before convergence. Consider increasing max_iter to improve the fit.\n",
            "  ConvergenceWarning,\n",
            "/usr/local/lib/python3.7/dist-packages/sklearn/linear_model/_stochastic_gradient.py:700: ConvergenceWarning: Maximum number of iteration reached before convergence. Consider increasing max_iter to improve the fit.\n",
            "  ConvergenceWarning,\n",
            "/usr/local/lib/python3.7/dist-packages/sklearn/linear_model/_stochastic_gradient.py:700: ConvergenceWarning: Maximum number of iteration reached before convergence. Consider increasing max_iter to improve the fit.\n",
            "  ConvergenceWarning,\n",
            "/usr/local/lib/python3.7/dist-packages/sklearn/linear_model/_stochastic_gradient.py:700: ConvergenceWarning: Maximum number of iteration reached before convergence. Consider increasing max_iter to improve the fit.\n",
            "  ConvergenceWarning,\n",
            "/usr/local/lib/python3.7/dist-packages/sklearn/linear_model/_stochastic_gradient.py:700: ConvergenceWarning: Maximum number of iteration reached before convergence. Consider increasing max_iter to improve the fit.\n",
            "  ConvergenceWarning,\n",
            "/usr/local/lib/python3.7/dist-packages/sklearn/linear_model/_stochastic_gradient.py:700: ConvergenceWarning: Maximum number of iteration reached before convergence. Consider increasing max_iter to improve the fit.\n",
            "  ConvergenceWarning,\n",
            "/usr/local/lib/python3.7/dist-packages/sklearn/linear_model/_stochastic_gradient.py:700: ConvergenceWarning: Maximum number of iteration reached before convergence. Consider increasing max_iter to improve the fit.\n",
            "  ConvergenceWarning,\n",
            "/usr/local/lib/python3.7/dist-packages/sklearn/linear_model/_stochastic_gradient.py:700: ConvergenceWarning: Maximum number of iteration reached before convergence. Consider increasing max_iter to improve the fit.\n",
            "  ConvergenceWarning,\n",
            "/usr/local/lib/python3.7/dist-packages/sklearn/linear_model/_stochastic_gradient.py:700: ConvergenceWarning: Maximum number of iteration reached before convergence. Consider increasing max_iter to improve the fit.\n",
            "  ConvergenceWarning,\n",
            "/usr/local/lib/python3.7/dist-packages/sklearn/linear_model/_stochastic_gradient.py:700: ConvergenceWarning: Maximum number of iteration reached before convergence. Consider increasing max_iter to improve the fit.\n",
            "  ConvergenceWarning,\n",
            "/usr/local/lib/python3.7/dist-packages/sklearn/linear_model/_stochastic_gradient.py:700: ConvergenceWarning: Maximum number of iteration reached before convergence. Consider increasing max_iter to improve the fit.\n",
            "  ConvergenceWarning,\n",
            "/usr/local/lib/python3.7/dist-packages/sklearn/linear_model/_stochastic_gradient.py:700: ConvergenceWarning: Maximum number of iteration reached before convergence. Consider increasing max_iter to improve the fit.\n",
            "  ConvergenceWarning,\n",
            "/usr/local/lib/python3.7/dist-packages/sklearn/linear_model/_stochastic_gradient.py:700: ConvergenceWarning: Maximum number of iteration reached before convergence. Consider increasing max_iter to improve the fit.\n",
            "  ConvergenceWarning,\n",
            "/usr/local/lib/python3.7/dist-packages/sklearn/linear_model/_stochastic_gradient.py:700: ConvergenceWarning: Maximum number of iteration reached before convergence. Consider increasing max_iter to improve the fit.\n",
            "  ConvergenceWarning,\n",
            "/usr/local/lib/python3.7/dist-packages/sklearn/linear_model/_stochastic_gradient.py:700: ConvergenceWarning: Maximum number of iteration reached before convergence. Consider increasing max_iter to improve the fit.\n",
            "  ConvergenceWarning,\n",
            "/usr/local/lib/python3.7/dist-packages/sklearn/linear_model/_stochastic_gradient.py:700: ConvergenceWarning: Maximum number of iteration reached before convergence. Consider increasing max_iter to improve the fit.\n",
            "  ConvergenceWarning,\n",
            "/usr/local/lib/python3.7/dist-packages/sklearn/linear_model/_stochastic_gradient.py:700: ConvergenceWarning: Maximum number of iteration reached before convergence. Consider increasing max_iter to improve the fit.\n",
            "  ConvergenceWarning,\n",
            "/usr/local/lib/python3.7/dist-packages/sklearn/linear_model/_stochastic_gradient.py:700: ConvergenceWarning: Maximum number of iteration reached before convergence. Consider increasing max_iter to improve the fit.\n",
            "  ConvergenceWarning,\n",
            "/usr/local/lib/python3.7/dist-packages/sklearn/linear_model/_stochastic_gradient.py:700: ConvergenceWarning: Maximum number of iteration reached before convergence. Consider increasing max_iter to improve the fit.\n",
            "  ConvergenceWarning,\n",
            "/usr/local/lib/python3.7/dist-packages/sklearn/linear_model/_stochastic_gradient.py:700: ConvergenceWarning: Maximum number of iteration reached before convergence. Consider increasing max_iter to improve the fit.\n",
            "  ConvergenceWarning,\n",
            "/usr/local/lib/python3.7/dist-packages/sklearn/linear_model/_stochastic_gradient.py:700: ConvergenceWarning: Maximum number of iteration reached before convergence. Consider increasing max_iter to improve the fit.\n",
            "  ConvergenceWarning,\n",
            "/usr/local/lib/python3.7/dist-packages/sklearn/linear_model/_stochastic_gradient.py:700: ConvergenceWarning: Maximum number of iteration reached before convergence. Consider increasing max_iter to improve the fit.\n",
            "  ConvergenceWarning,\n",
            "/usr/local/lib/python3.7/dist-packages/sklearn/linear_model/_stochastic_gradient.py:700: ConvergenceWarning: Maximum number of iteration reached before convergence. Consider increasing max_iter to improve the fit.\n",
            "  ConvergenceWarning,\n",
            "/usr/local/lib/python3.7/dist-packages/sklearn/linear_model/_stochastic_gradient.py:700: ConvergenceWarning: Maximum number of iteration reached before convergence. Consider increasing max_iter to improve the fit.\n",
            "  ConvergenceWarning,\n",
            "/usr/local/lib/python3.7/dist-packages/sklearn/linear_model/_stochastic_gradient.py:700: ConvergenceWarning: Maximum number of iteration reached before convergence. Consider increasing max_iter to improve the fit.\n",
            "  ConvergenceWarning,\n",
            "/usr/local/lib/python3.7/dist-packages/sklearn/linear_model/_stochastic_gradient.py:700: ConvergenceWarning: Maximum number of iteration reached before convergence. Consider increasing max_iter to improve the fit.\n",
            "  ConvergenceWarning,\n",
            "/usr/local/lib/python3.7/dist-packages/sklearn/linear_model/_stochastic_gradient.py:700: ConvergenceWarning: Maximum number of iteration reached before convergence. Consider increasing max_iter to improve the fit.\n",
            "  ConvergenceWarning,\n",
            "/usr/local/lib/python3.7/dist-packages/sklearn/linear_model/_stochastic_gradient.py:700: ConvergenceWarning: Maximum number of iteration reached before convergence. Consider increasing max_iter to improve the fit.\n",
            "  ConvergenceWarning,\n",
            "/usr/local/lib/python3.7/dist-packages/sklearn/linear_model/_stochastic_gradient.py:700: ConvergenceWarning: Maximum number of iteration reached before convergence. Consider increasing max_iter to improve the fit.\n",
            "  ConvergenceWarning,\n",
            "/usr/local/lib/python3.7/dist-packages/sklearn/linear_model/_stochastic_gradient.py:700: ConvergenceWarning: Maximum number of iteration reached before convergence. Consider increasing max_iter to improve the fit.\n",
            "  ConvergenceWarning,\n",
            "/usr/local/lib/python3.7/dist-packages/sklearn/linear_model/_stochastic_gradient.py:700: ConvergenceWarning: Maximum number of iteration reached before convergence. Consider increasing max_iter to improve the fit.\n",
            "  ConvergenceWarning,\n",
            "/usr/local/lib/python3.7/dist-packages/sklearn/linear_model/_stochastic_gradient.py:700: ConvergenceWarning: Maximum number of iteration reached before convergence. Consider increasing max_iter to improve the fit.\n",
            "  ConvergenceWarning,\n",
            "/usr/local/lib/python3.7/dist-packages/sklearn/linear_model/_stochastic_gradient.py:700: ConvergenceWarning: Maximum number of iteration reached before convergence. Consider increasing max_iter to improve the fit.\n",
            "  ConvergenceWarning,\n",
            "/usr/local/lib/python3.7/dist-packages/sklearn/linear_model/_stochastic_gradient.py:700: ConvergenceWarning: Maximum number of iteration reached before convergence. Consider increasing max_iter to improve the fit.\n",
            "  ConvergenceWarning,\n",
            "/usr/local/lib/python3.7/dist-packages/sklearn/linear_model/_stochastic_gradient.py:700: ConvergenceWarning: Maximum number of iteration reached before convergence. Consider increasing max_iter to improve the fit.\n",
            "  ConvergenceWarning,\n",
            "/usr/local/lib/python3.7/dist-packages/sklearn/linear_model/_stochastic_gradient.py:700: ConvergenceWarning: Maximum number of iteration reached before convergence. Consider increasing max_iter to improve the fit.\n",
            "  ConvergenceWarning,\n",
            "/usr/local/lib/python3.7/dist-packages/sklearn/linear_model/_stochastic_gradient.py:700: ConvergenceWarning: Maximum number of iteration reached before convergence. Consider increasing max_iter to improve the fit.\n",
            "  ConvergenceWarning,\n",
            "/usr/local/lib/python3.7/dist-packages/sklearn/linear_model/_stochastic_gradient.py:700: ConvergenceWarning: Maximum number of iteration reached before convergence. Consider increasing max_iter to improve the fit.\n",
            "  ConvergenceWarning,\n",
            "/usr/local/lib/python3.7/dist-packages/sklearn/linear_model/_stochastic_gradient.py:700: ConvergenceWarning: Maximum number of iteration reached before convergence. Consider increasing max_iter to improve the fit.\n",
            "  ConvergenceWarning,\n",
            "/usr/local/lib/python3.7/dist-packages/sklearn/linear_model/_stochastic_gradient.py:700: ConvergenceWarning: Maximum number of iteration reached before convergence. Consider increasing max_iter to improve the fit.\n",
            "  ConvergenceWarning,\n",
            "/usr/local/lib/python3.7/dist-packages/sklearn/linear_model/_stochastic_gradient.py:700: ConvergenceWarning: Maximum number of iteration reached before convergence. Consider increasing max_iter to improve the fit.\n",
            "  ConvergenceWarning,\n",
            "/usr/local/lib/python3.7/dist-packages/sklearn/linear_model/_stochastic_gradient.py:700: ConvergenceWarning: Maximum number of iteration reached before convergence. Consider increasing max_iter to improve the fit.\n",
            "  ConvergenceWarning,\n",
            "/usr/local/lib/python3.7/dist-packages/sklearn/linear_model/_stochastic_gradient.py:700: ConvergenceWarning: Maximum number of iteration reached before convergence. Consider increasing max_iter to improve the fit.\n",
            "  ConvergenceWarning,\n",
            "/usr/local/lib/python3.7/dist-packages/sklearn/linear_model/_stochastic_gradient.py:700: ConvergenceWarning: Maximum number of iteration reached before convergence. Consider increasing max_iter to improve the fit.\n",
            "  ConvergenceWarning,\n",
            "/usr/local/lib/python3.7/dist-packages/sklearn/linear_model/_stochastic_gradient.py:700: ConvergenceWarning: Maximum number of iteration reached before convergence. Consider increasing max_iter to improve the fit.\n",
            "  ConvergenceWarning,\n",
            "/usr/local/lib/python3.7/dist-packages/sklearn/linear_model/_stochastic_gradient.py:700: ConvergenceWarning: Maximum number of iteration reached before convergence. Consider increasing max_iter to improve the fit.\n",
            "  ConvergenceWarning,\n",
            "/usr/local/lib/python3.7/dist-packages/sklearn/linear_model/_stochastic_gradient.py:700: ConvergenceWarning: Maximum number of iteration reached before convergence. Consider increasing max_iter to improve the fit.\n",
            "  ConvergenceWarning,\n",
            "/usr/local/lib/python3.7/dist-packages/sklearn/linear_model/_stochastic_gradient.py:700: ConvergenceWarning: Maximum number of iteration reached before convergence. Consider increasing max_iter to improve the fit.\n",
            "  ConvergenceWarning,\n",
            "/usr/local/lib/python3.7/dist-packages/sklearn/linear_model/_stochastic_gradient.py:700: ConvergenceWarning: Maximum number of iteration reached before convergence. Consider increasing max_iter to improve the fit.\n",
            "  ConvergenceWarning,\n",
            "/usr/local/lib/python3.7/dist-packages/sklearn/linear_model/_stochastic_gradient.py:700: ConvergenceWarning: Maximum number of iteration reached before convergence. Consider increasing max_iter to improve the fit.\n",
            "  ConvergenceWarning,\n",
            "/usr/local/lib/python3.7/dist-packages/sklearn/linear_model/_stochastic_gradient.py:700: ConvergenceWarning: Maximum number of iteration reached before convergence. Consider increasing max_iter to improve the fit.\n",
            "  ConvergenceWarning,\n",
            "/usr/local/lib/python3.7/dist-packages/sklearn/linear_model/_stochastic_gradient.py:700: ConvergenceWarning: Maximum number of iteration reached before convergence. Consider increasing max_iter to improve the fit.\n",
            "  ConvergenceWarning,\n",
            "/usr/local/lib/python3.7/dist-packages/sklearn/linear_model/_stochastic_gradient.py:700: ConvergenceWarning: Maximum number of iteration reached before convergence. Consider increasing max_iter to improve the fit.\n",
            "  ConvergenceWarning,\n",
            "/usr/local/lib/python3.7/dist-packages/sklearn/linear_model/_stochastic_gradient.py:700: ConvergenceWarning: Maximum number of iteration reached before convergence. Consider increasing max_iter to improve the fit.\n",
            "  ConvergenceWarning,\n",
            "/usr/local/lib/python3.7/dist-packages/sklearn/linear_model/_stochastic_gradient.py:700: ConvergenceWarning: Maximum number of iteration reached before convergence. Consider increasing max_iter to improve the fit.\n",
            "  ConvergenceWarning,\n",
            "/usr/local/lib/python3.7/dist-packages/sklearn/linear_model/_stochastic_gradient.py:700: ConvergenceWarning: Maximum number of iteration reached before convergence. Consider increasing max_iter to improve the fit.\n",
            "  ConvergenceWarning,\n",
            "/usr/local/lib/python3.7/dist-packages/sklearn/linear_model/_stochastic_gradient.py:700: ConvergenceWarning: Maximum number of iteration reached before convergence. Consider increasing max_iter to improve the fit.\n",
            "  ConvergenceWarning,\n",
            "/usr/local/lib/python3.7/dist-packages/sklearn/linear_model/_stochastic_gradient.py:700: ConvergenceWarning: Maximum number of iteration reached before convergence. Consider increasing max_iter to improve the fit.\n",
            "  ConvergenceWarning,\n",
            "/usr/local/lib/python3.7/dist-packages/sklearn/linear_model/_stochastic_gradient.py:700: ConvergenceWarning: Maximum number of iteration reached before convergence. Consider increasing max_iter to improve the fit.\n",
            "  ConvergenceWarning,\n",
            "/usr/local/lib/python3.7/dist-packages/sklearn/linear_model/_stochastic_gradient.py:700: ConvergenceWarning: Maximum number of iteration reached before convergence. Consider increasing max_iter to improve the fit.\n",
            "  ConvergenceWarning,\n",
            "/usr/local/lib/python3.7/dist-packages/sklearn/linear_model/_stochastic_gradient.py:700: ConvergenceWarning: Maximum number of iteration reached before convergence. Consider increasing max_iter to improve the fit.\n",
            "  ConvergenceWarning,\n",
            "/usr/local/lib/python3.7/dist-packages/sklearn/linear_model/_stochastic_gradient.py:700: ConvergenceWarning: Maximum number of iteration reached before convergence. Consider increasing max_iter to improve the fit.\n",
            "  ConvergenceWarning,\n",
            "/usr/local/lib/python3.7/dist-packages/sklearn/linear_model/_stochastic_gradient.py:700: ConvergenceWarning: Maximum number of iteration reached before convergence. Consider increasing max_iter to improve the fit.\n",
            "  ConvergenceWarning,\n",
            "/usr/local/lib/python3.7/dist-packages/sklearn/linear_model/_stochastic_gradient.py:700: ConvergenceWarning: Maximum number of iteration reached before convergence. Consider increasing max_iter to improve the fit.\n",
            "  ConvergenceWarning,\n",
            "/usr/local/lib/python3.7/dist-packages/sklearn/linear_model/_stochastic_gradient.py:700: ConvergenceWarning: Maximum number of iteration reached before convergence. Consider increasing max_iter to improve the fit.\n",
            "  ConvergenceWarning,\n",
            "/usr/local/lib/python3.7/dist-packages/sklearn/linear_model/_stochastic_gradient.py:700: ConvergenceWarning: Maximum number of iteration reached before convergence. Consider increasing max_iter to improve the fit.\n",
            "  ConvergenceWarning,\n",
            "/usr/local/lib/python3.7/dist-packages/sklearn/linear_model/_stochastic_gradient.py:700: ConvergenceWarning: Maximum number of iteration reached before convergence. Consider increasing max_iter to improve the fit.\n",
            "  ConvergenceWarning,\n",
            "/usr/local/lib/python3.7/dist-packages/sklearn/linear_model/_stochastic_gradient.py:700: ConvergenceWarning: Maximum number of iteration reached before convergence. Consider increasing max_iter to improve the fit.\n",
            "  ConvergenceWarning,\n",
            "/usr/local/lib/python3.7/dist-packages/sklearn/linear_model/_stochastic_gradient.py:700: ConvergenceWarning: Maximum number of iteration reached before convergence. Consider increasing max_iter to improve the fit.\n",
            "  ConvergenceWarning,\n",
            "/usr/local/lib/python3.7/dist-packages/sklearn/linear_model/_stochastic_gradient.py:700: ConvergenceWarning: Maximum number of iteration reached before convergence. Consider increasing max_iter to improve the fit.\n",
            "  ConvergenceWarning,\n",
            "/usr/local/lib/python3.7/dist-packages/sklearn/linear_model/_stochastic_gradient.py:700: ConvergenceWarning: Maximum number of iteration reached before convergence. Consider increasing max_iter to improve the fit.\n",
            "  ConvergenceWarning,\n",
            "/usr/local/lib/python3.7/dist-packages/sklearn/linear_model/_stochastic_gradient.py:700: ConvergenceWarning: Maximum number of iteration reached before convergence. Consider increasing max_iter to improve the fit.\n",
            "  ConvergenceWarning,\n",
            "/usr/local/lib/python3.7/dist-packages/sklearn/linear_model/_stochastic_gradient.py:700: ConvergenceWarning: Maximum number of iteration reached before convergence. Consider increasing max_iter to improve the fit.\n",
            "  ConvergenceWarning,\n",
            "/usr/local/lib/python3.7/dist-packages/sklearn/linear_model/_stochastic_gradient.py:700: ConvergenceWarning: Maximum number of iteration reached before convergence. Consider increasing max_iter to improve the fit.\n",
            "  ConvergenceWarning,\n",
            "/usr/local/lib/python3.7/dist-packages/sklearn/linear_model/_stochastic_gradient.py:700: ConvergenceWarning: Maximum number of iteration reached before convergence. Consider increasing max_iter to improve the fit.\n",
            "  ConvergenceWarning,\n",
            "/usr/local/lib/python3.7/dist-packages/sklearn/linear_model/_stochastic_gradient.py:700: ConvergenceWarning: Maximum number of iteration reached before convergence. Consider increasing max_iter to improve the fit.\n",
            "  ConvergenceWarning,\n",
            "/usr/local/lib/python3.7/dist-packages/sklearn/linear_model/_stochastic_gradient.py:700: ConvergenceWarning: Maximum number of iteration reached before convergence. Consider increasing max_iter to improve the fit.\n",
            "  ConvergenceWarning,\n",
            "/usr/local/lib/python3.7/dist-packages/sklearn/linear_model/_stochastic_gradient.py:700: ConvergenceWarning: Maximum number of iteration reached before convergence. Consider increasing max_iter to improve the fit.\n",
            "  ConvergenceWarning,\n",
            "/usr/local/lib/python3.7/dist-packages/sklearn/linear_model/_stochastic_gradient.py:700: ConvergenceWarning: Maximum number of iteration reached before convergence. Consider increasing max_iter to improve the fit.\n",
            "  ConvergenceWarning,\n",
            "/usr/local/lib/python3.7/dist-packages/sklearn/linear_model/_stochastic_gradient.py:700: ConvergenceWarning: Maximum number of iteration reached before convergence. Consider increasing max_iter to improve the fit.\n",
            "  ConvergenceWarning,\n",
            "/usr/local/lib/python3.7/dist-packages/sklearn/linear_model/_stochastic_gradient.py:700: ConvergenceWarning: Maximum number of iteration reached before convergence. Consider increasing max_iter to improve the fit.\n",
            "  ConvergenceWarning,\n",
            "/usr/local/lib/python3.7/dist-packages/sklearn/linear_model/_stochastic_gradient.py:700: ConvergenceWarning: Maximum number of iteration reached before convergence. Consider increasing max_iter to improve the fit.\n",
            "  ConvergenceWarning,\n",
            "/usr/local/lib/python3.7/dist-packages/sklearn/linear_model/_stochastic_gradient.py:700: ConvergenceWarning: Maximum number of iteration reached before convergence. Consider increasing max_iter to improve the fit.\n",
            "  ConvergenceWarning,\n",
            "/usr/local/lib/python3.7/dist-packages/sklearn/linear_model/_stochastic_gradient.py:700: ConvergenceWarning: Maximum number of iteration reached before convergence. Consider increasing max_iter to improve the fit.\n",
            "  ConvergenceWarning,\n",
            "/usr/local/lib/python3.7/dist-packages/sklearn/linear_model/_stochastic_gradient.py:700: ConvergenceWarning: Maximum number of iteration reached before convergence. Consider increasing max_iter to improve the fit.\n",
            "  ConvergenceWarning,\n",
            "/usr/local/lib/python3.7/dist-packages/sklearn/linear_model/_stochastic_gradient.py:700: ConvergenceWarning: Maximum number of iteration reached before convergence. Consider increasing max_iter to improve the fit.\n",
            "  ConvergenceWarning,\n",
            "/usr/local/lib/python3.7/dist-packages/sklearn/linear_model/_stochastic_gradient.py:700: ConvergenceWarning: Maximum number of iteration reached before convergence. Consider increasing max_iter to improve the fit.\n",
            "  ConvergenceWarning,\n",
            "/usr/local/lib/python3.7/dist-packages/sklearn/linear_model/_stochastic_gradient.py:700: ConvergenceWarning: Maximum number of iteration reached before convergence. Consider increasing max_iter to improve the fit.\n",
            "  ConvergenceWarning,\n",
            "/usr/local/lib/python3.7/dist-packages/sklearn/linear_model/_stochastic_gradient.py:700: ConvergenceWarning: Maximum number of iteration reached before convergence. Consider increasing max_iter to improve the fit.\n",
            "  ConvergenceWarning,\n",
            "/usr/local/lib/python3.7/dist-packages/sklearn/linear_model/_stochastic_gradient.py:700: ConvergenceWarning: Maximum number of iteration reached before convergence. Consider increasing max_iter to improve the fit.\n",
            "  ConvergenceWarning,\n",
            "/usr/local/lib/python3.7/dist-packages/sklearn/linear_model/_stochastic_gradient.py:700: ConvergenceWarning: Maximum number of iteration reached before convergence. Consider increasing max_iter to improve the fit.\n",
            "  ConvergenceWarning,\n",
            "/usr/local/lib/python3.7/dist-packages/sklearn/linear_model/_stochastic_gradient.py:700: ConvergenceWarning: Maximum number of iteration reached before convergence. Consider increasing max_iter to improve the fit.\n",
            "  ConvergenceWarning,\n",
            "/usr/local/lib/python3.7/dist-packages/sklearn/linear_model/_stochastic_gradient.py:700: ConvergenceWarning: Maximum number of iteration reached before convergence. Consider increasing max_iter to improve the fit.\n",
            "  ConvergenceWarning,\n",
            "/usr/local/lib/python3.7/dist-packages/sklearn/linear_model/_stochastic_gradient.py:700: ConvergenceWarning: Maximum number of iteration reached before convergence. Consider increasing max_iter to improve the fit.\n",
            "  ConvergenceWarning,\n",
            "/usr/local/lib/python3.7/dist-packages/sklearn/linear_model/_stochastic_gradient.py:700: ConvergenceWarning: Maximum number of iteration reached before convergence. Consider increasing max_iter to improve the fit.\n",
            "  ConvergenceWarning,\n",
            "/usr/local/lib/python3.7/dist-packages/sklearn/linear_model/_stochastic_gradient.py:700: ConvergenceWarning: Maximum number of iteration reached before convergence. Consider increasing max_iter to improve the fit.\n",
            "  ConvergenceWarning,\n",
            "/usr/local/lib/python3.7/dist-packages/sklearn/linear_model/_stochastic_gradient.py:700: ConvergenceWarning: Maximum number of iteration reached before convergence. Consider increasing max_iter to improve the fit.\n",
            "  ConvergenceWarning,\n",
            "/usr/local/lib/python3.7/dist-packages/sklearn/linear_model/_stochastic_gradient.py:700: ConvergenceWarning: Maximum number of iteration reached before convergence. Consider increasing max_iter to improve the fit.\n",
            "  ConvergenceWarning,\n",
            "/usr/local/lib/python3.7/dist-packages/sklearn/linear_model/_stochastic_gradient.py:700: ConvergenceWarning: Maximum number of iteration reached before convergence. Consider increasing max_iter to improve the fit.\n",
            "  ConvergenceWarning,\n",
            "/usr/local/lib/python3.7/dist-packages/sklearn/linear_model/_stochastic_gradient.py:700: ConvergenceWarning: Maximum number of iteration reached before convergence. Consider increasing max_iter to improve the fit.\n",
            "  ConvergenceWarning,\n",
            "/usr/local/lib/python3.7/dist-packages/sklearn/linear_model/_stochastic_gradient.py:700: ConvergenceWarning: Maximum number of iteration reached before convergence. Consider increasing max_iter to improve the fit.\n",
            "  ConvergenceWarning,\n",
            "/usr/local/lib/python3.7/dist-packages/sklearn/linear_model/_stochastic_gradient.py:700: ConvergenceWarning: Maximum number of iteration reached before convergence. Consider increasing max_iter to improve the fit.\n",
            "  ConvergenceWarning,\n",
            "/usr/local/lib/python3.7/dist-packages/sklearn/linear_model/_stochastic_gradient.py:700: ConvergenceWarning: Maximum number of iteration reached before convergence. Consider increasing max_iter to improve the fit.\n",
            "  ConvergenceWarning,\n",
            "/usr/local/lib/python3.7/dist-packages/sklearn/linear_model/_stochastic_gradient.py:700: ConvergenceWarning: Maximum number of iteration reached before convergence. Consider increasing max_iter to improve the fit.\n",
            "  ConvergenceWarning,\n",
            "/usr/local/lib/python3.7/dist-packages/sklearn/linear_model/_stochastic_gradient.py:700: ConvergenceWarning: Maximum number of iteration reached before convergence. Consider increasing max_iter to improve the fit.\n",
            "  ConvergenceWarning,\n",
            "/usr/local/lib/python3.7/dist-packages/sklearn/linear_model/_stochastic_gradient.py:700: ConvergenceWarning: Maximum number of iteration reached before convergence. Consider increasing max_iter to improve the fit.\n",
            "  ConvergenceWarning,\n",
            "/usr/local/lib/python3.7/dist-packages/sklearn/linear_model/_stochastic_gradient.py:700: ConvergenceWarning: Maximum number of iteration reached before convergence. Consider increasing max_iter to improve the fit.\n",
            "  ConvergenceWarning,\n",
            "/usr/local/lib/python3.7/dist-packages/sklearn/linear_model/_stochastic_gradient.py:700: ConvergenceWarning: Maximum number of iteration reached before convergence. Consider increasing max_iter to improve the fit.\n",
            "  ConvergenceWarning,\n",
            "/usr/local/lib/python3.7/dist-packages/sklearn/linear_model/_stochastic_gradient.py:700: ConvergenceWarning: Maximum number of iteration reached before convergence. Consider increasing max_iter to improve the fit.\n",
            "  ConvergenceWarning,\n",
            "/usr/local/lib/python3.7/dist-packages/sklearn/linear_model/_stochastic_gradient.py:700: ConvergenceWarning: Maximum number of iteration reached before convergence. Consider increasing max_iter to improve the fit.\n",
            "  ConvergenceWarning,\n",
            "/usr/local/lib/python3.7/dist-packages/sklearn/linear_model/_stochastic_gradient.py:700: ConvergenceWarning: Maximum number of iteration reached before convergence. Consider increasing max_iter to improve the fit.\n",
            "  ConvergenceWarning,\n",
            "/usr/local/lib/python3.7/dist-packages/sklearn/linear_model/_stochastic_gradient.py:700: ConvergenceWarning: Maximum number of iteration reached before convergence. Consider increasing max_iter to improve the fit.\n",
            "  ConvergenceWarning,\n",
            "/usr/local/lib/python3.7/dist-packages/sklearn/linear_model/_stochastic_gradient.py:700: ConvergenceWarning: Maximum number of iteration reached before convergence. Consider increasing max_iter to improve the fit.\n",
            "  ConvergenceWarning,\n",
            "/usr/local/lib/python3.7/dist-packages/sklearn/linear_model/_stochastic_gradient.py:700: ConvergenceWarning: Maximum number of iteration reached before convergence. Consider increasing max_iter to improve the fit.\n",
            "  ConvergenceWarning,\n",
            "/usr/local/lib/python3.7/dist-packages/sklearn/linear_model/_stochastic_gradient.py:700: ConvergenceWarning: Maximum number of iteration reached before convergence. Consider increasing max_iter to improve the fit.\n",
            "  ConvergenceWarning,\n",
            "/usr/local/lib/python3.7/dist-packages/sklearn/linear_model/_stochastic_gradient.py:700: ConvergenceWarning: Maximum number of iteration reached before convergence. Consider increasing max_iter to improve the fit.\n",
            "  ConvergenceWarning,\n",
            "/usr/local/lib/python3.7/dist-packages/sklearn/linear_model/_stochastic_gradient.py:700: ConvergenceWarning: Maximum number of iteration reached before convergence. Consider increasing max_iter to improve the fit.\n",
            "  ConvergenceWarning,\n",
            "/usr/local/lib/python3.7/dist-packages/sklearn/linear_model/_stochastic_gradient.py:700: ConvergenceWarning: Maximum number of iteration reached before convergence. Consider increasing max_iter to improve the fit.\n",
            "  ConvergenceWarning,\n",
            "/usr/local/lib/python3.7/dist-packages/sklearn/linear_model/_stochastic_gradient.py:700: ConvergenceWarning: Maximum number of iteration reached before convergence. Consider increasing max_iter to improve the fit.\n",
            "  ConvergenceWarning,\n",
            "/usr/local/lib/python3.7/dist-packages/sklearn/linear_model/_stochastic_gradient.py:700: ConvergenceWarning: Maximum number of iteration reached before convergence. Consider increasing max_iter to improve the fit.\n",
            "  ConvergenceWarning,\n",
            "/usr/local/lib/python3.7/dist-packages/sklearn/linear_model/_stochastic_gradient.py:700: ConvergenceWarning: Maximum number of iteration reached before convergence. Consider increasing max_iter to improve the fit.\n",
            "  ConvergenceWarning,\n",
            "/usr/local/lib/python3.7/dist-packages/sklearn/linear_model/_stochastic_gradient.py:700: ConvergenceWarning: Maximum number of iteration reached before convergence. Consider increasing max_iter to improve the fit.\n",
            "  ConvergenceWarning,\n",
            "/usr/local/lib/python3.7/dist-packages/sklearn/linear_model/_stochastic_gradient.py:700: ConvergenceWarning: Maximum number of iteration reached before convergence. Consider increasing max_iter to improve the fit.\n",
            "  ConvergenceWarning,\n",
            "/usr/local/lib/python3.7/dist-packages/sklearn/linear_model/_stochastic_gradient.py:700: ConvergenceWarning: Maximum number of iteration reached before convergence. Consider increasing max_iter to improve the fit.\n",
            "  ConvergenceWarning,\n",
            "/usr/local/lib/python3.7/dist-packages/sklearn/linear_model/_stochastic_gradient.py:700: ConvergenceWarning: Maximum number of iteration reached before convergence. Consider increasing max_iter to improve the fit.\n",
            "  ConvergenceWarning,\n",
            "/usr/local/lib/python3.7/dist-packages/sklearn/linear_model/_stochastic_gradient.py:700: ConvergenceWarning: Maximum number of iteration reached before convergence. Consider increasing max_iter to improve the fit.\n",
            "  ConvergenceWarning,\n",
            "/usr/local/lib/python3.7/dist-packages/sklearn/linear_model/_stochastic_gradient.py:700: ConvergenceWarning: Maximum number of iteration reached before convergence. Consider increasing max_iter to improve the fit.\n",
            "  ConvergenceWarning,\n",
            "/usr/local/lib/python3.7/dist-packages/sklearn/linear_model/_stochastic_gradient.py:700: ConvergenceWarning: Maximum number of iteration reached before convergence. Consider increasing max_iter to improve the fit.\n",
            "  ConvergenceWarning,\n",
            "/usr/local/lib/python3.7/dist-packages/sklearn/linear_model/_stochastic_gradient.py:700: ConvergenceWarning: Maximum number of iteration reached before convergence. Consider increasing max_iter to improve the fit.\n",
            "  ConvergenceWarning,\n",
            "/usr/local/lib/python3.7/dist-packages/sklearn/linear_model/_stochastic_gradient.py:700: ConvergenceWarning: Maximum number of iteration reached before convergence. Consider increasing max_iter to improve the fit.\n",
            "  ConvergenceWarning,\n",
            "/usr/local/lib/python3.7/dist-packages/sklearn/linear_model/_stochastic_gradient.py:700: ConvergenceWarning: Maximum number of iteration reached before convergence. Consider increasing max_iter to improve the fit.\n",
            "  ConvergenceWarning,\n",
            "/usr/local/lib/python3.7/dist-packages/sklearn/linear_model/_stochastic_gradient.py:700: ConvergenceWarning: Maximum number of iteration reached before convergence. Consider increasing max_iter to improve the fit.\n",
            "  ConvergenceWarning,\n",
            "/usr/local/lib/python3.7/dist-packages/sklearn/linear_model/_stochastic_gradient.py:700: ConvergenceWarning: Maximum number of iteration reached before convergence. Consider increasing max_iter to improve the fit.\n",
            "  ConvergenceWarning,\n",
            "/usr/local/lib/python3.7/dist-packages/sklearn/linear_model/_stochastic_gradient.py:700: ConvergenceWarning: Maximum number of iteration reached before convergence. Consider increasing max_iter to improve the fit.\n",
            "  ConvergenceWarning,\n",
            "/usr/local/lib/python3.7/dist-packages/sklearn/linear_model/_stochastic_gradient.py:700: ConvergenceWarning: Maximum number of iteration reached before convergence. Consider increasing max_iter to improve the fit.\n",
            "  ConvergenceWarning,\n",
            "/usr/local/lib/python3.7/dist-packages/sklearn/linear_model/_stochastic_gradient.py:700: ConvergenceWarning: Maximum number of iteration reached before convergence. Consider increasing max_iter to improve the fit.\n",
            "  ConvergenceWarning,\n",
            "/usr/local/lib/python3.7/dist-packages/sklearn/linear_model/_stochastic_gradient.py:700: ConvergenceWarning: Maximum number of iteration reached before convergence. Consider increasing max_iter to improve the fit.\n",
            "  ConvergenceWarning,\n",
            "/usr/local/lib/python3.7/dist-packages/sklearn/linear_model/_stochastic_gradient.py:700: ConvergenceWarning: Maximum number of iteration reached before convergence. Consider increasing max_iter to improve the fit.\n",
            "  ConvergenceWarning,\n",
            "/usr/local/lib/python3.7/dist-packages/sklearn/linear_model/_stochastic_gradient.py:700: ConvergenceWarning: Maximum number of iteration reached before convergence. Consider increasing max_iter to improve the fit.\n",
            "  ConvergenceWarning,\n",
            "/usr/local/lib/python3.7/dist-packages/sklearn/linear_model/_stochastic_gradient.py:700: ConvergenceWarning: Maximum number of iteration reached before convergence. Consider increasing max_iter to improve the fit.\n",
            "  ConvergenceWarning,\n",
            "/usr/local/lib/python3.7/dist-packages/sklearn/linear_model/_stochastic_gradient.py:700: ConvergenceWarning: Maximum number of iteration reached before convergence. Consider increasing max_iter to improve the fit.\n",
            "  ConvergenceWarning,\n",
            "/usr/local/lib/python3.7/dist-packages/sklearn/linear_model/_stochastic_gradient.py:700: ConvergenceWarning: Maximum number of iteration reached before convergence. Consider increasing max_iter to improve the fit.\n",
            "  ConvergenceWarning,\n",
            "/usr/local/lib/python3.7/dist-packages/sklearn/linear_model/_stochastic_gradient.py:700: ConvergenceWarning: Maximum number of iteration reached before convergence. Consider increasing max_iter to improve the fit.\n",
            "  ConvergenceWarning,\n",
            "/usr/local/lib/python3.7/dist-packages/sklearn/linear_model/_stochastic_gradient.py:700: ConvergenceWarning: Maximum number of iteration reached before convergence. Consider increasing max_iter to improve the fit.\n",
            "  ConvergenceWarning,\n",
            "/usr/local/lib/python3.7/dist-packages/sklearn/linear_model/_stochastic_gradient.py:700: ConvergenceWarning: Maximum number of iteration reached before convergence. Consider increasing max_iter to improve the fit.\n",
            "  ConvergenceWarning,\n",
            "/usr/local/lib/python3.7/dist-packages/sklearn/linear_model/_stochastic_gradient.py:700: ConvergenceWarning: Maximum number of iteration reached before convergence. Consider increasing max_iter to improve the fit.\n",
            "  ConvergenceWarning,\n",
            "/usr/local/lib/python3.7/dist-packages/sklearn/linear_model/_stochastic_gradient.py:700: ConvergenceWarning: Maximum number of iteration reached before convergence. Consider increasing max_iter to improve the fit.\n",
            "  ConvergenceWarning,\n",
            "/usr/local/lib/python3.7/dist-packages/sklearn/linear_model/_stochastic_gradient.py:700: ConvergenceWarning: Maximum number of iteration reached before convergence. Consider increasing max_iter to improve the fit.\n",
            "  ConvergenceWarning,\n",
            "/usr/local/lib/python3.7/dist-packages/sklearn/linear_model/_stochastic_gradient.py:700: ConvergenceWarning: Maximum number of iteration reached before convergence. Consider increasing max_iter to improve the fit.\n",
            "  ConvergenceWarning,\n",
            "/usr/local/lib/python3.7/dist-packages/sklearn/linear_model/_stochastic_gradient.py:700: ConvergenceWarning: Maximum number of iteration reached before convergence. Consider increasing max_iter to improve the fit.\n",
            "  ConvergenceWarning,\n",
            "/usr/local/lib/python3.7/dist-packages/sklearn/linear_model/_stochastic_gradient.py:700: ConvergenceWarning: Maximum number of iteration reached before convergence. Consider increasing max_iter to improve the fit.\n",
            "  ConvergenceWarning,\n",
            "/usr/local/lib/python3.7/dist-packages/sklearn/linear_model/_stochastic_gradient.py:700: ConvergenceWarning: Maximum number of iteration reached before convergence. Consider increasing max_iter to improve the fit.\n",
            "  ConvergenceWarning,\n",
            "/usr/local/lib/python3.7/dist-packages/sklearn/linear_model/_stochastic_gradient.py:700: ConvergenceWarning: Maximum number of iteration reached before convergence. Consider increasing max_iter to improve the fit.\n",
            "  ConvergenceWarning,\n",
            "/usr/local/lib/python3.7/dist-packages/sklearn/linear_model/_stochastic_gradient.py:700: ConvergenceWarning: Maximum number of iteration reached before convergence. Consider increasing max_iter to improve the fit.\n",
            "  ConvergenceWarning,\n",
            "/usr/local/lib/python3.7/dist-packages/sklearn/linear_model/_stochastic_gradient.py:700: ConvergenceWarning: Maximum number of iteration reached before convergence. Consider increasing max_iter to improve the fit.\n",
            "  ConvergenceWarning,\n",
            "/usr/local/lib/python3.7/dist-packages/sklearn/linear_model/_stochastic_gradient.py:700: ConvergenceWarning: Maximum number of iteration reached before convergence. Consider increasing max_iter to improve the fit.\n",
            "  ConvergenceWarning,\n",
            "/usr/local/lib/python3.7/dist-packages/sklearn/linear_model/_stochastic_gradient.py:700: ConvergenceWarning: Maximum number of iteration reached before convergence. Consider increasing max_iter to improve the fit.\n",
            "  ConvergenceWarning,\n",
            "/usr/local/lib/python3.7/dist-packages/sklearn/linear_model/_stochastic_gradient.py:700: ConvergenceWarning: Maximum number of iteration reached before convergence. Consider increasing max_iter to improve the fit.\n",
            "  ConvergenceWarning,\n",
            "/usr/local/lib/python3.7/dist-packages/sklearn/linear_model/_stochastic_gradient.py:700: ConvergenceWarning: Maximum number of iteration reached before convergence. Consider increasing max_iter to improve the fit.\n",
            "  ConvergenceWarning,\n",
            "/usr/local/lib/python3.7/dist-packages/sklearn/linear_model/_stochastic_gradient.py:700: ConvergenceWarning: Maximum number of iteration reached before convergence. Consider increasing max_iter to improve the fit.\n",
            "  ConvergenceWarning,\n",
            "/usr/local/lib/python3.7/dist-packages/sklearn/linear_model/_stochastic_gradient.py:700: ConvergenceWarning: Maximum number of iteration reached before convergence. Consider increasing max_iter to improve the fit.\n",
            "  ConvergenceWarning,\n",
            "/usr/local/lib/python3.7/dist-packages/sklearn/linear_model/_stochastic_gradient.py:700: ConvergenceWarning: Maximum number of iteration reached before convergence. Consider increasing max_iter to improve the fit.\n",
            "  ConvergenceWarning,\n",
            "/usr/local/lib/python3.7/dist-packages/sklearn/linear_model/_stochastic_gradient.py:700: ConvergenceWarning: Maximum number of iteration reached before convergence. Consider increasing max_iter to improve the fit.\n",
            "  ConvergenceWarning,\n",
            "/usr/local/lib/python3.7/dist-packages/sklearn/linear_model/_stochastic_gradient.py:700: ConvergenceWarning: Maximum number of iteration reached before convergence. Consider increasing max_iter to improve the fit.\n",
            "  ConvergenceWarning,\n",
            "/usr/local/lib/python3.7/dist-packages/sklearn/linear_model/_stochastic_gradient.py:700: ConvergenceWarning: Maximum number of iteration reached before convergence. Consider increasing max_iter to improve the fit.\n",
            "  ConvergenceWarning,\n",
            "/usr/local/lib/python3.7/dist-packages/sklearn/linear_model/_stochastic_gradient.py:700: ConvergenceWarning: Maximum number of iteration reached before convergence. Consider increasing max_iter to improve the fit.\n",
            "  ConvergenceWarning,\n",
            "/usr/local/lib/python3.7/dist-packages/sklearn/linear_model/_stochastic_gradient.py:700: ConvergenceWarning: Maximum number of iteration reached before convergence. Consider increasing max_iter to improve the fit.\n",
            "  ConvergenceWarning,\n",
            "/usr/local/lib/python3.7/dist-packages/sklearn/linear_model/_stochastic_gradient.py:700: ConvergenceWarning: Maximum number of iteration reached before convergence. Consider increasing max_iter to improve the fit.\n",
            "  ConvergenceWarning,\n",
            "/usr/local/lib/python3.7/dist-packages/sklearn/linear_model/_stochastic_gradient.py:700: ConvergenceWarning: Maximum number of iteration reached before convergence. Consider increasing max_iter to improve the fit.\n",
            "  ConvergenceWarning,\n",
            "/usr/local/lib/python3.7/dist-packages/sklearn/linear_model/_stochastic_gradient.py:700: ConvergenceWarning: Maximum number of iteration reached before convergence. Consider increasing max_iter to improve the fit.\n",
            "  ConvergenceWarning,\n",
            "/usr/local/lib/python3.7/dist-packages/sklearn/linear_model/_stochastic_gradient.py:700: ConvergenceWarning: Maximum number of iteration reached before convergence. Consider increasing max_iter to improve the fit.\n",
            "  ConvergenceWarning,\n",
            "/usr/local/lib/python3.7/dist-packages/sklearn/linear_model/_stochastic_gradient.py:700: ConvergenceWarning: Maximum number of iteration reached before convergence. Consider increasing max_iter to improve the fit.\n",
            "  ConvergenceWarning,\n",
            "/usr/local/lib/python3.7/dist-packages/sklearn/linear_model/_stochastic_gradient.py:700: ConvergenceWarning: Maximum number of iteration reached before convergence. Consider increasing max_iter to improve the fit.\n",
            "  ConvergenceWarning,\n",
            "/usr/local/lib/python3.7/dist-packages/sklearn/linear_model/_stochastic_gradient.py:700: ConvergenceWarning: Maximum number of iteration reached before convergence. Consider increasing max_iter to improve the fit.\n",
            "  ConvergenceWarning,\n",
            "/usr/local/lib/python3.7/dist-packages/sklearn/linear_model/_stochastic_gradient.py:700: ConvergenceWarning: Maximum number of iteration reached before convergence. Consider increasing max_iter to improve the fit.\n",
            "  ConvergenceWarning,\n",
            "/usr/local/lib/python3.7/dist-packages/sklearn/linear_model/_stochastic_gradient.py:700: ConvergenceWarning: Maximum number of iteration reached before convergence. Consider increasing max_iter to improve the fit.\n",
            "  ConvergenceWarning,\n",
            "/usr/local/lib/python3.7/dist-packages/sklearn/linear_model/_stochastic_gradient.py:700: ConvergenceWarning: Maximum number of iteration reached before convergence. Consider increasing max_iter to improve the fit.\n",
            "  ConvergenceWarning,\n",
            "/usr/local/lib/python3.7/dist-packages/sklearn/linear_model/_stochastic_gradient.py:700: ConvergenceWarning: Maximum number of iteration reached before convergence. Consider increasing max_iter to improve the fit.\n",
            "  ConvergenceWarning,\n",
            "/usr/local/lib/python3.7/dist-packages/sklearn/linear_model/_stochastic_gradient.py:700: ConvergenceWarning: Maximum number of iteration reached before convergence. Consider increasing max_iter to improve the fit.\n",
            "  ConvergenceWarning,\n",
            "/usr/local/lib/python3.7/dist-packages/sklearn/linear_model/_stochastic_gradient.py:700: ConvergenceWarning: Maximum number of iteration reached before convergence. Consider increasing max_iter to improve the fit.\n",
            "  ConvergenceWarning,\n",
            "/usr/local/lib/python3.7/dist-packages/sklearn/linear_model/_stochastic_gradient.py:700: ConvergenceWarning: Maximum number of iteration reached before convergence. Consider increasing max_iter to improve the fit.\n",
            "  ConvergenceWarning,\n",
            "/usr/local/lib/python3.7/dist-packages/sklearn/linear_model/_stochastic_gradient.py:700: ConvergenceWarning: Maximum number of iteration reached before convergence. Consider increasing max_iter to improve the fit.\n",
            "  ConvergenceWarning,\n",
            "/usr/local/lib/python3.7/dist-packages/sklearn/linear_model/_stochastic_gradient.py:700: ConvergenceWarning: Maximum number of iteration reached before convergence. Consider increasing max_iter to improve the fit.\n",
            "  ConvergenceWarning,\n",
            "/usr/local/lib/python3.7/dist-packages/sklearn/linear_model/_stochastic_gradient.py:700: ConvergenceWarning: Maximum number of iteration reached before convergence. Consider increasing max_iter to improve the fit.\n",
            "  ConvergenceWarning,\n",
            "/usr/local/lib/python3.7/dist-packages/sklearn/linear_model/_stochastic_gradient.py:700: ConvergenceWarning: Maximum number of iteration reached before convergence. Consider increasing max_iter to improve the fit.\n",
            "  ConvergenceWarning,\n",
            "/usr/local/lib/python3.7/dist-packages/sklearn/linear_model/_stochastic_gradient.py:700: ConvergenceWarning: Maximum number of iteration reached before convergence. Consider increasing max_iter to improve the fit.\n",
            "  ConvergenceWarning,\n",
            "/usr/local/lib/python3.7/dist-packages/sklearn/linear_model/_stochastic_gradient.py:700: ConvergenceWarning: Maximum number of iteration reached before convergence. Consider increasing max_iter to improve the fit.\n",
            "  ConvergenceWarning,\n",
            "/usr/local/lib/python3.7/dist-packages/sklearn/linear_model/_stochastic_gradient.py:700: ConvergenceWarning: Maximum number of iteration reached before convergence. Consider increasing max_iter to improve the fit.\n",
            "  ConvergenceWarning,\n",
            "/usr/local/lib/python3.7/dist-packages/sklearn/linear_model/_stochastic_gradient.py:700: ConvergenceWarning: Maximum number of iteration reached before convergence. Consider increasing max_iter to improve the fit.\n",
            "  ConvergenceWarning,\n",
            "/usr/local/lib/python3.7/dist-packages/sklearn/linear_model/_stochastic_gradient.py:700: ConvergenceWarning: Maximum number of iteration reached before convergence. Consider increasing max_iter to improve the fit.\n",
            "  ConvergenceWarning,\n",
            "/usr/local/lib/python3.7/dist-packages/sklearn/linear_model/_stochastic_gradient.py:700: ConvergenceWarning: Maximum number of iteration reached before convergence. Consider increasing max_iter to improve the fit.\n",
            "  ConvergenceWarning,\n",
            "/usr/local/lib/python3.7/dist-packages/sklearn/linear_model/_stochastic_gradient.py:700: ConvergenceWarning: Maximum number of iteration reached before convergence. Consider increasing max_iter to improve the fit.\n",
            "  ConvergenceWarning,\n",
            "/usr/local/lib/python3.7/dist-packages/sklearn/linear_model/_stochastic_gradient.py:700: ConvergenceWarning: Maximum number of iteration reached before convergence. Consider increasing max_iter to improve the fit.\n",
            "  ConvergenceWarning,\n",
            "/usr/local/lib/python3.7/dist-packages/sklearn/linear_model/_stochastic_gradient.py:700: ConvergenceWarning: Maximum number of iteration reached before convergence. Consider increasing max_iter to improve the fit.\n",
            "  ConvergenceWarning,\n",
            "/usr/local/lib/python3.7/dist-packages/sklearn/linear_model/_stochastic_gradient.py:700: ConvergenceWarning: Maximum number of iteration reached before convergence. Consider increasing max_iter to improve the fit.\n",
            "  ConvergenceWarning,\n",
            "/usr/local/lib/python3.7/dist-packages/sklearn/linear_model/_stochastic_gradient.py:700: ConvergenceWarning: Maximum number of iteration reached before convergence. Consider increasing max_iter to improve the fit.\n",
            "  ConvergenceWarning,\n",
            "/usr/local/lib/python3.7/dist-packages/sklearn/linear_model/_stochastic_gradient.py:700: ConvergenceWarning: Maximum number of iteration reached before convergence. Consider increasing max_iter to improve the fit.\n",
            "  ConvergenceWarning,\n",
            "/usr/local/lib/python3.7/dist-packages/sklearn/linear_model/_stochastic_gradient.py:700: ConvergenceWarning: Maximum number of iteration reached before convergence. Consider increasing max_iter to improve the fit.\n",
            "  ConvergenceWarning,\n",
            "/usr/local/lib/python3.7/dist-packages/sklearn/linear_model/_stochastic_gradient.py:700: ConvergenceWarning: Maximum number of iteration reached before convergence. Consider increasing max_iter to improve the fit.\n",
            "  ConvergenceWarning,\n",
            "/usr/local/lib/python3.7/dist-packages/sklearn/linear_model/_stochastic_gradient.py:700: ConvergenceWarning: Maximum number of iteration reached before convergence. Consider increasing max_iter to improve the fit.\n",
            "  ConvergenceWarning,\n",
            "/usr/local/lib/python3.7/dist-packages/sklearn/linear_model/_stochastic_gradient.py:700: ConvergenceWarning: Maximum number of iteration reached before convergence. Consider increasing max_iter to improve the fit.\n",
            "  ConvergenceWarning,\n",
            "/usr/local/lib/python3.7/dist-packages/sklearn/linear_model/_stochastic_gradient.py:700: ConvergenceWarning: Maximum number of iteration reached before convergence. Consider increasing max_iter to improve the fit.\n",
            "  ConvergenceWarning,\n",
            "/usr/local/lib/python3.7/dist-packages/sklearn/linear_model/_stochastic_gradient.py:700: ConvergenceWarning: Maximum number of iteration reached before convergence. Consider increasing max_iter to improve the fit.\n",
            "  ConvergenceWarning,\n",
            "/usr/local/lib/python3.7/dist-packages/sklearn/linear_model/_stochastic_gradient.py:700: ConvergenceWarning: Maximum number of iteration reached before convergence. Consider increasing max_iter to improve the fit.\n",
            "  ConvergenceWarning,\n",
            "/usr/local/lib/python3.7/dist-packages/sklearn/linear_model/_stochastic_gradient.py:700: ConvergenceWarning: Maximum number of iteration reached before convergence. Consider increasing max_iter to improve the fit.\n",
            "  ConvergenceWarning,\n",
            "/usr/local/lib/python3.7/dist-packages/sklearn/linear_model/_stochastic_gradient.py:700: ConvergenceWarning: Maximum number of iteration reached before convergence. Consider increasing max_iter to improve the fit.\n",
            "  ConvergenceWarning,\n",
            "/usr/local/lib/python3.7/dist-packages/sklearn/linear_model/_stochastic_gradient.py:700: ConvergenceWarning: Maximum number of iteration reached before convergence. Consider increasing max_iter to improve the fit.\n",
            "  ConvergenceWarning,\n",
            "/usr/local/lib/python3.7/dist-packages/sklearn/linear_model/_stochastic_gradient.py:700: ConvergenceWarning: Maximum number of iteration reached before convergence. Consider increasing max_iter to improve the fit.\n",
            "  ConvergenceWarning,\n",
            "/usr/local/lib/python3.7/dist-packages/sklearn/linear_model/_stochastic_gradient.py:700: ConvergenceWarning: Maximum number of iteration reached before convergence. Consider increasing max_iter to improve the fit.\n",
            "  ConvergenceWarning,\n",
            "/usr/local/lib/python3.7/dist-packages/sklearn/linear_model/_stochastic_gradient.py:700: ConvergenceWarning: Maximum number of iteration reached before convergence. Consider increasing max_iter to improve the fit.\n",
            "  ConvergenceWarning,\n",
            "/usr/local/lib/python3.7/dist-packages/sklearn/linear_model/_stochastic_gradient.py:700: ConvergenceWarning: Maximum number of iteration reached before convergence. Consider increasing max_iter to improve the fit.\n",
            "  ConvergenceWarning,\n",
            "/usr/local/lib/python3.7/dist-packages/sklearn/linear_model/_stochastic_gradient.py:700: ConvergenceWarning: Maximum number of iteration reached before convergence. Consider increasing max_iter to improve the fit.\n",
            "  ConvergenceWarning,\n",
            "/usr/local/lib/python3.7/dist-packages/sklearn/linear_model/_stochastic_gradient.py:700: ConvergenceWarning: Maximum number of iteration reached before convergence. Consider increasing max_iter to improve the fit.\n",
            "  ConvergenceWarning,\n",
            "/usr/local/lib/python3.7/dist-packages/sklearn/linear_model/_stochastic_gradient.py:700: ConvergenceWarning: Maximum number of iteration reached before convergence. Consider increasing max_iter to improve the fit.\n",
            "  ConvergenceWarning,\n",
            "/usr/local/lib/python3.7/dist-packages/sklearn/linear_model/_stochastic_gradient.py:700: ConvergenceWarning: Maximum number of iteration reached before convergence. Consider increasing max_iter to improve the fit.\n",
            "  ConvergenceWarning,\n",
            "/usr/local/lib/python3.7/dist-packages/sklearn/linear_model/_stochastic_gradient.py:700: ConvergenceWarning: Maximum number of iteration reached before convergence. Consider increasing max_iter to improve the fit.\n",
            "  ConvergenceWarning,\n",
            "/usr/local/lib/python3.7/dist-packages/sklearn/linear_model/_stochastic_gradient.py:700: ConvergenceWarning: Maximum number of iteration reached before convergence. Consider increasing max_iter to improve the fit.\n",
            "  ConvergenceWarning,\n",
            "/usr/local/lib/python3.7/dist-packages/sklearn/linear_model/_stochastic_gradient.py:700: ConvergenceWarning: Maximum number of iteration reached before convergence. Consider increasing max_iter to improve the fit.\n",
            "  ConvergenceWarning,\n",
            "/usr/local/lib/python3.7/dist-packages/sklearn/linear_model/_stochastic_gradient.py:700: ConvergenceWarning: Maximum number of iteration reached before convergence. Consider increasing max_iter to improve the fit.\n",
            "  ConvergenceWarning,\n",
            "/usr/local/lib/python3.7/dist-packages/sklearn/linear_model/_stochastic_gradient.py:700: ConvergenceWarning: Maximum number of iteration reached before convergence. Consider increasing max_iter to improve the fit.\n",
            "  ConvergenceWarning,\n",
            "/usr/local/lib/python3.7/dist-packages/sklearn/linear_model/_stochastic_gradient.py:700: ConvergenceWarning: Maximum number of iteration reached before convergence. Consider increasing max_iter to improve the fit.\n",
            "  ConvergenceWarning,\n",
            "/usr/local/lib/python3.7/dist-packages/sklearn/linear_model/_stochastic_gradient.py:700: ConvergenceWarning: Maximum number of iteration reached before convergence. Consider increasing max_iter to improve the fit.\n",
            "  ConvergenceWarning,\n",
            "/usr/local/lib/python3.7/dist-packages/sklearn/linear_model/_stochastic_gradient.py:700: ConvergenceWarning: Maximum number of iteration reached before convergence. Consider increasing max_iter to improve the fit.\n",
            "  ConvergenceWarning,\n",
            "/usr/local/lib/python3.7/dist-packages/sklearn/linear_model/_stochastic_gradient.py:700: ConvergenceWarning: Maximum number of iteration reached before convergence. Consider increasing max_iter to improve the fit.\n",
            "  ConvergenceWarning,\n",
            "/usr/local/lib/python3.7/dist-packages/sklearn/linear_model/_stochastic_gradient.py:700: ConvergenceWarning: Maximum number of iteration reached before convergence. Consider increasing max_iter to improve the fit.\n",
            "  ConvergenceWarning,\n",
            "/usr/local/lib/python3.7/dist-packages/sklearn/linear_model/_stochastic_gradient.py:700: ConvergenceWarning: Maximum number of iteration reached before convergence. Consider increasing max_iter to improve the fit.\n",
            "  ConvergenceWarning,\n",
            "/usr/local/lib/python3.7/dist-packages/sklearn/linear_model/_stochastic_gradient.py:700: ConvergenceWarning: Maximum number of iteration reached before convergence. Consider increasing max_iter to improve the fit.\n",
            "  ConvergenceWarning,\n",
            "/usr/local/lib/python3.7/dist-packages/sklearn/linear_model/_stochastic_gradient.py:700: ConvergenceWarning: Maximum number of iteration reached before convergence. Consider increasing max_iter to improve the fit.\n",
            "  ConvergenceWarning,\n",
            "/usr/local/lib/python3.7/dist-packages/sklearn/linear_model/_stochastic_gradient.py:700: ConvergenceWarning: Maximum number of iteration reached before convergence. Consider increasing max_iter to improve the fit.\n",
            "  ConvergenceWarning,\n",
            "/usr/local/lib/python3.7/dist-packages/sklearn/linear_model/_stochastic_gradient.py:700: ConvergenceWarning: Maximum number of iteration reached before convergence. Consider increasing max_iter to improve the fit.\n",
            "  ConvergenceWarning,\n",
            "/usr/local/lib/python3.7/dist-packages/sklearn/linear_model/_stochastic_gradient.py:700: ConvergenceWarning: Maximum number of iteration reached before convergence. Consider increasing max_iter to improve the fit.\n",
            "  ConvergenceWarning,\n",
            "/usr/local/lib/python3.7/dist-packages/sklearn/linear_model/_stochastic_gradient.py:700: ConvergenceWarning: Maximum number of iteration reached before convergence. Consider increasing max_iter to improve the fit.\n",
            "  ConvergenceWarning,\n",
            "/usr/local/lib/python3.7/dist-packages/sklearn/linear_model/_stochastic_gradient.py:700: ConvergenceWarning: Maximum number of iteration reached before convergence. Consider increasing max_iter to improve the fit.\n",
            "  ConvergenceWarning,\n",
            "/usr/local/lib/python3.7/dist-packages/sklearn/linear_model/_stochastic_gradient.py:700: ConvergenceWarning: Maximum number of iteration reached before convergence. Consider increasing max_iter to improve the fit.\n",
            "  ConvergenceWarning,\n",
            "/usr/local/lib/python3.7/dist-packages/sklearn/linear_model/_stochastic_gradient.py:700: ConvergenceWarning: Maximum number of iteration reached before convergence. Consider increasing max_iter to improve the fit.\n",
            "  ConvergenceWarning,\n",
            "/usr/local/lib/python3.7/dist-packages/sklearn/linear_model/_stochastic_gradient.py:700: ConvergenceWarning: Maximum number of iteration reached before convergence. Consider increasing max_iter to improve the fit.\n",
            "  ConvergenceWarning,\n",
            "/usr/local/lib/python3.7/dist-packages/sklearn/linear_model/_stochastic_gradient.py:700: ConvergenceWarning: Maximum number of iteration reached before convergence. Consider increasing max_iter to improve the fit.\n",
            "  ConvergenceWarning,\n",
            "/usr/local/lib/python3.7/dist-packages/sklearn/linear_model/_stochastic_gradient.py:700: ConvergenceWarning: Maximum number of iteration reached before convergence. Consider increasing max_iter to improve the fit.\n",
            "  ConvergenceWarning,\n",
            "/usr/local/lib/python3.7/dist-packages/sklearn/linear_model/_stochastic_gradient.py:700: ConvergenceWarning: Maximum number of iteration reached before convergence. Consider increasing max_iter to improve the fit.\n",
            "  ConvergenceWarning,\n",
            "/usr/local/lib/python3.7/dist-packages/sklearn/linear_model/_stochastic_gradient.py:700: ConvergenceWarning: Maximum number of iteration reached before convergence. Consider increasing max_iter to improve the fit.\n",
            "  ConvergenceWarning,\n",
            "/usr/local/lib/python3.7/dist-packages/sklearn/linear_model/_stochastic_gradient.py:700: ConvergenceWarning: Maximum number of iteration reached before convergence. Consider increasing max_iter to improve the fit.\n",
            "  ConvergenceWarning,\n",
            "/usr/local/lib/python3.7/dist-packages/sklearn/linear_model/_stochastic_gradient.py:700: ConvergenceWarning: Maximum number of iteration reached before convergence. Consider increasing max_iter to improve the fit.\n",
            "  ConvergenceWarning,\n",
            "/usr/local/lib/python3.7/dist-packages/sklearn/linear_model/_stochastic_gradient.py:700: ConvergenceWarning: Maximum number of iteration reached before convergence. Consider increasing max_iter to improve the fit.\n",
            "  ConvergenceWarning,\n",
            "/usr/local/lib/python3.7/dist-packages/sklearn/linear_model/_stochastic_gradient.py:700: ConvergenceWarning: Maximum number of iteration reached before convergence. Consider increasing max_iter to improve the fit.\n",
            "  ConvergenceWarning,\n",
            "/usr/local/lib/python3.7/dist-packages/sklearn/linear_model/_stochastic_gradient.py:700: ConvergenceWarning: Maximum number of iteration reached before convergence. Consider increasing max_iter to improve the fit.\n",
            "  ConvergenceWarning,\n",
            "/usr/local/lib/python3.7/dist-packages/sklearn/linear_model/_stochastic_gradient.py:700: ConvergenceWarning: Maximum number of iteration reached before convergence. Consider increasing max_iter to improve the fit.\n",
            "  ConvergenceWarning,\n",
            "/usr/local/lib/python3.7/dist-packages/sklearn/linear_model/_stochastic_gradient.py:700: ConvergenceWarning: Maximum number of iteration reached before convergence. Consider increasing max_iter to improve the fit.\n",
            "  ConvergenceWarning,\n",
            "/usr/local/lib/python3.7/dist-packages/sklearn/linear_model/_stochastic_gradient.py:700: ConvergenceWarning: Maximum number of iteration reached before convergence. Consider increasing max_iter to improve the fit.\n",
            "  ConvergenceWarning,\n",
            "/usr/local/lib/python3.7/dist-packages/sklearn/linear_model/_stochastic_gradient.py:700: ConvergenceWarning: Maximum number of iteration reached before convergence. Consider increasing max_iter to improve the fit.\n",
            "  ConvergenceWarning,\n",
            "/usr/local/lib/python3.7/dist-packages/sklearn/linear_model/_stochastic_gradient.py:700: ConvergenceWarning: Maximum number of iteration reached before convergence. Consider increasing max_iter to improve the fit.\n",
            "  ConvergenceWarning,\n",
            "/usr/local/lib/python3.7/dist-packages/sklearn/linear_model/_stochastic_gradient.py:700: ConvergenceWarning: Maximum number of iteration reached before convergence. Consider increasing max_iter to improve the fit.\n",
            "  ConvergenceWarning,\n",
            "/usr/local/lib/python3.7/dist-packages/sklearn/linear_model/_stochastic_gradient.py:700: ConvergenceWarning: Maximum number of iteration reached before convergence. Consider increasing max_iter to improve the fit.\n",
            "  ConvergenceWarning,\n",
            "/usr/local/lib/python3.7/dist-packages/sklearn/linear_model/_stochastic_gradient.py:700: ConvergenceWarning: Maximum number of iteration reached before convergence. Consider increasing max_iter to improve the fit.\n",
            "  ConvergenceWarning,\n",
            "/usr/local/lib/python3.7/dist-packages/sklearn/linear_model/_stochastic_gradient.py:700: ConvergenceWarning: Maximum number of iteration reached before convergence. Consider increasing max_iter to improve the fit.\n",
            "  ConvergenceWarning,\n",
            "/usr/local/lib/python3.7/dist-packages/sklearn/linear_model/_stochastic_gradient.py:700: ConvergenceWarning: Maximum number of iteration reached before convergence. Consider increasing max_iter to improve the fit.\n",
            "  ConvergenceWarning,\n",
            "/usr/local/lib/python3.7/dist-packages/sklearn/linear_model/_stochastic_gradient.py:700: ConvergenceWarning: Maximum number of iteration reached before convergence. Consider increasing max_iter to improve the fit.\n",
            "  ConvergenceWarning,\n",
            "/usr/local/lib/python3.7/dist-packages/sklearn/linear_model/_stochastic_gradient.py:700: ConvergenceWarning: Maximum number of iteration reached before convergence. Consider increasing max_iter to improve the fit.\n",
            "  ConvergenceWarning,\n",
            "/usr/local/lib/python3.7/dist-packages/sklearn/linear_model/_stochastic_gradient.py:700: ConvergenceWarning: Maximum number of iteration reached before convergence. Consider increasing max_iter to improve the fit.\n",
            "  ConvergenceWarning,\n",
            "/usr/local/lib/python3.7/dist-packages/sklearn/linear_model/_stochastic_gradient.py:700: ConvergenceWarning: Maximum number of iteration reached before convergence. Consider increasing max_iter to improve the fit.\n",
            "  ConvergenceWarning,\n",
            "/usr/local/lib/python3.7/dist-packages/sklearn/linear_model/_stochastic_gradient.py:700: ConvergenceWarning: Maximum number of iteration reached before convergence. Consider increasing max_iter to improve the fit.\n",
            "  ConvergenceWarning,\n",
            "/usr/local/lib/python3.7/dist-packages/sklearn/linear_model/_stochastic_gradient.py:700: ConvergenceWarning: Maximum number of iteration reached before convergence. Consider increasing max_iter to improve the fit.\n",
            "  ConvergenceWarning,\n",
            "/usr/local/lib/python3.7/dist-packages/sklearn/linear_model/_stochastic_gradient.py:700: ConvergenceWarning: Maximum number of iteration reached before convergence. Consider increasing max_iter to improve the fit.\n",
            "  ConvergenceWarning,\n",
            "/usr/local/lib/python3.7/dist-packages/sklearn/linear_model/_stochastic_gradient.py:700: ConvergenceWarning: Maximum number of iteration reached before convergence. Consider increasing max_iter to improve the fit.\n",
            "  ConvergenceWarning,\n",
            "/usr/local/lib/python3.7/dist-packages/sklearn/linear_model/_stochastic_gradient.py:700: ConvergenceWarning: Maximum number of iteration reached before convergence. Consider increasing max_iter to improve the fit.\n",
            "  ConvergenceWarning,\n",
            "/usr/local/lib/python3.7/dist-packages/sklearn/linear_model/_stochastic_gradient.py:700: ConvergenceWarning: Maximum number of iteration reached before convergence. Consider increasing max_iter to improve the fit.\n",
            "  ConvergenceWarning,\n",
            "/usr/local/lib/python3.7/dist-packages/sklearn/linear_model/_stochastic_gradient.py:700: ConvergenceWarning: Maximum number of iteration reached before convergence. Consider increasing max_iter to improve the fit.\n",
            "  ConvergenceWarning,\n",
            "/usr/local/lib/python3.7/dist-packages/sklearn/linear_model/_stochastic_gradient.py:700: ConvergenceWarning: Maximum number of iteration reached before convergence. Consider increasing max_iter to improve the fit.\n",
            "  ConvergenceWarning,\n",
            "/usr/local/lib/python3.7/dist-packages/sklearn/linear_model/_stochastic_gradient.py:700: ConvergenceWarning: Maximum number of iteration reached before convergence. Consider increasing max_iter to improve the fit.\n",
            "  ConvergenceWarning,\n",
            "/usr/local/lib/python3.7/dist-packages/sklearn/linear_model/_stochastic_gradient.py:700: ConvergenceWarning: Maximum number of iteration reached before convergence. Consider increasing max_iter to improve the fit.\n",
            "  ConvergenceWarning,\n",
            "/usr/local/lib/python3.7/dist-packages/sklearn/linear_model/_stochastic_gradient.py:700: ConvergenceWarning: Maximum number of iteration reached before convergence. Consider increasing max_iter to improve the fit.\n",
            "  ConvergenceWarning,\n",
            "/usr/local/lib/python3.7/dist-packages/sklearn/linear_model/_stochastic_gradient.py:700: ConvergenceWarning: Maximum number of iteration reached before convergence. Consider increasing max_iter to improve the fit.\n",
            "  ConvergenceWarning,\n",
            "/usr/local/lib/python3.7/dist-packages/sklearn/linear_model/_stochastic_gradient.py:700: ConvergenceWarning: Maximum number of iteration reached before convergence. Consider increasing max_iter to improve the fit.\n",
            "  ConvergenceWarning,\n",
            "/usr/local/lib/python3.7/dist-packages/sklearn/linear_model/_stochastic_gradient.py:700: ConvergenceWarning: Maximum number of iteration reached before convergence. Consider increasing max_iter to improve the fit.\n",
            "  ConvergenceWarning,\n",
            "/usr/local/lib/python3.7/dist-packages/sklearn/linear_model/_stochastic_gradient.py:700: ConvergenceWarning: Maximum number of iteration reached before convergence. Consider increasing max_iter to improve the fit.\n",
            "  ConvergenceWarning,\n",
            "/usr/local/lib/python3.7/dist-packages/sklearn/linear_model/_stochastic_gradient.py:700: ConvergenceWarning: Maximum number of iteration reached before convergence. Consider increasing max_iter to improve the fit.\n",
            "  ConvergenceWarning,\n",
            "/usr/local/lib/python3.7/dist-packages/sklearn/linear_model/_stochastic_gradient.py:700: ConvergenceWarning: Maximum number of iteration reached before convergence. Consider increasing max_iter to improve the fit.\n",
            "  ConvergenceWarning,\n",
            "/usr/local/lib/python3.7/dist-packages/sklearn/linear_model/_stochastic_gradient.py:700: ConvergenceWarning: Maximum number of iteration reached before convergence. Consider increasing max_iter to improve the fit.\n",
            "  ConvergenceWarning,\n",
            "/usr/local/lib/python3.7/dist-packages/sklearn/linear_model/_stochastic_gradient.py:700: ConvergenceWarning: Maximum number of iteration reached before convergence. Consider increasing max_iter to improve the fit.\n",
            "  ConvergenceWarning,\n",
            "/usr/local/lib/python3.7/dist-packages/sklearn/linear_model/_stochastic_gradient.py:700: ConvergenceWarning: Maximum number of iteration reached before convergence. Consider increasing max_iter to improve the fit.\n",
            "  ConvergenceWarning,\n",
            "/usr/local/lib/python3.7/dist-packages/sklearn/linear_model/_stochastic_gradient.py:700: ConvergenceWarning: Maximum number of iteration reached before convergence. Consider increasing max_iter to improve the fit.\n",
            "  ConvergenceWarning,\n",
            "/usr/local/lib/python3.7/dist-packages/sklearn/linear_model/_stochastic_gradient.py:700: ConvergenceWarning: Maximum number of iteration reached before convergence. Consider increasing max_iter to improve the fit.\n",
            "  ConvergenceWarning,\n",
            "/usr/local/lib/python3.7/dist-packages/sklearn/linear_model/_stochastic_gradient.py:700: ConvergenceWarning: Maximum number of iteration reached before convergence. Consider increasing max_iter to improve the fit.\n",
            "  ConvergenceWarning,\n",
            "/usr/local/lib/python3.7/dist-packages/sklearn/linear_model/_stochastic_gradient.py:700: ConvergenceWarning: Maximum number of iteration reached before convergence. Consider increasing max_iter to improve the fit.\n",
            "  ConvergenceWarning,\n",
            "/usr/local/lib/python3.7/dist-packages/sklearn/linear_model/_stochastic_gradient.py:700: ConvergenceWarning: Maximum number of iteration reached before convergence. Consider increasing max_iter to improve the fit.\n",
            "  ConvergenceWarning,\n",
            "/usr/local/lib/python3.7/dist-packages/sklearn/linear_model/_stochastic_gradient.py:700: ConvergenceWarning: Maximum number of iteration reached before convergence. Consider increasing max_iter to improve the fit.\n",
            "  ConvergenceWarning,\n",
            "/usr/local/lib/python3.7/dist-packages/sklearn/linear_model/_stochastic_gradient.py:700: ConvergenceWarning: Maximum number of iteration reached before convergence. Consider increasing max_iter to improve the fit.\n",
            "  ConvergenceWarning,\n",
            "/usr/local/lib/python3.7/dist-packages/sklearn/linear_model/_stochastic_gradient.py:700: ConvergenceWarning: Maximum number of iteration reached before convergence. Consider increasing max_iter to improve the fit.\n",
            "  ConvergenceWarning,\n",
            "/usr/local/lib/python3.7/dist-packages/sklearn/linear_model/_stochastic_gradient.py:700: ConvergenceWarning: Maximum number of iteration reached before convergence. Consider increasing max_iter to improve the fit.\n",
            "  ConvergenceWarning,\n",
            "/usr/local/lib/python3.7/dist-packages/sklearn/linear_model/_stochastic_gradient.py:700: ConvergenceWarning: Maximum number of iteration reached before convergence. Consider increasing max_iter to improve the fit.\n",
            "  ConvergenceWarning,\n",
            "/usr/local/lib/python3.7/dist-packages/sklearn/linear_model/_stochastic_gradient.py:700: ConvergenceWarning: Maximum number of iteration reached before convergence. Consider increasing max_iter to improve the fit.\n",
            "  ConvergenceWarning,\n",
            "/usr/local/lib/python3.7/dist-packages/sklearn/linear_model/_stochastic_gradient.py:700: ConvergenceWarning: Maximum number of iteration reached before convergence. Consider increasing max_iter to improve the fit.\n",
            "  ConvergenceWarning,\n",
            "/usr/local/lib/python3.7/dist-packages/sklearn/linear_model/_stochastic_gradient.py:700: ConvergenceWarning: Maximum number of iteration reached before convergence. Consider increasing max_iter to improve the fit.\n",
            "  ConvergenceWarning,\n",
            "/usr/local/lib/python3.7/dist-packages/sklearn/linear_model/_stochastic_gradient.py:700: ConvergenceWarning: Maximum number of iteration reached before convergence. Consider increasing max_iter to improve the fit.\n",
            "  ConvergenceWarning,\n",
            "/usr/local/lib/python3.7/dist-packages/sklearn/linear_model/_stochastic_gradient.py:700: ConvergenceWarning: Maximum number of iteration reached before convergence. Consider increasing max_iter to improve the fit.\n",
            "  ConvergenceWarning,\n",
            "/usr/local/lib/python3.7/dist-packages/sklearn/linear_model/_stochastic_gradient.py:700: ConvergenceWarning: Maximum number of iteration reached before convergence. Consider increasing max_iter to improve the fit.\n",
            "  ConvergenceWarning,\n",
            "/usr/local/lib/python3.7/dist-packages/sklearn/linear_model/_stochastic_gradient.py:700: ConvergenceWarning: Maximum number of iteration reached before convergence. Consider increasing max_iter to improve the fit.\n",
            "  ConvergenceWarning,\n",
            "/usr/local/lib/python3.7/dist-packages/sklearn/linear_model/_stochastic_gradient.py:700: ConvergenceWarning: Maximum number of iteration reached before convergence. Consider increasing max_iter to improve the fit.\n",
            "  ConvergenceWarning,\n",
            "/usr/local/lib/python3.7/dist-packages/sklearn/linear_model/_stochastic_gradient.py:700: ConvergenceWarning: Maximum number of iteration reached before convergence. Consider increasing max_iter to improve the fit.\n",
            "  ConvergenceWarning,\n",
            "/usr/local/lib/python3.7/dist-packages/sklearn/linear_model/_stochastic_gradient.py:700: ConvergenceWarning: Maximum number of iteration reached before convergence. Consider increasing max_iter to improve the fit.\n",
            "  ConvergenceWarning,\n",
            "/usr/local/lib/python3.7/dist-packages/sklearn/linear_model/_stochastic_gradient.py:700: ConvergenceWarning: Maximum number of iteration reached before convergence. Consider increasing max_iter to improve the fit.\n",
            "  ConvergenceWarning,\n",
            "/usr/local/lib/python3.7/dist-packages/sklearn/linear_model/_stochastic_gradient.py:700: ConvergenceWarning: Maximum number of iteration reached before convergence. Consider increasing max_iter to improve the fit.\n",
            "  ConvergenceWarning,\n",
            "/usr/local/lib/python3.7/dist-packages/sklearn/linear_model/_stochastic_gradient.py:700: ConvergenceWarning: Maximum number of iteration reached before convergence. Consider increasing max_iter to improve the fit.\n",
            "  ConvergenceWarning,\n",
            "/usr/local/lib/python3.7/dist-packages/sklearn/linear_model/_stochastic_gradient.py:700: ConvergenceWarning: Maximum number of iteration reached before convergence. Consider increasing max_iter to improve the fit.\n",
            "  ConvergenceWarning,\n",
            "/usr/local/lib/python3.7/dist-packages/sklearn/linear_model/_stochastic_gradient.py:700: ConvergenceWarning: Maximum number of iteration reached before convergence. Consider increasing max_iter to improve the fit.\n",
            "  ConvergenceWarning,\n",
            "/usr/local/lib/python3.7/dist-packages/sklearn/linear_model/_stochastic_gradient.py:700: ConvergenceWarning: Maximum number of iteration reached before convergence. Consider increasing max_iter to improve the fit.\n",
            "  ConvergenceWarning,\n",
            "/usr/local/lib/python3.7/dist-packages/sklearn/linear_model/_stochastic_gradient.py:700: ConvergenceWarning: Maximum number of iteration reached before convergence. Consider increasing max_iter to improve the fit.\n",
            "  ConvergenceWarning,\n",
            "/usr/local/lib/python3.7/dist-packages/sklearn/linear_model/_stochastic_gradient.py:700: ConvergenceWarning: Maximum number of iteration reached before convergence. Consider increasing max_iter to improve the fit.\n",
            "  ConvergenceWarning,\n",
            "/usr/local/lib/python3.7/dist-packages/sklearn/linear_model/_stochastic_gradient.py:700: ConvergenceWarning: Maximum number of iteration reached before convergence. Consider increasing max_iter to improve the fit.\n",
            "  ConvergenceWarning,\n",
            "/usr/local/lib/python3.7/dist-packages/sklearn/linear_model/_stochastic_gradient.py:700: ConvergenceWarning: Maximum number of iteration reached before convergence. Consider increasing max_iter to improve the fit.\n",
            "  ConvergenceWarning,\n",
            "/usr/local/lib/python3.7/dist-packages/sklearn/linear_model/_stochastic_gradient.py:700: ConvergenceWarning: Maximum number of iteration reached before convergence. Consider increasing max_iter to improve the fit.\n",
            "  ConvergenceWarning,\n",
            "/usr/local/lib/python3.7/dist-packages/sklearn/linear_model/_stochastic_gradient.py:700: ConvergenceWarning: Maximum number of iteration reached before convergence. Consider increasing max_iter to improve the fit.\n",
            "  ConvergenceWarning,\n",
            "/usr/local/lib/python3.7/dist-packages/sklearn/linear_model/_stochastic_gradient.py:700: ConvergenceWarning: Maximum number of iteration reached before convergence. Consider increasing max_iter to improve the fit.\n",
            "  ConvergenceWarning,\n",
            "/usr/local/lib/python3.7/dist-packages/sklearn/linear_model/_stochastic_gradient.py:700: ConvergenceWarning: Maximum number of iteration reached before convergence. Consider increasing max_iter to improve the fit.\n",
            "  ConvergenceWarning,\n",
            "/usr/local/lib/python3.7/dist-packages/sklearn/linear_model/_stochastic_gradient.py:700: ConvergenceWarning: Maximum number of iteration reached before convergence. Consider increasing max_iter to improve the fit.\n",
            "  ConvergenceWarning,\n",
            "/usr/local/lib/python3.7/dist-packages/sklearn/model_selection/_validation.py:372: FitFailedWarning: \n",
            "1200 fits failed out of a total of 2400.\n",
            "The score on these train-test partitions for these parameters will be set to nan.\n",
            "If these failures are not expected, you can try to debug them by setting error_score='raise'.\n",
            "\n",
            "Below are more details about the failures:\n",
            "--------------------------------------------------------------------------------\n",
            "1200 fits failed with the following error:\n",
            "Traceback (most recent call last):\n",
            "  File \"/usr/local/lib/python3.7/dist-packages/sklearn/model_selection/_validation.py\", line 680, in _fit_and_score\n",
            "    estimator.fit(X_train, y_train, **fit_params)\n",
            "  File \"/usr/local/lib/python3.7/dist-packages/sklearn/linear_model/_stochastic_gradient.py\", line 892, in fit\n",
            "    sample_weight=sample_weight,\n",
            "  File \"/usr/local/lib/python3.7/dist-packages/sklearn/linear_model/_stochastic_gradient.py\", line 649, in _fit\n",
            "    self._validate_params()\n",
            "  File \"/usr/local/lib/python3.7/dist-packages/sklearn/linear_model/_stochastic_gradient.py\", line 162, in _validate_params\n",
            "    raise ValueError(\"The loss %s is not supported. \" % self.loss)\n",
            "ValueError: The loss log_loss is not supported. \n",
            "\n",
            "  warnings.warn(some_fits_failed_message, FitFailedWarning)\n",
            "/usr/local/lib/python3.7/dist-packages/sklearn/model_selection/_search.py:972: UserWarning: One or more of the test scores are non-finite: [0.46418022 0.46537713 0.46537713        nan        nan        nan\n",
            " 0.35911051 0.35567464 0.35567464        nan        nan        nan\n",
            " 0.46418022 0.46537713 0.46537713        nan        nan        nan\n",
            " 0.45941789 0.4667437  0.4667437         nan        nan        nan\n",
            " 0.46418022 0.46537713 0.46537713        nan        nan        nan\n",
            " 0.35911051 0.35911051 0.35911051        nan        nan        nan\n",
            " 0.46418022 0.46537713 0.46537713        nan        nan        nan\n",
            " 0.43215967 0.45688221 0.45688221        nan        nan        nan\n",
            " 0.45129121 0.50829845 0.50829845        nan        nan        nan\n",
            " 0.35911051 0.36167031 0.36653354        nan        nan        nan\n",
            " 0.45129121 0.50829845 0.50829845        nan        nan        nan\n",
            " 0.46570725 0.492289   0.492289          nan        nan        nan\n",
            " 0.45129121 0.50829845 0.50829845        nan        nan        nan\n",
            " 0.35911051 0.35911051 0.35911051        nan        nan        nan\n",
            " 0.45129121 0.50829845 0.50829845        nan        nan        nan\n",
            " 0.44572152 0.46585014 0.46585014        nan        nan        nan\n",
            " 0.44489069 0.5110886  0.5110886         nan        nan        nan\n",
            " 0.35911051 0.36167031 0.36653354        nan        nan        nan\n",
            " 0.44489069 0.5110886  0.5110886         nan        nan        nan\n",
            " 0.46954029 0.492289   0.492289          nan        nan        nan\n",
            " 0.44489069 0.5110886  0.5110886         nan        nan        nan\n",
            " 0.35911051 0.35911051 0.35911051        nan        nan        nan\n",
            " 0.44489069 0.5110886  0.5110886         nan        nan        nan\n",
            " 0.44572152 0.46585014 0.46585014        nan        nan        nan\n",
            " 0.44668451 0.46460571 0.46460571        nan        nan        nan\n",
            " 0.35911051 0.34162582 0.34162582        nan        nan        nan\n",
            " 0.44668451 0.46460571 0.46460571        nan        nan        nan\n",
            " 0.44187554 0.45768423 0.45768423        nan        nan        nan\n",
            " 0.44668451 0.46460571 0.46460571        nan        nan        nan\n",
            " 0.35911051 0.35911051 0.35911051        nan        nan        nan\n",
            " 0.44668451 0.46460571 0.46460571        nan        nan        nan\n",
            " 0.42398413 0.44617809 0.44617809        nan        nan        nan\n",
            " 0.12164712 0.12164712 0.12164712        nan        nan        nan\n",
            " 0.3604176  0.36394918 0.36394918        nan        nan        nan\n",
            " 0.12164712 0.12164712 0.12164712        nan        nan        nan\n",
            " 0.3605776  0.35808436 0.35808436        nan        nan        nan\n",
            " 0.12164712 0.12164712 0.12164712        nan        nan        nan\n",
            " 0.35772588 0.35772588 0.35772588        nan        nan        nan\n",
            " 0.12164712 0.12164712 0.12164712        nan        nan        nan\n",
            " 0.35232992 0.36063693 0.36063693        nan        nan        nan\n",
            " 0.11560694 0.11560694 0.11560694        nan        nan        nan\n",
            " 0.36029102 0.36394918 0.36394918        nan        nan        nan\n",
            " 0.11560694 0.11560694 0.11560694        nan        nan        nan\n",
            " 0.35896081 0.35607528 0.35607528        nan        nan        nan\n",
            " 0.11560694 0.11560694 0.11560694        nan        nan        nan\n",
            " 0.35772588 0.35772588 0.35772588        nan        nan        nan\n",
            " 0.11560694 0.11560694 0.11560694        nan        nan        nan\n",
            " 0.3517832  0.36136237 0.36136237        nan        nan        nan\n",
            " 0.12248994 0.12248994 0.12248994        nan        nan        nan\n",
            " 0.35844725 0.36370547 0.36370547        nan        nan        nan\n",
            " 0.12248994 0.12248994 0.12248994        nan        nan        nan\n",
            " 0.35874371 0.35660874 0.35660874        nan        nan        nan\n",
            " 0.12248994 0.12248994 0.12248994        nan        nan        nan\n",
            " 0.35750505 0.35772588 0.35772588        nan        nan        nan\n",
            " 0.12248994 0.12248994 0.12248994        nan        nan        nan\n",
            " 0.35196248 0.35874572 0.35874572        nan        nan        nan\n",
            " 0.46466163 0.51138472 0.51138472        nan        nan        nan\n",
            " 0.35911051 0.36167031 0.36741719        nan        nan        nan\n",
            " 0.46466163 0.51138472 0.51138472        nan        nan        nan\n",
            " 0.4567748  0.497225   0.497225          nan        nan        nan\n",
            " 0.46466163 0.51138472 0.51138472        nan        nan        nan\n",
            " 0.35911051 0.35911051 0.35911051        nan        nan        nan\n",
            " 0.46466163 0.51138472 0.51138472        nan        nan        nan\n",
            " 0.4436251  0.46681102 0.46681102        nan        nan        nan\n",
            " 0.39300088 0.49080666 0.49080666        nan        nan        nan\n",
            " 0.35911051 0.3604321  0.3644321         nan        nan        nan\n",
            " 0.39300088 0.49080666 0.49080666        nan        nan        nan\n",
            " 0.46949904 0.50204686 0.50204686        nan        nan        nan\n",
            " 0.39300088 0.49080666 0.49080666        nan        nan        nan\n",
            " 0.35911051 0.35911051 0.35911051        nan        nan        nan\n",
            " 0.39300088 0.49080666 0.49080666        nan        nan        nan\n",
            " 0.45229081 0.48340463 0.48340463        nan        nan        nan\n",
            " 0.41467517 0.45429051 0.45429051        nan        nan        nan\n",
            " 0.35911051 0.34128862 0.34128862        nan        nan        nan\n",
            " 0.41467517 0.45429051 0.45429051        nan        nan        nan\n",
            " 0.40902176 0.43525392 0.43525392        nan        nan        nan\n",
            " 0.41467517 0.45429051 0.45429051        nan        nan        nan\n",
            " 0.35911051 0.35911051 0.35911051        nan        nan        nan\n",
            " 0.41467517 0.45429051 0.45429051        nan        nan        nan\n",
            " 0.42053531 0.43185654 0.43185654        nan        nan        nan]\n",
            "  category=UserWarning,\n"
          ]
        }
      ]
    },
    {
      "cell_type": "code",
      "source": [
        "results = cv.cv_results_\n",
        "params = results['params']\n",
        "mean_accu = results['mean_test_score']\n",
        "std_accu = results['std_test_score']\n",
        "rank_accu = results['rank_test_score']\n",
        "\n",
        "print(\"loss.\\talpha\\t\\t\\tlearning_rate\\tmax_iter\\t | mean\\tstd\\trank\")\n",
        "for p, m_a, s_a, r_a in zip(params, mean_accu,std_accu, rank_accu):\n",
        "    print(f\"{p['loss']}\\t{p['alpha']}\\t{p['learning_rate']}\\t\\t{p['max_iter']}\\t\\t | {m_a:0.2f}\\t{s_a:0.2f}\\t{r_a}\")"
      ],
      "metadata": {
        "colab": {
          "base_uri": "https://localhost:8080/"
        },
        "id": "TGCvMw5YtSBK",
        "outputId": "dfcd0919-9d7f-4ea8-898b-cf5bd86ea9bc"
      },
      "execution_count": 21,
      "outputs": [
        {
          "output_type": "stream",
          "name": "stdout",
          "text": [
            "loss.\talpha\t\t\tlearning_rate\tmax_iter\t | mean\tstd\trank\n",
            "hinge\t0.0046432737688443665\toptimal\t\t10\t\t | 0.46\t0.01\t74\n",
            "hinge\t0.0046432737688443665\toptimal\t\t100\t\t | 0.47\t0.04\t54\n",
            "hinge\t0.0046432737688443665\toptimal\t\t1000\t\t | 0.47\t0.04\t54\n",
            "log_loss\t0.0046432737688443665\toptimal\t\t10\t\t | nan\tnan\t377\n",
            "log_loss\t0.0046432737688443665\toptimal\t\t100\t\t | nan\tnan\t376\n",
            "log_loss\t0.0046432737688443665\toptimal\t\t1000\t\t | nan\tnan\t375\n",
            "hinge\t0.0046432737688443665\tadaptive\t\t10\t\t | 0.36\t0.03\t148\n",
            "hinge\t0.0046432737688443665\tadaptive\t\t100\t\t | 0.36\t0.03\t196\n",
            "hinge\t0.0046432737688443665\tadaptive\t\t1000\t\t | 0.36\t0.03\t196\n",
            "log_loss\t0.0046432737688443665\tadaptive\t\t10\t\t | nan\tnan\t374\n",
            "log_loss\t0.0046432737688443665\tadaptive\t\t100\t\t | nan\tnan\t373\n",
            "log_loss\t0.0046432737688443665\tadaptive\t\t1000\t\t | nan\tnan\t372\n",
            "hinge\t0.0046432737688443665\toptimal\t\t10\t\t | 0.46\t0.01\t74\n",
            "hinge\t0.0046432737688443665\toptimal\t\t100\t\t | 0.47\t0.04\t54\n",
            "hinge\t0.0046432737688443665\toptimal\t\t1000\t\t | 0.47\t0.04\t54\n",
            "log_loss\t0.0046432737688443665\toptimal\t\t10\t\t | nan\tnan\t371\n",
            "log_loss\t0.0046432737688443665\toptimal\t\t100\t\t | nan\tnan\t378\n",
            "log_loss\t0.0046432737688443665\toptimal\t\t1000\t\t | nan\tnan\t370\n",
            "hinge\t0.0046432737688443665\tadaptive\t\t10\t\t | 0.46\t0.02\t78\n",
            "hinge\t0.0046432737688443665\tadaptive\t\t100\t\t | 0.47\t0.04\t47\n",
            "hinge\t0.0046432737688443665\tadaptive\t\t1000\t\t | 0.47\t0.04\t47\n",
            "log_loss\t0.0046432737688443665\tadaptive\t\t10\t\t | nan\tnan\t368\n",
            "log_loss\t0.0046432737688443665\tadaptive\t\t100\t\t | nan\tnan\t367\n",
            "log_loss\t0.0046432737688443665\tadaptive\t\t1000\t\t | nan\tnan\t366\n",
            "hinge\t0.0046432737688443665\toptimal\t\t10\t\t | 0.46\t0.01\t74\n",
            "hinge\t0.0046432737688443665\toptimal\t\t100\t\t | 0.47\t0.04\t54\n",
            "hinge\t0.0046432737688443665\toptimal\t\t1000\t\t | 0.47\t0.04\t54\n",
            "log_loss\t0.0046432737688443665\toptimal\t\t10\t\t | nan\tnan\t365\n",
            "log_loss\t0.0046432737688443665\toptimal\t\t100\t\t | nan\tnan\t364\n",
            "log_loss\t0.0046432737688443665\toptimal\t\t1000\t\t | nan\tnan\t363\n",
            "hinge\t0.0046432737688443665\tadaptive\t\t10\t\t | 0.36\t0.03\t148\n",
            "hinge\t0.0046432737688443665\tadaptive\t\t100\t\t | 0.36\t0.03\t148\n",
            "hinge\t0.0046432737688443665\tadaptive\t\t1000\t\t | 0.36\t0.03\t148\n",
            "log_loss\t0.0046432737688443665\tadaptive\t\t10\t\t | nan\tnan\t362\n",
            "log_loss\t0.0046432737688443665\tadaptive\t\t100\t\t | nan\tnan\t369\n",
            "log_loss\t0.0046432737688443665\tadaptive\t\t1000\t\t | nan\tnan\t380\n",
            "hinge\t0.0046432737688443665\toptimal\t\t10\t\t | 0.46\t0.01\t74\n",
            "hinge\t0.0046432737688443665\toptimal\t\t100\t\t | 0.47\t0.04\t54\n",
            "hinge\t0.0046432737688443665\toptimal\t\t1000\t\t | 0.47\t0.04\t54\n",
            "log_loss\t0.0046432737688443665\toptimal\t\t10\t\t | nan\tnan\t389\n",
            "log_loss\t0.0046432737688443665\toptimal\t\t100\t\t | nan\tnan\t381\n",
            "log_loss\t0.0046432737688443665\toptimal\t\t1000\t\t | nan\tnan\t397\n",
            "hinge\t0.0046432737688443665\tadaptive\t\t10\t\t | 0.43\t0.04\t113\n",
            "hinge\t0.0046432737688443665\tadaptive\t\t100\t\t | 0.46\t0.03\t81\n",
            "hinge\t0.0046432737688443665\tadaptive\t\t1000\t\t | 0.46\t0.03\t81\n",
            "log_loss\t0.0046432737688443665\tadaptive\t\t10\t\t | nan\tnan\t396\n",
            "log_loss\t0.0046432737688443665\tadaptive\t\t100\t\t | nan\tnan\t395\n",
            "log_loss\t0.0046432737688443665\tadaptive\t\t1000\t\t | nan\tnan\t394\n",
            "hinge\t0.0011269426377849955\toptimal\t\t10\t\t | 0.45\t0.06\t93\n",
            "hinge\t0.0011269426377849955\toptimal\t\t100\t\t | 0.51\t0.06\t17\n",
            "hinge\t0.0011269426377849955\toptimal\t\t1000\t\t | 0.51\t0.06\t17\n",
            "log_loss\t0.0011269426377849955\toptimal\t\t10\t\t | nan\tnan\t393\n",
            "log_loss\t0.0011269426377849955\toptimal\t\t100\t\t | nan\tnan\t392\n",
            "log_loss\t0.0011269426377849955\toptimal\t\t1000\t\t | nan\tnan\t391\n",
            "hinge\t0.0011269426377849955\tadaptive\t\t10\t\t | 0.36\t0.03\t148\n",
            "hinge\t0.0011269426377849955\tadaptive\t\t100\t\t | 0.36\t0.03\t137\n",
            "hinge\t0.0011269426377849955\tadaptive\t\t1000\t\t | 0.37\t0.04\t128\n",
            "log_loss\t0.0011269426377849955\tadaptive\t\t10\t\t | nan\tnan\t398\n",
            "log_loss\t0.0011269426377849955\tadaptive\t\t100\t\t | nan\tnan\t390\n",
            "log_loss\t0.0011269426377849955\tadaptive\t\t1000\t\t | nan\tnan\t388\n",
            "hinge\t0.0011269426377849955\toptimal\t\t10\t\t | 0.45\t0.06\t93\n",
            "hinge\t0.0011269426377849955\toptimal\t\t100\t\t | 0.51\t0.06\t17\n",
            "hinge\t0.0011269426377849955\toptimal\t\t1000\t\t | 0.51\t0.06\t17\n",
            "log_loss\t0.0011269426377849955\toptimal\t\t10\t\t | nan\tnan\t387\n",
            "log_loss\t0.0011269426377849955\toptimal\t\t100\t\t | nan\tnan\t386\n",
            "log_loss\t0.0011269426377849955\toptimal\t\t1000\t\t | nan\tnan\t385\n",
            "hinge\t0.0011269426377849955\tadaptive\t\t10\t\t | 0.47\t0.02\t53\n",
            "hinge\t0.0011269426377849955\tadaptive\t\t100\t\t | 0.49\t0.03\t29\n",
            "hinge\t0.0011269426377849955\tadaptive\t\t1000\t\t | 0.49\t0.03\t29\n",
            "log_loss\t0.0011269426377849955\tadaptive\t\t10\t\t | nan\tnan\t384\n",
            "log_loss\t0.0011269426377849955\tadaptive\t\t100\t\t | nan\tnan\t383\n",
            "log_loss\t0.0011269426377849955\tadaptive\t\t1000\t\t | nan\tnan\t382\n",
            "hinge\t0.0011269426377849955\toptimal\t\t10\t\t | 0.45\t0.06\t93\n",
            "hinge\t0.0011269426377849955\toptimal\t\t100\t\t | 0.51\t0.06\t17\n",
            "hinge\t0.0011269426377849955\toptimal\t\t1000\t\t | 0.51\t0.06\t17\n",
            "log_loss\t0.0011269426377849955\toptimal\t\t10\t\t | nan\tnan\t361\n",
            "log_loss\t0.0011269426377849955\toptimal\t\t100\t\t | nan\tnan\t379\n",
            "log_loss\t0.0011269426377849955\toptimal\t\t1000\t\t | nan\tnan\t360\n",
            "hinge\t0.0011269426377849955\tadaptive\t\t10\t\t | 0.36\t0.03\t148\n",
            "hinge\t0.0011269426377849955\tadaptive\t\t100\t\t | 0.36\t0.03\t148\n",
            "hinge\t0.0011269426377849955\tadaptive\t\t1000\t\t | 0.36\t0.03\t148\n",
            "log_loss\t0.0011269426377849955\tadaptive\t\t10\t\t | nan\tnan\t339\n",
            "log_loss\t0.0011269426377849955\tadaptive\t\t100\t\t | nan\tnan\t337\n",
            "log_loss\t0.0011269426377849955\tadaptive\t\t1000\t\t | nan\tnan\t336\n",
            "hinge\t0.0011269426377849955\toptimal\t\t10\t\t | 0.45\t0.06\t93\n",
            "hinge\t0.0011269426377849955\toptimal\t\t100\t\t | 0.51\t0.06\t17\n",
            "hinge\t0.0011269426377849955\toptimal\t\t1000\t\t | 0.51\t0.06\t17\n",
            "log_loss\t0.0011269426377849955\toptimal\t\t10\t\t | nan\tnan\t335\n",
            "log_loss\t0.0011269426377849955\toptimal\t\t100\t\t | nan\tnan\t334\n",
            "log_loss\t0.0011269426377849955\toptimal\t\t1000\t\t | nan\tnan\t333\n",
            "hinge\t0.0011269426377849955\tadaptive\t\t10\t\t | 0.45\t0.02\t103\n",
            "hinge\t0.0011269426377849955\tadaptive\t\t100\t\t | 0.47\t0.05\t49\n",
            "hinge\t0.0011269426377849955\tadaptive\t\t1000\t\t | 0.47\t0.05\t49\n",
            "log_loss\t0.0011269426377849955\tadaptive\t\t10\t\t | nan\tnan\t332\n",
            "log_loss\t0.0011269426377849955\tadaptive\t\t100\t\t | nan\tnan\t331\n",
            "log_loss\t0.0011269426377849955\tadaptive\t\t1000\t\t | nan\tnan\t338\n",
            "hinge\t0.0011447657687442092\toptimal\t\t10\t\t | 0.44\t0.06\t105\n",
            "hinge\t0.0011447657687442092\toptimal\t\t100\t\t | 0.51\t0.07\t9\n",
            "hinge\t0.0011447657687442092\toptimal\t\t1000\t\t | 0.51\t0.07\t9\n",
            "log_loss\t0.0011447657687442092\toptimal\t\t10\t\t | nan\tnan\t330\n",
            "log_loss\t0.0011447657687442092\toptimal\t\t100\t\t | nan\tnan\t328\n",
            "log_loss\t0.0011447657687442092\toptimal\t\t1000\t\t | nan\tnan\t327\n",
            "hinge\t0.0011447657687442092\tadaptive\t\t10\t\t | 0.36\t0.03\t148\n",
            "hinge\t0.0011447657687442092\tadaptive\t\t100\t\t | 0.36\t0.03\t137\n",
            "hinge\t0.0011447657687442092\tadaptive\t\t1000\t\t | 0.37\t0.04\t128\n",
            "log_loss\t0.0011447657687442092\tadaptive\t\t10\t\t | nan\tnan\t326\n",
            "log_loss\t0.0011447657687442092\tadaptive\t\t100\t\t | nan\tnan\t325\n",
            "log_loss\t0.0011447657687442092\tadaptive\t\t1000\t\t | nan\tnan\t324\n",
            "hinge\t0.0011447657687442092\toptimal\t\t10\t\t | 0.44\t0.06\t105\n",
            "hinge\t0.0011447657687442092\toptimal\t\t100\t\t | 0.51\t0.07\t9\n",
            "hinge\t0.0011447657687442092\toptimal\t\t1000\t\t | 0.51\t0.07\t9\n",
            "log_loss\t0.0011447657687442092\toptimal\t\t10\t\t | nan\tnan\t323\n",
            "log_loss\t0.0011447657687442092\toptimal\t\t100\t\t | nan\tnan\t322\n",
            "log_loss\t0.0011447657687442092\toptimal\t\t1000\t\t | nan\tnan\t329\n",
            "hinge\t0.0011447657687442092\tadaptive\t\t10\t\t | 0.47\t0.02\t43\n",
            "hinge\t0.0011447657687442092\tadaptive\t\t100\t\t | 0.49\t0.03\t29\n",
            "hinge\t0.0011447657687442092\tadaptive\t\t1000\t\t | 0.49\t0.03\t29\n",
            "log_loss\t0.0011447657687442092\tadaptive\t\t10\t\t | nan\tnan\t340\n",
            "log_loss\t0.0011447657687442092\tadaptive\t\t100\t\t | nan\tnan\t349\n",
            "log_loss\t0.0011447657687442092\tadaptive\t\t1000\t\t | nan\tnan\t341\n",
            "hinge\t0.0011447657687442092\toptimal\t\t10\t\t | 0.44\t0.06\t105\n",
            "hinge\t0.0011447657687442092\toptimal\t\t100\t\t | 0.51\t0.07\t9\n",
            "hinge\t0.0011447657687442092\toptimal\t\t1000\t\t | 0.51\t0.07\t9\n",
            "log_loss\t0.0011447657687442092\toptimal\t\t10\t\t | nan\tnan\t357\n",
            "log_loss\t0.0011447657687442092\toptimal\t\t100\t\t | nan\tnan\t356\n",
            "log_loss\t0.0011447657687442092\toptimal\t\t1000\t\t | nan\tnan\t355\n",
            "hinge\t0.0011447657687442092\tadaptive\t\t10\t\t | 0.36\t0.03\t148\n",
            "hinge\t0.0011447657687442092\tadaptive\t\t100\t\t | 0.36\t0.03\t148\n",
            "hinge\t0.0011447657687442092\tadaptive\t\t1000\t\t | 0.36\t0.03\t148\n",
            "log_loss\t0.0011447657687442092\tadaptive\t\t10\t\t | nan\tnan\t354\n",
            "log_loss\t0.0011447657687442092\tadaptive\t\t100\t\t | nan\tnan\t353\n",
            "log_loss\t0.0011447657687442092\tadaptive\t\t1000\t\t | nan\tnan\t352\n",
            "hinge\t0.0011447657687442092\toptimal\t\t10\t\t | 0.44\t0.06\t105\n",
            "hinge\t0.0011447657687442092\toptimal\t\t100\t\t | 0.51\t0.07\t9\n",
            "hinge\t0.0011447657687442092\toptimal\t\t1000\t\t | 0.51\t0.07\t9\n",
            "log_loss\t0.0011447657687442092\toptimal\t\t10\t\t | nan\tnan\t351\n",
            "log_loss\t0.0011447657687442092\toptimal\t\t100\t\t | nan\tnan\t358\n",
            "log_loss\t0.0011447657687442092\toptimal\t\t1000\t\t | nan\tnan\t350\n",
            "hinge\t0.0011447657687442092\tadaptive\t\t10\t\t | 0.45\t0.02\t103\n",
            "hinge\t0.0011447657687442092\tadaptive\t\t100\t\t | 0.47\t0.05\t49\n",
            "hinge\t0.0011447657687442092\tadaptive\t\t1000\t\t | 0.47\t0.05\t49\n",
            "log_loss\t0.0011447657687442092\tadaptive\t\t10\t\t | nan\tnan\t348\n",
            "log_loss\t0.0011447657687442092\tadaptive\t\t100\t\t | nan\tnan\t347\n",
            "log_loss\t0.0011447657687442092\tadaptive\t\t1000\t\t | nan\tnan\t346\n",
            "hinge\t0.007673698706254956\toptimal\t\t10\t\t | 0.45\t0.02\t97\n",
            "hinge\t0.007673698706254956\toptimal\t\t100\t\t | 0.46\t0.04\t66\n",
            "hinge\t0.007673698706254956\toptimal\t\t1000\t\t | 0.46\t0.04\t66\n",
            "log_loss\t0.007673698706254956\toptimal\t\t10\t\t | nan\tnan\t345\n",
            "log_loss\t0.007673698706254956\toptimal\t\t100\t\t | nan\tnan\t344\n",
            "log_loss\t0.007673698706254956\toptimal\t\t1000\t\t | nan\tnan\t343\n",
            "hinge\t0.007673698706254956\tadaptive\t\t10\t\t | 0.36\t0.03\t148\n",
            "hinge\t0.007673698706254956\tadaptive\t\t100\t\t | 0.34\t0.02\t201\n",
            "hinge\t0.007673698706254956\tadaptive\t\t1000\t\t | 0.34\t0.02\t201\n",
            "log_loss\t0.007673698706254956\tadaptive\t\t10\t\t | nan\tnan\t342\n",
            "log_loss\t0.007673698706254956\tadaptive\t\t100\t\t | nan\tnan\t359\n",
            "log_loss\t0.007673698706254956\tadaptive\t\t1000\t\t | nan\tnan\t399\n",
            "hinge\t0.007673698706254956\toptimal\t\t10\t\t | 0.45\t0.02\t97\n",
            "hinge\t0.007673698706254956\toptimal\t\t100\t\t | 0.46\t0.04\t66\n",
            "hinge\t0.007673698706254956\toptimal\t\t1000\t\t | 0.46\t0.04\t66\n",
            "log_loss\t0.007673698706254956\toptimal\t\t10\t\t | nan\tnan\t400\n",
            "log_loss\t0.007673698706254956\toptimal\t\t100\t\t | nan\tnan\t401\n",
            "log_loss\t0.007673698706254956\toptimal\t\t1000\t\t | nan\tnan\t457\n",
            "hinge\t0.007673698706254956\tadaptive\t\t10\t\t | 0.44\t0.03\t110\n",
            "hinge\t0.007673698706254956\tadaptive\t\t100\t\t | 0.46\t0.04\t79\n",
            "hinge\t0.007673698706254956\tadaptive\t\t1000\t\t | 0.46\t0.04\t79\n",
            "log_loss\t0.007673698706254956\tadaptive\t\t10\t\t | nan\tnan\t456\n",
            "log_loss\t0.007673698706254956\tadaptive\t\t100\t\t | nan\tnan\t455\n",
            "log_loss\t0.007673698706254956\tadaptive\t\t1000\t\t | nan\tnan\t454\n",
            "hinge\t0.007673698706254956\toptimal\t\t10\t\t | 0.45\t0.02\t97\n",
            "hinge\t0.007673698706254956\toptimal\t\t100\t\t | 0.46\t0.04\t66\n",
            "hinge\t0.007673698706254956\toptimal\t\t1000\t\t | 0.46\t0.04\t66\n",
            "log_loss\t0.007673698706254956\toptimal\t\t10\t\t | nan\tnan\t453\n",
            "log_loss\t0.007673698706254956\toptimal\t\t100\t\t | nan\tnan\t452\n",
            "log_loss\t0.007673698706254956\toptimal\t\t1000\t\t | nan\tnan\t451\n",
            "hinge\t0.007673698706254956\tadaptive\t\t10\t\t | 0.36\t0.03\t148\n",
            "hinge\t0.007673698706254956\tadaptive\t\t100\t\t | 0.36\t0.03\t148\n",
            "hinge\t0.007673698706254956\tadaptive\t\t1000\t\t | 0.36\t0.03\t148\n",
            "log_loss\t0.007673698706254956\tadaptive\t\t10\t\t | nan\tnan\t458\n",
            "log_loss\t0.007673698706254956\tadaptive\t\t100\t\t | nan\tnan\t450\n",
            "log_loss\t0.007673698706254956\tadaptive\t\t1000\t\t | nan\tnan\t448\n",
            "hinge\t0.007673698706254956\toptimal\t\t10\t\t | 0.45\t0.02\t97\n",
            "hinge\t0.007673698706254956\toptimal\t\t100\t\t | 0.46\t0.04\t66\n",
            "hinge\t0.007673698706254956\toptimal\t\t1000\t\t | 0.46\t0.04\t66\n",
            "log_loss\t0.007673698706254956\toptimal\t\t10\t\t | nan\tnan\t447\n",
            "log_loss\t0.007673698706254956\toptimal\t\t100\t\t | nan\tnan\t446\n",
            "log_loss\t0.007673698706254956\toptimal\t\t1000\t\t | nan\tnan\t445\n",
            "hinge\t0.007673698706254956\tadaptive\t\t10\t\t | 0.42\t0.04\t116\n",
            "hinge\t0.007673698706254956\tadaptive\t\t100\t\t | 0.45\t0.05\t101\n",
            "hinge\t0.007673698706254956\tadaptive\t\t1000\t\t | 0.45\t0.05\t101\n",
            "log_loss\t0.007673698706254956\tadaptive\t\t10\t\t | nan\tnan\t444\n",
            "log_loss\t0.007673698706254956\tadaptive\t\t100\t\t | nan\tnan\t443\n",
            "log_loss\t0.007673698706254956\tadaptive\t\t1000\t\t | nan\tnan\t442\n",
            "hinge\t0.3864785186730101\toptimal\t\t10\t\t | 0.12\t0.15\t217\n",
            "hinge\t0.3864785186730101\toptimal\t\t100\t\t | 0.12\t0.15\t217\n",
            "hinge\t0.3864785186730101\toptimal\t\t1000\t\t | 0.12\t0.15\t217\n",
            "log_loss\t0.3864785186730101\toptimal\t\t10\t\t | nan\tnan\t449\n",
            "log_loss\t0.3864785186730101\toptimal\t\t100\t\t | nan\tnan\t459\n",
            "log_loss\t0.3864785186730101\toptimal\t\t1000\t\t | nan\tnan\t460\n",
            "hinge\t0.3864785186730101\tadaptive\t\t10\t\t | 0.36\t0.03\t146\n",
            "hinge\t0.3864785186730101\tadaptive\t\t100\t\t | 0.36\t0.03\t131\n",
            "hinge\t0.3864785186730101\tadaptive\t\t1000\t\t | 0.36\t0.03\t131\n",
            "log_loss\t0.3864785186730101\tadaptive\t\t10\t\t | nan\tnan\t461\n",
            "log_loss\t0.3864785186730101\tadaptive\t\t100\t\t | nan\tnan\t478\n",
            "log_loss\t0.3864785186730101\tadaptive\t\t1000\t\t | nan\tnan\t477\n",
            "hinge\t0.3864785186730101\toptimal\t\t10\t\t | 0.12\t0.15\t217\n",
            "hinge\t0.3864785186730101\toptimal\t\t100\t\t | 0.12\t0.15\t217\n",
            "hinge\t0.3864785186730101\toptimal\t\t1000\t\t | 0.12\t0.15\t217\n",
            "log_loss\t0.3864785186730101\toptimal\t\t10\t\t | nan\tnan\t476\n",
            "log_loss\t0.3864785186730101\toptimal\t\t100\t\t | nan\tnan\t475\n",
            "log_loss\t0.3864785186730101\toptimal\t\t1000\t\t | nan\tnan\t474\n",
            "hinge\t0.3864785186730101\tadaptive\t\t10\t\t | 0.36\t0.05\t144\n",
            "hinge\t0.3864785186730101\tadaptive\t\t100\t\t | 0.36\t0.03\t181\n",
            "hinge\t0.3864785186730101\tadaptive\t\t1000\t\t | 0.36\t0.03\t181\n",
            "log_loss\t0.3864785186730101\tadaptive\t\t10\t\t | nan\tnan\t473\n",
            "log_loss\t0.3864785186730101\tadaptive\t\t100\t\t | nan\tnan\t472\n",
            "log_loss\t0.3864785186730101\tadaptive\t\t1000\t\t | nan\tnan\t471\n",
            "hinge\t0.3864785186730101\toptimal\t\t10\t\t | 0.12\t0.15\t217\n",
            "hinge\t0.3864785186730101\toptimal\t\t100\t\t | 0.12\t0.15\t217\n",
            "hinge\t0.3864785186730101\toptimal\t\t1000\t\t | 0.12\t0.15\t217\n",
            "log_loss\t0.3864785186730101\toptimal\t\t10\t\t | nan\tnan\t470\n",
            "log_loss\t0.3864785186730101\toptimal\t\t100\t\t | nan\tnan\t469\n",
            "log_loss\t0.3864785186730101\toptimal\t\t1000\t\t | nan\tnan\t468\n",
            "hinge\t0.3864785186730101\tadaptive\t\t10\t\t | 0.36\t0.03\t183\n",
            "hinge\t0.3864785186730101\tadaptive\t\t100\t\t | 0.36\t0.03\t183\n",
            "hinge\t0.3864785186730101\tadaptive\t\t1000\t\t | 0.36\t0.03\t183\n",
            "log_loss\t0.3864785186730101\tadaptive\t\t10\t\t | nan\tnan\t467\n",
            "log_loss\t0.3864785186730101\tadaptive\t\t100\t\t | nan\tnan\t466\n",
            "log_loss\t0.3864785186730101\tadaptive\t\t1000\t\t | nan\tnan\t465\n",
            "hinge\t0.3864785186730101\toptimal\t\t10\t\t | 0.12\t0.15\t217\n",
            "hinge\t0.3864785186730101\toptimal\t\t100\t\t | 0.12\t0.15\t217\n",
            "hinge\t0.3864785186730101\toptimal\t\t1000\t\t | 0.12\t0.15\t217\n",
            "log_loss\t0.3864785186730101\toptimal\t\t10\t\t | nan\tnan\t464\n",
            "log_loss\t0.3864785186730101\toptimal\t\t100\t\t | nan\tnan\t463\n",
            "log_loss\t0.3864785186730101\toptimal\t\t1000\t\t | nan\tnan\t462\n",
            "hinge\t0.3864785186730101\tadaptive\t\t10\t\t | 0.35\t0.04\t198\n",
            "hinge\t0.3864785186730101\tadaptive\t\t100\t\t | 0.36\t0.03\t142\n",
            "hinge\t0.3864785186730101\tadaptive\t\t1000\t\t | 0.36\t0.03\t142\n",
            "log_loss\t0.3864785186730101\tadaptive\t\t10\t\t | nan\tnan\t441\n",
            "log_loss\t0.3864785186730101\tadaptive\t\t100\t\t | nan\tnan\t440\n",
            "log_loss\t0.3864785186730101\tadaptive\t\t1000\t\t | nan\tnan\t320\n",
            "hinge\t0.3512927078211911\toptimal\t\t10\t\t | 0.12\t0.14\t229\n",
            "hinge\t0.3512927078211911\toptimal\t\t100\t\t | 0.12\t0.14\t229\n",
            "hinge\t0.3512927078211911\toptimal\t\t1000\t\t | 0.12\t0.14\t229\n",
            "log_loss\t0.3512927078211911\toptimal\t\t10\t\t | nan\tnan\t419\n",
            "log_loss\t0.3512927078211911\toptimal\t\t100\t\t | nan\tnan\t417\n",
            "log_loss\t0.3512927078211911\toptimal\t\t1000\t\t | nan\tnan\t416\n",
            "hinge\t0.3512927078211911\tadaptive\t\t10\t\t | 0.36\t0.03\t147\n",
            "hinge\t0.3512927078211911\tadaptive\t\t100\t\t | 0.36\t0.03\t131\n",
            "hinge\t0.3512927078211911\tadaptive\t\t1000\t\t | 0.36\t0.03\t131\n",
            "log_loss\t0.3512927078211911\tadaptive\t\t10\t\t | nan\tnan\t415\n",
            "log_loss\t0.3512927078211911\tadaptive\t\t100\t\t | nan\tnan\t414\n",
            "log_loss\t0.3512927078211911\tadaptive\t\t1000\t\t | nan\tnan\t413\n",
            "hinge\t0.3512927078211911\toptimal\t\t10\t\t | 0.12\t0.14\t229\n",
            "hinge\t0.3512927078211911\toptimal\t\t100\t\t | 0.12\t0.14\t229\n",
            "hinge\t0.3512927078211911\toptimal\t\t1000\t\t | 0.12\t0.14\t229\n",
            "log_loss\t0.3512927078211911\toptimal\t\t10\t\t | nan\tnan\t412\n",
            "log_loss\t0.3512927078211911\toptimal\t\t100\t\t | nan\tnan\t411\n",
            "log_loss\t0.3512927078211911\toptimal\t\t1000\t\t | nan\tnan\t418\n",
            "hinge\t0.3512927078211911\tadaptive\t\t10\t\t | 0.36\t0.05\t176\n",
            "hinge\t0.3512927078211911\tadaptive\t\t100\t\t | 0.36\t0.03\t194\n",
            "hinge\t0.3512927078211911\tadaptive\t\t1000\t\t | 0.36\t0.03\t194\n",
            "log_loss\t0.3512927078211911\tadaptive\t\t10\t\t | nan\tnan\t410\n",
            "log_loss\t0.3512927078211911\tadaptive\t\t100\t\t | nan\tnan\t408\n",
            "log_loss\t0.3512927078211911\tadaptive\t\t1000\t\t | nan\tnan\t407\n",
            "hinge\t0.3512927078211911\toptimal\t\t10\t\t | 0.12\t0.14\t229\n",
            "hinge\t0.3512927078211911\toptimal\t\t100\t\t | 0.12\t0.14\t229\n",
            "hinge\t0.3512927078211911\toptimal\t\t1000\t\t | 0.12\t0.14\t229\n",
            "log_loss\t0.3512927078211911\toptimal\t\t10\t\t | nan\tnan\t406\n",
            "log_loss\t0.3512927078211911\toptimal\t\t100\t\t | nan\tnan\t405\n",
            "log_loss\t0.3512927078211911\toptimal\t\t1000\t\t | nan\tnan\t404\n",
            "hinge\t0.3512927078211911\tadaptive\t\t10\t\t | 0.36\t0.03\t183\n",
            "hinge\t0.3512927078211911\tadaptive\t\t100\t\t | 0.36\t0.03\t183\n",
            "hinge\t0.3512927078211911\tadaptive\t\t1000\t\t | 0.36\t0.03\t183\n",
            "log_loss\t0.3512927078211911\tadaptive\t\t10\t\t | nan\tnan\t403\n",
            "log_loss\t0.3512927078211911\tadaptive\t\t100\t\t | nan\tnan\t402\n",
            "log_loss\t0.3512927078211911\tadaptive\t\t1000\t\t | nan\tnan\t409\n",
            "hinge\t0.3512927078211911\toptimal\t\t10\t\t | 0.12\t0.14\t229\n",
            "hinge\t0.3512927078211911\toptimal\t\t100\t\t | 0.12\t0.14\t229\n",
            "hinge\t0.3512927078211911\toptimal\t\t1000\t\t | 0.12\t0.14\t229\n",
            "log_loss\t0.3512927078211911\toptimal\t\t10\t\t | nan\tnan\t420\n",
            "log_loss\t0.3512927078211911\toptimal\t\t100\t\t | nan\tnan\t429\n",
            "log_loss\t0.3512927078211911\toptimal\t\t1000\t\t | nan\tnan\t421\n",
            "hinge\t0.3512927078211911\tadaptive\t\t10\t\t | 0.35\t0.03\t200\n",
            "hinge\t0.3512927078211911\tadaptive\t\t100\t\t | 0.36\t0.03\t140\n",
            "hinge\t0.3512927078211911\tadaptive\t\t1000\t\t | 0.36\t0.03\t140\n",
            "log_loss\t0.3512927078211911\tadaptive\t\t10\t\t | nan\tnan\t437\n",
            "log_loss\t0.3512927078211911\tadaptive\t\t100\t\t | nan\tnan\t436\n",
            "log_loss\t0.3512927078211911\tadaptive\t\t1000\t\t | nan\tnan\t435\n",
            "hinge\t0.45337066890814215\toptimal\t\t10\t\t | 0.12\t0.15\t205\n",
            "hinge\t0.45337066890814215\toptimal\t\t100\t\t | 0.12\t0.15\t205\n",
            "hinge\t0.45337066890814215\toptimal\t\t1000\t\t | 0.12\t0.15\t205\n",
            "log_loss\t0.45337066890814215\toptimal\t\t10\t\t | nan\tnan\t434\n",
            "log_loss\t0.45337066890814215\toptimal\t\t100\t\t | nan\tnan\t433\n",
            "log_loss\t0.45337066890814215\toptimal\t\t1000\t\t | nan\tnan\t432\n",
            "hinge\t0.45337066890814215\tadaptive\t\t10\t\t | 0.36\t0.03\t180\n",
            "hinge\t0.45337066890814215\tadaptive\t\t100\t\t | 0.36\t0.03\t135\n",
            "hinge\t0.45337066890814215\tadaptive\t\t1000\t\t | 0.36\t0.03\t135\n",
            "log_loss\t0.45337066890814215\tadaptive\t\t10\t\t | nan\tnan\t431\n",
            "log_loss\t0.45337066890814215\tadaptive\t\t100\t\t | nan\tnan\t438\n",
            "log_loss\t0.45337066890814215\tadaptive\t\t1000\t\t | nan\tnan\t430\n",
            "hinge\t0.45337066890814215\toptimal\t\t10\t\t | 0.12\t0.15\t205\n",
            "hinge\t0.45337066890814215\toptimal\t\t100\t\t | 0.12\t0.15\t205\n",
            "hinge\t0.45337066890814215\toptimal\t\t1000\t\t | 0.12\t0.15\t205\n",
            "log_loss\t0.45337066890814215\toptimal\t\t10\t\t | nan\tnan\t428\n",
            "log_loss\t0.45337066890814215\toptimal\t\t100\t\t | nan\tnan\t427\n",
            "log_loss\t0.45337066890814215\toptimal\t\t1000\t\t | nan\tnan\t426\n",
            "hinge\t0.45337066890814215\tadaptive\t\t10\t\t | 0.36\t0.05\t179\n",
            "hinge\t0.45337066890814215\tadaptive\t\t100\t\t | 0.36\t0.03\t192\n",
            "hinge\t0.45337066890814215\tadaptive\t\t1000\t\t | 0.36\t0.03\t192\n",
            "log_loss\t0.45337066890814215\tadaptive\t\t10\t\t | nan\tnan\t425\n",
            "log_loss\t0.45337066890814215\tadaptive\t\t100\t\t | nan\tnan\t424\n",
            "log_loss\t0.45337066890814215\tadaptive\t\t1000\t\t | nan\tnan\t423\n",
            "hinge\t0.45337066890814215\toptimal\t\t10\t\t | 0.12\t0.15\t205\n",
            "hinge\t0.45337066890814215\toptimal\t\t100\t\t | 0.12\t0.15\t205\n",
            "hinge\t0.45337066890814215\toptimal\t\t1000\t\t | 0.12\t0.15\t205\n",
            "log_loss\t0.45337066890814215\toptimal\t\t10\t\t | nan\tnan\t422\n",
            "log_loss\t0.45337066890814215\toptimal\t\t100\t\t | nan\tnan\t321\n",
            "log_loss\t0.45337066890814215\toptimal\t\t1000\t\t | nan\tnan\t479\n",
            "hinge\t0.45337066890814215\tadaptive\t\t10\t\t | 0.36\t0.03\t191\n",
            "hinge\t0.45337066890814215\tadaptive\t\t100\t\t | 0.36\t0.03\t183\n",
            "hinge\t0.45337066890814215\tadaptive\t\t1000\t\t | 0.36\t0.03\t183\n",
            "log_loss\t0.45337066890814215\tadaptive\t\t10\t\t | nan\tnan\t243\n",
            "log_loss\t0.45337066890814215\tadaptive\t\t100\t\t | nan\tnan\t247\n",
            "log_loss\t0.45337066890814215\tadaptive\t\t1000\t\t | nan\tnan\t248\n",
            "hinge\t0.45337066890814215\toptimal\t\t10\t\t | 0.12\t0.15\t205\n",
            "hinge\t0.45337066890814215\toptimal\t\t100\t\t | 0.12\t0.15\t205\n",
            "hinge\t0.45337066890814215\toptimal\t\t1000\t\t | 0.12\t0.15\t205\n",
            "log_loss\t0.45337066890814215\toptimal\t\t10\t\t | nan\tnan\t251\n",
            "log_loss\t0.45337066890814215\toptimal\t\t100\t\t | nan\tnan\t254\n",
            "log_loss\t0.45337066890814215\toptimal\t\t1000\t\t | nan\tnan\t255\n",
            "hinge\t0.45337066890814215\tadaptive\t\t10\t\t | 0.35\t0.04\t199\n",
            "hinge\t0.45337066890814215\tadaptive\t\t100\t\t | 0.36\t0.03\t177\n",
            "hinge\t0.45337066890814215\tadaptive\t\t1000\t\t | 0.36\t0.03\t177\n",
            "log_loss\t0.45337066890814215\tadaptive\t\t10\t\t | nan\tnan\t264\n",
            "log_loss\t0.45337066890814215\tadaptive\t\t100\t\t | nan\tnan\t265\n",
            "log_loss\t0.45337066890814215\tadaptive\t\t1000\t\t | nan\tnan\t266\n",
            "hinge\t0.001270003186425294\toptimal\t\t10\t\t | 0.46\t0.06\t62\n",
            "hinge\t0.001270003186425294\toptimal\t\t100\t\t | 0.51\t0.06\t1\n",
            "hinge\t0.001270003186425294\toptimal\t\t1000\t\t | 0.51\t0.06\t1\n",
            "log_loss\t0.001270003186425294\toptimal\t\t10\t\t | nan\tnan\t260\n",
            "log_loss\t0.001270003186425294\toptimal\t\t100\t\t | nan\tnan\t253\n",
            "log_loss\t0.001270003186425294\toptimal\t\t1000\t\t | nan\tnan\t252\n",
            "hinge\t0.001270003186425294\tadaptive\t\t10\t\t | 0.36\t0.03\t148\n",
            "hinge\t0.001270003186425294\tadaptive\t\t100\t\t | 0.36\t0.03\t137\n",
            "hinge\t0.001270003186425294\tadaptive\t\t1000\t\t | 0.37\t0.04\t127\n",
            "log_loss\t0.001270003186425294\tadaptive\t\t10\t\t | nan\tnan\t306\n",
            "log_loss\t0.001270003186425294\tadaptive\t\t100\t\t | nan\tnan\t270\n",
            "log_loss\t0.001270003186425294\tadaptive\t\t1000\t\t | nan\tnan\t296\n",
            "hinge\t0.001270003186425294\toptimal\t\t10\t\t | 0.46\t0.06\t62\n",
            "hinge\t0.001270003186425294\toptimal\t\t100\t\t | 0.51\t0.06\t1\n",
            "hinge\t0.001270003186425294\toptimal\t\t1000\t\t | 0.51\t0.06\t1\n",
            "log_loss\t0.001270003186425294\toptimal\t\t10\t\t | nan\tnan\t300\n",
            "log_loss\t0.001270003186425294\toptimal\t\t100\t\t | nan\tnan\t302\n",
            "log_loss\t0.001270003186425294\toptimal\t\t1000\t\t | nan\tnan\t303\n",
            "hinge\t0.001270003186425294\tadaptive\t\t10\t\t | 0.46\t0.02\t83\n",
            "hinge\t0.001270003186425294\tadaptive\t\t100\t\t | 0.50\t0.02\t27\n",
            "hinge\t0.001270003186425294\tadaptive\t\t1000\t\t | 0.50\t0.02\t27\n",
            "log_loss\t0.001270003186425294\tadaptive\t\t10\t\t | nan\tnan\t309\n",
            "log_loss\t0.001270003186425294\tadaptive\t\t100\t\t | nan\tnan\t310\n",
            "log_loss\t0.001270003186425294\tadaptive\t\t1000\t\t | nan\tnan\t311\n",
            "hinge\t0.001270003186425294\toptimal\t\t10\t\t | 0.46\t0.06\t62\n",
            "hinge\t0.001270003186425294\toptimal\t\t100\t\t | 0.51\t0.06\t1\n",
            "hinge\t0.001270003186425294\toptimal\t\t1000\t\t | 0.51\t0.06\t1\n",
            "log_loss\t0.001270003186425294\toptimal\t\t10\t\t | nan\tnan\t317\n",
            "log_loss\t0.001270003186425294\toptimal\t\t100\t\t | nan\tnan\t295\n",
            "log_loss\t0.001270003186425294\toptimal\t\t1000\t\t | nan\tnan\t294\n",
            "hinge\t0.001270003186425294\tadaptive\t\t10\t\t | 0.36\t0.03\t148\n",
            "hinge\t0.001270003186425294\tadaptive\t\t100\t\t | 0.36\t0.03\t148\n",
            "hinge\t0.001270003186425294\tadaptive\t\t1000\t\t | 0.36\t0.03\t148\n",
            "log_loss\t0.001270003186425294\tadaptive\t\t10\t\t | nan\tnan\t275\n",
            "log_loss\t0.001270003186425294\tadaptive\t\t100\t\t | nan\tnan\t276\n",
            "log_loss\t0.001270003186425294\tadaptive\t\t1000\t\t | nan\tnan\t277\n",
            "hinge\t0.001270003186425294\toptimal\t\t10\t\t | 0.46\t0.06\t62\n",
            "hinge\t0.001270003186425294\toptimal\t\t100\t\t | 0.51\t0.06\t1\n",
            "hinge\t0.001270003186425294\toptimal\t\t1000\t\t | 0.51\t0.06\t1\n",
            "log_loss\t0.001270003186425294\toptimal\t\t10\t\t | nan\tnan\t282\n",
            "log_loss\t0.001270003186425294\toptimal\t\t100\t\t | nan\tnan\t283\n",
            "log_loss\t0.001270003186425294\toptimal\t\t1000\t\t | nan\tnan\t284\n",
            "hinge\t0.001270003186425294\tadaptive\t\t10\t\t | 0.44\t0.01\t109\n",
            "hinge\t0.001270003186425294\tadaptive\t\t100\t\t | 0.47\t0.05\t45\n",
            "hinge\t0.001270003186425294\tadaptive\t\t1000\t\t | 0.47\t0.05\t45\n",
            "log_loss\t0.001270003186425294\tadaptive\t\t10\t\t | nan\tnan\t291\n",
            "log_loss\t0.001270003186425294\tadaptive\t\t100\t\t | nan\tnan\t269\n",
            "log_loss\t0.001270003186425294\tadaptive\t\t1000\t\t | nan\tnan\t301\n",
            "hinge\t0.00016260330735745125\toptimal\t\t10\t\t | 0.39\t0.08\t123\n",
            "hinge\t0.00016260330735745125\toptimal\t\t100\t\t | 0.49\t0.05\t33\n",
            "hinge\t0.00016260330735745125\toptimal\t\t1000\t\t | 0.49\t0.05\t33\n",
            "log_loss\t0.00016260330735745125\toptimal\t\t10\t\t | nan\tnan\t290\n",
            "log_loss\t0.00016260330735745125\toptimal\t\t100\t\t | nan\tnan\t289\n",
            "log_loss\t0.00016260330735745125\toptimal\t\t1000\t\t | nan\tnan\t288\n",
            "hinge\t0.00016260330735745125\tadaptive\t\t10\t\t | 0.36\t0.03\t148\n",
            "hinge\t0.00016260330735745125\tadaptive\t\t100\t\t | 0.36\t0.03\t145\n",
            "hinge\t0.00016260330735745125\tadaptive\t\t1000\t\t | 0.36\t0.04\t130\n",
            "log_loss\t0.00016260330735745125\tadaptive\t\t10\t\t | nan\tnan\t287\n",
            "log_loss\t0.00016260330735745125\tadaptive\t\t100\t\t | nan\tnan\t286\n",
            "log_loss\t0.00016260330735745125\tadaptive\t\t1000\t\t | nan\tnan\t285\n",
            "hinge\t0.00016260330735745125\toptimal\t\t10\t\t | 0.39\t0.08\t123\n",
            "hinge\t0.00016260330735745125\toptimal\t\t100\t\t | 0.49\t0.05\t33\n",
            "hinge\t0.00016260330735745125\toptimal\t\t1000\t\t | 0.49\t0.05\t33\n",
            "log_loss\t0.00016260330735745125\toptimal\t\t10\t\t | nan\tnan\t319\n",
            "log_loss\t0.00016260330735745125\toptimal\t\t100\t\t | nan\tnan\t281\n",
            "log_loss\t0.00016260330735745125\toptimal\t\t1000\t\t | nan\tnan\t280\n",
            "hinge\t0.00016260330735745125\tadaptive\t\t10\t\t | 0.47\t0.03\t44\n",
            "hinge\t0.00016260330735745125\tadaptive\t\t100\t\t | 0.50\t0.04\t25\n",
            "hinge\t0.00016260330735745125\tadaptive\t\t1000\t\t | 0.50\t0.04\t25\n",
            "log_loss\t0.00016260330735745125\tadaptive\t\t10\t\t | nan\tnan\t279\n",
            "log_loss\t0.00016260330735745125\tadaptive\t\t100\t\t | nan\tnan\t278\n",
            "log_loss\t0.00016260330735745125\tadaptive\t\t1000\t\t | nan\tnan\t274\n",
            "hinge\t0.00016260330735745125\toptimal\t\t10\t\t | 0.39\t0.08\t123\n",
            "hinge\t0.00016260330735745125\toptimal\t\t100\t\t | 0.49\t0.05\t33\n",
            "hinge\t0.00016260330735745125\toptimal\t\t1000\t\t | 0.49\t0.05\t33\n",
            "log_loss\t0.00016260330735745125\toptimal\t\t10\t\t | nan\tnan\t273\n",
            "log_loss\t0.00016260330735745125\toptimal\t\t100\t\t | nan\tnan\t272\n",
            "log_loss\t0.00016260330735745125\toptimal\t\t1000\t\t | nan\tnan\t271\n",
            "hinge\t0.00016260330735745125\tadaptive\t\t10\t\t | 0.36\t0.03\t148\n",
            "hinge\t0.00016260330735745125\tadaptive\t\t100\t\t | 0.36\t0.03\t148\n",
            "hinge\t0.00016260330735745125\tadaptive\t\t1000\t\t | 0.36\t0.03\t148\n",
            "log_loss\t0.00016260330735745125\tadaptive\t\t10\t\t | nan\tnan\t292\n",
            "log_loss\t0.00016260330735745125\tadaptive\t\t100\t\t | nan\tnan\t293\n",
            "log_loss\t0.00016260330735745125\tadaptive\t\t1000\t\t | nan\tnan\t316\n",
            "hinge\t0.00016260330735745125\toptimal\t\t10\t\t | 0.39\t0.08\t123\n",
            "hinge\t0.00016260330735745125\toptimal\t\t100\t\t | 0.49\t0.05\t33\n",
            "hinge\t0.00016260330735745125\toptimal\t\t1000\t\t | 0.49\t0.05\t33\n",
            "log_loss\t0.00016260330735745125\toptimal\t\t10\t\t | nan\tnan\t315\n",
            "log_loss\t0.00016260330735745125\toptimal\t\t100\t\t | nan\tnan\t314\n",
            "log_loss\t0.00016260330735745125\toptimal\t\t1000\t\t | nan\tnan\t313\n",
            "hinge\t0.00016260330735745125\tadaptive\t\t10\t\t | 0.45\t0.02\t92\n",
            "hinge\t0.00016260330735745125\tadaptive\t\t100\t\t | 0.48\t0.04\t41\n",
            "hinge\t0.00016260330735745125\tadaptive\t\t1000\t\t | 0.48\t0.04\t41\n",
            "log_loss\t0.00016260330735745125\tadaptive\t\t10\t\t | nan\tnan\t312\n",
            "log_loss\t0.00016260330735745125\tadaptive\t\t100\t\t | nan\tnan\t308\n",
            "log_loss\t0.00016260330735745125\tadaptive\t\t1000\t\t | nan\tnan\t318\n",
            "hinge\t0.009640440167376635\toptimal\t\t10\t\t | 0.41\t0.05\t118\n",
            "hinge\t0.009640440167376635\toptimal\t\t100\t\t | 0.45\t0.04\t84\n",
            "hinge\t0.009640440167376635\toptimal\t\t1000\t\t | 0.45\t0.04\t84\n",
            "log_loss\t0.009640440167376635\toptimal\t\t10\t\t | nan\tnan\t307\n",
            "log_loss\t0.009640440167376635\toptimal\t\t100\t\t | nan\tnan\t305\n",
            "log_loss\t0.009640440167376635\toptimal\t\t1000\t\t | nan\tnan\t304\n",
            "hinge\t0.009640440167376635\tadaptive\t\t10\t\t | 0.36\t0.03\t148\n",
            "hinge\t0.009640440167376635\tadaptive\t\t100\t\t | 0.34\t0.02\t203\n",
            "hinge\t0.009640440167376635\tadaptive\t\t1000\t\t | 0.34\t0.02\t203\n",
            "log_loss\t0.009640440167376635\tadaptive\t\t10\t\t | nan\tnan\t299\n",
            "log_loss\t0.009640440167376635\tadaptive\t\t100\t\t | nan\tnan\t298\n",
            "log_loss\t0.009640440167376635\tadaptive\t\t1000\t\t | nan\tnan\t297\n",
            "hinge\t0.009640440167376635\toptimal\t\t10\t\t | 0.41\t0.05\t118\n",
            "hinge\t0.009640440167376635\toptimal\t\t100\t\t | 0.45\t0.04\t84\n",
            "hinge\t0.009640440167376635\toptimal\t\t1000\t\t | 0.45\t0.04\t84\n",
            "log_loss\t0.009640440167376635\toptimal\t\t10\t\t | nan\tnan\t268\n",
            "log_loss\t0.009640440167376635\toptimal\t\t100\t\t | nan\tnan\t244\n",
            "log_loss\t0.009640440167376635\toptimal\t\t1000\t\t | nan\tnan\t245\n",
            "hinge\t0.009640440167376635\tadaptive\t\t10\t\t | 0.41\t0.05\t122\n",
            "hinge\t0.009640440167376635\tadaptive\t\t100\t\t | 0.44\t0.03\t111\n",
            "hinge\t0.009640440167376635\tadaptive\t\t1000\t\t | 0.44\t0.03\t111\n",
            "log_loss\t0.009640440167376635\tadaptive\t\t10\t\t | nan\tnan\t246\n",
            "log_loss\t0.009640440167376635\tadaptive\t\t100\t\t | nan\tnan\t249\n",
            "log_loss\t0.009640440167376635\tadaptive\t\t1000\t\t | nan\tnan\t250\n",
            "hinge\t0.009640440167376635\toptimal\t\t10\t\t | 0.41\t0.05\t118\n",
            "hinge\t0.009640440167376635\toptimal\t\t100\t\t | 0.45\t0.04\t84\n",
            "hinge\t0.009640440167376635\toptimal\t\t1000\t\t | 0.45\t0.04\t84\n",
            "log_loss\t0.009640440167376635\toptimal\t\t10\t\t | nan\tnan\t261\n",
            "log_loss\t0.009640440167376635\toptimal\t\t100\t\t | nan\tnan\t262\n",
            "log_loss\t0.009640440167376635\toptimal\t\t1000\t\t | nan\tnan\t263\n",
            "hinge\t0.009640440167376635\tadaptive\t\t10\t\t | 0.36\t0.03\t148\n",
            "hinge\t0.009640440167376635\tadaptive\t\t100\t\t | 0.36\t0.03\t148\n",
            "hinge\t0.009640440167376635\tadaptive\t\t1000\t\t | 0.36\t0.03\t148\n",
            "log_loss\t0.009640440167376635\tadaptive\t\t10\t\t | nan\tnan\t241\n",
            "log_loss\t0.009640440167376635\tadaptive\t\t100\t\t | nan\tnan\t267\n",
            "log_loss\t0.009640440167376635\tadaptive\t\t1000\t\t | nan\tnan\t259\n",
            "hinge\t0.009640440167376635\toptimal\t\t10\t\t | 0.41\t0.05\t118\n",
            "hinge\t0.009640440167376635\toptimal\t\t100\t\t | 0.45\t0.04\t84\n",
            "hinge\t0.009640440167376635\toptimal\t\t1000\t\t | 0.45\t0.04\t84\n",
            "log_loss\t0.009640440167376635\toptimal\t\t10\t\t | nan\tnan\t258\n",
            "log_loss\t0.009640440167376635\toptimal\t\t100\t\t | nan\tnan\t257\n",
            "log_loss\t0.009640440167376635\toptimal\t\t1000\t\t | nan\tnan\t256\n",
            "hinge\t0.009640440167376635\tadaptive\t\t10\t\t | 0.42\t0.04\t117\n",
            "hinge\t0.009640440167376635\tadaptive\t\t100\t\t | 0.43\t0.02\t114\n",
            "hinge\t0.009640440167376635\tadaptive\t\t1000\t\t | 0.43\t0.02\t114\n",
            "log_loss\t0.009640440167376635\tadaptive\t\t10\t\t | nan\tnan\t242\n",
            "log_loss\t0.009640440167376635\tadaptive\t\t100\t\t | nan\tnan\t439\n",
            "log_loss\t0.009640440167376635\tadaptive\t\t1000\t\t | nan\tnan\t480\n"
          ]
        }
      ]
    },
    {
      "cell_type": "code",
      "source": [
        "best_model_b1 = cv.best_estimator_\n",
        "best_model_b1"
      ],
      "metadata": {
        "colab": {
          "base_uri": "https://localhost:8080/"
        },
        "id": "K_fMAePOtVYt",
        "outputId": "0799e685-cde7-4b2a-dcd3-14d7fa786b76"
      },
      "execution_count": 22,
      "outputs": [
        {
          "output_type": "execute_result",
          "data": {
            "text/plain": [
              "SGDClassifier(alpha=0.001270003186425294, class_weight='balanced', eta0=0.001,\n",
              "              max_iter=100, random_state=123)"
            ]
          },
          "metadata": {},
          "execution_count": 22
        }
      ]
    },
    {
      "cell_type": "code",
      "source": [
        "best_model_b1.fit(X_train,y_train)"
      ],
      "metadata": {
        "colab": {
          "base_uri": "https://localhost:8080/"
        },
        "id": "cccpTkritXs5",
        "outputId": "92099966-2119-413e-90c6-325a1f545749"
      },
      "execution_count": 23,
      "outputs": [
        {
          "output_type": "execute_result",
          "data": {
            "text/plain": [
              "SGDClassifier(alpha=0.001270003186425294, class_weight='balanced', eta0=0.001,\n",
              "              max_iter=100, random_state=123)"
            ]
          },
          "metadata": {},
          "execution_count": 23
        }
      ]
    },
    {
      "cell_type": "code",
      "source": [
        "y_pred_train_b = best_model_b1.predict(X_train)"
      ],
      "metadata": {
        "id": "cAKZIq2vtadi"
      },
      "execution_count": 24,
      "outputs": []
    },
    {
      "cell_type": "code",
      "source": [
        "print(\"Matriz de Confusión para test y pred\\n\")\n",
        "confusion_matrix(y_train, y_pred_train_b)"
      ],
      "metadata": {
        "colab": {
          "base_uri": "https://localhost:8080/"
        },
        "id": "H-QFzv2ytceN",
        "outputId": "54c61280-2c64-440c-c711-e9e9e412e57b"
      },
      "execution_count": 25,
      "outputs": [
        {
          "output_type": "stream",
          "name": "stdout",
          "text": [
            "Matriz de Confusión para test y pred\n",
            "\n"
          ]
        },
        {
          "output_type": "execute_result",
          "data": {
            "text/plain": [
              "array([[1120,  112],\n",
              "       [ 121,  130]])"
            ]
          },
          "metadata": {},
          "execution_count": 25
        }
      ]
    },
    {
      "cell_type": "code",
      "source": [
        "ConfusionMatrixDisplay.from_predictions(y_train, y_pred_train_b)\n",
        "plt.show()"
      ],
      "metadata": {
        "colab": {
          "base_uri": "https://localhost:8080/",
          "height": 279
        },
        "id": "xPIeUfLwteVs",
        "outputId": "5acbc3c5-ef0e-4538-b32e-4993505b9c0b"
      },
      "execution_count": 26,
      "outputs": [
        {
          "output_type": "display_data",
          "data": {
            "text/plain": [
              "<Figure size 432x288 with 2 Axes>"
            ],
            "image/png": "[encoded data removed]"
          },
          "metadata": {
            "needs_background": "light"
          }
        }
      ]
    },
    {
      "cell_type": "markdown",
      "source": [
        "\n",
        "\n",
        "> **Métricas para conjunto de entrenamiento luego de haber encontrado los mejores parámetros**\n",
        "\n"
      ],
      "metadata": {
        "id": "eHwSe_UdlJUs"
      }
    },
    {
      "cell_type": "code",
      "source": [
        "print(\"NUEVAS MÉTRICAS PARA CONJUNTO DE ENTRENAMIENTO\\n\")\n",
        "print(\"Accuracy:\",round(accuracy_score(y_train, y_pred_train_b),2)) # aplico round\n",
        "print(\"Precision:\",round(precision_score(y_train,y_pred_train_b),2))\n",
        "print(\"Recall:\",round(recall_score(y_train, y_pred_train_b),2))\n",
        "print(\"F1:\",round(f1_score(y_train, y_pred_train_b),2))"
      ],
      "metadata": {
        "colab": {
          "base_uri": "https://localhost:8080/"
        },
        "id": "iwa_YETJtgsK",
        "outputId": "760e1231-d948-4561-8c91-40504138787a"
      },
      "execution_count": 27,
      "outputs": [
        {
          "output_type": "stream",
          "name": "stdout",
          "text": [
            "NUEVAS MÉTRICAS PARA CONJUNTO DE ENTRENAMIENTO\n",
            "\n",
            "Accuracy: 0.84\n",
            "Precision: 0.54\n",
            "Recall: 0.52\n",
            "F1: 0.53\n"
          ]
        }
      ]
    },
    {
      "cell_type": "markdown",
      "source": [
        "### Mejor modelo con datos de Test"
      ],
      "metadata": {
        "id": "uTJcDQyJOz5X"
      }
    },
    {
      "cell_type": "code",
      "source": [
        "y_test_pred = best_model_b1.predict(X_test)"
      ],
      "metadata": {
        "id": "BNu4jSE6O6Ld"
      },
      "execution_count": 28,
      "outputs": []
    },
    {
      "cell_type": "markdown",
      "source": [
        "borrador:\n",
        "antes daba [282,31 - 27,31]"
      ],
      "metadata": {
        "id": "9QN6VlvTmJT4"
      }
    },
    {
      "cell_type": "code",
      "source": [
        "print(\"Matriz de Confusión para test y pred\\n\")\n",
        "confusion_matrix(y_test, y_test_pred)"
      ],
      "metadata": {
        "colab": {
          "base_uri": "https://localhost:8080/"
        },
        "id": "2c_4ELoPPDCr",
        "outputId": "bafd1ee9-cf69-4de6-f761-fba855577ec1"
      },
      "execution_count": 29,
      "outputs": [
        {
          "output_type": "stream",
          "name": "stdout",
          "text": [
            "Matriz de Confusión para test y pred\n",
            "\n"
          ]
        },
        {
          "output_type": "execute_result",
          "data": {
            "text/plain": [
              "array([[288,  25],\n",
              "       [ 28,  30]])"
            ]
          },
          "metadata": {},
          "execution_count": 29
        }
      ]
    },
    {
      "cell_type": "code",
      "source": [
        "ConfusionMatrixDisplay.from_predictions(y_test, y_test_pred)\n",
        "plt.show()"
      ],
      "metadata": {
        "colab": {
          "base_uri": "https://localhost:8080/",
          "height": 279
        },
        "id": "_CuDE2tUPMTo",
        "outputId": "1031c1d3-de85-478e-d00f-bb196a242b32"
      },
      "execution_count": 30,
      "outputs": [
        {
          "output_type": "display_data",
          "data": {
            "text/plain": [
              "<Figure size 432x288 with 2 Axes>"
            ],
            "image/png": "[encoded data removed]"
          },
          "metadata": {
            "needs_background": "light"
          }
        }
      ]
    },
    {
      "cell_type": "markdown",
      "source": [
        "\n",
        "\n",
        "> **Conjunto de TEST**\n",
        "\n"
      ],
      "metadata": {
        "id": "qGXew-VXnEaQ"
      }
    },
    {
      "cell_type": "code",
      "source": [
        "print(\"MÉTRICAS PARA CONJUNTO DE TEST\\n\")\n",
        "print(\"Accuracy:\",round(accuracy_score(y_test, y_test_pred),2))\n",
        "print(\"Precision:\",round(precision_score(y_test, y_test_pred),2))\n",
        "print(\"Recall: \",round(recall_score(y_test, y_test_pred),2))\n",
        "print(\"F1: \",round(f1_score(y_test, y_test_pred),2))"
      ],
      "metadata": {
        "colab": {
          "base_uri": "https://localhost:8080/"
        },
        "outputId": "c493ca8c-a094-492f-a365-25d999923bff",
        "id": "yzjs2TpEPYHB"
      },
      "execution_count": 31,
      "outputs": [
        {
          "output_type": "stream",
          "name": "stdout",
          "text": [
            "MÉTRICAS PARA CONJUNTO DE TEST\n",
            "\n",
            "Accuracy: 0.86\n",
            "Precision: 0.55\n",
            "Recall:  0.52\n",
            "F1:  0.53\n"
          ]
        }
      ]
    },
    {
      "cell_type": "markdown",
      "metadata": {
        "id": "ZUWa9XMNpMs4"
      },
      "source": [
        "# Ejercicio 3: Árboles de Decisión\n",
        "\n",
        "En este ejercicio se entrenarán árboles de decisión para predecir la variable objetivo.\n",
        "\n",
        "Para ello, deberán utilizar la clase DecisionTreeClassifier de scikit-learn.\n",
        "\n",
        "Documentación:\n",
        "- https://scikit-learn.org/stable/modules/tree.html\n",
        "  - https://scikit-learn.org/stable/modules/tree.html#tips-on-practical-use\n",
        "- https://scikit-learn.org/stable/modules/generated/sklearn.tree.DecisionTreeClassifier.html\n",
        "- https://scikit-learn.org/stable/auto_examples/tree/plot_unveil_tree_structure.html"
      ]
    },
    {
      "cell_type": "markdown",
      "metadata": {
        "id": "EFigi0hJpMs4"
      },
      "source": [
        "### Ejercicio 3.1: DecisionTreeClassifier con hiperparámetros por defecto\n",
        "\n",
        "Entrenar y evaluar el clasificador DecisionTreeClassifier usando los valores por omisión de scikit-learn para todos los parámetros. Únicamente **fijar la semilla aleatoria** para hacer repetible el experimento.\n",
        "\n",
        "Evaluar sobre el conjunto de **entrenamiento** y sobre el conjunto de **evaluación**, reportando:\n",
        "- Accuracy\n",
        "- Precision\n",
        "- Recall\n",
        "- F1\n",
        "- matriz de confusión\n"
      ]
    },
    {
      "cell_type": "code",
      "source": [
        "from sklearn.tree import DecisionTreeClassifier\n",
        "clf = DecisionTreeClassifier(random_state=123)\n",
        "clf.fit(X_train, y_train)"
      ],
      "metadata": {
        "colab": {
          "base_uri": "https://localhost:8080/"
        },
        "id": "mh_GFCm7RPnK",
        "outputId": "6bca1603-142c-4773-813a-42bf8f21ff53"
      },
      "execution_count": 32,
      "outputs": [
        {
          "output_type": "execute_result",
          "data": {
            "text/plain": [
              "DecisionTreeClassifier(random_state=123)"
            ]
          },
          "metadata": {},
          "execution_count": 32
        }
      ]
    },
    {
      "cell_type": "code",
      "source": [
        "#Profundidad del arbol\n",
        "clf.get_depth()"
      ],
      "metadata": {
        "colab": {
          "base_uri": "https://localhost:8080/"
        },
        "id": "FkO76JODVp5H",
        "outputId": "74defb90-5a7c-4455-9444-a56fefd8ee20"
      },
      "execution_count": 33,
      "outputs": [
        {
          "output_type": "execute_result",
          "data": {
            "text/plain": [
              "22"
            ]
          },
          "metadata": {},
          "execution_count": 33
        }
      ]
    },
    {
      "cell_type": "code",
      "source": [
        "y_train_pred_tc = clf.predict(X_train)"
      ],
      "metadata": {
        "id": "SuTyXeKLRTFF"
      },
      "execution_count": 34,
      "outputs": []
    },
    {
      "cell_type": "code",
      "source": [
        "print(\"Matriz de Confusión para test y pred\\n\")\n",
        "confusion_matrix(y_train, y_train_pred_tc)"
      ],
      "metadata": {
        "colab": {
          "base_uri": "https://localhost:8080/"
        },
        "id": "hfZjcUPFS0U-",
        "outputId": "ff68a33f-3c9b-4691-f450-8b118e279d78"
      },
      "execution_count": 35,
      "outputs": [
        {
          "output_type": "stream",
          "name": "stdout",
          "text": [
            "Matriz de Confusión para test y pred\n",
            "\n"
          ]
        },
        {
          "output_type": "execute_result",
          "data": {
            "text/plain": [
              "array([[1232,    0],\n",
              "       [   0,  251]])"
            ]
          },
          "metadata": {},
          "execution_count": 35
        }
      ]
    },
    {
      "cell_type": "code",
      "source": [
        "ConfusionMatrixDisplay.from_predictions(y_train, y_train_pred_tc)\n",
        "plt.show()"
      ],
      "metadata": {
        "colab": {
          "base_uri": "https://localhost:8080/",
          "height": 279
        },
        "id": "NWurZULoS21Q",
        "outputId": "cce7b200-5611-4d97-d77f-225f79d4c696"
      },
      "execution_count": 36,
      "outputs": [
        {
          "output_type": "display_data",
          "data": {
            "text/plain": [
              "<Figure size 432x288 with 2 Axes>"
            ],
            "image/png": "[encoded data removed]"
          },
          "metadata": {
            "needs_background": "light"
          }
        }
      ]
    },
    {
      "cell_type": "markdown",
      "source": [
        "\n",
        "\n",
        "> Métricas conjunto de entrenamiento con parámetros por defecto\n",
        "\n"
      ],
      "metadata": {
        "id": "Y1xo_G2qoLT6"
      }
    },
    {
      "cell_type": "code",
      "source": [
        "train_acc = accuracy_score(y_train, y_train_pred_tc)\n",
        "train_prec = precision_score(y_train, y_train_pred_tc)\n",
        "train_rec = recall_score(y_train, y_train_pred_tc)\n",
        "train_f1 = f1_score(y_train, y_train_pred_tc)"
      ],
      "metadata": {
        "id": "IXpv2tp-nwUe"
      },
      "execution_count": 37,
      "outputs": []
    },
    {
      "cell_type": "code",
      "source": [
        "print(\"Accuracy:\",train_acc)\n",
        "print(\"Precision:\",train_prec)\n",
        "print(\"Recall:\",train_rec)\n",
        "print(\"F1:\",train_f1)"
      ],
      "metadata": {
        "colab": {
          "base_uri": "https://localhost:8080/"
        },
        "id": "hwbH-crI5WXB",
        "outputId": "a7ee0efe-e8ae-49eb-d1a7-5b7d55fbbe01"
      },
      "execution_count": 38,
      "outputs": [
        {
          "output_type": "stream",
          "name": "stdout",
          "text": [
            "Accuracy: 1.0\n",
            "Precision: 1.0\n",
            "Recall: 1.0\n",
            "F1: 1.0\n"
          ]
        }
      ]
    },
    {
      "cell_type": "code",
      "source": [
        "y_test_pred_tc = clf.predict(X_test)"
      ],
      "metadata": {
        "id": "47qWDmLxuW_v"
      },
      "execution_count": 39,
      "outputs": []
    },
    {
      "cell_type": "code",
      "source": [
        "print(\"Matriz de Confusión para test y pred\\n\")\n",
        "confusion_matrix(y_test, y_test_pred_tc)"
      ],
      "metadata": {
        "colab": {
          "base_uri": "https://localhost:8080/"
        },
        "outputId": "b7ea0a11-b360-4ace-c4d3-c4456b73623c",
        "id": "-ex5T7KHueeA"
      },
      "execution_count": 40,
      "outputs": [
        {
          "output_type": "stream",
          "name": "stdout",
          "text": [
            "Matriz de Confusión para test y pred\n",
            "\n"
          ]
        },
        {
          "output_type": "execute_result",
          "data": {
            "text/plain": [
              "array([[295,  18],\n",
              "       [ 24,  34]])"
            ]
          },
          "metadata": {},
          "execution_count": 40
        }
      ]
    },
    {
      "cell_type": "code",
      "source": [
        "ConfusionMatrixDisplay.from_predictions(y_test, y_test_pred_tc)\n",
        "plt.show()"
      ],
      "metadata": {
        "colab": {
          "base_uri": "https://localhost:8080/",
          "height": 279
        },
        "outputId": "ebadbced-e5dd-4a4e-9717-566681a9c63e",
        "id": "hRC_bnUQueeA"
      },
      "execution_count": 41,
      "outputs": [
        {
          "output_type": "display_data",
          "data": {
            "text/plain": [
              "<Figure size 432x288 with 2 Axes>"
            ],
            "image/png": "[encoded data removed]"
          },
          "metadata": {
            "needs_background": "light"
          }
        }
      ]
    },
    {
      "cell_type": "code",
      "source": [
        "train_acc = accuracy_score(y_test, y_test_pred_tc)\n",
        "train_prec = precision_score(y_test, y_test_pred_tc)\n",
        "train_rec = recall_score(y_test, y_test_pred_tc)\n",
        "train_f1 = f1_score(y_test, y_test_pred_tc)"
      ],
      "metadata": {
        "id": "w-2jB9QCueeA"
      },
      "execution_count": 42,
      "outputs": []
    },
    {
      "cell_type": "code",
      "source": [
        "print(\"Accuracy:\",train_acc)\n",
        "print(\"Precision:\",train_prec)\n",
        "print(\"Recall:\",train_rec)\n",
        "print(\"F1:\",train_f1)"
      ],
      "metadata": {
        "colab": {
          "base_uri": "https://localhost:8080/"
        },
        "outputId": "86806e76-9f3a-4deb-f492-0911fe1dd827",
        "id": "Lp0e09kFueeA"
      },
      "execution_count": 43,
      "outputs": [
        {
          "output_type": "stream",
          "name": "stdout",
          "text": [
            "Accuracy: 0.8867924528301887\n",
            "Precision: 0.6538461538461539\n",
            "Recall: 0.5862068965517241\n",
            "F1: 0.6181818181818182\n"
          ]
        }
      ]
    },
    {
      "cell_type": "markdown",
      "metadata": {
        "id": "Re52_0oupMs5"
      },
      "source": [
        "### Ejercicio 3.2: Ajuste de Hiperparámetros\n",
        "\n",
        "Seleccionar valores para los hiperparámetros principales del DecisionTreeClassifier. Como mínimo, probar diferentes criterios de partición (criterion), profundidad máxima del árbol (max_depth), y cantidad mínima de samples por hoja (min_samples_leaf).\n",
        "\n",
        "Para ello, usar grid-search y 5-fold cross-validation sobre el conjunto de entrenamiento para explorar muchas combinaciones posibles de valores.\n",
        "\n",
        "Reportar accuracy promedio y varianza para todas las configuraciones.\n",
        "\n",
        "Para la mejor configuración encontrada, evaluar sobre el conjunto de **entrenamiento** y sobre el conjunto de **evaluación**, reportando:\n",
        "- Accuracy\n",
        "- Precision\n",
        "- Recall\n",
        "- F1\n",
        "- matriz de confusión\n",
        "\n",
        "\n",
        "Documentación:\n",
        "- https://scikit-learn.org/stable/modules/grid_search.html\n",
        "- https://scikit-learn.org/stable/modules/generated/sklearn.model_selection.GridSearchCV.html"
      ]
    },
    {
      "cell_type": "code",
      "source": [
        "from sklearn.tree import DecisionTreeClassifier\n",
        "DecisionTreeClassifier"
      ],
      "metadata": {
        "colab": {
          "base_uri": "https://localhost:8080/"
        },
        "id": "E6dRPVW6TEoa",
        "outputId": "cb8f4820-488b-433e-f8bc-507ba0ad1275"
      },
      "execution_count": 44,
      "outputs": [
        {
          "output_type": "execute_result",
          "data": {
            "text/plain": [
              "sklearn.tree._classes.DecisionTreeClassifier"
            ]
          },
          "metadata": {},
          "execution_count": 44
        }
      ]
    },
    {
      "cell_type": "code",
      "source": [
        "# Elegimos una profundidad de 4 dado que a partir de 5 las métricas comenzaron a desmejorar\n",
        "param_grid = {\n",
        "    'criterion': ['gini', 'entropy'],\n",
        "    'max_depth': [1, 2, 3, 4],\n",
        "    'min_samples_leaf':[10,20,30,40]\n",
        "}"
      ],
      "metadata": {
        "id": "B7eLYnOlTG2v"
      },
      "execution_count": 45,
      "outputs": []
    },
    {
      "cell_type": "code",
      "source": [
        "from sklearn.model_selection import ParameterGrid\n",
        "\n",
        "for params in ParameterGrid(param_grid):\n",
        "    print(params)\n",
        "    model = DecisionTreeClassifier(**params, random_state=123)"
      ],
      "metadata": {
        "colab": {
          "base_uri": "https://localhost:8080/"
        },
        "id": "wFQdsHB-TI0t",
        "outputId": "505efe21-6d84-4712-c276-02befb583dab"
      },
      "execution_count": 46,
      "outputs": [
        {
          "output_type": "stream",
          "name": "stdout",
          "text": [
            "{'criterion': 'gini', 'max_depth': 1, 'min_samples_leaf': 10}\n",
            "{'criterion': 'gini', 'max_depth': 1, 'min_samples_leaf': 20}\n",
            "{'criterion': 'gini', 'max_depth': 1, 'min_samples_leaf': 30}\n",
            "{'criterion': 'gini', 'max_depth': 1, 'min_samples_leaf': 40}\n",
            "{'criterion': 'gini', 'max_depth': 2, 'min_samples_leaf': 10}\n",
            "{'criterion': 'gini', 'max_depth': 2, 'min_samples_leaf': 20}\n",
            "{'criterion': 'gini', 'max_depth': 2, 'min_samples_leaf': 30}\n",
            "{'criterion': 'gini', 'max_depth': 2, 'min_samples_leaf': 40}\n",
            "{'criterion': 'gini', 'max_depth': 3, 'min_samples_leaf': 10}\n",
            "{'criterion': 'gini', 'max_depth': 3, 'min_samples_leaf': 20}\n",
            "{'criterion': 'gini', 'max_depth': 3, 'min_samples_leaf': 30}\n",
            "{'criterion': 'gini', 'max_depth': 3, 'min_samples_leaf': 40}\n",
            "{'criterion': 'gini', 'max_depth': 4, 'min_samples_leaf': 10}\n",
            "{'criterion': 'gini', 'max_depth': 4, 'min_samples_leaf': 20}\n",
            "{'criterion': 'gini', 'max_depth': 4, 'min_samples_leaf': 30}\n",
            "{'criterion': 'gini', 'max_depth': 4, 'min_samples_leaf': 40}\n",
            "{'criterion': 'entropy', 'max_depth': 1, 'min_samples_leaf': 10}\n",
            "{'criterion': 'entropy', 'max_depth': 1, 'min_samples_leaf': 20}\n",
            "{'criterion': 'entropy', 'max_depth': 1, 'min_samples_leaf': 30}\n",
            "{'criterion': 'entropy', 'max_depth': 1, 'min_samples_leaf': 40}\n",
            "{'criterion': 'entropy', 'max_depth': 2, 'min_samples_leaf': 10}\n",
            "{'criterion': 'entropy', 'max_depth': 2, 'min_samples_leaf': 20}\n",
            "{'criterion': 'entropy', 'max_depth': 2, 'min_samples_leaf': 30}\n",
            "{'criterion': 'entropy', 'max_depth': 2, 'min_samples_leaf': 40}\n",
            "{'criterion': 'entropy', 'max_depth': 3, 'min_samples_leaf': 10}\n",
            "{'criterion': 'entropy', 'max_depth': 3, 'min_samples_leaf': 20}\n",
            "{'criterion': 'entropy', 'max_depth': 3, 'min_samples_leaf': 30}\n",
            "{'criterion': 'entropy', 'max_depth': 3, 'min_samples_leaf': 40}\n",
            "{'criterion': 'entropy', 'max_depth': 4, 'min_samples_leaf': 10}\n",
            "{'criterion': 'entropy', 'max_depth': 4, 'min_samples_leaf': 20}\n",
            "{'criterion': 'entropy', 'max_depth': 4, 'min_samples_leaf': 30}\n",
            "{'criterion': 'entropy', 'max_depth': 4, 'min_samples_leaf': 40}\n"
          ]
        }
      ]
    },
    {
      "cell_type": "code",
      "source": [
        "from sklearn.model_selection import GridSearchCV\n",
        "\n",
        "model = DecisionTreeClassifier(random_state=123)\n",
        "\n",
        "cv = GridSearchCV(model, param_grid, scoring='accuracy', cv=None)\n",
        "cv.fit(X_train, y_train);"
      ],
      "metadata": {
        "id": "RD-HDaXCTLAK"
      },
      "execution_count": 47,
      "outputs": []
    },
    {
      "cell_type": "code",
      "source": [
        "results = cv.cv_results_\n",
        "params = results['params']\n",
        "mean = results['mean_test_score']\n",
        "std = results['std_test_score']\n",
        "rank = results['rank_test_score']\n",
        "\n",
        "print(\"crit.\\tdepth\\t| mean\\tstd\\trank\")\n",
        "for p, m, s, r in zip(params, mean, std, rank):\n",
        "    print(f\"{p['criterion']}\\t{p['max_depth']}\\t| {m:0.2f}\\t{s:0.2f}\\t{r}\")"
      ],
      "metadata": {
        "colab": {
          "base_uri": "https://localhost:8080/"
        },
        "id": "Jwcyf4ytTY_4",
        "outputId": "389cf6d7-b080-40c2-a36f-df07474b67b5"
      },
      "execution_count": 48,
      "outputs": [
        {
          "output_type": "stream",
          "name": "stdout",
          "text": [
            "crit.\tdepth\t| mean\tstd\trank\n",
            "gini\t1\t| 0.87\t0.01\t12\n",
            "gini\t1\t| 0.87\t0.01\t12\n",
            "gini\t1\t| 0.87\t0.01\t12\n",
            "gini\t1\t| 0.87\t0.01\t12\n",
            "gini\t2\t| 0.87\t0.01\t6\n",
            "gini\t2\t| 0.87\t0.01\t12\n",
            "gini\t2\t| 0.87\t0.01\t12\n",
            "gini\t2\t| 0.87\t0.01\t12\n",
            "gini\t3\t| 0.88\t0.01\t1\n",
            "gini\t3\t| 0.87\t0.01\t7\n",
            "gini\t3\t| 0.86\t0.01\t31\n",
            "gini\t3\t| 0.87\t0.01\t12\n",
            "gini\t4\t| 0.88\t0.01\t2\n",
            "gini\t4\t| 0.87\t0.02\t11\n",
            "gini\t4\t| 0.86\t0.01\t31\n",
            "gini\t4\t| 0.87\t0.01\t12\n",
            "entropy\t1\t| 0.87\t0.01\t12\n",
            "entropy\t1\t| 0.87\t0.01\t12\n",
            "entropy\t1\t| 0.87\t0.01\t12\n",
            "entropy\t1\t| 0.87\t0.01\t12\n",
            "entropy\t2\t| 0.87\t0.01\t12\n",
            "entropy\t2\t| 0.87\t0.01\t12\n",
            "entropy\t2\t| 0.87\t0.01\t12\n",
            "entropy\t2\t| 0.87\t0.01\t12\n",
            "entropy\t3\t| 0.88\t0.01\t4\n",
            "entropy\t3\t| 0.87\t0.01\t5\n",
            "entropy\t3\t| 0.87\t0.02\t30\n",
            "entropy\t3\t| 0.87\t0.01\t8\n",
            "entropy\t4\t| 0.88\t0.01\t3\n",
            "entropy\t4\t| 0.87\t0.01\t10\n",
            "entropy\t4\t| 0.87\t0.01\t29\n",
            "entropy\t4\t| 0.87\t0.01\t8\n"
          ]
        }
      ]
    },
    {
      "cell_type": "code",
      "source": [
        "import pandas as pd\n",
        "df = pd.DataFrame(results)\n",
        "df[['param_criterion', 'param_max_depth', 'mean_test_score', 'std_test_score', 'rank_test_score']]\n",
        "#df"
      ],
      "metadata": {
        "colab": {
          "base_uri": "https://localhost:8080/",
          "height": 1000
        },
        "id": "BeSCVbOMTjcy",
        "outputId": "35434bde-b247-4417-9d2a-20db608218ac"
      },
      "execution_count": 49,
      "outputs": [
        {
          "output_type": "execute_result",
          "data": {
            "text/plain": [
              "   param_criterion param_max_depth  mean_test_score  std_test_score  \\\n",
              "0             gini               1         0.869194        0.009254   \n",
              "1             gini               1         0.869194        0.009254   \n",
              "2             gini               1         0.869194        0.009254   \n",
              "3             gini               1         0.869194        0.009254   \n",
              "4             gini               2         0.872563        0.008517   \n",
              "5             gini               2         0.869194        0.009254   \n",
              "6             gini               2         0.869194        0.009254   \n",
              "7             gini               2         0.869194        0.009254   \n",
              "8             gini               3         0.879309        0.010206   \n",
              "9             gini               3         0.871895        0.014968   \n",
              "10            gini               3         0.863798        0.012094   \n",
              "11            gini               3         0.869194        0.009254   \n",
              "12            gini               4         0.879302        0.008843   \n",
              "13            gini               4         0.869877        0.016188   \n",
              "14            gini               4         0.863798        0.012094   \n",
              "15            gini               4         0.869194        0.009254   \n",
              "16         entropy               1         0.869194        0.009254   \n",
              "17         entropy               1         0.869194        0.009254   \n",
              "18         entropy               1         0.869194        0.009254   \n",
              "19         entropy               1         0.869194        0.009254   \n",
              "20         entropy               2         0.869194        0.009254   \n",
              "21         entropy               2         0.869194        0.009254   \n",
              "22         entropy               2         0.869194        0.009254   \n",
              "23         entropy               2         0.869194        0.009254   \n",
              "24         entropy               3         0.877286        0.011500   \n",
              "25         entropy               3         0.872568        0.013940   \n",
              "26         entropy               3         0.866498        0.015238   \n",
              "27         entropy               3         0.871221        0.012911   \n",
              "28         entropy               4         0.877960        0.009273   \n",
              "29         entropy               4         0.871217        0.012221   \n",
              "30         entropy               4         0.869192        0.014785   \n",
              "31         entropy               4         0.871221        0.012911   \n",
              "\n",
              "    rank_test_score  \n",
              "0                12  \n",
              "1                12  \n",
              "2                12  \n",
              "3                12  \n",
              "4                 6  \n",
              "5                12  \n",
              "6                12  \n",
              "7                12  \n",
              "8                 1  \n",
              "9                 7  \n",
              "10               31  \n",
              "11               12  \n",
              "12                2  \n",
              "13               11  \n",
              "14               31  \n",
              "15               12  \n",
              "16               12  \n",
              "17               12  \n",
              "18               12  \n",
              "19               12  \n",
              "20               12  \n",
              "21               12  \n",
              "22               12  \n",
              "23               12  \n",
              "24                4  \n",
              "25                5  \n",
              "26               30  \n",
              "27                8  \n",
              "28                3  \n",
              "29               10  \n",
              "30               29  \n",
              "31                8  "
            ],
            "text/html": [
              "\n",
              "  <div id=\"df-4beb9fff-50d6-41dc-8652-5bc2815bae0b\">\n",
              "    <div class=\"colab-df-container\">\n",
              "      <div>\n",
              "<style scoped>\n",
              "    .dataframe tbody tr th:only-of-type {\n",
              "        vertical-align: middle;\n",
              "    }\n",
              "\n",
              "    .dataframe tbody tr th {\n",
              "        vertical-align: top;\n",
              "    }\n",
              "\n",
              "    .dataframe thead th {\n",
              "        text-align: right;\n",
              "    }\n",
              "</style>\n",
              "<table border=\"1\" class=\"dataframe\">\n",
              "  <thead>\n",
              "    <tr style=\"text-align: right;\">\n",
              "      <th></th>\n",
              "      <th>param_criterion</th>\n",
              "      <th>param_max_depth</th>\n",
              "      <th>mean_test_score</th>\n",
              "      <th>std_test_score</th>\n",
              "      <th>rank_test_score</th>\n",
              "    </tr>\n",
              "  </thead>\n",
              "  <tbody>\n",
              "    <tr>\n",
              "      <th>0</th>\n",
              "      <td>gini</td>\n",
              "      <td>1</td>\n",
              "      <td>0.869194</td>\n",
              "      <td>0.009254</td>\n",
              "      <td>12</td>\n",
              "    </tr>\n",
              "    <tr>\n",
              "      <th>1</th>\n",
              "      <td>gini</td>\n",
              "      <td>1</td>\n",
              "      <td>0.869194</td>\n",
              "      <td>0.009254</td>\n",
              "      <td>12</td>\n",
              "    </tr>\n",
              "    <tr>\n",
              "      <th>2</th>\n",
              "      <td>gini</td>\n",
              "      <td>1</td>\n",
              "      <td>0.869194</td>\n",
              "      <td>0.009254</td>\n",
              "      <td>12</td>\n",
              "    </tr>\n",
              "    <tr>\n",
              "      <th>3</th>\n",
              "      <td>gini</td>\n",
              "      <td>1</td>\n",
              "      <td>0.869194</td>\n",
              "      <td>0.009254</td>\n",
              "      <td>12</td>\n",
              "    </tr>\n",
              "    <tr>\n",
              "      <th>4</th>\n",
              "      <td>gini</td>\n",
              "      <td>2</td>\n",
              "      <td>0.872563</td>\n",
              "      <td>0.008517</td>\n",
              "      <td>6</td>\n",
              "    </tr>\n",
              "    <tr>\n",
              "      <th>5</th>\n",
              "      <td>gini</td>\n",
              "      <td>2</td>\n",
              "      <td>0.869194</td>\n",
              "      <td>0.009254</td>\n",
              "      <td>12</td>\n",
              "    </tr>\n",
              "    <tr>\n",
              "      <th>6</th>\n",
              "      <td>gini</td>\n",
              "      <td>2</td>\n",
              "      <td>0.869194</td>\n",
              "      <td>0.009254</td>\n",
              "      <td>12</td>\n",
              "    </tr>\n",
              "    <tr>\n",
              "      <th>7</th>\n",
              "      <td>gini</td>\n",
              "      <td>2</td>\n",
              "      <td>0.869194</td>\n",
              "      <td>0.009254</td>\n",
              "      <td>12</td>\n",
              "    </tr>\n",
              "    <tr>\n",
              "      <th>8</th>\n",
              "      <td>gini</td>\n",
              "      <td>3</td>\n",
              "      <td>0.879309</td>\n",
              "      <td>0.010206</td>\n",
              "      <td>1</td>\n",
              "    </tr>\n",
              "    <tr>\n",
              "      <th>9</th>\n",
              "      <td>gini</td>\n",
              "      <td>3</td>\n",
              "      <td>0.871895</td>\n",
              "      <td>0.014968</td>\n",
              "      <td>7</td>\n",
              "    </tr>\n",
              "    <tr>\n",
              "      <th>10</th>\n",
              "      <td>gini</td>\n",
              "      <td>3</td>\n",
              "      <td>0.863798</td>\n",
              "      <td>0.012094</td>\n",
              "      <td>31</td>\n",
              "    </tr>\n",
              "    <tr>\n",
              "      <th>11</th>\n",
              "      <td>gini</td>\n",
              "      <td>3</td>\n",
              "      <td>0.869194</td>\n",
              "      <td>0.009254</td>\n",
              "      <td>12</td>\n",
              "    </tr>\n",
              "    <tr>\n",
              "      <th>12</th>\n",
              "      <td>gini</td>\n",
              "      <td>4</td>\n",
              "      <td>0.879302</td>\n",
              "      <td>0.008843</td>\n",
              "      <td>2</td>\n",
              "    </tr>\n",
              "    <tr>\n",
              "      <th>13</th>\n",
              "      <td>gini</td>\n",
              "      <td>4</td>\n",
              "      <td>0.869877</td>\n",
              "      <td>0.016188</td>\n",
              "      <td>11</td>\n",
              "    </tr>\n",
              "    <tr>\n",
              "      <th>14</th>\n",
              "      <td>gini</td>\n",
              "      <td>4</td>\n",
              "      <td>0.863798</td>\n",
              "      <td>0.012094</td>\n",
              "      <td>31</td>\n",
              "    </tr>\n",
              "    <tr>\n",
              "      <th>15</th>\n",
              "      <td>gini</td>\n",
              "      <td>4</td>\n",
              "      <td>0.869194</td>\n",
              "      <td>0.009254</td>\n",
              "      <td>12</td>\n",
              "    </tr>\n",
              "    <tr>\n",
              "      <th>16</th>\n",
              "      <td>entropy</td>\n",
              "      <td>1</td>\n",
              "      <td>0.869194</td>\n",
              "      <td>0.009254</td>\n",
              "      <td>12</td>\n",
              "    </tr>\n",
              "    <tr>\n",
              "      <th>17</th>\n",
              "      <td>entropy</td>\n",
              "      <td>1</td>\n",
              "      <td>0.869194</td>\n",
              "      <td>0.009254</td>\n",
              "      <td>12</td>\n",
              "    </tr>\n",
              "    <tr>\n",
              "      <th>18</th>\n",
              "      <td>entropy</td>\n",
              "      <td>1</td>\n",
              "      <td>0.869194</td>\n",
              "      <td>0.009254</td>\n",
              "      <td>12</td>\n",
              "    </tr>\n",
              "    <tr>\n",
              "      <th>19</th>\n",
              "      <td>entropy</td>\n",
              "      <td>1</td>\n",
              "      <td>0.869194</td>\n",
              "      <td>0.009254</td>\n",
              "      <td>12</td>\n",
              "    </tr>\n",
              "    <tr>\n",
              "      <th>20</th>\n",
              "      <td>entropy</td>\n",
              "      <td>2</td>\n",
              "      <td>0.869194</td>\n",
              "      <td>0.009254</td>\n",
              "      <td>12</td>\n",
              "    </tr>\n",
              "    <tr>\n",
              "      <th>21</th>\n",
              "      <td>entropy</td>\n",
              "      <td>2</td>\n",
              "      <td>0.869194</td>\n",
              "      <td>0.009254</td>\n",
              "      <td>12</td>\n",
              "    </tr>\n",
              "    <tr>\n",
              "      <th>22</th>\n",
              "      <td>entropy</td>\n",
              "      <td>2</td>\n",
              "      <td>0.869194</td>\n",
              "      <td>0.009254</td>\n",
              "      <td>12</td>\n",
              "    </tr>\n",
              "    <tr>\n",
              "      <th>23</th>\n",
              "      <td>entropy</td>\n",
              "      <td>2</td>\n",
              "      <td>0.869194</td>\n",
              "      <td>0.009254</td>\n",
              "      <td>12</td>\n",
              "    </tr>\n",
              "    <tr>\n",
              "      <th>24</th>\n",
              "      <td>entropy</td>\n",
              "      <td>3</td>\n",
              "      <td>0.877286</td>\n",
              "      <td>0.011500</td>\n",
              "      <td>4</td>\n",
              "    </tr>\n",
              "    <tr>\n",
              "      <th>25</th>\n",
              "      <td>entropy</td>\n",
              "      <td>3</td>\n",
              "      <td>0.872568</td>\n",
              "      <td>0.013940</td>\n",
              "      <td>5</td>\n",
              "    </tr>\n",
              "    <tr>\n",
              "      <th>26</th>\n",
              "      <td>entropy</td>\n",
              "      <td>3</td>\n",
              "      <td>0.866498</td>\n",
              "      <td>0.015238</td>\n",
              "      <td>30</td>\n",
              "    </tr>\n",
              "    <tr>\n",
              "      <th>27</th>\n",
              "      <td>entropy</td>\n",
              "      <td>3</td>\n",
              "      <td>0.871221</td>\n",
              "      <td>0.012911</td>\n",
              "      <td>8</td>\n",
              "    </tr>\n",
              "    <tr>\n",
              "      <th>28</th>\n",
              "      <td>entropy</td>\n",
              "      <td>4</td>\n",
              "      <td>0.877960</td>\n",
              "      <td>0.009273</td>\n",
              "      <td>3</td>\n",
              "    </tr>\n",
              "    <tr>\n",
              "      <th>29</th>\n",
              "      <td>entropy</td>\n",
              "      <td>4</td>\n",
              "      <td>0.871217</td>\n",
              "      <td>0.012221</td>\n",
              "      <td>10</td>\n",
              "    </tr>\n",
              "    <tr>\n",
              "      <th>30</th>\n",
              "      <td>entropy</td>\n",
              "      <td>4</td>\n",
              "      <td>0.869192</td>\n",
              "      <td>0.014785</td>\n",
              "      <td>29</td>\n",
              "    </tr>\n",
              "    <tr>\n",
              "      <th>31</th>\n",
              "      <td>entropy</td>\n",
              "      <td>4</td>\n",
              "      <td>0.871221</td>\n",
              "      <td>0.012911</td>\n",
              "      <td>8</td>\n",
              "    </tr>\n",
              "  </tbody>\n",
              "</table>\n",
              "</div>\n",
              "      <button class=\"colab-df-convert\" onclick=\"convertToInteractive('df-4beb9fff-50d6-41dc-8652-5bc2815bae0b')\"\n",
              "              title=\"Convert this dataframe to an interactive table.\"\n",
              "              style=\"display:none;\">\n",
              "        \n",
              "  <svg xmlns=\"http://www.w3.org/2000/svg\" height=\"24px\"viewBox=\"0 0 24 24\"\n",
              "       width=\"24px\">\n",
              "    <path d=\"M0 0h24v24H0V0z\" fill=\"none\"/>\n",
              "    <path d=\"M18.56 5.44l.94 2.06.94-2.06 2.06-.94-2.06-.94-.94-2.06-.94 2.06-2.06.94zm-11 1L8.5 8.5l.94-2.06 2.06-.94-2.06-.94L8.5 2.5l-.94 2.06-2.06.94zm10 10l.94 2.06.94-2.06 2.06-.94-2.06-.94-.94-2.06-.94 2.06-2.06.94z\"/><path d=\"M17.41 7.96l-1.37-1.37c-.4-.4-.92-.59-1.43-.59-.52 0-1.04.2-1.43.59L10.3 9.45l-7.72 7.72c-.78.78-.78 2.05 0 2.83L4 21.41c.39.39.9.59 1.41.59.51 0 1.02-.2 1.41-.59l7.78-7.78 2.81-2.81c.8-.78.8-2.07 0-2.86zM5.41 20L4 18.59l7.72-7.72 1.47 1.35L5.41 20z\"/>\n",
              "  </svg>\n",
              "      </button>\n",
              "      \n",
              "  <style>\n",
              "    .colab-df-container {\n",
              "      display:flex;\n",
              "      flex-wrap:wrap;\n",
              "      gap: 12px;\n",
              "    }\n",
              "\n",
              "    .colab-df-convert {\n",
              "      background-color: #E8F0FE;\n",
              "      border: none;\n",
              "      border-radius: 50%;\n",
              "      cursor: pointer;\n",
              "      display: none;\n",
              "      fill: #1967D2;\n",
              "      height: 32px;\n",
              "      padding: 0 0 0 0;\n",
              "      width: 32px;\n",
              "    }\n",
              "\n",
              "    .colab-df-convert:hover {\n",
              "      background-color: #E2EBFA;\n",
              "      box-shadow: 0px 1px 2px rgba(60, 64, 67, 0.3), 0px 1px 3px 1px rgba(60, 64, 67, 0.15);\n",
              "      fill: #174EA6;\n",
              "    }\n",
              "\n",
              "    [theme=dark] .colab-df-convert {\n",
              "      background-color: #3B4455;\n",
              "      fill: #D2E3FC;\n",
              "    }\n",
              "\n",
              "    [theme=dark] .colab-df-convert:hover {\n",
              "      background-color: #434B5C;\n",
              "      box-shadow: 0px 1px 3px 1px rgba(0, 0, 0, 0.15);\n",
              "      filter: drop-shadow(0px 1px 2px rgba(0, 0, 0, 0.3));\n",
              "      fill: #FFFFFF;\n",
              "    }\n",
              "  </style>\n",
              "\n",
              "      <script>\n",
              "        const buttonEl =\n",
              "          document.querySelector('#df-4beb9fff-50d6-41dc-8652-5bc2815bae0b button.colab-df-convert');\n",
              "        buttonEl.style.display =\n",
              "          google.colab.kernel.accessAllowed ? 'block' : 'none';\n",
              "\n",
              "        async function convertToInteractive(key) {\n",
              "          const element = document.querySelector('#df-4beb9fff-50d6-41dc-8652-5bc2815bae0b');\n",
              "          const dataTable =\n",
              "            await google.colab.kernel.invokeFunction('convertToInteractive',\n",
              "                                                     [key], {});\n",
              "          if (!dataTable) return;\n",
              "\n",
              "          const docLinkHtml = 'Like what you see? Visit the ' +\n",
              "            '<a target=\"_blank\" href=https://colab.research.google.com/notebooks/data_table.ipynb>data table notebook</a>'\n",
              "            + ' to learn more about interactive tables.';\n",
              "          element.innerHTML = '';\n",
              "          dataTable['output_type'] = 'display_data';\n",
              "          await google.colab.output.renderOutput(dataTable, element);\n",
              "          const docLink = document.createElement('div');\n",
              "          docLink.innerHTML = docLinkHtml;\n",
              "          element.appendChild(docLink);\n",
              "        }\n",
              "      </script>\n",
              "    </div>\n",
              "  </div>\n",
              "  "
            ]
          },
          "metadata": {},
          "execution_count": 49
        }
      ]
    },
    {
      "cell_type": "markdown",
      "source": [
        "**Mejores Parámetros**"
      ],
      "metadata": {
        "id": "Q10BX8jc-Yg2"
      }
    },
    {
      "cell_type": "code",
      "source": [
        "best_model_tc = cv.best_estimator_"
      ],
      "metadata": {
        "id": "CFe7HglGTqL2"
      },
      "execution_count": 50,
      "outputs": []
    },
    {
      "cell_type": "code",
      "source": [
        "best_model_tc.fit(X_train,y_train)"
      ],
      "metadata": {
        "colab": {
          "base_uri": "https://localhost:8080/"
        },
        "id": "CwFefTg_Tsyj",
        "outputId": "ad31ec10-dd40-405d-8d56-54ed0521351e"
      },
      "execution_count": 51,
      "outputs": [
        {
          "output_type": "execute_result",
          "data": {
            "text/plain": [
              "DecisionTreeClassifier(max_depth=3, min_samples_leaf=10, random_state=123)"
            ]
          },
          "metadata": {},
          "execution_count": 51
        }
      ]
    },
    {
      "cell_type": "code",
      "source": [
        "y_train_pred_tcbm = best_model_tc.predict(X_train)"
      ],
      "metadata": {
        "id": "UlrmoqQqT2xy"
      },
      "execution_count": 52,
      "outputs": []
    },
    {
      "cell_type": "code",
      "source": [
        "print(\"Matriz de Confusión para test y pred\\n\")\n",
        "confusion_matrix(y_train, y_train_pred_tcbm)"
      ],
      "metadata": {
        "colab": {
          "base_uri": "https://localhost:8080/"
        },
        "id": "uAZ1AWGlUFOn",
        "outputId": "bdc89322-da41-4e11-cc41-d063b8f1d93e"
      },
      "execution_count": 53,
      "outputs": [
        {
          "output_type": "stream",
          "name": "stdout",
          "text": [
            "Matriz de Confusión para test y pred\n",
            "\n"
          ]
        },
        {
          "output_type": "execute_result",
          "data": {
            "text/plain": [
              "array([[1210,   22],\n",
              "       [ 152,   99]])"
            ]
          },
          "metadata": {},
          "execution_count": 53
        }
      ]
    },
    {
      "cell_type": "code",
      "source": [
        "ConfusionMatrixDisplay.from_predictions(y_train, y_train_pred_tcbm)\n",
        "plt.show()"
      ],
      "metadata": {
        "colab": {
          "base_uri": "https://localhost:8080/",
          "height": 282
        },
        "outputId": "e693b3d1-074c-473f-f7fc-2e924f021161",
        "id": "D6Hfu1ANUqfe"
      },
      "execution_count": 54,
      "outputs": [
        {
          "output_type": "display_data",
          "data": {
            "text/plain": [
              "<Figure size 432x288 with 2 Axes>"
            ],
            "image/png": "[encoded data removed]"
          },
          "metadata": {
            "needs_background": "light"
          }
        }
      ]
    },
    {
      "cell_type": "code",
      "source": [
        "print(\"MÉTRICAS PARA CONJUNTO DE ENTRENAMIENTO CON AJUSTE DE HIPERPARÁMETROS\\n\")\n",
        "print(\"Accuracy:\",accuracy_score(y_train, y_train_pred_tcbm))\n",
        "print(\"Precision:\",precision_score(y_train, y_train_pred_tcbm))\n",
        "print(\"Recall:\",recall_score(y_train, y_train_pred_tcbm))\n",
        "print(\"F1:\",f1_score(y_train, y_train_pred_tcbm))"
      ],
      "metadata": {
        "colab": {
          "base_uri": "https://localhost:8080/"
        },
        "id": "hAXDGCQx-Ebi",
        "outputId": "eeee0884-c379-4d67-aedb-6305aab9dbbb"
      },
      "execution_count": 55,
      "outputs": [
        {
          "output_type": "stream",
          "name": "stdout",
          "text": [
            "MÉTRICAS PARA CONJUNTO DE ENTRENAMIENTO CON AJUSTE DE HIPERPARÁMETROS\n",
            "\n",
            "Accuracy: 0.882670262980445\n",
            "Precision: 0.8181818181818182\n",
            "Recall: 0.3944223107569721\n",
            "F1: 0.532258064516129\n"
          ]
        }
      ]
    },
    {
      "cell_type": "markdown",
      "source": [
        "###Mejor Modelo con Test"
      ],
      "metadata": {
        "id": "NPp0rJmLV2HQ"
      }
    },
    {
      "cell_type": "code",
      "source": [
        "y_test_pred_tc = best_model_tc.predict(X_test)"
      ],
      "metadata": {
        "id": "oFIF34c9V4sX"
      },
      "execution_count": 56,
      "outputs": []
    },
    {
      "cell_type": "code",
      "source": [
        "print(\"Matriz de Confusión para test\\n\")\n",
        "confusion_matrix(y_test, y_test_pred_tc)"
      ],
      "metadata": {
        "colab": {
          "base_uri": "https://localhost:8080/"
        },
        "outputId": "f9d1149e-7460-4211-caf1-62e932be8196",
        "id": "TBFDOWA8WQeT"
      },
      "execution_count": 57,
      "outputs": [
        {
          "output_type": "stream",
          "name": "stdout",
          "text": [
            "Matriz de Confusión para test\n",
            "\n"
          ]
        },
        {
          "output_type": "execute_result",
          "data": {
            "text/plain": [
              "array([[301,  12],\n",
              "       [ 35,  23]])"
            ]
          },
          "metadata": {},
          "execution_count": 57
        }
      ]
    },
    {
      "cell_type": "code",
      "source": [
        "ConfusionMatrixDisplay.from_predictions(y_test, y_test_pred_tc)\n",
        "plt.show()"
      ],
      "metadata": {
        "colab": {
          "base_uri": "https://localhost:8080/",
          "height": 283
        },
        "outputId": "2c66b2e1-01c1-462a-e43e-a9c6f44be704",
        "id": "5USsVWJfWQeV"
      },
      "execution_count": 58,
      "outputs": [
        {
          "output_type": "display_data",
          "data": {
            "text/plain": [
              "<Figure size 432x288 with 2 Axes>"
            ],
            "image/png": "[encoded data removed]"
          },
          "metadata": {
            "needs_background": "light"
          }
        }
      ]
    },
    {
      "cell_type": "markdown",
      "source": [
        "\n",
        "\n",
        ">**Conjunto TEST**\n",
        "\n"
      ],
      "metadata": {
        "id": "kPxbnbp7p_ni"
      }
    },
    {
      "cell_type": "code",
      "source": [
        "print(\"MÉTRICAS PARA CONJUNTO DE TEST\\n\")\n",
        "print(\"Accuracy:\",round(accuracy_score(y_test, y_test_pred_tc),2))\n",
        "print(\"Precision:\",round(precision_score(y_test, y_test_pred_tc),2))\n",
        "print(\"Recall:\",round(recall_score(y_test, y_test_pred_tc),2))\n",
        "print(\"F1:\",round(f1_score(y_test, y_test_pred_tc),2))"
      ],
      "metadata": {
        "colab": {
          "base_uri": "https://localhost:8080/"
        },
        "id": "OIXxWvG5_BYv",
        "outputId": "dd5934c9-98df-4f20-ceda-aef2d20c57eb"
      },
      "execution_count": 59,
      "outputs": [
        {
          "output_type": "stream",
          "name": "stdout",
          "text": [
            "MÉTRICAS PARA CONJUNTO DE TEST\n",
            "\n",
            "Accuracy: 0.87\n",
            "Precision: 0.66\n",
            "Recall: 0.4\n",
            "F1: 0.49\n"
          ]
        }
      ]
    },
    {
      "cell_type": "code",
      "source": [
        "best_model = cv.best_estimator_"
      ],
      "metadata": {
        "id": "ds8TwNJgAo3-"
      },
      "execution_count": 60,
      "outputs": []
    },
    {
      "cell_type": "code",
      "source": [
        "from sklearn.tree import plot_tree\n",
        "plt.figure(figsize=(20,20))  # set plot size (denoted in inches)\n",
        "plot_tree(best_model, fontsize=10,filled=True)\n",
        "plt.show()"
      ],
      "metadata": {
        "colab": {
          "base_uri": "https://localhost:8080/",
          "height": 1000
        },
        "id": "DSCf6evXAah-",
        "outputId": "ff83fae4-00ec-4cf8-e814-ee636a58d5dd"
      },
      "execution_count": 61,
      "outputs": [
        {
          "output_type": "display_data",
          "data": {
            "text/plain": [
              "<Figure size 1440x1440 with 1 Axes>"
            ],
            "image/png": "[encoded data removed]"
          },
          "metadata": {
            "needs_background": "light"
          }
        }
      ]
    }
  ]
}